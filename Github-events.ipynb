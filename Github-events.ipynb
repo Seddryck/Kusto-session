{
    "metadata": {
        "kernelspec": {
            "name": "SQL",
            "display_name": "SQL",
            "language": "sql"
        },
        "language_info": {
            "name": "kusto",
            "version": ""
        }
    },
    "nbformat_minor": 2,
    "nbformat": 4,
    "cells": [
        {
            "cell_type": "code",
            "source": [
                ".show table ['Events'] cslschema"
            ],
            "metadata": {
                "azdata_cell_guid": "65f93422-8115-4215-9967-882c3964604a"
            },
            "outputs": [
                {
                    "output_type": "display_data",
                    "data": {
                        "text/html": "Commands completed successfully."
                    },
                    "metadata": {}
                },
                {
                    "output_type": "display_data",
                    "data": {
                        "text/html": "Total execution time: 00:00:00.032"
                    },
                    "metadata": {}
                },
                {
                    "output_type": "execute_result",
                    "metadata": {},
                    "execution_count": 2,
                    "data": {
                        "application/vnd.dataresource+json": {
                            "schema": {
                                "fields": [
                                    {
                                        "name": "TableName"
                                    },
                                    {
                                        "name": "Schema"
                                    },
                                    {
                                        "name": "DatabaseName"
                                    },
                                    {
                                        "name": "Folder"
                                    },
                                    {
                                        "name": "DocString"
                                    }
                                ]
                            },
                            "data": [
                                {
                                    "0": "Events",
                                    "1": "EventId:long,Type:string,Actor:string,Repository:dynamic,Payload:dynamic,Public:bool,CreatedAt:datetime,SourceFile:string",
                                    "2": "GithubEvents",
                                    "3": "NULL",
                                    "4": "NULL"
                                }
                            ]
                        },
                        "text/html": [
                            "<table>",
                            "<tr><th>TableName</th><th>Schema</th><th>DatabaseName</th><th>Folder</th><th>DocString</th></tr>",
                            "<tr><td>Events</td><td>EventId:long,Type:string,Actor:string,Repository:dynamic,Payload:dynamic,Public:bool,CreatedAt:datetime,SourceFile:string</td><td>GithubEvents</td><td>NULL</td><td>NULL</td></tr>",
                            "</table>"
                        ]
                    }
                }
            ],
            "execution_count": 2
        },
        {
            "cell_type": "code",
            "source": [
                "Events \r\n",
                "| limit 5 "
            ],
            "metadata": {
                "azdata_cell_guid": "2fee6b02-dd3e-499b-bcc1-aab48066dc5f",
                "tags": []
            },
            "outputs": [
                {
                    "output_type": "display_data",
                    "data": {
                        "text/html": "Commands completed successfully."
                    },
                    "metadata": {}
                },
                {
                    "output_type": "display_data",
                    "data": {
                        "text/html": "Total execution time: 00:00:00.146"
                    },
                    "metadata": {}
                },
                {
                    "output_type": "execute_result",
                    "metadata": {},
                    "execution_count": 77,
                    "data": {
                        "application/vnd.dataresource+json": {
                            "schema": {
                                "fields": [
                                    {
                                        "name": "EventId"
                                    },
                                    {
                                        "name": "Type"
                                    },
                                    {
                                        "name": "Actor"
                                    },
                                    {
                                        "name": "Repository"
                                    },
                                    {
                                        "name": "Payload"
                                    },
                                    {
                                        "name": "Public"
                                    },
                                    {
                                        "name": "CreatedAt"
                                    },
                                    {
                                        "name": "SourceFile"
                                    }
                                ]
                            },
                            "data": [
                                {
                                    "0": "13084021335",
                                    "1": "CreateEvent",
                                    "2": "Gabriel-Almeida-99",
                                    "3": "{\r\n  \"name\": \"Gabriel-Almeida-99/github-slideshow\",\r\n  \"url\": \"https://api.github.com/repos/Gabriel-Almeida-99/github-slideshow\",\r\n  \"id\": 284304876\r\n}",
                                    "4": "{\r\n  \"description\": \"A robot powered training repository :robot:\",\r\n  \"master_branch\": \"master\",\r\n  \"pusher_type\": \"user\",\r\n  \"ref\": \"my-slide\",\r\n  \"ref_type\": \"branch\"\r\n}",
                                    "5": "1",
                                    "6": "2020-08-01 20:00:00",
                                    "7": "https://adxdemo.blob.core.windows.net/adx-demo/github-events/Github-2020-08-01-20.json.gz"
                                },
                                {
                                    "0": "13084021337",
                                    "1": "CreateEvent",
                                    "2": "dependabot[bot]",
                                    "3": "{\r\n  \"name\": \"IlyaGureshidze/test-tree\",\r\n  \"url\": \"https://api.github.com/repos/IlyaGureshidze/test-tree\",\r\n  \"id\": 253728280\r\n}",
                                    "4": "{\r\n  \"description\": \"test task\",\r\n  \"master_branch\": \"master\",\r\n  \"pusher_type\": \"user\",\r\n  \"ref\": \"dependabot/npm_and_yarn/elliptic-6.5.3\",\r\n  \"ref_type\": \"branch\"\r\n}",
                                    "5": "1",
                                    "6": "2020-08-01 20:00:00",
                                    "7": "https://adxdemo.blob.core.windows.net/adx-demo/github-events/Github-2020-08-01-20.json.gz"
                                },
                                {
                                    "0": "13084021339",
                                    "1": "CreateEvent",
                                    "2": "dependabot[bot]",
                                    "3": "{\r\n  \"name\": \"HiEricHere/planner-vue\",\r\n  \"url\": \"https://api.github.com/repos/HiEricHere/planner-vue\",\r\n  \"id\": 244358513\r\n}",
                                    "4": "{\r\n  \"description\": null,\r\n  \"master_branch\": \"master\",\r\n  \"pusher_type\": \"user\",\r\n  \"ref\": \"dependabot/npm_and_yarn/elliptic-6.5.3\",\r\n  \"ref_type\": \"branch\"\r\n}",
                                    "5": "1",
                                    "6": "2020-08-01 20:00:00",
                                    "7": "https://adxdemo.blob.core.windows.net/adx-demo/github-events/Github-2020-08-01-20.json.gz"
                                },
                                {
                                    "0": "13084021340",
                                    "1": "WatchEvent",
                                    "2": "MikeOwino",
                                    "3": "{\r\n  \"name\": \"MikeOwino/TransCoder\",\r\n  \"url\": \"https://api.github.com/repos/MikeOwino/TransCoder\",\r\n  \"id\": 283982516\r\n}",
                                    "4": "{\r\n  \"action\": \"started\"\r\n}",
                                    "5": "1",
                                    "6": "2020-08-01 20:00:00",
                                    "7": "https://adxdemo.blob.core.windows.net/adx-demo/github-events/Github-2020-08-01-20.json.gz"
                                },
                                {
                                    "0": "13084021341",
                                    "1": "IssuesEvent",
                                    "2": "dbhautik",
                                    "3": "{\r\n  \"name\": \"fullcalendar/fullcalendar\",\r\n  \"url\": \"https://api.github.com/repos/fullcalendar/fullcalendar\",\r\n  \"id\": 381979\r\n}",
                                    "4": "{\r\n  \"action\": \"opened\",\r\n  \"issue\": {\r\n    \"events_url\": \"https://api.github.com/repos/fullcalendar/fullcalendar/issues/5687/events\",\r\n    \"html_url\": \"https://github.com/fullcalendar/fullcalendar/issues/5687\",\r\n    \"node_id\": \"MDU6SXNzdWU2NzExNTI4NTU=\",\r\n    \"comments_url\": \"https://api.github.com/repos/fullcalendar/fullcalendar/issues/5687/comments\",\r\n    \"created_at\": \"2020-08-01T19:59:59.0000000Z\",\r\n    \"updated_at\": \"2020-08-01T19:59:59.0000000Z\",\r\n    \"url\": \"https://api.github.com/repos/fullcalendar/fullcalendar/issues/5687\",\r\n    \"author_association\": \"NONE\",\r\n    \"labels_url\": \"https://api.github.com/repos/fullcalendar/fullcalendar/issues/5687/labels{/name}\",\r\n    \"active_lock_reason\": null,\r\n    \"id\": 671152855,\r\n    \"comments\": 0,\r\n    \"user\": {\r\n      \"received_events_url\": \"https://api.github.com/users/dbhautik/received_events\",\r\n      \"organizations_url\": \"https://api.github.com/users/dbhautik/orgs\",\r\n      \"subscriptions_url\": \"https://api.github.com/users/dbhautik/subscriptions\",\r\n      \"events_url\": \"https://api.github.com/users/dbhautik/events{/privacy}\",\r\n      \"followers_url\": \"https://api.github.com/users/dbhautik/followers\",\r\n      \"following_url\": \"https://api.github.com/users/dbhautik/following{/other_user}\",\r\n      \"html_url\": \"https://github.com/dbhautik\",\r\n      \"node_id\": \"MDQ6VXNlcjM4Njc3Mjk1\",\r\n      \"starred_url\": \"https://api.github.com/users/dbhautik/starred{/owner}{/repo}\",\r\n      \"gravatar_id\": \"\",\r\n      \"site_admin\": false,\r\n      \"avatar_url\": \"https://avatars3.githubusercontent.com/u/38677295?v=4\",\r\n      \"repos_url\": \"https://api.github.com/users/dbhautik/repos\",\r\n      \"gists_url\": \"https://api.github.com/users/dbhautik/gists{/gist_id}\",\r\n      \"url\": \"https://api.github.com/users/dbhautik\",\r\n      \"login\": \"dbhautik\",\r\n      \"type\": \"User\",\r\n      \"id\": 38677295\r\n    },\r\n    \"number\": 5687,\r\n    \"closed_at\": null,\r\n    \"milestone\": null,\r\n    \"assignees\": [],\r\n    \"assignee\": null,\r\n    \"locked\": false,\r\n    \"labels\": [],\r\n    \"performed_via_github_app\": null,\r\n    \"title\": \"In date range Start Time and End Time is not displaying in end date. Why?\",\r\n    \"state\": \"open\",\r\n    \"body\": \"### Reduced Test Case\\r\\n\\r\\nhttps://jsfiddle.net/Lxwkbq3r/\\r\\n\\r\\n### Bug Description\\r\\n\\r\\nI have multiple dates ranges data that I am displaying in full calendar but start time and end time is displaying in the start date box but not displaying in the end date box.\\r\\n\\r\\nhttps://user-images.githubusercontent.com/38677295/89109529-9b420c00-d45f-11ea-987d-d4dfffd9a849.png\",\r\n    \"repository_url\": \"https://api.github.com/repos/fullcalendar/fullcalendar\"\r\n  }\r\n}",
                                    "5": "1",
                                    "6": "2020-08-01 20:00:00",
                                    "7": "https://adxdemo.blob.core.windows.net/adx-demo/github-events/Github-2020-08-01-20.json.gz"
                                }
                            ]
                        },
                        "text/html": [
                            "<table>",
                            "<tr><th>EventId</th><th>Type</th><th>Actor</th><th>Repository</th><th>Payload</th><th>Public</th><th>CreatedAt</th><th>SourceFile</th></tr>",
                            "<tr><td>13084021335</td><td>CreateEvent</td><td>Gabriel-Almeida-99</td><td>{\r\n  &quot;name&quot;: &quot;Gabriel-Almeida-99/github-slideshow&quot;,\r\n  &quot;url&quot;: &quot;https://api.github.com/repos/Gabriel-Almeida-99/github-slideshow&quot;,\r\n  &quot;id&quot;: 284304876\r\n}</td><td>{\r\n  &quot;description&quot;: &quot;A robot powered training repository :robot:&quot;,\r\n  &quot;master_branch&quot;: &quot;master&quot;,\r\n  &quot;pusher_type&quot;: &quot;user&quot;,\r\n  &quot;ref&quot;: &quot;my-slide&quot;,\r\n  &quot;ref_type&quot;: &quot;branch&quot;\r\n}</td><td>1</td><td>2020-08-01 20:00:00</td><td>https://adxdemo.blob.core.windows.net/adx-demo/github-events/Github-2020-08-01-20.json.gz</td></tr>",
                            "<tr><td>13084021337</td><td>CreateEvent</td><td>dependabot[bot]</td><td>{\r\n  &quot;name&quot;: &quot;IlyaGureshidze/test-tree&quot;,\r\n  &quot;url&quot;: &quot;https://api.github.com/repos/IlyaGureshidze/test-tree&quot;,\r\n  &quot;id&quot;: 253728280\r\n}</td><td>{\r\n  &quot;description&quot;: &quot;test task&quot;,\r\n  &quot;master_branch&quot;: &quot;master&quot;,\r\n  &quot;pusher_type&quot;: &quot;user&quot;,\r\n  &quot;ref&quot;: &quot;dependabot/npm_and_yarn/elliptic-6.5.3&quot;,\r\n  &quot;ref_type&quot;: &quot;branch&quot;\r\n}</td><td>1</td><td>2020-08-01 20:00:00</td><td>https://adxdemo.blob.core.windows.net/adx-demo/github-events/Github-2020-08-01-20.json.gz</td></tr>",
                            "<tr><td>13084021339</td><td>CreateEvent</td><td>dependabot[bot]</td><td>{\r\n  &quot;name&quot;: &quot;HiEricHere/planner-vue&quot;,\r\n  &quot;url&quot;: &quot;https://api.github.com/repos/HiEricHere/planner-vue&quot;,\r\n  &quot;id&quot;: 244358513\r\n}</td><td>{\r\n  &quot;description&quot;: null,\r\n  &quot;master_branch&quot;: &quot;master&quot;,\r\n  &quot;pusher_type&quot;: &quot;user&quot;,\r\n  &quot;ref&quot;: &quot;dependabot/npm_and_yarn/elliptic-6.5.3&quot;,\r\n  &quot;ref_type&quot;: &quot;branch&quot;\r\n}</td><td>1</td><td>2020-08-01 20:00:00</td><td>https://adxdemo.blob.core.windows.net/adx-demo/github-events/Github-2020-08-01-20.json.gz</td></tr>",
                            "<tr><td>13084021340</td><td>WatchEvent</td><td>MikeOwino</td><td>{\r\n  &quot;name&quot;: &quot;MikeOwino/TransCoder&quot;,\r\n  &quot;url&quot;: &quot;https://api.github.com/repos/MikeOwino/TransCoder&quot;,\r\n  &quot;id&quot;: 283982516\r\n}</td><td>{\r\n  &quot;action&quot;: &quot;started&quot;\r\n}</td><td>1</td><td>2020-08-01 20:00:00</td><td>https://adxdemo.blob.core.windows.net/adx-demo/github-events/Github-2020-08-01-20.json.gz</td></tr>",
                            "<tr><td>13084021341</td><td>IssuesEvent</td><td>dbhautik</td><td>{\r\n  &quot;name&quot;: &quot;fullcalendar/fullcalendar&quot;,\r\n  &quot;url&quot;: &quot;https://api.github.com/repos/fullcalendar/fullcalendar&quot;,\r\n  &quot;id&quot;: 381979\r\n}</td><td>{\r\n  &quot;action&quot;: &quot;opened&quot;,\r\n  &quot;issue&quot;: {\r\n    &quot;events_url&quot;: &quot;https://api.github.com/repos/fullcalendar/fullcalendar/issues/5687/events&quot;,\r\n    &quot;html_url&quot;: &quot;https://github.com/fullcalendar/fullcalendar/issues/5687&quot;,\r\n    &quot;node_id&quot;: &quot;MDU6SXNzdWU2NzExNTI4NTU=&quot;,\r\n    &quot;comments_url&quot;: &quot;https://api.github.com/repos/fullcalendar/fullcalendar/issues/5687/comments&quot;,\r\n    &quot;created_at&quot;: &quot;2020-08-01T19:59:59.0000000Z&quot;,\r\n    &quot;updated_at&quot;: &quot;2020-08-01T19:59:59.0000000Z&quot;,\r\n    &quot;url&quot;: &quot;https://api.github.com/repos/fullcalendar/fullcalendar/issues/5687&quot;,\r\n    &quot;author_association&quot;: &quot;NONE&quot;,\r\n    &quot;labels_url&quot;: &quot;https://api.github.com/repos/fullcalendar/fullcalendar/issues/5687/labels{/name}&quot;,\r\n    &quot;active_lock_reason&quot;: null,\r\n    &quot;id&quot;: 671152855,\r\n    &quot;comments&quot;: 0,\r\n    &quot;user&quot;: {\r\n      &quot;received_events_url&quot;: &quot;https://api.github.com/users/dbhautik/received_events&quot;,\r\n      &quot;organizations_url&quot;: &quot;https://api.github.com/users/dbhautik/orgs&quot;,\r\n      &quot;subscriptions_url&quot;: &quot;https://api.github.com/users/dbhautik/subscriptions&quot;,\r\n      &quot;events_url&quot;: &quot;https://api.github.com/users/dbhautik/events{/privacy}&quot;,\r\n      &quot;followers_url&quot;: &quot;https://api.github.com/users/dbhautik/followers&quot;,\r\n      &quot;following_url&quot;: &quot;https://api.github.com/users/dbhautik/following{/other_user}&quot;,\r\n      &quot;html_url&quot;: &quot;https://github.com/dbhautik&quot;,\r\n      &quot;node_id&quot;: &quot;MDQ6VXNlcjM4Njc3Mjk1&quot;,\r\n      &quot;starred_url&quot;: &quot;https://api.github.com/users/dbhautik/starred{/owner}{/repo}&quot;,\r\n      &quot;gravatar_id&quot;: &quot;&quot;,\r\n      &quot;site_admin&quot;: false,\r\n      &quot;avatar_url&quot;: &quot;https://avatars3.githubusercontent.com/u/38677295?v=4&quot;,\r\n      &quot;repos_url&quot;: &quot;https://api.github.com/users/dbhautik/repos&quot;,\r\n      &quot;gists_url&quot;: &quot;https://api.github.com/users/dbhautik/gists{/gist_id}&quot;,\r\n      &quot;url&quot;: &quot;https://api.github.com/users/dbhautik&quot;,\r\n      &quot;login&quot;: &quot;dbhautik&quot;,\r\n      &quot;type&quot;: &quot;User&quot;,\r\n      &quot;id&quot;: 38677295\r\n    },\r\n    &quot;number&quot;: 5687,\r\n    &quot;closed_at&quot;: null,\r\n    &quot;milestone&quot;: null,\r\n    &quot;assignees&quot;: [],\r\n    &quot;assignee&quot;: null,\r\n    &quot;locked&quot;: false,\r\n    &quot;labels&quot;: [],\r\n    &quot;performed_via_github_app&quot;: null,\r\n    &quot;title&quot;: &quot;In date range Start Time and End Time is not displaying in end date. Why?&quot;,\r\n    &quot;state&quot;: &quot;open&quot;,\r\n    &quot;body&quot;: &quot;### Reduced Test Case\\r\\n\\r\\nhttps://jsfiddle.net/Lxwkbq3r/\\r\\n\\r\\n### Bug Description\\r\\n\\r\\nI have multiple dates ranges data that I am displaying in full calendar but start time and end time is displaying in the start date box but not displaying in the end date box.\\r\\n\\r\\nhttps://user-images.githubusercontent.com/38677295/89109529-9b420c00-d45f-11ea-987d-d4dfffd9a849.png&quot;,\r\n    &quot;repository_url&quot;: &quot;https://api.github.com/repos/fullcalendar/fullcalendar&quot;\r\n  }\r\n}</td><td>1</td><td>2020-08-01 20:00:00</td><td>https://adxdemo.blob.core.windows.net/adx-demo/github-events/Github-2020-08-01-20.json.gz</td></tr>",
                            "</table>"
                        ]
                    }
                }
            ],
            "execution_count": 77
        },
        {
            "cell_type": "code",
            "source": [
                "Events \r\n",
                "| order by CreatedAt asc\r\n",
                "| limit 5\r\n",
                " "
            ],
            "metadata": {
                "azdata_cell_guid": "18a069fb-83f4-4689-8ffb-46c0eef39427",
                "tags": []
            },
            "outputs": [
                {
                    "output_type": "display_data",
                    "data": {
                        "text/html": "Commands completed successfully."
                    },
                    "metadata": {}
                },
                {
                    "output_type": "display_data",
                    "data": {
                        "text/html": "Total execution time: 00:00:00.310"
                    },
                    "metadata": {}
                },
                {
                    "output_type": "execute_result",
                    "metadata": {},
                    "execution_count": 28,
                    "data": {
                        "application/vnd.dataresource+json": {
                            "schema": {
                                "fields": [
                                    {
                                        "name": "EventId"
                                    },
                                    {
                                        "name": "Type"
                                    },
                                    {
                                        "name": "Actor"
                                    },
                                    {
                                        "name": "Repository"
                                    },
                                    {
                                        "name": "Payload"
                                    },
                                    {
                                        "name": "Public"
                                    },
                                    {
                                        "name": "CreatedAt"
                                    },
                                    {
                                        "name": "SourceFile"
                                    }
                                ]
                            },
                            "data": [
                                {
                                    "0": "13078576066",
                                    "1": "CreateEvent",
                                    "2": "dependabot[bot]",
                                    "3": "{\r\n  \"name\": \"pras75299/React-demo\",\r\n  \"url\": \"https://api.github.com/repos/pras75299/React-demo\",\r\n  \"id\": 215850131\r\n}",
                                    "4": "{\r\n  \"description\": \"React project for learning\",\r\n  \"master_branch\": \"master\",\r\n  \"pusher_type\": \"user\",\r\n  \"ref\": \"dependabot/npm_and_yarn/elliptic-6.5.3\",\r\n  \"ref_type\": \"branch\"\r\n}",
                                    "5": "1",
                                    "6": "2020-08-01 00:00:00",
                                    "7": "https://adxdemo.blob.core.windows.net/adx-demo/github-events/Github-2020-08-01-0.json.gz"
                                },
                                {
                                    "0": "13078576067",
                                    "1": "PullRequestEvent",
                                    "2": "dependabot[bot]",
                                    "3": "{\r\n  \"name\": \"phfilly/graphql-search\",\r\n  \"url\": \"https://api.github.com/repos/phfilly/graphql-search\",\r\n  \"id\": 215121947\r\n}",
                                    "4": "{\r\n  \"pull_request\": {\r\n    \"html_url\": \"https://github.com/phfilly/graphql-search/pull/7\",\r\n    \"node_id\": \"MDExOlB1bGxSZXF1ZXN0NDYwNjI4NTU5\",\r\n    \"comments_url\": \"https://api.github.com/repos/phfilly/graphql-search/issues/7/comments\",\r\n    \"statuses_url\": \"https://api.github.com/repos/phfilly/graphql-search/statuses/3c0af4d4b5c8f4a947db2ca48f413db67b2294d9\",\r\n    \"url\": \"https://api.github.com/repos/phfilly/graphql-search/pulls/7\",\r\n    \"created_at\": \"2020-07-31T23:59:59.0000000Z\",\r\n    \"updated_at\": \"2020-07-31T23:59:59.0000000Z\",\r\n    \"commits_url\": \"https://api.github.com/repos/phfilly/graphql-search/pulls/7/commits\",\r\n    \"review_comments\": 0,\r\n    \"author_association\": \"NONE\",\r\n    \"commits\": 1,\r\n    \"active_lock_reason\": null,\r\n    \"maintainer_can_modify\": false,\r\n    \"review_comments_url\": \"https://api.github.com/repos/phfilly/graphql-search/pulls/7/comments\",\r\n    \"requested_reviewers\": [],\r\n    \"id\": 460628559,\r\n    \"review_comment_url\": \"https://api.github.com/repos/phfilly/graphql-search/pulls/comments{/number}\",\r\n    \"comments\": 0,\r\n    \"merge_commit_sha\": null,\r\n    \"requested_teams\": [],\r\n    \"mergeable_state\": \"unknown\",\r\n    \"user\": {\r\n      \"received_events_url\": \"https://api.github.com/users/dependabot%5Bbot%5D/received_events\",\r\n      \"organizations_url\": \"https://api.github.com/users/dependabot%5Bbot%5D/orgs\",\r\n      \"subscriptions_url\": \"https://api.github.com/users/dependabot%5Bbot%5D/subscriptions\",\r\n      \"events_url\": \"https://api.github.com/users/dependabot%5Bbot%5D/events{/privacy}\",\r\n      \"html_url\": \"https://github.com/apps/dependabot\",\r\n      \"followers_url\": \"https://api.github.com/users/dependabot%5Bbot%5D/followers\",\r\n      \"following_url\": \"https://api.github.com/users/dependabot%5Bbot%5D/following{/other_user}\",\r\n      \"node_id\": \"MDM6Qm90NDk2OTkzMzM=\",\r\n      \"gravatar_id\": \"\",\r\n      \"starred_url\": \"https://api.github.com/users/dependabot%5Bbot%5D/starred{/owner}{/repo}\",\r\n      \"avatar_url\": \"https://avatars0.githubusercontent.com/in/29110?v=4\",\r\n      \"site_admin\": false,\r\n      \"repos_url\": \"https://api.github.com/users/dependabot%5Bbot%5D/repos\",\r\n      \"gists_url\": \"https://api.github.com/users/dependabot%5Bbot%5D/gists{/gist_id}\",\r\n      \"url\": \"https://api.github.com/users/dependabot%5Bbot%5D\",\r\n      \"login\": \"dependabot[bot]\",\r\n      \"type\": \"Bot\",\r\n      \"id\": 49699333\r\n    },\r\n    \"number\": 7,\r\n    \"changed_files\": 2,\r\n    \"closed_at\": null,\r\n    \"milestone\": null,\r\n    \"assignees\": [],\r\n    \"issue_url\": \"https://api.github.com/repos/phfilly/graphql-search/issues/7\",\r\n    \"patch_url\": \"https://github.com/phfilly/graphql-search/pull/7.patch\",\r\n    \"rebaseable\": null,\r\n    \"assignee\": null,\r\n    \"merged_at\": null,\r\n    \"deletions\": 13,\r\n    \"additions\": 46,\r\n    \"mergeable\": null,\r\n    \"merged_by\": null,\r\n    \"head\": {\r\n      \"user\": {\r\n        \"received_events_url\": \"https://api.github.com/users/phfilly/received_events\",\r\n        \"organizations_url\": \"https://api.github.com/users/phfilly/orgs\",\r\n        \"subscriptions_url\": \"https://api.github.com/users/phfilly/subscriptions\",\r\n        \"events_url\": \"https://api.github.com/users/phfilly/events{/privacy}\",\r\n        \"html_url\": \"https://github.com/phfilly\",\r\n        \"followers_url\": \"https://api.github.com/users/phfilly/followers\",\r\n        \"following_url\": \"https://api.github.com/users/phfilly/following{/other_user}\",\r\n        \"node_id\": \"MDQ6VXNlcjQ2Mjc5NTM=\",\r\n        \"gravatar_id\": \"\",\r\n        \"starred_url\": \"https://api.github.com/users/phfilly/starred{/owner}{/repo}\",\r\n        \"avatar_url\": \"https://avatars1.githubusercontent.com/u/4627953?v=4\",\r\n        \"site_admin\": false,\r\n        \"repos_url\": \"https://api.github.com/users/phfilly/repos\",\r\n        \"gists_url\": \"https://api.github.com/users/phfilly/gists{/gist_id}\",\r\n        \"url\": \"https://api.github.com/users/phfilly\",\r\n        \"login\": \"phfilly\",\r\n        \"type\": \"User\",\r\n        \"id\": 4627953\r\n      },\r\n      \"ref\": \"dependabot/npm_and_yarn/elliptic-6.5.3\",\r\n      \"sha\": \"3c0af4d4b5c8f4a947db2ca48f413db67b2294d9\",\r\n      \"label\": \"phfilly:dependabot/npm_and_yarn/elliptic-6.5.3\",\r\n      \"repo\": {\r\n        \"events_url\": \"https://api.github.com/repos/phfilly/graphql-search/events\",\r\n        \"html_url\": \"https://github.com/phfilly/graphql-search\",\r\n        \"node_id\": \"MDEwOlJlcG9zaXRvcnkyMTUxMjE5NDc=\",\r\n        \"comments_url\": \"https://api.github.com/repos/phfilly/graphql-search/comments{/number}\",\r\n        \"description\": \"Portfolio piece\",\r\n        \"statuses_url\": \"https://api.github.com/repos/phfilly/graphql-search/statuses/{sha}\",\r\n        \"url\": \"https://api.github.com/repos/phfilly/graphql-search\",\r\n        \"open_issues_count\": 7,\r\n        \"collaborators_url\": \"https://api.github.com/repos/phfilly/graphql-search/collaborators{/collaborator}\",\r\n        \"notifications_url\": \"https://api.github.com/repos/phfilly/graphql-search/notifications{?since,all,participating}\",\r\n        \"issue_comment_url\": \"https://api.github.com/repos/phfilly/graphql-search/issues/comments{/number}\",\r\n        \"created_at\": \"2019-10-14T18:53:01.0000000Z\",\r\n        \"updated_at\": \"2020-02-26T17:12:10.0000000Z\",\r\n        \"commits_url\": \"https://api.github.com/repos/phfilly/graphql-search/commits{/sha}\",\r\n        \"contributors_url\": \"https://api.github.com/repos/phfilly/graphql-search/contributors\",\r\n        \"issue_events_url\": \"https://api.github.com/repos/phfilly/graphql-search/issues/events{/number}\",\r\n        \"stargazers_count\": 0,\r\n        \"subscription_url\": \"https://api.github.com/repos/phfilly/graphql-search/subscription\",\r\n        \"git_commits_url\": \"https://api.github.com/repos/phfilly/graphql-search/git/commits{/sha}\",\r\n        \"deployments_url\": \"https://api.github.com/repos/phfilly/graphql-search/deployments\",\r\n        \"subscribers_url\": \"https://api.github.com/repos/phfilly/graphql-search/subscribers\",\r\n        \"watchers_count\": 0,\r\n        \"milestones_url\": \"https://api.github.com/repos/phfilly/graphql-search/milestones{/number}\",\r\n        \"stargazers_url\": \"https://api.github.com/repos/phfilly/graphql-search/stargazers\",\r\n        \"default_branch\": \"master\",\r\n        \"downloads_url\": \"https://api.github.com/repos/phfilly/graphql-search/downloads\",\r\n        \"assignees_url\": \"https://api.github.com/repos/phfilly/graphql-search/assignees{/user}\",\r\n        \"languages_url\": \"https://api.github.com/repos/phfilly/graphql-search/languages\",\r\n        \"has_downloads\": true,\r\n        \"branches_url\": \"https://api.github.com/repos/phfilly/graphql-search/branches{/branch}\",\r\n        \"contents_url\": \"https://api.github.com/repos/phfilly/graphql-search/contents/{+path}\",\r\n        \"releases_url\": \"https://api.github.com/repos/phfilly/graphql-search/releases{/id}\",\r\n        \"has_projects\": true,\r\n        \"git_refs_url\": \"https://api.github.com/repos/phfilly/graphql-search/git/refs{/sha}\",\r\n        \"git_tags_url\": \"https://api.github.com/repos/phfilly/graphql-search/git/tags{/sha}\",\r\n        \"open_issues\": 7,\r\n        \"labels_url\": \"https://api.github.com/repos/phfilly/graphql-search/labels{/name}\",\r\n        \"archive_url\": \"https://api.github.com/repos/phfilly/graphql-search/{archive_format}{/ref}\",\r\n        \"forks_count\": 0,\r\n        \"compare_url\": \"https://api.github.com/repos/phfilly/graphql-search/compare/{base}...{head}\",\r\n        \"merges_url\": \"https://api.github.com/repos/phfilly/graphql-search/merges\",\r\n        \"issues_url\": \"https://api.github.com/repos/phfilly/graphql-search/issues{/number}\",\r\n        \"mirror_url\": null,\r\n        \"has_issues\": true,\r\n        \"id\": 215121947,\r\n        \"pushed_at\": \"2020-07-31T23:59:58.0000000Z\",\r\n        \"trees_url\": \"https://api.github.com/repos/phfilly/graphql-search/git/trees{/sha}\",\r\n        \"has_pages\": false,\r\n        \"full_name\": \"phfilly/graphql-search\",\r\n        \"pulls_url\": \"https://api.github.com/repos/phfilly/graphql-search/pulls{/number}\",\r\n        \"hooks_url\": \"https://api.github.com/repos/phfilly/graphql-search/hooks\",\r\n        \"teams_url\": \"https://api.github.com/repos/phfilly/graphql-search/teams\",\r\n        \"blobs_url\": \"https://api.github.com/repos/phfilly/graphql-search/git/blobs{/sha}\",\r\n        \"forks_url\": \"https://api.github.com/repos/phfilly/graphql-search/forks\",\r\n        \"clone_url\": \"https://github.com/phfilly/graphql-search.git\",\r\n        \"name\": \"graphql-search\",\r\n        \"disabled\": false,\r\n        \"language\": \"JavaScript\",\r\n        \"keys_url\": \"https://api.github.com/repos/phfilly/graphql-search/keys{/key_id}\",\r\n        \"tags_url\": \"https://api.github.com/repos/phfilly/graphql-search/tags\",\r\n        \"watchers\": 0,\r\n        \"archived\": false,\r\n        \"homepage\": \"\",\r\n        \"has_wiki\": true,\r\n        \"license\": null,\r\n        \"private\": false,\r\n        \"svn_url\": \"https://github.com/phfilly/graphql-search\",\r\n        \"ssh_url\": \"git@github.com:phfilly/graphql-search.git\",\r\n        \"git_url\": \"git://github.com/phfilly/graphql-search.git\",\r\n        \"size\": 9014,\r\n        \"owner\": {\r\n          \"received_events_url\": \"https://api.github.com/users/phfilly/received_events\",\r\n          \"organizations_url\": \"https://api.github.com/users/phfilly/orgs\",\r\n          \"subscriptions_url\": \"https://api.github.com/users/phfilly/subscriptions\",\r\n          \"events_url\": \"https://api.github.com/users/phfilly/events{/privacy}\",\r\n          \"html_url\": \"https://github.com/phfilly\",\r\n          \"followers_url\": \"https://api.github.com/users/phfilly/followers\",\r\n          \"following_url\": \"https://api.github.com/users/phfilly/following{/other_user}\",\r\n          \"node_id\": \"MDQ6VXNlcjQ2Mjc5NTM=\",\r\n          \"gravatar_id\": \"\",\r\n          \"starred_url\": \"https://api.github.com/users/phfilly/starred{/owner}{/repo}\",\r\n          \"avatar_url\": \"https://avatars1.githubusercontent.com/u/4627953?v=4\",\r\n          \"site_admin\": false,\r\n          \"repos_url\": \"https://api.github.com/users/phfilly/repos\",\r\n          \"gists_url\": \"https://api.github.com/users/phfilly/gists{/gist_id}\",\r\n          \"url\": \"https://api.github.com/users/phfilly\",\r\n          \"login\": \"phfilly\",\r\n          \"type\": \"User\",\r\n          \"id\": 4627953\r\n        },\r\n        \"forks\": 0,\r\n        \"fork\": false\r\n      }\r\n    },\r\n    \"diff_url\": \"https://github.com/phfilly/graphql-search/pull/7.diff\",\r\n    \"labels\": [],\r\n    \"locked\": false,\r\n    \"_links\": {\r\n      \"review_comments\": {\r\n        \"href\": \"https://api.github.com/repos/phfilly/graphql-search/pulls/7/comments\"\r\n      },\r\n      \"commits\": {\r\n        \"href\": \"https://api.github.com/repos/phfilly/graphql-search/pulls/7/commits\"\r\n      },\r\n      \"comments\": {\r\n        \"href\": \"https://api.github.com/repos/phfilly/graphql-search/issues/7/comments\"\r\n      },\r\n      \"review_comment\": {\r\n        \"href\": \"https://api.github.com/repos/phfilly/graphql-search/pulls/comments{/number}\"\r\n      },\r\n      \"statuses\": {\r\n        \"href\": \"https://api.github.com/repos/phfilly/graphql-search/statuses/3c0af4d4b5c8f4a947db2ca48f413db67b2294d9\"\r\n      },\r\n      \"issue\": {\r\n        \"href\": \"https://api.github.com/repos/phfilly/graphql-search/issues/7\"\r\n      },\r\n      \"html\": {\r\n        \"href\": \"https://github.com/phfilly/graphql-search/pull/7\"\r\n      },\r\n      \"self\": {\r\n        \"href\": \"https://api.github.com/repos/phfilly/graphql-search/pulls/7\"\r\n      }\r\n    },\r\n    \"title\": \"Bump elliptic from 6.4.1 to 6.5.3\",\r\n    \"state\": \"open\",\r\n    \"merged\": false,\r\n    \"body\": \"Bumps [elliptic](https://github.com/indutny/elliptic) from 6.4.1 to 6.5.3.\\n<details>\\n<summary>Commits</summary>\\n<ul>\\n<li><a href=\\\"https://github.com/indutny/elliptic/commit/8647803dc3d90506aa03021737f7b061ba959ae1\\\"><code>8647803</code></a> 6.5.3</li>\\n<li><a href=\\\"https://github.com/indutny/elliptic/commit/856fe4d99fe7b6200556e6400b3bf585b1721bec\\\"><code>856fe4d</code></a> signature: prevent malleability and overflows</li>\\n<li><a href=\\\"https://github.com/indutny/elliptic/commit/60489415e545efdfd3010ae74b9726facbf08ca8\\\"><code>6048941</code></a> 6.5.2</li>\\n<li><a href=\\\"https://github.com/indutny/elliptic/commit/9984964457c9f8a63b91b01ea103260417eca237\\\"><code>9984964</code></a> package: bump dependencies</li>\\n<li><a href=\\\"https://github.com/indutny/elliptic/commit/ec735edde187a43693197f6fa3667ceade751a3a\\\"><code>ec735ed</code></a> utils: leak less information in <code>getNAF()</code></li>\\n<li><a href=\\\"https://github.com/indutny/elliptic/commit/71e4e8e2f5b8f0bdbfbe106c72cc9fbc746d3d60\\\"><code>71e4e8e</code></a> 6.5.1</li>\\n<li><a href=\\\"https://github.com/indutny/elliptic/commit/7ec66ffa255079260126d87b1762a59ea10de5ea\\\"><code>7ec66ff</code></a> short: add infinity check before multiplying</li>\\n<li><a href=\\\"https://github.com/indutny/elliptic/commit/ee7970b92f388e981d694be0436c4c8036b5d36c\\\"><code>ee7970b</code></a> travis: really move on</li>\\n<li><a href=\\\"https://github.com/indutny/elliptic/commit/637d0216b58de7edee4f3eb5641295ac323acadb\\\"><code>637d021</code></a> travis: move on</li>\\n<li><a href=\\\"https://github.com/indutny/elliptic/commit/5ed0babb6467cd8575a9218265473fda926d9d42\\\"><code>5ed0bab</code></a> package: update deps</li>\\n<li>Additional commits viewable in <a href=\\\"https://github.com/indutny/elliptic/compare/v6.4.1...v6.5.3\\\">compare view</a></li>\\n</ul>\\n</details>\\n<br />\\n\\n\\n[![Dependabot compatibility score](https://dependabot-badges.githubapp.com/badges/compatibility_score?dependency-name=elliptic&package-manager=npm_and_yarn&previous-version=6.4.1&new-version=6.5.3)](https://help.github.com/articles/configuring-automated-security-fixes)\\n\\nDependabot will resolve any conflicts with this PR as long as you don't alter it yourself. You can also trigger a rebase manually by commenting `@dependabot rebase`.\\n\\n[//]: # (dependabot-automerge-start)\\n[//]: # (dependabot-automerge-end)\\n\\n---\\n\\n<details>\\n<summary>Dependabot commands and options</summary>\\n<br />\\n\\nYou can trigger Dependabot actions by commenting on this PR:\\n- `@dependabot rebase` will rebase this PR\\n- `@dependabot recreate` will recreate this PR, overwriting any edits that have been made to it\\n- `@dependabot merge` will merge this PR after your CI passes on it\\n- `@dependabot squash and merge` will squash and merge this PR after your CI passes on it\\n- `@dependabot cancel merge` will cancel a previously requested merge and block automerging\\n- `@dependabot reopen` will reopen this PR if it is closed\\n- `@dependabot close` will close this PR and stop Dependabot recreating it. You can achieve the same result by closing it manually\\n- `@dependabot ignore this major version` will close this PR and stop Dependabot creating any more for this major version (unless you reopen the PR or upgrade to it yourself)\\n- `@dependabot ignore this minor version` will close this PR and stop Dependabot creating any more for this minor version (unless you reopen the PR or upgrade to it yourself)\\n- `@dependabot ignore this dependency` will close this PR and stop Dependabot creating any more for this dependency (unless you reopen the PR or upgrade to it yourself)\\n- `@dependabot use these labels` will set the current labels as the default for future PRs for this repo and language\\n- `@dependabot use these reviewers` will set the current reviewers as the default for future PRs for this repo and language\\n- `@dependabot use these assignees` will set the current assignees as the default for future PRs for this repo and language\\n- `@dependabot use this milestone` will set the current milestone as the default for future PRs for this repo and language\\n\\nYou can disable automated security fix PRs for this repo from the [Security Alerts page](https://github.com/phfilly/graphql-search/network/alerts).\\n\\n</details>\",\r\n    \"draft\": false,\r\n    \"base\": {\r\n      \"user\": {\r\n        \"received_events_url\": \"https://api.github.com/users/phfilly/received_events\",\r\n        \"organizations_url\": \"https://api.github.com/users/phfilly/orgs\",\r\n        \"subscriptions_url\": \"https://api.github.com/users/phfilly/subscriptions\",\r\n        \"events_url\": \"https://api.github.com/users/phfilly/events{/privacy}\",\r\n        \"html_url\": \"https://github.com/phfilly\",\r\n        \"followers_url\": \"https://api.github.com/users/phfilly/followers\",\r\n        \"following_url\": \"https://api.github.com/users/phfilly/following{/other_user}\",\r\n        \"node_id\": \"MDQ6VXNlcjQ2Mjc5NTM=\",\r\n        \"gravatar_id\": \"\",\r\n        \"starred_url\": \"https://api.github.com/users/phfilly/starred{/owner}{/repo}\",\r\n        \"avatar_url\": \"https://avatars1.githubusercontent.com/u/4627953?v=4\",\r\n        \"site_admin\": false,\r\n        \"repos_url\": \"https://api.github.com/users/phfilly/repos\",\r\n        \"gists_url\": \"https://api.github.com/users/phfilly/gists{/gist_id}\",\r\n        \"url\": \"https://api.github.com/users/phfilly\",\r\n        \"login\": \"phfilly\",\r\n        \"type\": \"User\",\r\n        \"id\": 4627953\r\n      },\r\n      \"ref\": \"master\",\r\n      \"sha\": \"4c4356cf6c57c2b6e4504b75bde2fdbde6224e33\",\r\n      \"label\": \"phfilly:master\",\r\n      \"repo\": {\r\n        \"events_url\": \"https://api.github.com/repos/phfilly/graphql-search/events\",\r\n        \"html_url\": \"https://github.com/phfilly/graphql-search\",\r\n        \"node_id\": \"MDEwOlJlcG9zaXRvcnkyMTUxMjE5NDc=\",\r\n        \"comments_url\": \"https://api.github.com/repos/phfilly/graphql-search/comments{/number}\",\r\n        \"description\": \"Portfolio piece\",\r\n        \"statuses_url\": \"https://api.github.com/repos/phfilly/graphql-search/statuses/{sha}\",\r\n        \"url\": \"https://api.github.com/repos/phfilly/graphql-search\",\r\n        \"open_issues_count\": 7,\r\n        \"collaborators_url\": \"https://api.github.com/repos/phfilly/graphql-search/collaborators{/collaborator}\",\r\n        \"notifications_url\": \"https://api.github.com/repos/phfilly/graphql-search/notifications{?since,all,participating}\",\r\n        \"issue_comment_url\": \"https://api.github.com/repos/phfilly/graphql-search/issues/comments{/number}\",\r\n        \"created_at\": \"2019-10-14T18:53:01.0000000Z\",\r\n        \"updated_at\": \"2020-02-26T17:12:10.0000000Z\",\r\n        \"commits_url\": \"https://api.github.com/repos/phfilly/graphql-search/commits{/sha}\",\r\n        \"contributors_url\": \"https://api.github.com/repos/phfilly/graphql-search/contributors\",\r\n        \"issue_events_url\": \"https://api.github.com/repos/phfilly/graphql-search/issues/events{/number}\",\r\n        \"stargazers_count\": 0,\r\n        \"subscription_url\": \"https://api.github.com/repos/phfilly/graphql-search/subscription\",\r\n        \"git_commits_url\": \"https://api.github.com/repos/phfilly/graphql-search/git/commits{/sha}\",\r\n        \"deployments_url\": \"https://api.github.com/repos/phfilly/graphql-search/deployments\",\r\n        \"subscribers_url\": \"https://api.github.com/repos/phfilly/graphql-search/subscribers\",\r\n        \"watchers_count\": 0,\r\n        \"milestones_url\": \"https://api.github.com/repos/phfilly/graphql-search/milestones{/number}\",\r\n        \"stargazers_url\": \"https://api.github.com/repos/phfilly/graphql-search/stargazers\",\r\n        \"default_branch\": \"master\",\r\n        \"downloads_url\": \"https://api.github.com/repos/phfilly/graphql-search/downloads\",\r\n        \"assignees_url\": \"https://api.github.com/repos/phfilly/graphql-search/assignees{/user}\",\r\n        \"languages_url\": \"https://api.github.com/repos/phfilly/graphql-search/languages\",\r\n        \"has_downloads\": true,\r\n        \"branches_url\": \"https://api.github.com/repos/phfilly/graphql-search/branches{/branch}\",\r\n        \"contents_url\": \"https://api.github.com/repos/phfilly/graphql-search/contents/{+path}\",\r\n        \"releases_url\": \"https://api.github.com/repos/phfilly/graphql-search/releases{/id}\",\r\n        \"has_projects\": true,\r\n        \"git_refs_url\": \"https://api.github.com/repos/phfilly/graphql-search/git/refs{/sha}\",\r\n        \"git_tags_url\": \"https://api.github.com/repos/phfilly/graphql-search/git/tags{/sha}\",\r\n        \"open_issues\": 7,\r\n        \"labels_url\": \"https://api.github.com/repos/phfilly/graphql-search/labels{/name}\",\r\n        \"archive_url\": \"https://api.github.com/repos/phfilly/graphql-search/{archive_format}{/ref}\",\r\n        \"forks_count\": 0,\r\n        \"compare_url\": \"https://api.github.com/repos/phfilly/graphql-search/compare/{base}...{head}\",\r\n        \"merges_url\": \"https://api.github.com/repos/phfilly/graphql-search/merges\",\r\n        \"issues_url\": \"https://api.github.com/repos/phfilly/graphql-search/issues{/number}\",\r\n        \"mirror_url\": null,\r\n        \"has_issues\": true,\r\n        \"id\": 215121947,\r\n        \"pushed_at\": \"2020-07-31T23:59:58.0000000Z\",\r\n        \"trees_url\": \"https://api.github.com/repos/phfilly/graphql-search/git/trees{/sha}\",\r\n        \"has_pages\": false,\r\n        \"full_name\": \"phfilly/graphql-search\",\r\n        \"pulls_url\": \"https://api.github.com/repos/phfilly/graphql-search/pulls{/number}\",\r\n        \"hooks_url\": \"https://api.github.com/repos/phfilly/graphql-search/hooks\",\r\n        \"teams_url\": \"https://api.github.com/repos/phfilly/graphql-search/teams\",\r\n        \"blobs_url\": \"https://api.github.com/repos/phfilly/graphql-search/git/blobs{/sha}\",\r\n        \"forks_url\": \"https://api.github.com/repos/phfilly/graphql-search/forks\",\r\n        \"clone_url\": \"https://github.com/phfilly/graphql-search.git\",\r\n        \"name\": \"graphql-search\",\r\n        \"disabled\": false,\r\n        \"language\": \"JavaScript\",\r\n        \"keys_url\": \"https://api.github.com/repos/phfilly/graphql-search/keys{/key_id}\",\r\n        \"tags_url\": \"https://api.github.com/repos/phfilly/graphql-search/tags\",\r\n        \"watchers\": 0,\r\n        \"archived\": false,\r\n        \"homepage\": \"\",\r\n        \"has_wiki\": true,\r\n        \"license\": null,\r\n        \"private\": false,\r\n        \"svn_url\": \"https://github.com/phfilly/graphql-search\",\r\n        \"ssh_url\": \"git@github.com:phfilly/graphql-search.git\",\r\n        \"git_url\": \"git://github.com/phfilly/graphql-search.git\",\r\n        \"size\": 9014,\r\n        \"owner\": {\r\n          \"received_events_url\": \"https://api.github.com/users/phfilly/received_events\",\r\n          \"organizations_url\": \"https://api.github.com/users/phfilly/orgs\",\r\n          \"subscriptions_url\": \"https://api.github.com/users/phfilly/subscriptions\",\r\n          \"events_url\": \"https://api.github.com/users/phfilly/events{/privacy}\",\r\n          \"html_url\": \"https://github.com/phfilly\",\r\n          \"followers_url\": \"https://api.github.com/users/phfilly/followers\",\r\n          \"following_url\": \"https://api.github.com/users/phfilly/following{/other_user}\",\r\n          \"node_id\": \"MDQ6VXNlcjQ2Mjc5NTM=\",\r\n          \"gravatar_id\": \"\",\r\n          \"starred_url\": \"https://api.github.com/users/phfilly/starred{/owner}{/repo}\",\r\n          \"avatar_url\": \"https://avatars1.githubusercontent.com/u/4627953?v=4\",\r\n          \"site_admin\": false,\r\n          \"repos_url\": \"https://api.github.com/users/phfilly/repos\",\r\n          \"gists_url\": \"https://api.github.com/users/phfilly/gists{/gist_id}\",\r\n          \"url\": \"https://api.github.com/users/phfilly\",\r\n          \"login\": \"phfilly\",\r\n          \"type\": \"User\",\r\n          \"id\": 4627953\r\n        },\r\n        \"forks\": 0,\r\n        \"fork\": false\r\n      }\r\n    }\r\n  },\r\n  \"number\": 7,\r\n  \"action\": \"opened\"\r\n}",
                                    "5": "1",
                                    "6": "2020-08-01 00:00:00",
                                    "7": "https://adxdemo.blob.core.windows.net/adx-demo/github-events/Github-2020-08-01-0.json.gz"
                                },
                                {
                                    "0": "13078576140",
                                    "1": "PushEvent",
                                    "2": "koki-noguchi",
                                    "3": "{\r\n  \"name\": \"koki-noguchi/laravel-portfolio\",\r\n  \"url\": \"https://api.github.com/repos/koki-noguchi/laravel-portfolio\",\r\n  \"id\": 278555963\r\n}",
                                    "4": "{\r\n  \"commits\": [\r\n    {\r\n      \"url\": \"https://api.github.com/repos/koki-noguchi/laravel-portfolio/commits/c631f9a5736312f724149b034bc3b1564f812faa\",\r\n      \"distinct\": false,\r\n      \"message\": \"[fix]募集編集ページをコ ンポーネントに分ける\",\r\n      \"sha\": \"c631f9a5736312f724149b034bc3b1564f812faa\",\r\n      \"author\": {\r\n        \"name\": \"koki_noguchi\",\r\n        \"email\": \"3deabe229a6344be8a56548876acee888315fcec@gmail.com\"\r\n      }\r\n    },\r\n    {\r\n      \"url\": \"https://api.github.com/repos/koki-noguchi/laravel-portfolio/commits/de6cd1b86b68b2d532ec1d6c6b7c03a76e4eba78\",\r\n      \"distinct\": true,\r\n      \"message\": \"Merge pull request #73 from koki-noguchi/design_post_page\\n\\nメッセージ募集の編集ページをコ ンポーネントに分ける\",\r\n      \"sha\": \"de6cd1b86b68b2d532ec1d6c6b7c03a76e4eba78\",\r\n      \"author\": {\r\n        \"name\": \"koki-noguchi\",\r\n        \"email\": \"e7220f0d43468ee4e189074d9e4990052258c514@users.noreply.github.com\"\r\n      }\r\n    }\r\n  ],\r\n  \"distinct_size\": 1,\r\n  \"ref\": \"refs/heads/master\",\r\n  \"size\": 2,\r\n  \"head\": \"de6cd1b86b68b2d532ec1d6c6b7c03a76e4eba78\",\r\n  \"push_id\": 5464383179,\r\n  \"before\": \"1d0f1948648a669c39bd84b01b3b42e92d08c49c\"\r\n}",
                                    "5": "1",
                                    "6": "2020-08-01 00:00:00",
                                    "7": "https://adxdemo.blob.core.windows.net/adx-demo/github-events/Github-2020-08-01-0.json.gz"
                                },
                                {
                                    "0": "13078576143",
                                    "1": "PullRequestEvent",
                                    "2": "whitesource-bolt-for-github[bot]",
                                    "3": "{\r\n  \"name\": \"ignatandrei/generateApp\",\r\n  \"url\": \"https://api.github.com/repos/ignatandrei/generateApp\",\r\n  \"id\": 284152066\r\n}",
                                    "4": "{\r\n  \"pull_request\": {\r\n    \"html_url\": \"https://github.com/ignatandrei/generateApp/pull/2\",\r\n    \"node_id\": \"MDExOlB1bGxSZXF1ZXN0NDYwNjI4NTcw\",\r\n    \"comments_url\": \"https://api.github.com/repos/ignatandrei/generateApp/issues/2/comments\",\r\n    \"statuses_url\": \"https://api.github.com/repos/ignatandrei/generateApp/statuses/4a2e2720caaab63a850623258a1e555d7ae00271\",\r\n    \"url\": \"https://api.github.com/repos/ignatandrei/generateApp/pulls/2\",\r\n    \"created_at\": \"2020-08-01T00:00:00.0000000Z\",\r\n    \"updated_at\": \"2020-08-01T00:00:00.0000000Z\",\r\n    \"commits_url\": \"https://api.github.com/repos/ignatandrei/generateApp/pulls/2/commits\",\r\n    \"review_comments\": 0,\r\n    \"author_association\": \"NONE\",\r\n    \"commits\": 1,\r\n    \"active_lock_reason\": null,\r\n    \"maintainer_can_modify\": false,\r\n    \"review_comments_url\": \"https://api.github.com/repos/ignatandrei/generateApp/pulls/2/comments\",\r\n    \"requested_reviewers\": [],\r\n    \"id\": 460628570,\r\n    \"review_comment_url\": \"https://api.github.com/repos/ignatandrei/generateApp/pulls/comments{/number}\",\r\n    \"comments\": 0,\r\n    \"merge_commit_sha\": null,\r\n    \"requested_teams\": [],\r\n    \"mergeable_state\": \"unknown\",\r\n    \"user\": {\r\n      \"received_events_url\": \"https://api.github.com/users/whitesource-bolt-for-github%5Bbot%5D/received_events\",\r\n      \"organizations_url\": \"https://api.github.com/users/whitesource-bolt-for-github%5Bbot%5D/orgs\",\r\n      \"subscriptions_url\": \"https://api.github.com/users/whitesource-bolt-for-github%5Bbot%5D/subscriptions\",\r\n      \"events_url\": \"https://api.github.com/users/whitesource-bolt-for-github%5Bbot%5D/events{/privacy}\",\r\n      \"html_url\": \"https://github.com/apps/whitesource-bolt-for-github\",\r\n      \"followers_url\": \"https://api.github.com/users/whitesource-bolt-for-github%5Bbot%5D/followers\",\r\n      \"following_url\": \"https://api.github.com/users/whitesource-bolt-for-github%5Bbot%5D/following{/other_user}\",\r\n      \"node_id\": \"MDM6Qm90NDI4MTk2ODk=\",\r\n      \"gravatar_id\": \"\",\r\n      \"starred_url\": \"https://api.github.com/users/whitesource-bolt-for-github%5Bbot%5D/starred{/owner}{/repo}\",\r\n      \"avatar_url\": \"https://avatars2.githubusercontent.com/in/16809?v=4\",\r\n      \"site_admin\": false,\r\n      \"repos_url\": \"https://api.github.com/users/whitesource-bolt-for-github%5Bbot%5D/repos\",\r\n      \"gists_url\": \"https://api.github.com/users/whitesource-bolt-for-github%5Bbot%5D/gists{/gist_id}\",\r\n      \"url\": \"https://api.github.com/users/whitesource-bolt-for-github%5Bbot%5D\",\r\n      \"login\": \"whitesource-bolt-for-github[bot]\",\r\n      \"type\": \"Bot\",\r\n      \"id\": 42819689\r\n    },\r\n    \"number\": 2,\r\n    \"changed_files\": 1,\r\n    \"closed_at\": null,\r\n    \"milestone\": null,\r\n    \"assignees\": [],\r\n    \"issue_url\": \"https://api.github.com/repos/ignatandrei/generateApp/issues/2\",\r\n    \"patch_url\": \"https://github.com/ignatandrei/generateApp/pull/2.patch\",\r\n    \"rebaseable\": null,\r\n    \"assignee\": null,\r\n    \"merged_at\": null,\r\n    \"deletions\": 0,\r\n    \"additions\": 11,\r\n    \"mergeable\": null,\r\n    \"merged_by\": null,\r\n    \"head\": {\r\n      \"user\": {\r\n        \"received_events_url\": \"https://api.github.com/users/ignatandrei/received_events\",\r\n        \"organizations_url\": \"https://api.github.com/users/ignatandrei/orgs\",\r\n        \"subscriptions_url\": \"https://api.github.com/users/ignatandrei/subscriptions\",\r\n        \"events_url\": \"https://api.github.com/users/ignatandrei/events{/privacy}\",\r\n        \"html_url\": \"https://github.com/ignatandrei\",\r\n        \"followers_url\": \"https://api.github.com/users/ignatandrei/followers\",\r\n        \"following_url\": \"https://api.github.com/users/ignatandrei/following{/other_user}\",\r\n        \"node_id\": \"MDQ6VXNlcjE1Mzk4Mg==\",\r\n        \"gravatar_id\": \"\",\r\n        \"starred_url\": \"https://api.github.com/users/ignatandrei/starred{/owner}{/repo}\",\r\n        \"avatar_url\": \"https://avatars3.githubusercontent.com/u/153982?v=4\",\r\n        \"site_admin\": false,\r\n        \"repos_url\": \"https://api.github.com/users/ignatandrei/repos\",\r\n        \"gists_url\": \"https://api.github.com/users/ignatandrei/gists{/gist_id}\",\r\n        \"url\": \"https://api.github.com/users/ignatandrei\",\r\n        \"login\": \"ignatandrei\",\r\n        \"type\": \"User\",\r\n        \"id\": 153982\r\n      },\r\n      \"ref\": \"whitesource/configure\",\r\n      \"sha\": \"4a2e2720caaab63a850623258a1e555d7ae00271\",\r\n      \"label\": \"ignatandrei:whitesource/configure\",\r\n      \"repo\": {\r\n        \"events_url\": \"https://api.github.com/repos/ignatandrei/generateApp/events\",\r\n        \"html_url\": \"https://github.com/ignatandrei/generateApp\",\r\n        \"node_id\": \"MDEwOlJlcG9zaXRvcnkyODQxNTIwNjY=\",\r\n        \"comments_url\": \"https://api.github.com/repos/ignatandrei/generateApp/comments{/number}\",\r\n        \"description\": null,\r\n        \"statuses_url\": \"https://api.github.com/repos/ignatandrei/generateApp/statuses/{sha}\",\r\n        \"url\": \"https://api.github.com/repos/ignatandrei/generateApp\",\r\n        \"open_issues_count\": 2,\r\n        \"collaborators_url\": \"https://api.github.com/repos/ignatandrei/generateApp/collaborators{/collaborator}\",\r\n        \"notifications_url\": \"https://api.github.com/repos/ignatandrei/generateApp/notifications{?since,all,participating}\",\r\n        \"issue_comment_url\": \"https://api.github.com/repos/ignatandrei/generateApp/issues/comments{/number}\",\r\n        \"created_at\": \"2020-07-31T23:59:49.0000000Z\",\r\n        \"updated_at\": \"2020-07-31T23:59:55.0000000Z\",\r\n        \"commits_url\": \"https://api.github.com/repos/ignatandrei/generateApp/commits{/sha}\",\r\n        \"contributors_url\": \"https://api.github.com/repos/ignatandrei/generateApp/contributors\",\r\n        \"issue_events_url\": \"https://api.github.com/repos/ignatandrei/generateApp/issues/events{/number}\",\r\n        \"stargazers_count\": 0,\r\n        \"subscription_url\": \"https://api.github.com/repos/ignatandrei/generateApp/subscription\",\r\n        \"git_commits_url\": \"https://api.github.com/repos/ignatandrei/generateApp/git/commits{/sha}\",\r\n        \"deployments_url\": \"https://api.github.com/repos/ignatandrei/generateApp/deployments\",\r\n        \"subscribers_url\": \"https://api.github.com/repos/ignatandrei/generateApp/subscribers\",\r\n        \"watchers_count\": 0,\r\n        \"milestones_url\": \"https://api.github.com/repos/ignatandrei/generateApp/milestones{/number}\",\r\n        \"stargazers_url\": \"https://api.github.com/repos/ignatandrei/generateApp/stargazers\",\r\n        \"default_branch\": \"master\",\r\n        \"downloads_url\": \"https://api.github.com/repos/ignatandrei/generateApp/downloads\",\r\n        \"assignees_url\": \"https://api.github.com/repos/ignatandrei/generateApp/assignees{/user}\",\r\n        \"languages_url\": \"https://api.github.com/repos/ignatandrei/generateApp/languages\",\r\n        \"has_downloads\": true,\r\n        \"branches_url\": \"https://api.github.com/repos/ignatandrei/generateApp/branches{/branch}\",\r\n        \"contents_url\": \"https://api.github.com/repos/ignatandrei/generateApp/contents/{+path}\",\r\n        \"releases_url\": \"https://api.github.com/repos/ignatandrei/generateApp/releases{/id}\",\r\n        \"has_projects\": true,\r\n        \"git_refs_url\": \"https://api.github.com/repos/ignatandrei/generateApp/git/refs{/sha}\",\r\n        \"git_tags_url\": \"https://api.github.com/repos/ignatandrei/generateApp/git/tags{/sha}\",\r\n        \"open_issues\": 2,\r\n        \"labels_url\": \"https://api.github.com/repos/ignatandrei/generateApp/labels{/name}\",\r\n        \"archive_url\": \"https://api.github.com/repos/ignatandrei/generateApp/{archive_format}{/ref}\",\r\n        \"forks_count\": 0,\r\n        \"compare_url\": \"https://api.github.com/repos/ignatandrei/generateApp/compare/{base}...{head}\",\r\n        \"merges_url\": \"https://api.github.com/repos/ignatandrei/generateApp/merges\",\r\n        \"issues_url\": \"https://api.github.com/repos/ignatandrei/generateApp/issues{/number}\",\r\n        \"mirror_url\": null,\r\n        \"has_issues\": true,\r\n        \"id\": 284152066,\r\n        \"pushed_at\": \"2020-07-31T23:59:59.0000000Z\",\r\n        \"trees_url\": \"https://api.github.com/repos/ignatandrei/generateApp/git/trees{/sha}\",\r\n        \"has_pages\": false,\r\n        \"full_name\": \"ignatandrei/generateApp\",\r\n        \"pulls_url\": \"https://api.github.com/repos/ignatandrei/generateApp/pulls{/number}\",\r\n        \"hooks_url\": \"https://api.github.com/repos/ignatandrei/generateApp/hooks\",\r\n        \"teams_url\": \"https://api.github.com/repos/ignatandrei/generateApp/teams\",\r\n        \"blobs_url\": \"https://api.github.com/repos/ignatandrei/generateApp/git/blobs{/sha}\",\r\n        \"forks_url\": \"https://api.github.com/repos/ignatandrei/generateApp/forks\",\r\n        \"clone_url\": \"https://github.com/ignatandrei/generateApp.git\",\r\n        \"name\": \"generateApp\",\r\n        \"disabled\": false,\r\n        \"language\": null,\r\n        \"keys_url\": \"https://api.github.com/repos/ignatandrei/generateApp/keys{/key_id}\",\r\n        \"tags_url\": \"https://api.github.com/repos/ignatandrei/generateApp/tags\",\r\n        \"watchers\": 0,\r\n        \"archived\": false,\r\n        \"homepage\": null,\r\n        \"has_wiki\": true,\r\n        \"license\": {\r\n          \"node_id\": \"MDc6TGljZW5zZTEz\",\r\n          \"url\": \"https://api.github.com/licenses/mit\",\r\n          \"name\": \"MIT License\",\r\n          \"spdx_id\": \"MIT\",\r\n          \"key\": \"mit\"\r\n        },\r\n        \"private\": false,\r\n        \"svn_url\": \"https://github.com/ignatandrei/generateApp\",\r\n        \"ssh_url\": \"git@github.com:ignatandrei/generateApp.git\",\r\n        \"git_url\": \"git://github.com/ignatandrei/generateApp.git\",\r\n        \"size\": 0,\r\n        \"owner\": {\r\n          \"received_events_url\": \"https://api.github.com/users/ignatandrei/received_events\",\r\n          \"organizations_url\": \"https://api.github.com/users/ignatandrei/orgs\",\r\n          \"subscriptions_url\": \"https://api.github.com/users/ignatandrei/subscriptions\",\r\n          \"events_url\": \"https://api.github.com/users/ignatandrei/events{/privacy}\",\r\n          \"html_url\": \"https://github.com/ignatandrei\",\r\n          \"followers_url\": \"https://api.github.com/users/ignatandrei/followers\",\r\n          \"following_url\": \"https://api.github.com/users/ignatandrei/following{/other_user}\",\r\n          \"node_id\": \"MDQ6VXNlcjE1Mzk4Mg==\",\r\n          \"gravatar_id\": \"\",\r\n          \"starred_url\": \"https://api.github.com/users/ignatandrei/starred{/owner}{/repo}\",\r\n          \"avatar_url\": \"https://avatars3.githubusercontent.com/u/153982?v=4\",\r\n          \"site_admin\": false,\r\n          \"repos_url\": \"https://api.github.com/users/ignatandrei/repos\",\r\n          \"gists_url\": \"https://api.github.com/users/ignatandrei/gists{/gist_id}\",\r\n          \"url\": \"https://api.github.com/users/ignatandrei\",\r\n          \"login\": \"ignatandrei\",\r\n          \"type\": \"User\",\r\n          \"id\": 153982\r\n        },\r\n        \"forks\": 0,\r\n        \"fork\": false\r\n      }\r\n    },\r\n    \"diff_url\": \"https://github.com/ignatandrei/generateApp/pull/2.diff\",\r\n    \"labels\": [],\r\n    \"locked\": false,\r\n    \"_links\": {\r\n      \"review_comments\": {\r\n        \"href\": \"https://api.github.com/repos/ignatandrei/generateApp/pulls/2/comments\"\r\n      },\r\n      \"commits\": {\r\n        \"href\": \"https://api.github.com/repos/ignatandrei/generateApp/pulls/2/commits\"\r\n      },\r\n      \"comments\": {\r\n        \"href\": \"https://api.github.com/repos/ignatandrei/generateApp/issues/2/comments\"\r\n      },\r\n      \"review_comment\": {\r\n        \"href\": \"https://api.github.com/repos/ignatandrei/generateApp/pulls/comments{/number}\"\r\n      },\r\n      \"statuses\": {\r\n        \"href\": \"https://api.github.com/repos/ignatandrei/generateApp/statuses/4a2e2720caaab63a850623258a1e555d7ae00271\"\r\n      },\r\n      \"issue\": {\r\n        \"href\": \"https://api.github.com/repos/ignatandrei/generateApp/issues/2\"\r\n      },\r\n      \"html\": {\r\n        \"href\": \"https://github.com/ignatandrei/generateApp/pull/2\"\r\n      },\r\n      \"self\": {\r\n        \"href\": \"https://api.github.com/repos/ignatandrei/generateApp/pulls/2\"\r\n      }\r\n    },\r\n    \"title\": \"Configure WhiteSource Bolt for GitHub\",\r\n    \"state\": \"open\",\r\n    \"merged\": false,\r\n    \"body\": \"Welcome to [WhiteSource Bolt for GitHub](https://github.com/marketplace/whitesource-bolt)! This is an onboarding PR to help you understand and configure settings before WhiteSource starts scanning your repository for security vulnerabilities.\\n\\n:vertical_traffic_light: WhiteSource Bolt for GitHub will start scanning your repository only once you merge this Pull Request. To disable WhiteSource Bolt for GitHub, simply close this Pull Request. \\n\\n\\n\\n---\\n\\n### What to Expect\\n\\nThis PR contains a '.whitesource' configuration file which can be customized to your needs. If no changes were applied to this file, WhiteSource Bolt for GitHub will use the default configuration.\\n\\nBefore merging this PR, Make sure the [Issues tab is enabled](https://whitesource.atlassian.net/wiki/spaces/WD/pages/594641239/Enabling+the+Issues+Tab+for+the+GitHub+Repository). Once you merge this PR, WhiteSource Bolt for GitHub will scan your repository and create a GitHub Issue for every vulnerability detected in your repository. \\n\\nIf you do not want a GitHub Issue to be created for each detected vulnerability, you can edit the '.whitesource' file and set the 'minSeverityLevel' parameter to 'NONE'. \\n\\n---\\n\\n:question: Got questions? Check out WhiteSource Bolt for GitHub [docs](https://whitesource.atlassian.net/wiki/spaces/WD/pages/556007950/WhiteSource+Bolt+for+GitHub).\\nIf you need any further assistance then you can also [request help here](https://whitesourcesoftware.force.com/CustomerCommunity/s).<!-- <WHITESOURCE>{ \\\"installationId\\\": \\\"1165336\\\"}</WHITESOURCE> -->\",\r\n    \"draft\": false,\r\n    \"base\": {\r\n      \"user\": {\r\n        \"received_events_url\": \"https://api.github.com/users/ignatandrei/received_events\",\r\n        \"organizations_url\": \"https://api.github.com/users/ignatandrei/orgs\",\r\n        \"subscriptions_url\": \"https://api.github.com/users/ignatandrei/subscriptions\",\r\n        \"events_url\": \"https://api.github.com/users/ignatandrei/events{/privacy}\",\r\n        \"html_url\": \"https://github.com/ignatandrei\",\r\n        \"followers_url\": \"https://api.github.com/users/ignatandrei/followers\",\r\n        \"following_url\": \"https://api.github.com/users/ignatandrei/following{/other_user}\",\r\n        \"node_id\": \"MDQ6VXNlcjE1Mzk4Mg==\",\r\n        \"gravatar_id\": \"\",\r\n        \"starred_url\": \"https://api.github.com/users/ignatandrei/starred{/owner}{/repo}\",\r\n        \"avatar_url\": \"https://avatars3.githubusercontent.com/u/153982?v=4\",\r\n        \"site_admin\": false,\r\n        \"repos_url\": \"https://api.github.com/users/ignatandrei/repos\",\r\n        \"gists_url\": \"https://api.github.com/users/ignatandrei/gists{/gist_id}\",\r\n        \"url\": \"https://api.github.com/users/ignatandrei\",\r\n        \"login\": \"ignatandrei\",\r\n        \"type\": \"User\",\r\n        \"id\": 153982\r\n      },\r\n      \"ref\": \"master\",\r\n      \"sha\": \"77cfc4e9a268522feefe4cf1728352a3fe35c7e3\",\r\n      \"label\": \"ignatandrei:master\",\r\n      \"repo\": {\r\n        \"events_url\": \"https://api.github.com/repos/ignatandrei/generateApp/events\",\r\n        \"html_url\": \"https://github.com/ignatandrei/generateApp\",\r\n        \"node_id\": \"MDEwOlJlcG9zaXRvcnkyODQxNTIwNjY=\",\r\n        \"comments_url\": \"https://api.github.com/repos/ignatandrei/generateApp/comments{/number}\",\r\n        \"description\": null,\r\n        \"statuses_url\": \"https://api.github.com/repos/ignatandrei/generateApp/statuses/{sha}\",\r\n        \"url\": \"https://api.github.com/repos/ignatandrei/generateApp\",\r\n        \"open_issues_count\": 2,\r\n        \"collaborators_url\": \"https://api.github.com/repos/ignatandrei/generateApp/collaborators{/collaborator}\",\r\n        \"notifications_url\": \"https://api.github.com/repos/ignatandrei/generateApp/notifications{?since,all,participating}\",\r\n        \"issue_comment_url\": \"https://api.github.com/repos/ignatandrei/generateApp/issues/comments{/number}\",\r\n        \"created_at\": \"2020-07-31T23:59:49.0000000Z\",\r\n        \"updated_at\": \"2020-07-31T23:59:55.0000000Z\",\r\n        \"commits_url\": \"https://api.github.com/repos/ignatandrei/generateApp/commits{/sha}\",\r\n        \"contributors_url\": \"https://api.github.com/repos/ignatandrei/generateApp/contributors\",\r\n        \"issue_events_url\": \"https://api.github.com/repos/ignatandrei/generateApp/issues/events{/number}\",\r\n        \"stargazers_count\": 0,\r\n        \"subscription_url\": \"https://api.github.com/repos/ignatandrei/generateApp/subscription\",\r\n        \"git_commits_url\": \"https://api.github.com/repos/ignatandrei/generateApp/git/commits{/sha}\",\r\n        \"deployments_url\": \"https://api.github.com/repos/ignatandrei/generateApp/deployments\",\r\n        \"subscribers_url\": \"https://api.github.com/repos/ignatandrei/generateApp/subscribers\",\r\n        \"watchers_count\": 0,\r\n        \"milestones_url\": \"https://api.github.com/repos/ignatandrei/generateApp/milestones{/number}\",\r\n        \"stargazers_url\": \"https://api.github.com/repos/ignatandrei/generateApp/stargazers\",\r\n        \"default_branch\": \"master\",\r\n        \"downloads_url\": \"https://api.github.com/repos/ignatandrei/generateApp/downloads\",\r\n        \"assignees_url\": \"https://api.github.com/repos/ignatandrei/generateApp/assignees{/user}\",\r\n        \"languages_url\": \"https://api.github.com/repos/ignatandrei/generateApp/languages\",\r\n        \"has_downloads\": true,\r\n        \"branches_url\": \"https://api.github.com/repos/ignatandrei/generateApp/branches{/branch}\",\r\n        \"contents_url\": \"https://api.github.com/repos/ignatandrei/generateApp/contents/{+path}\",\r\n        \"releases_url\": \"https://api.github.com/repos/ignatandrei/generateApp/releases{/id}\",\r\n        \"has_projects\": true,\r\n        \"git_refs_url\": \"https://api.github.com/repos/ignatandrei/generateApp/git/refs{/sha}\",\r\n        \"git_tags_url\": \"https://api.github.com/repos/ignatandrei/generateApp/git/tags{/sha}\",\r\n        \"open_issues\": 2,\r\n        \"labels_url\": \"https://api.github.com/repos/ignatandrei/generateApp/labels{/name}\",\r\n        \"archive_url\": \"https://api.github.com/repos/ignatandrei/generateApp/{archive_format}{/ref}\",\r\n        \"forks_count\": 0,\r\n        \"compare_url\": \"https://api.github.com/repos/ignatandrei/generateApp/compare/{base}...{head}\",\r\n        \"merges_url\": \"https://api.github.com/repos/ignatandrei/generateApp/merges\",\r\n        \"issues_url\": \"https://api.github.com/repos/ignatandrei/generateApp/issues{/number}\",\r\n        \"mirror_url\": null,\r\n        \"has_issues\": true,\r\n        \"id\": 284152066,\r\n        \"pushed_at\": \"2020-07-31T23:59:59.0000000Z\",\r\n        \"trees_url\": \"https://api.github.com/repos/ignatandrei/generateApp/git/trees{/sha}\",\r\n        \"has_pages\": false,\r\n        \"full_name\": \"ignatandrei/generateApp\",\r\n        \"pulls_url\": \"https://api.github.com/repos/ignatandrei/generateApp/pulls{/number}\",\r\n        \"hooks_url\": \"https://api.github.com/repos/ignatandrei/generateApp/hooks\",\r\n        \"teams_url\": \"https://api.github.com/repos/ignatandrei/generateApp/teams\",\r\n        \"blobs_url\": \"https://api.github.com/repos/ignatandrei/generateApp/git/blobs{/sha}\",\r\n        \"forks_url\": \"https://api.github.com/repos/ignatandrei/generateApp/forks\",\r\n        \"clone_url\": \"https://github.com/ignatandrei/generateApp.git\",\r\n        \"name\": \"generateApp\",\r\n        \"disabled\": false,\r\n        \"language\": null,\r\n        \"keys_url\": \"https://api.github.com/repos/ignatandrei/generateApp/keys{/key_id}\",\r\n        \"tags_url\": \"https://api.github.com/repos/ignatandrei/generateApp/tags\",\r\n        \"watchers\": 0,\r\n        \"archived\": false,\r\n        \"homepage\": null,\r\n        \"has_wiki\": true,\r\n        \"license\": {\r\n          \"node_id\": \"MDc6TGljZW5zZTEz\",\r\n          \"url\": \"https://api.github.com/licenses/mit\",\r\n          \"name\": \"MIT License\",\r\n          \"spdx_id\": \"MIT\",\r\n          \"key\": \"mit\"\r\n        },\r\n        \"private\": false,\r\n        \"svn_url\": \"https://github.com/ignatandrei/generateApp\",\r\n        \"ssh_url\": \"git@github.com:ignatandrei/generateApp.git\",\r\n        \"git_url\": \"git://github.com/ignatandrei/generateApp.git\",\r\n        \"size\": 0,\r\n        \"owner\": {\r\n          \"received_events_url\": \"https://api.github.com/users/ignatandrei/received_events\",\r\n          \"organizations_url\": \"https://api.github.com/users/ignatandrei/orgs\",\r\n          \"subscriptions_url\": \"https://api.github.com/users/ignatandrei/subscriptions\",\r\n          \"events_url\": \"https://api.github.com/users/ignatandrei/events{/privacy}\",\r\n          \"html_url\": \"https://github.com/ignatandrei\",\r\n          \"followers_url\": \"https://api.github.com/users/ignatandrei/followers\",\r\n          \"following_url\": \"https://api.github.com/users/ignatandrei/following{/other_user}\",\r\n          \"node_id\": \"MDQ6VXNlcjE1Mzk4Mg==\",\r\n          \"gravatar_id\": \"\",\r\n          \"starred_url\": \"https://api.github.com/users/ignatandrei/starred{/owner}{/repo}\",\r\n          \"avatar_url\": \"https://avatars3.githubusercontent.com/u/153982?v=4\",\r\n          \"site_admin\": false,\r\n          \"repos_url\": \"https://api.github.com/users/ignatandrei/repos\",\r\n          \"gists_url\": \"https://api.github.com/users/ignatandrei/gists{/gist_id}\",\r\n          \"url\": \"https://api.github.com/users/ignatandrei\",\r\n          \"login\": \"ignatandrei\",\r\n          \"type\": \"User\",\r\n          \"id\": 153982\r\n        },\r\n        \"forks\": 0,\r\n        \"fork\": false\r\n      }\r\n    }\r\n  },\r\n  \"number\": 2,\r\n  \"action\": \"opened\"\r\n}",
                                    "5": "1",
                                    "6": "2020-08-01 00:00:00",
                                    "7": "https://adxdemo.blob.core.windows.net/adx-demo/github-events/Github-2020-08-01-0.json.gz"
                                },
                                {
                                    "0": "13078576147",
                                    "1": "PushEvent",
                                    "2": "lyh01",
                                    "3": "{\r\n  \"name\": \"lyh01/word_pronunciation\",\r\n  \"url\": \"https://api.github.com/repos/lyh01/word_pronunciation\",\r\n  \"id\": 284137003\r\n}",
                                    "4": "{\r\n  \"commits\": [\r\n    {\r\n      \"url\": \"https://api.github.com/repos/lyh01/word_pronunciation/commits/4d7ae8a725aad971fc2dd52a6c10907f44ee0d5c\",\r\n      \"distinct\": true,\r\n      \"message\": \"Update README.md\",\r\n      \"sha\": \"4d7ae8a725aad971fc2dd52a6c10907f44ee0d5c\",\r\n      \"author\": {\r\n        \"name\": \"lyh01\",\r\n        \"email\": \"8ea06e9569776dd5312d9fd1c1c1f28dac32dc51@hotmail.com\"\r\n      }\r\n    }\r\n  ],\r\n  \"distinct_size\": 1,\r\n  \"ref\": \"refs/heads/master\",\r\n  \"size\": 1,\r\n  \"head\": \"4d7ae8a725aad971fc2dd52a6c10907f44ee0d5c\",\r\n  \"push_id\": 5464383183,\r\n  \"before\": \"70cc1d65af3039df1c7f78a50d974d5391addfed\"\r\n}",
                                    "5": "1",
                                    "6": "2020-08-01 00:00:00",
                                    "7": "https://adxdemo.blob.core.windows.net/adx-demo/github-events/Github-2020-08-01-0.json.gz"
                                }
                            ]
                        },
                        "text/html": [
                            "<table>",
                            "<tr><th>EventId</th><th>Type</th><th>Actor</th><th>Repository</th><th>Payload</th><th>Public</th><th>CreatedAt</th><th>SourceFile</th></tr>",
                            "<tr><td>13078576066</td><td>CreateEvent</td><td>dependabot[bot]</td><td>{\r\n  &quot;name&quot;: &quot;pras75299/React-demo&quot;,\r\n  &quot;url&quot;: &quot;https://api.github.com/repos/pras75299/React-demo&quot;,\r\n  &quot;id&quot;: 215850131\r\n}</td><td>{\r\n  &quot;description&quot;: &quot;React project for learning&quot;,\r\n  &quot;master_branch&quot;: &quot;master&quot;,\r\n  &quot;pusher_type&quot;: &quot;user&quot;,\r\n  &quot;ref&quot;: &quot;dependabot/npm_and_yarn/elliptic-6.5.3&quot;,\r\n  &quot;ref_type&quot;: &quot;branch&quot;\r\n}</td><td>1</td><td>2020-08-01 00:00:00</td><td>https://adxdemo.blob.core.windows.net/adx-demo/github-events/Github-2020-08-01-0.json.gz</td></tr>",
                            "<tr><td>13078576067</td><td>PullRequestEvent</td><td>dependabot[bot]</td><td>{\r\n  &quot;name&quot;: &quot;phfilly/graphql-search&quot;,\r\n  &quot;url&quot;: &quot;https://api.github.com/repos/phfilly/graphql-search&quot;,\r\n  &quot;id&quot;: 215121947\r\n}</td><td>{\r\n  &quot;pull_request&quot;: {\r\n    &quot;html_url&quot;: &quot;https://github.com/phfilly/graphql-search/pull/7&quot;,\r\n    &quot;node_id&quot;: &quot;MDExOlB1bGxSZXF1ZXN0NDYwNjI4NTU5&quot;,\r\n    &quot;comments_url&quot;: &quot;https://api.github.com/repos/phfilly/graphql-search/issues/7/comments&quot;,\r\n    &quot;statuses_url&quot;: &quot;https://api.github.com/repos/phfilly/graphql-search/statuses/3c0af4d4b5c8f4a947db2ca48f413db67b2294d9&quot;,\r\n    &quot;url&quot;: &quot;https://api.github.com/repos/phfilly/graphql-search/pulls/7&quot;,\r\n    &quot;created_at&quot;: &quot;2020-07-31T23:59:59.0000000Z&quot;,\r\n    &quot;updated_at&quot;: &quot;2020-07-31T23:59:59.0000000Z&quot;,\r\n    &quot;commits_url&quot;: &quot;https://api.github.com/repos/phfilly/graphql-search/pulls/7/commits&quot;,\r\n    &quot;review_comments&quot;: 0,\r\n    &quot;author_association&quot;: &quot;NONE&quot;,\r\n    &quot;commits&quot;: 1,\r\n    &quot;active_lock_reason&quot;: null,\r\n    &quot;maintainer_can_modify&quot;: false,\r\n    &quot;review_comments_url&quot;: &quot;https://api.github.com/repos/phfilly/graphql-search/pulls/7/comments&quot;,\r\n    &quot;requested_reviewers&quot;: [],\r\n    &quot;id&quot;: 460628559,\r\n    &quot;review_comment_url&quot;: &quot;https://api.github.com/repos/phfilly/graphql-search/pulls/comments{/number}&quot;,\r\n    &quot;comments&quot;: 0,\r\n    &quot;merge_commit_sha&quot;: null,\r\n    &quot;requested_teams&quot;: [],\r\n    &quot;mergeable_state&quot;: &quot;unknown&quot;,\r\n    &quot;user&quot;: {\r\n      &quot;received_events_url&quot;: &quot;https://api.github.com/users/dependabot%5Bbot%5D/received_events&quot;,\r\n      &quot;organizations_url&quot;: &quot;https://api.github.com/users/dependabot%5Bbot%5D/orgs&quot;,\r\n      &quot;subscriptions_url&quot;: &quot;https://api.github.com/users/dependabot%5Bbot%5D/subscriptions&quot;,\r\n      &quot;events_url&quot;: &quot;https://api.github.com/users/dependabot%5Bbot%5D/events{/privacy}&quot;,\r\n      &quot;html_url&quot;: &quot;https://github.com/apps/dependabot&quot;,\r\n      &quot;followers_url&quot;: &quot;https://api.github.com/users/dependabot%5Bbot%5D/followers&quot;,\r\n      &quot;following_url&quot;: &quot;https://api.github.com/users/dependabot%5Bbot%5D/following{/other_user}&quot;,\r\n      &quot;node_id&quot;: &quot;MDM6Qm90NDk2OTkzMzM=&quot;,\r\n      &quot;gravatar_id&quot;: &quot;&quot;,\r\n      &quot;starred_url&quot;: &quot;https://api.github.com/users/dependabot%5Bbot%5D/starred{/owner}{/repo}&quot;,\r\n      &quot;avatar_url&quot;: &quot;https://avatars0.githubusercontent.com/in/29110?v=4&quot;,\r\n      &quot;site_admin&quot;: false,\r\n      &quot;repos_url&quot;: &quot;https://api.github.com/users/dependabot%5Bbot%5D/repos&quot;,\r\n      &quot;gists_url&quot;: &quot;https://api.github.com/users/dependabot%5Bbot%5D/gists{/gist_id}&quot;,\r\n      &quot;url&quot;: &quot;https://api.github.com/users/dependabot%5Bbot%5D&quot;,\r\n      &quot;login&quot;: &quot;dependabot[bot]&quot;,\r\n      &quot;type&quot;: &quot;Bot&quot;,\r\n      &quot;id&quot;: 49699333\r\n    },\r\n    &quot;number&quot;: 7,\r\n    &quot;changed_files&quot;: 2,\r\n    &quot;closed_at&quot;: null,\r\n    &quot;milestone&quot;: null,\r\n    &quot;assignees&quot;: [],\r\n    &quot;issue_url&quot;: &quot;https://api.github.com/repos/phfilly/graphql-search/issues/7&quot;,\r\n    &quot;patch_url&quot;: &quot;https://github.com/phfilly/graphql-search/pull/7.patch&quot;,\r\n    &quot;rebaseable&quot;: null,\r\n    &quot;assignee&quot;: null,\r\n    &quot;merged_at&quot;: null,\r\n    &quot;deletions&quot;: 13,\r\n    &quot;additions&quot;: 46,\r\n    &quot;mergeable&quot;: null,\r\n    &quot;merged_by&quot;: null,\r\n    &quot;head&quot;: {\r\n      &quot;user&quot;: {\r\n        &quot;received_events_url&quot;: &quot;https://api.github.com/users/phfilly/received_events&quot;,\r\n        &quot;organizations_url&quot;: &quot;https://api.github.com/users/phfilly/orgs&quot;,\r\n        &quot;subscriptions_url&quot;: &quot;https://api.github.com/users/phfilly/subscriptions&quot;,\r\n        &quot;events_url&quot;: &quot;https://api.github.com/users/phfilly/events{/privacy}&quot;,\r\n        &quot;html_url&quot;: &quot;https://github.com/phfilly&quot;,\r\n        &quot;followers_url&quot;: &quot;https://api.github.com/users/phfilly/followers&quot;,\r\n        &quot;following_url&quot;: &quot;https://api.github.com/users/phfilly/following{/other_user}&quot;,\r\n        &quot;node_id&quot;: &quot;MDQ6VXNlcjQ2Mjc5NTM=&quot;,\r\n        &quot;gravatar_id&quot;: &quot;&quot;,\r\n        &quot;starred_url&quot;: &quot;https://api.github.com/users/phfilly/starred{/owner}{/repo}&quot;,\r\n        &quot;avatar_url&quot;: &quot;https://avatars1.githubusercontent.com/u/4627953?v=4&quot;,\r\n        &quot;site_admin&quot;: false,\r\n        &quot;repos_url&quot;: &quot;https://api.github.com/users/phfilly/repos&quot;,\r\n        &quot;gists_url&quot;: &quot;https://api.github.com/users/phfilly/gists{/gist_id}&quot;,\r\n        &quot;url&quot;: &quot;https://api.github.com/users/phfilly&quot;,\r\n        &quot;login&quot;: &quot;phfilly&quot;,\r\n        &quot;type&quot;: &quot;User&quot;,\r\n        &quot;id&quot;: 4627953\r\n      },\r\n      &quot;ref&quot;: &quot;dependabot/npm_and_yarn/elliptic-6.5.3&quot;,\r\n      &quot;sha&quot;: &quot;3c0af4d4b5c8f4a947db2ca48f413db67b2294d9&quot;,\r\n      &quot;label&quot;: &quot;phfilly:dependabot/npm_and_yarn/elliptic-6.5.3&quot;,\r\n      &quot;repo&quot;: {\r\n        &quot;events_url&quot;: &quot;https://api.github.com/repos/phfilly/graphql-search/events&quot;,\r\n        &quot;html_url&quot;: &quot;https://github.com/phfilly/graphql-search&quot;,\r\n        &quot;node_id&quot;: &quot;MDEwOlJlcG9zaXRvcnkyMTUxMjE5NDc=&quot;,\r\n        &quot;comments_url&quot;: &quot;https://api.github.com/repos/phfilly/graphql-search/comments{/number}&quot;,\r\n        &quot;description&quot;: &quot;Portfolio piece&quot;,\r\n        &quot;statuses_url&quot;: &quot;https://api.github.com/repos/phfilly/graphql-search/statuses/{sha}&quot;,\r\n        &quot;url&quot;: &quot;https://api.github.com/repos/phfilly/graphql-search&quot;,\r\n        &quot;open_issues_count&quot;: 7,\r\n        &quot;collaborators_url&quot;: &quot;https://api.github.com/repos/phfilly/graphql-search/collaborators{/collaborator}&quot;,\r\n        &quot;notifications_url&quot;: &quot;https://api.github.com/repos/phfilly/graphql-search/notifications{?since,all,participating}&quot;,\r\n        &quot;issue_comment_url&quot;: &quot;https://api.github.com/repos/phfilly/graphql-search/issues/comments{/number}&quot;,\r\n        &quot;created_at&quot;: &quot;2019-10-14T18:53:01.0000000Z&quot;,\r\n        &quot;updated_at&quot;: &quot;2020-02-26T17:12:10.0000000Z&quot;,\r\n        &quot;commits_url&quot;: &quot;https://api.github.com/repos/phfilly/graphql-search/commits{/sha}&quot;,\r\n        &quot;contributors_url&quot;: &quot;https://api.github.com/repos/phfilly/graphql-search/contributors&quot;,\r\n        &quot;issue_events_url&quot;: &quot;https://api.github.com/repos/phfilly/graphql-search/issues/events{/number}&quot;,\r\n        &quot;stargazers_count&quot;: 0,\r\n        &quot;subscription_url&quot;: &quot;https://api.github.com/repos/phfilly/graphql-search/subscription&quot;,\r\n        &quot;git_commits_url&quot;: &quot;https://api.github.com/repos/phfilly/graphql-search/git/commits{/sha}&quot;,\r\n        &quot;deployments_url&quot;: &quot;https://api.github.com/repos/phfilly/graphql-search/deployments&quot;,\r\n        &quot;subscribers_url&quot;: &quot;https://api.github.com/repos/phfilly/graphql-search/subscribers&quot;,\r\n        &quot;watchers_count&quot;: 0,\r\n        &quot;milestones_url&quot;: &quot;https://api.github.com/repos/phfilly/graphql-search/milestones{/number}&quot;,\r\n        &quot;stargazers_url&quot;: &quot;https://api.github.com/repos/phfilly/graphql-search/stargazers&quot;,\r\n        &quot;default_branch&quot;: &quot;master&quot;,\r\n        &quot;downloads_url&quot;: &quot;https://api.github.com/repos/phfilly/graphql-search/downloads&quot;,\r\n        &quot;assignees_url&quot;: &quot;https://api.github.com/repos/phfilly/graphql-search/assignees{/user}&quot;,\r\n        &quot;languages_url&quot;: &quot;https://api.github.com/repos/phfilly/graphql-search/languages&quot;,\r\n        &quot;has_downloads&quot;: true,\r\n        &quot;branches_url&quot;: &quot;https://api.github.com/repos/phfilly/graphql-search/branches{/branch}&quot;,\r\n        &quot;contents_url&quot;: &quot;https://api.github.com/repos/phfilly/graphql-search/contents/{+path}&quot;,\r\n        &quot;releases_url&quot;: &quot;https://api.github.com/repos/phfilly/graphql-search/releases{/id}&quot;,\r\n        &quot;has_projects&quot;: true,\r\n        &quot;git_refs_url&quot;: &quot;https://api.github.com/repos/phfilly/graphql-search/git/refs{/sha}&quot;,\r\n        &quot;git_tags_url&quot;: &quot;https://api.github.com/repos/phfilly/graphql-search/git/tags{/sha}&quot;,\r\n        &quot;open_issues&quot;: 7,\r\n        &quot;labels_url&quot;: &quot;https://api.github.com/repos/phfilly/graphql-search/labels{/name}&quot;,\r\n        &quot;archive_url&quot;: &quot;https://api.github.com/repos/phfilly/graphql-search/{archive_format}{/ref}&quot;,\r\n        &quot;forks_count&quot;: 0,\r\n        &quot;compare_url&quot;: &quot;https://api.github.com/repos/phfilly/graphql-search/compare/{base}...{head}&quot;,\r\n        &quot;merges_url&quot;: &quot;https://api.github.com/repos/phfilly/graphql-search/merges&quot;,\r\n        &quot;issues_url&quot;: &quot;https://api.github.com/repos/phfilly/graphql-search/issues{/number}&quot;,\r\n        &quot;mirror_url&quot;: null,\r\n        &quot;has_issues&quot;: true,\r\n        &quot;id&quot;: 215121947,\r\n        &quot;pushed_at&quot;: &quot;2020-07-31T23:59:58.0000000Z&quot;,\r\n        &quot;trees_url&quot;: &quot;https://api.github.com/repos/phfilly/graphql-search/git/trees{/sha}&quot;,\r\n        &quot;has_pages&quot;: false,\r\n        &quot;full_name&quot;: &quot;phfilly/graphql-search&quot;,\r\n        &quot;pulls_url&quot;: &quot;https://api.github.com/repos/phfilly/graphql-search/pulls{/number}&quot;,\r\n        &quot;hooks_url&quot;: &quot;https://api.github.com/repos/phfilly/graphql-search/hooks&quot;,\r\n        &quot;teams_url&quot;: &quot;https://api.github.com/repos/phfilly/graphql-search/teams&quot;,\r\n        &quot;blobs_url&quot;: &quot;https://api.github.com/repos/phfilly/graphql-search/git/blobs{/sha}&quot;,\r\n        &quot;forks_url&quot;: &quot;https://api.github.com/repos/phfilly/graphql-search/forks&quot;,\r\n        &quot;clone_url&quot;: &quot;https://github.com/phfilly/graphql-search.git&quot;,\r\n        &quot;name&quot;: &quot;graphql-search&quot;,\r\n        &quot;disabled&quot;: false,\r\n        &quot;language&quot;: &quot;JavaScript&quot;,\r\n        &quot;keys_url&quot;: &quot;https://api.github.com/repos/phfilly/graphql-search/keys{/key_id}&quot;,\r\n        &quot;tags_url&quot;: &quot;https://api.github.com/repos/phfilly/graphql-search/tags&quot;,\r\n        &quot;watchers&quot;: 0,\r\n        &quot;archived&quot;: false,\r\n        &quot;homepage&quot;: &quot;&quot;,\r\n        &quot;has_wiki&quot;: true,\r\n        &quot;license&quot;: null,\r\n        &quot;private&quot;: false,\r\n        &quot;svn_url&quot;: &quot;https://github.com/phfilly/graphql-search&quot;,\r\n        &quot;ssh_url&quot;: &quot;git@github.com:phfilly/graphql-search.git&quot;,\r\n        &quot;git_url&quot;: &quot;git://github.com/phfilly/graphql-search.git&quot;,\r\n        &quot;size&quot;: 9014,\r\n        &quot;owner&quot;: {\r\n          &quot;received_events_url&quot;: &quot;https://api.github.com/users/phfilly/received_events&quot;,\r\n          &quot;organizations_url&quot;: &quot;https://api.github.com/users/phfilly/orgs&quot;,\r\n          &quot;subscriptions_url&quot;: &quot;https://api.github.com/users/phfilly/subscriptions&quot;,\r\n          &quot;events_url&quot;: &quot;https://api.github.com/users/phfilly/events{/privacy}&quot;,\r\n          &quot;html_url&quot;: &quot;https://github.com/phfilly&quot;,\r\n          &quot;followers_url&quot;: &quot;https://api.github.com/users/phfilly/followers&quot;,\r\n          &quot;following_url&quot;: &quot;https://api.github.com/users/phfilly/following{/other_user}&quot;,\r\n          &quot;node_id&quot;: &quot;MDQ6VXNlcjQ2Mjc5NTM=&quot;,\r\n          &quot;gravatar_id&quot;: &quot;&quot;,\r\n          &quot;starred_url&quot;: &quot;https://api.github.com/users/phfilly/starred{/owner}{/repo}&quot;,\r\n          &quot;avatar_url&quot;: &quot;https://avatars1.githubusercontent.com/u/4627953?v=4&quot;,\r\n          &quot;site_admin&quot;: false,\r\n          &quot;repos_url&quot;: &quot;https://api.github.com/users/phfilly/repos&quot;,\r\n          &quot;gists_url&quot;: &quot;https://api.github.com/users/phfilly/gists{/gist_id}&quot;,\r\n          &quot;url&quot;: &quot;https://api.github.com/users/phfilly&quot;,\r\n          &quot;login&quot;: &quot;phfilly&quot;,\r\n          &quot;type&quot;: &quot;User&quot;,\r\n          &quot;id&quot;: 4627953\r\n        },\r\n        &quot;forks&quot;: 0,\r\n        &quot;fork&quot;: false\r\n      }\r\n    },\r\n    &quot;diff_url&quot;: &quot;https://github.com/phfilly/graphql-search/pull/7.diff&quot;,\r\n    &quot;labels&quot;: [],\r\n    &quot;locked&quot;: false,\r\n    &quot;_links&quot;: {\r\n      &quot;review_comments&quot;: {\r\n        &quot;href&quot;: &quot;https://api.github.com/repos/phfilly/graphql-search/pulls/7/comments&quot;\r\n      },\r\n      &quot;commits&quot;: {\r\n        &quot;href&quot;: &quot;https://api.github.com/repos/phfilly/graphql-search/pulls/7/commits&quot;\r\n      },\r\n      &quot;comments&quot;: {\r\n        &quot;href&quot;: &quot;https://api.github.com/repos/phfilly/graphql-search/issues/7/comments&quot;\r\n      },\r\n      &quot;review_comment&quot;: {\r\n        &quot;href&quot;: &quot;https://api.github.com/repos/phfilly/graphql-search/pulls/comments{/number}&quot;\r\n      },\r\n      &quot;statuses&quot;: {\r\n        &quot;href&quot;: &quot;https://api.github.com/repos/phfilly/graphql-search/statuses/3c0af4d4b5c8f4a947db2ca48f413db67b2294d9&quot;\r\n      },\r\n      &quot;issue&quot;: {\r\n        &quot;href&quot;: &quot;https://api.github.com/repos/phfilly/graphql-search/issues/7&quot;\r\n      },\r\n      &quot;html&quot;: {\r\n        &quot;href&quot;: &quot;https://github.com/phfilly/graphql-search/pull/7&quot;\r\n      },\r\n      &quot;self&quot;: {\r\n        &quot;href&quot;: &quot;https://api.github.com/repos/phfilly/graphql-search/pulls/7&quot;\r\n      }\r\n    },\r\n    &quot;title&quot;: &quot;Bump elliptic from 6.4.1 to 6.5.3&quot;,\r\n    &quot;state&quot;: &quot;open&quot;,\r\n    &quot;merged&quot;: false,\r\n    &quot;body&quot;: &quot;Bumps [elliptic](https://github.com/indutny/elliptic) from 6.4.1 to 6.5.3.\\n&lt;details&gt;\\n&lt;summary&gt;Commits&lt;/summary&gt;\\n&lt;ul&gt;\\n&lt;li&gt;&lt;a href=\\&quot;https://github.com/indutny/elliptic/commit/8647803dc3d90506aa03021737f7b061ba959ae1\\&quot;&gt;&lt;code&gt;8647803&lt;/code&gt;&lt;/a&gt; 6.5.3&lt;/li&gt;\\n&lt;li&gt;&lt;a href=\\&quot;https://github.com/indutny/elliptic/commit/856fe4d99fe7b6200556e6400b3bf585b1721bec\\&quot;&gt;&lt;code&gt;856fe4d&lt;/code&gt;&lt;/a&gt; signature: prevent malleability and overflows&lt;/li&gt;\\n&lt;li&gt;&lt;a href=\\&quot;https://github.com/indutny/elliptic/commit/60489415e545efdfd3010ae74b9726facbf08ca8\\&quot;&gt;&lt;code&gt;6048941&lt;/code&gt;&lt;/a&gt; 6.5.2&lt;/li&gt;\\n&lt;li&gt;&lt;a href=\\&quot;https://github.com/indutny/elliptic/commit/9984964457c9f8a63b91b01ea103260417eca237\\&quot;&gt;&lt;code&gt;9984964&lt;/code&gt;&lt;/a&gt; package: bump dependencies&lt;/li&gt;\\n&lt;li&gt;&lt;a href=\\&quot;https://github.com/indutny/elliptic/commit/ec735edde187a43693197f6fa3667ceade751a3a\\&quot;&gt;&lt;code&gt;ec735ed&lt;/code&gt;&lt;/a&gt; utils: leak less information in &lt;code&gt;getNAF()&lt;/code&gt;&lt;/li&gt;\\n&lt;li&gt;&lt;a href=\\&quot;https://github.com/indutny/elliptic/commit/71e4e8e2f5b8f0bdbfbe106c72cc9fbc746d3d60\\&quot;&gt;&lt;code&gt;71e4e8e&lt;/code&gt;&lt;/a&gt; 6.5.1&lt;/li&gt;\\n&lt;li&gt;&lt;a href=\\&quot;https://github.com/indutny/elliptic/commit/7ec66ffa255079260126d87b1762a59ea10de5ea\\&quot;&gt;&lt;code&gt;7ec66ff&lt;/code&gt;&lt;/a&gt; short: add infinity check before multiplying&lt;/li&gt;\\n&lt;li&gt;&lt;a href=\\&quot;https://github.com/indutny/elliptic/commit/ee7970b92f388e981d694be0436c4c8036b5d36c\\&quot;&gt;&lt;code&gt;ee7970b&lt;/code&gt;&lt;/a&gt; travis: really move on&lt;/li&gt;\\n&lt;li&gt;&lt;a href=\\&quot;https://github.com/indutny/elliptic/commit/637d0216b58de7edee4f3eb5641295ac323acadb\\&quot;&gt;&lt;code&gt;637d021&lt;/code&gt;&lt;/a&gt; travis: move on&lt;/li&gt;\\n&lt;li&gt;&lt;a href=\\&quot;https://github.com/indutny/elliptic/commit/5ed0babb6467cd8575a9218265473fda926d9d42\\&quot;&gt;&lt;code&gt;5ed0bab&lt;/code&gt;&lt;/a&gt; package: update deps&lt;/li&gt;\\n&lt;li&gt;Additional commits viewable in &lt;a href=\\&quot;https://github.com/indutny/elliptic/compare/v6.4.1...v6.5.3\\&quot;&gt;compare view&lt;/a&gt;&lt;/li&gt;\\n&lt;/ul&gt;\\n&lt;/details&gt;\\n&lt;br /&gt;\\n\\n\\n[![Dependabot compatibility score](https://dependabot-badges.githubapp.com/badges/compatibility_score?dependency-name=elliptic&amp;package-manager=npm_and_yarn&amp;previous-version=6.4.1&amp;new-version=6.5.3)](https://help.github.com/articles/configuring-automated-security-fixes)\\n\\nDependabot will resolve any conflicts with this PR as long as you don't alter it yourself. You can also trigger a rebase manually by commenting `@dependabot rebase`.\\n\\n[//]: # (dependabot-automerge-start)\\n[//]: # (dependabot-automerge-end)\\n\\n---\\n\\n&lt;details&gt;\\n&lt;summary&gt;Dependabot commands and options&lt;/summary&gt;\\n&lt;br /&gt;\\n\\nYou can trigger Dependabot actions by commenting on this PR:\\n- `@dependabot rebase` will rebase this PR\\n- `@dependabot recreate` will recreate this PR, overwriting any edits that have been made to it\\n- `@dependabot merge` will merge this PR after your CI passes on it\\n- `@dependabot squash and merge` will squash and merge this PR after your CI passes on it\\n- `@dependabot cancel merge` will cancel a previously requested merge and block automerging\\n- `@dependabot reopen` will reopen this PR if it is closed\\n- `@dependabot close` will close this PR and stop Dependabot recreating it. You can achieve the same result by closing it manually\\n- `@dependabot ignore this major version` will close this PR and stop Dependabot creating any more for this major version (unless you reopen the PR or upgrade to it yourself)\\n- `@dependabot ignore this minor version` will close this PR and stop Dependabot creating any more for this minor version (unless you reopen the PR or upgrade to it yourself)\\n- `@dependabot ignore this dependency` will close this PR and stop Dependabot creating any more for this dependency (unless you reopen the PR or upgrade to it yourself)\\n- `@dependabot use these labels` will set the current labels as the default for future PRs for this repo and language\\n- `@dependabot use these reviewers` will set the current reviewers as the default for future PRs for this repo and language\\n- `@dependabot use these assignees` will set the current assignees as the default for future PRs for this repo and language\\n- `@dependabot use this milestone` will set the current milestone as the default for future PRs for this repo and language\\n\\nYou can disable automated security fix PRs for this repo from the [Security Alerts page](https://github.com/phfilly/graphql-search/network/alerts).\\n\\n&lt;/details&gt;&quot;,\r\n    &quot;draft&quot;: false,\r\n    &quot;base&quot;: {\r\n      &quot;user&quot;: {\r\n        &quot;received_events_url&quot;: &quot;https://api.github.com/users/phfilly/received_events&quot;,\r\n        &quot;organizations_url&quot;: &quot;https://api.github.com/users/phfilly/orgs&quot;,\r\n        &quot;subscriptions_url&quot;: &quot;https://api.github.com/users/phfilly/subscriptions&quot;,\r\n        &quot;events_url&quot;: &quot;https://api.github.com/users/phfilly/events{/privacy}&quot;,\r\n        &quot;html_url&quot;: &quot;https://github.com/phfilly&quot;,\r\n        &quot;followers_url&quot;: &quot;https://api.github.com/users/phfilly/followers&quot;,\r\n        &quot;following_url&quot;: &quot;https://api.github.com/users/phfilly/following{/other_user}&quot;,\r\n        &quot;node_id&quot;: &quot;MDQ6VXNlcjQ2Mjc5NTM=&quot;,\r\n        &quot;gravatar_id&quot;: &quot;&quot;,\r\n        &quot;starred_url&quot;: &quot;https://api.github.com/users/phfilly/starred{/owner}{/repo}&quot;,\r\n        &quot;avatar_url&quot;: &quot;https://avatars1.githubusercontent.com/u/4627953?v=4&quot;,\r\n        &quot;site_admin&quot;: false,\r\n        &quot;repos_url&quot;: &quot;https://api.github.com/users/phfilly/repos&quot;,\r\n        &quot;gists_url&quot;: &quot;https://api.github.com/users/phfilly/gists{/gist_id}&quot;,\r\n        &quot;url&quot;: &quot;https://api.github.com/users/phfilly&quot;,\r\n        &quot;login&quot;: &quot;phfilly&quot;,\r\n        &quot;type&quot;: &quot;User&quot;,\r\n        &quot;id&quot;: 4627953\r\n      },\r\n      &quot;ref&quot;: &quot;master&quot;,\r\n      &quot;sha&quot;: &quot;4c4356cf6c57c2b6e4504b75bde2fdbde6224e33&quot;,\r\n      &quot;label&quot;: &quot;phfilly:master&quot;,\r\n      &quot;repo&quot;: {\r\n        &quot;events_url&quot;: &quot;https://api.github.com/repos/phfilly/graphql-search/events&quot;,\r\n        &quot;html_url&quot;: &quot;https://github.com/phfilly/graphql-search&quot;,\r\n        &quot;node_id&quot;: &quot;MDEwOlJlcG9zaXRvcnkyMTUxMjE5NDc=&quot;,\r\n        &quot;comments_url&quot;: &quot;https://api.github.com/repos/phfilly/graphql-search/comments{/number}&quot;,\r\n        &quot;description&quot;: &quot;Portfolio piece&quot;,\r\n        &quot;statuses_url&quot;: &quot;https://api.github.com/repos/phfilly/graphql-search/statuses/{sha}&quot;,\r\n        &quot;url&quot;: &quot;https://api.github.com/repos/phfilly/graphql-search&quot;,\r\n        &quot;open_issues_count&quot;: 7,\r\n        &quot;collaborators_url&quot;: &quot;https://api.github.com/repos/phfilly/graphql-search/collaborators{/collaborator}&quot;,\r\n        &quot;notifications_url&quot;: &quot;https://api.github.com/repos/phfilly/graphql-search/notifications{?since,all,participating}&quot;,\r\n        &quot;issue_comment_url&quot;: &quot;https://api.github.com/repos/phfilly/graphql-search/issues/comments{/number}&quot;,\r\n        &quot;created_at&quot;: &quot;2019-10-14T18:53:01.0000000Z&quot;,\r\n        &quot;updated_at&quot;: &quot;2020-02-26T17:12:10.0000000Z&quot;,\r\n        &quot;commits_url&quot;: &quot;https://api.github.com/repos/phfilly/graphql-search/commits{/sha}&quot;,\r\n        &quot;contributors_url&quot;: &quot;https://api.github.com/repos/phfilly/graphql-search/contributors&quot;,\r\n        &quot;issue_events_url&quot;: &quot;https://api.github.com/repos/phfilly/graphql-search/issues/events{/number}&quot;,\r\n        &quot;stargazers_count&quot;: 0,\r\n        &quot;subscription_url&quot;: &quot;https://api.github.com/repos/phfilly/graphql-search/subscription&quot;,\r\n        &quot;git_commits_url&quot;: &quot;https://api.github.com/repos/phfilly/graphql-search/git/commits{/sha}&quot;,\r\n        &quot;deployments_url&quot;: &quot;https://api.github.com/repos/phfilly/graphql-search/deployments&quot;,\r\n        &quot;subscribers_url&quot;: &quot;https://api.github.com/repos/phfilly/graphql-search/subscribers&quot;,\r\n        &quot;watchers_count&quot;: 0,\r\n        &quot;milestones_url&quot;: &quot;https://api.github.com/repos/phfilly/graphql-search/milestones{/number}&quot;,\r\n        &quot;stargazers_url&quot;: &quot;https://api.github.com/repos/phfilly/graphql-search/stargazers&quot;,\r\n        &quot;default_branch&quot;: &quot;master&quot;,\r\n        &quot;downloads_url&quot;: &quot;https://api.github.com/repos/phfilly/graphql-search/downloads&quot;,\r\n        &quot;assignees_url&quot;: &quot;https://api.github.com/repos/phfilly/graphql-search/assignees{/user}&quot;,\r\n        &quot;languages_url&quot;: &quot;https://api.github.com/repos/phfilly/graphql-search/languages&quot;,\r\n        &quot;has_downloads&quot;: true,\r\n        &quot;branches_url&quot;: &quot;https://api.github.com/repos/phfilly/graphql-search/branches{/branch}&quot;,\r\n        &quot;contents_url&quot;: &quot;https://api.github.com/repos/phfilly/graphql-search/contents/{+path}&quot;,\r\n        &quot;releases_url&quot;: &quot;https://api.github.com/repos/phfilly/graphql-search/releases{/id}&quot;,\r\n        &quot;has_projects&quot;: true,\r\n        &quot;git_refs_url&quot;: &quot;https://api.github.com/repos/phfilly/graphql-search/git/refs{/sha}&quot;,\r\n        &quot;git_tags_url&quot;: &quot;https://api.github.com/repos/phfilly/graphql-search/git/tags{/sha}&quot;,\r\n        &quot;open_issues&quot;: 7,\r\n        &quot;labels_url&quot;: &quot;https://api.github.com/repos/phfilly/graphql-search/labels{/name}&quot;,\r\n        &quot;archive_url&quot;: &quot;https://api.github.com/repos/phfilly/graphql-search/{archive_format}{/ref}&quot;,\r\n        &quot;forks_count&quot;: 0,\r\n        &quot;compare_url&quot;: &quot;https://api.github.com/repos/phfilly/graphql-search/compare/{base}...{head}&quot;,\r\n        &quot;merges_url&quot;: &quot;https://api.github.com/repos/phfilly/graphql-search/merges&quot;,\r\n        &quot;issues_url&quot;: &quot;https://api.github.com/repos/phfilly/graphql-search/issues{/number}&quot;,\r\n        &quot;mirror_url&quot;: null,\r\n        &quot;has_issues&quot;: true,\r\n        &quot;id&quot;: 215121947,\r\n        &quot;pushed_at&quot;: &quot;2020-07-31T23:59:58.0000000Z&quot;,\r\n        &quot;trees_url&quot;: &quot;https://api.github.com/repos/phfilly/graphql-search/git/trees{/sha}&quot;,\r\n        &quot;has_pages&quot;: false,\r\n        &quot;full_name&quot;: &quot;phfilly/graphql-search&quot;,\r\n        &quot;pulls_url&quot;: &quot;https://api.github.com/repos/phfilly/graphql-search/pulls{/number}&quot;,\r\n        &quot;hooks_url&quot;: &quot;https://api.github.com/repos/phfilly/graphql-search/hooks&quot;,\r\n        &quot;teams_url&quot;: &quot;https://api.github.com/repos/phfilly/graphql-search/teams&quot;,\r\n        &quot;blobs_url&quot;: &quot;https://api.github.com/repos/phfilly/graphql-search/git/blobs{/sha}&quot;,\r\n        &quot;forks_url&quot;: &quot;https://api.github.com/repos/phfilly/graphql-search/forks&quot;,\r\n        &quot;clone_url&quot;: &quot;https://github.com/phfilly/graphql-search.git&quot;,\r\n        &quot;name&quot;: &quot;graphql-search&quot;,\r\n        &quot;disabled&quot;: false,\r\n        &quot;language&quot;: &quot;JavaScript&quot;,\r\n        &quot;keys_url&quot;: &quot;https://api.github.com/repos/phfilly/graphql-search/keys{/key_id}&quot;,\r\n        &quot;tags_url&quot;: &quot;https://api.github.com/repos/phfilly/graphql-search/tags&quot;,\r\n        &quot;watchers&quot;: 0,\r\n        &quot;archived&quot;: false,\r\n        &quot;homepage&quot;: &quot;&quot;,\r\n        &quot;has_wiki&quot;: true,\r\n        &quot;license&quot;: null,\r\n        &quot;private&quot;: false,\r\n        &quot;svn_url&quot;: &quot;https://github.com/phfilly/graphql-search&quot;,\r\n        &quot;ssh_url&quot;: &quot;git@github.com:phfilly/graphql-search.git&quot;,\r\n        &quot;git_url&quot;: &quot;git://github.com/phfilly/graphql-search.git&quot;,\r\n        &quot;size&quot;: 9014,\r\n        &quot;owner&quot;: {\r\n          &quot;received_events_url&quot;: &quot;https://api.github.com/users/phfilly/received_events&quot;,\r\n          &quot;organizations_url&quot;: &quot;https://api.github.com/users/phfilly/orgs&quot;,\r\n          &quot;subscriptions_url&quot;: &quot;https://api.github.com/users/phfilly/subscriptions&quot;,\r\n          &quot;events_url&quot;: &quot;https://api.github.com/users/phfilly/events{/privacy}&quot;,\r\n          &quot;html_url&quot;: &quot;https://github.com/phfilly&quot;,\r\n          &quot;followers_url&quot;: &quot;https://api.github.com/users/phfilly/followers&quot;,\r\n          &quot;following_url&quot;: &quot;https://api.github.com/users/phfilly/following{/other_user}&quot;,\r\n          &quot;node_id&quot;: &quot;MDQ6VXNlcjQ2Mjc5NTM=&quot;,\r\n          &quot;gravatar_id&quot;: &quot;&quot;,\r\n          &quot;starred_url&quot;: &quot;https://api.github.com/users/phfilly/starred{/owner}{/repo}&quot;,\r\n          &quot;avatar_url&quot;: &quot;https://avatars1.githubusercontent.com/u/4627953?v=4&quot;,\r\n          &quot;site_admin&quot;: false,\r\n          &quot;repos_url&quot;: &quot;https://api.github.com/users/phfilly/repos&quot;,\r\n          &quot;gists_url&quot;: &quot;https://api.github.com/users/phfilly/gists{/gist_id}&quot;,\r\n          &quot;url&quot;: &quot;https://api.github.com/users/phfilly&quot;,\r\n          &quot;login&quot;: &quot;phfilly&quot;,\r\n          &quot;type&quot;: &quot;User&quot;,\r\n          &quot;id&quot;: 4627953\r\n        },\r\n        &quot;forks&quot;: 0,\r\n        &quot;fork&quot;: false\r\n      }\r\n    }\r\n  },\r\n  &quot;number&quot;: 7,\r\n  &quot;action&quot;: &quot;opened&quot;\r\n}</td><td>1</td><td>2020-08-01 00:00:00</td><td>https://adxdemo.blob.core.windows.net/adx-demo/github-events/Github-2020-08-01-0.json.gz</td></tr>",
                            "<tr><td>13078576140</td><td>PushEvent</td><td>koki-noguchi</td><td>{\r\n  &quot;name&quot;: &quot;koki-noguchi/laravel-portfolio&quot;,\r\n  &quot;url&quot;: &quot;https://api.github.com/repos/koki-noguchi/laravel-portfolio&quot;,\r\n  &quot;id&quot;: 278555963\r\n}</td><td>{\r\n  &quot;commits&quot;: [\r\n    {\r\n      &quot;url&quot;: &quot;https://api.github.com/repos/koki-noguchi/laravel-portfolio/commits/c631f9a5736312f724149b034bc3b1564f812faa&quot;,\r\n      &quot;distinct&quot;: false,\r\n      &quot;message&quot;: &quot;[fix]募集編集ページをコ ンポーネントに分ける&quot;,\r\n      &quot;sha&quot;: &quot;c631f9a5736312f724149b034bc3b1564f812faa&quot;,\r\n      &quot;author&quot;: {\r\n        &quot;name&quot;: &quot;koki_noguchi&quot;,\r\n        &quot;email&quot;: &quot;3deabe229a6344be8a56548876acee888315fcec@gmail.com&quot;\r\n      }\r\n    },\r\n    {\r\n      &quot;url&quot;: &quot;https://api.github.com/repos/koki-noguchi/laravel-portfolio/commits/de6cd1b86b68b2d532ec1d6c6b7c03a76e4eba78&quot;,\r\n      &quot;distinct&quot;: true,\r\n      &quot;message&quot;: &quot;Merge pull request #73 from koki-noguchi/design_post_page\\n\\nメッセージ募集の編集ページをコ ンポーネントに分ける&quot;,\r\n      &quot;sha&quot;: &quot;de6cd1b86b68b2d532ec1d6c6b7c03a76e4eba78&quot;,\r\n      &quot;author&quot;: {\r\n        &quot;name&quot;: &quot;koki-noguchi&quot;,\r\n        &quot;email&quot;: &quot;e7220f0d43468ee4e189074d9e4990052258c514@users.noreply.github.com&quot;\r\n      }\r\n    }\r\n  ],\r\n  &quot;distinct_size&quot;: 1,\r\n  &quot;ref&quot;: &quot;refs/heads/master&quot;,\r\n  &quot;size&quot;: 2,\r\n  &quot;head&quot;: &quot;de6cd1b86b68b2d532ec1d6c6b7c03a76e4eba78&quot;,\r\n  &quot;push_id&quot;: 5464383179,\r\n  &quot;before&quot;: &quot;1d0f1948648a669c39bd84b01b3b42e92d08c49c&quot;\r\n}</td><td>1</td><td>2020-08-01 00:00:00</td><td>https://adxdemo.blob.core.windows.net/adx-demo/github-events/Github-2020-08-01-0.json.gz</td></tr>",
                            "<tr><td>13078576143</td><td>PullRequestEvent</td><td>whitesource-bolt-for-github[bot]</td><td>{\r\n  &quot;name&quot;: &quot;ignatandrei/generateApp&quot;,\r\n  &quot;url&quot;: &quot;https://api.github.com/repos/ignatandrei/generateApp&quot;,\r\n  &quot;id&quot;: 284152066\r\n}</td><td>{\r\n  &quot;pull_request&quot;: {\r\n    &quot;html_url&quot;: &quot;https://github.com/ignatandrei/generateApp/pull/2&quot;,\r\n    &quot;node_id&quot;: &quot;MDExOlB1bGxSZXF1ZXN0NDYwNjI4NTcw&quot;,\r\n    &quot;comments_url&quot;: &quot;https://api.github.com/repos/ignatandrei/generateApp/issues/2/comments&quot;,\r\n    &quot;statuses_url&quot;: &quot;https://api.github.com/repos/ignatandrei/generateApp/statuses/4a2e2720caaab63a850623258a1e555d7ae00271&quot;,\r\n    &quot;url&quot;: &quot;https://api.github.com/repos/ignatandrei/generateApp/pulls/2&quot;,\r\n    &quot;created_at&quot;: &quot;2020-08-01T00:00:00.0000000Z&quot;,\r\n    &quot;updated_at&quot;: &quot;2020-08-01T00:00:00.0000000Z&quot;,\r\n    &quot;commits_url&quot;: &quot;https://api.github.com/repos/ignatandrei/generateApp/pulls/2/commits&quot;,\r\n    &quot;review_comments&quot;: 0,\r\n    &quot;author_association&quot;: &quot;NONE&quot;,\r\n    &quot;commits&quot;: 1,\r\n    &quot;active_lock_reason&quot;: null,\r\n    &quot;maintainer_can_modify&quot;: false,\r\n    &quot;review_comments_url&quot;: &quot;https://api.github.com/repos/ignatandrei/generateApp/pulls/2/comments&quot;,\r\n    &quot;requested_reviewers&quot;: [],\r\n    &quot;id&quot;: 460628570,\r\n    &quot;review_comment_url&quot;: &quot;https://api.github.com/repos/ignatandrei/generateApp/pulls/comments{/number}&quot;,\r\n    &quot;comments&quot;: 0,\r\n    &quot;merge_commit_sha&quot;: null,\r\n    &quot;requested_teams&quot;: [],\r\n    &quot;mergeable_state&quot;: &quot;unknown&quot;,\r\n    &quot;user&quot;: {\r\n      &quot;received_events_url&quot;: &quot;https://api.github.com/users/whitesource-bolt-for-github%5Bbot%5D/received_events&quot;,\r\n      &quot;organizations_url&quot;: &quot;https://api.github.com/users/whitesource-bolt-for-github%5Bbot%5D/orgs&quot;,\r\n      &quot;subscriptions_url&quot;: &quot;https://api.github.com/users/whitesource-bolt-for-github%5Bbot%5D/subscriptions&quot;,\r\n      &quot;events_url&quot;: &quot;https://api.github.com/users/whitesource-bolt-for-github%5Bbot%5D/events{/privacy}&quot;,\r\n      &quot;html_url&quot;: &quot;https://github.com/apps/whitesource-bolt-for-github&quot;,\r\n      &quot;followers_url&quot;: &quot;https://api.github.com/users/whitesource-bolt-for-github%5Bbot%5D/followers&quot;,\r\n      &quot;following_url&quot;: &quot;https://api.github.com/users/whitesource-bolt-for-github%5Bbot%5D/following{/other_user}&quot;,\r\n      &quot;node_id&quot;: &quot;MDM6Qm90NDI4MTk2ODk=&quot;,\r\n      &quot;gravatar_id&quot;: &quot;&quot;,\r\n      &quot;starred_url&quot;: &quot;https://api.github.com/users/whitesource-bolt-for-github%5Bbot%5D/starred{/owner}{/repo}&quot;,\r\n      &quot;avatar_url&quot;: &quot;https://avatars2.githubusercontent.com/in/16809?v=4&quot;,\r\n      &quot;site_admin&quot;: false,\r\n      &quot;repos_url&quot;: &quot;https://api.github.com/users/whitesource-bolt-for-github%5Bbot%5D/repos&quot;,\r\n      &quot;gists_url&quot;: &quot;https://api.github.com/users/whitesource-bolt-for-github%5Bbot%5D/gists{/gist_id}&quot;,\r\n      &quot;url&quot;: &quot;https://api.github.com/users/whitesource-bolt-for-github%5Bbot%5D&quot;,\r\n      &quot;login&quot;: &quot;whitesource-bolt-for-github[bot]&quot;,\r\n      &quot;type&quot;: &quot;Bot&quot;,\r\n      &quot;id&quot;: 42819689\r\n    },\r\n    &quot;number&quot;: 2,\r\n    &quot;changed_files&quot;: 1,\r\n    &quot;closed_at&quot;: null,\r\n    &quot;milestone&quot;: null,\r\n    &quot;assignees&quot;: [],\r\n    &quot;issue_url&quot;: &quot;https://api.github.com/repos/ignatandrei/generateApp/issues/2&quot;,\r\n    &quot;patch_url&quot;: &quot;https://github.com/ignatandrei/generateApp/pull/2.patch&quot;,\r\n    &quot;rebaseable&quot;: null,\r\n    &quot;assignee&quot;: null,\r\n    &quot;merged_at&quot;: null,\r\n    &quot;deletions&quot;: 0,\r\n    &quot;additions&quot;: 11,\r\n    &quot;mergeable&quot;: null,\r\n    &quot;merged_by&quot;: null,\r\n    &quot;head&quot;: {\r\n      &quot;user&quot;: {\r\n        &quot;received_events_url&quot;: &quot;https://api.github.com/users/ignatandrei/received_events&quot;,\r\n        &quot;organizations_url&quot;: &quot;https://api.github.com/users/ignatandrei/orgs&quot;,\r\n        &quot;subscriptions_url&quot;: &quot;https://api.github.com/users/ignatandrei/subscriptions&quot;,\r\n        &quot;events_url&quot;: &quot;https://api.github.com/users/ignatandrei/events{/privacy}&quot;,\r\n        &quot;html_url&quot;: &quot;https://github.com/ignatandrei&quot;,\r\n        &quot;followers_url&quot;: &quot;https://api.github.com/users/ignatandrei/followers&quot;,\r\n        &quot;following_url&quot;: &quot;https://api.github.com/users/ignatandrei/following{/other_user}&quot;,\r\n        &quot;node_id&quot;: &quot;MDQ6VXNlcjE1Mzk4Mg==&quot;,\r\n        &quot;gravatar_id&quot;: &quot;&quot;,\r\n        &quot;starred_url&quot;: &quot;https://api.github.com/users/ignatandrei/starred{/owner}{/repo}&quot;,\r\n        &quot;avatar_url&quot;: &quot;https://avatars3.githubusercontent.com/u/153982?v=4&quot;,\r\n        &quot;site_admin&quot;: false,\r\n        &quot;repos_url&quot;: &quot;https://api.github.com/users/ignatandrei/repos&quot;,\r\n        &quot;gists_url&quot;: &quot;https://api.github.com/users/ignatandrei/gists{/gist_id}&quot;,\r\n        &quot;url&quot;: &quot;https://api.github.com/users/ignatandrei&quot;,\r\n        &quot;login&quot;: &quot;ignatandrei&quot;,\r\n        &quot;type&quot;: &quot;User&quot;,\r\n        &quot;id&quot;: 153982\r\n      },\r\n      &quot;ref&quot;: &quot;whitesource/configure&quot;,\r\n      &quot;sha&quot;: &quot;4a2e2720caaab63a850623258a1e555d7ae00271&quot;,\r\n      &quot;label&quot;: &quot;ignatandrei:whitesource/configure&quot;,\r\n      &quot;repo&quot;: {\r\n        &quot;events_url&quot;: &quot;https://api.github.com/repos/ignatandrei/generateApp/events&quot;,\r\n        &quot;html_url&quot;: &quot;https://github.com/ignatandrei/generateApp&quot;,\r\n        &quot;node_id&quot;: &quot;MDEwOlJlcG9zaXRvcnkyODQxNTIwNjY=&quot;,\r\n        &quot;comments_url&quot;: &quot;https://api.github.com/repos/ignatandrei/generateApp/comments{/number}&quot;,\r\n        &quot;description&quot;: null,\r\n        &quot;statuses_url&quot;: &quot;https://api.github.com/repos/ignatandrei/generateApp/statuses/{sha}&quot;,\r\n        &quot;url&quot;: &quot;https://api.github.com/repos/ignatandrei/generateApp&quot;,\r\n        &quot;open_issues_count&quot;: 2,\r\n        &quot;collaborators_url&quot;: &quot;https://api.github.com/repos/ignatandrei/generateApp/collaborators{/collaborator}&quot;,\r\n        &quot;notifications_url&quot;: &quot;https://api.github.com/repos/ignatandrei/generateApp/notifications{?since,all,participating}&quot;,\r\n        &quot;issue_comment_url&quot;: &quot;https://api.github.com/repos/ignatandrei/generateApp/issues/comments{/number}&quot;,\r\n        &quot;created_at&quot;: &quot;2020-07-31T23:59:49.0000000Z&quot;,\r\n        &quot;updated_at&quot;: &quot;2020-07-31T23:59:55.0000000Z&quot;,\r\n        &quot;commits_url&quot;: &quot;https://api.github.com/repos/ignatandrei/generateApp/commits{/sha}&quot;,\r\n        &quot;contributors_url&quot;: &quot;https://api.github.com/repos/ignatandrei/generateApp/contributors&quot;,\r\n        &quot;issue_events_url&quot;: &quot;https://api.github.com/repos/ignatandrei/generateApp/issues/events{/number}&quot;,\r\n        &quot;stargazers_count&quot;: 0,\r\n        &quot;subscription_url&quot;: &quot;https://api.github.com/repos/ignatandrei/generateApp/subscription&quot;,\r\n        &quot;git_commits_url&quot;: &quot;https://api.github.com/repos/ignatandrei/generateApp/git/commits{/sha}&quot;,\r\n        &quot;deployments_url&quot;: &quot;https://api.github.com/repos/ignatandrei/generateApp/deployments&quot;,\r\n        &quot;subscribers_url&quot;: &quot;https://api.github.com/repos/ignatandrei/generateApp/subscribers&quot;,\r\n        &quot;watchers_count&quot;: 0,\r\n        &quot;milestones_url&quot;: &quot;https://api.github.com/repos/ignatandrei/generateApp/milestones{/number}&quot;,\r\n        &quot;stargazers_url&quot;: &quot;https://api.github.com/repos/ignatandrei/generateApp/stargazers&quot;,\r\n        &quot;default_branch&quot;: &quot;master&quot;,\r\n        &quot;downloads_url&quot;: &quot;https://api.github.com/repos/ignatandrei/generateApp/downloads&quot;,\r\n        &quot;assignees_url&quot;: &quot;https://api.github.com/repos/ignatandrei/generateApp/assignees{/user}&quot;,\r\n        &quot;languages_url&quot;: &quot;https://api.github.com/repos/ignatandrei/generateApp/languages&quot;,\r\n        &quot;has_downloads&quot;: true,\r\n        &quot;branches_url&quot;: &quot;https://api.github.com/repos/ignatandrei/generateApp/branches{/branch}&quot;,\r\n        &quot;contents_url&quot;: &quot;https://api.github.com/repos/ignatandrei/generateApp/contents/{+path}&quot;,\r\n        &quot;releases_url&quot;: &quot;https://api.github.com/repos/ignatandrei/generateApp/releases{/id}&quot;,\r\n        &quot;has_projects&quot;: true,\r\n        &quot;git_refs_url&quot;: &quot;https://api.github.com/repos/ignatandrei/generateApp/git/refs{/sha}&quot;,\r\n        &quot;git_tags_url&quot;: &quot;https://api.github.com/repos/ignatandrei/generateApp/git/tags{/sha}&quot;,\r\n        &quot;open_issues&quot;: 2,\r\n        &quot;labels_url&quot;: &quot;https://api.github.com/repos/ignatandrei/generateApp/labels{/name}&quot;,\r\n        &quot;archive_url&quot;: &quot;https://api.github.com/repos/ignatandrei/generateApp/{archive_format}{/ref}&quot;,\r\n        &quot;forks_count&quot;: 0,\r\n        &quot;compare_url&quot;: &quot;https://api.github.com/repos/ignatandrei/generateApp/compare/{base}...{head}&quot;,\r\n        &quot;merges_url&quot;: &quot;https://api.github.com/repos/ignatandrei/generateApp/merges&quot;,\r\n        &quot;issues_url&quot;: &quot;https://api.github.com/repos/ignatandrei/generateApp/issues{/number}&quot;,\r\n        &quot;mirror_url&quot;: null,\r\n        &quot;has_issues&quot;: true,\r\n        &quot;id&quot;: 284152066,\r\n        &quot;pushed_at&quot;: &quot;2020-07-31T23:59:59.0000000Z&quot;,\r\n        &quot;trees_url&quot;: &quot;https://api.github.com/repos/ignatandrei/generateApp/git/trees{/sha}&quot;,\r\n        &quot;has_pages&quot;: false,\r\n        &quot;full_name&quot;: &quot;ignatandrei/generateApp&quot;,\r\n        &quot;pulls_url&quot;: &quot;https://api.github.com/repos/ignatandrei/generateApp/pulls{/number}&quot;,\r\n        &quot;hooks_url&quot;: &quot;https://api.github.com/repos/ignatandrei/generateApp/hooks&quot;,\r\n        &quot;teams_url&quot;: &quot;https://api.github.com/repos/ignatandrei/generateApp/teams&quot;,\r\n        &quot;blobs_url&quot;: &quot;https://api.github.com/repos/ignatandrei/generateApp/git/blobs{/sha}&quot;,\r\n        &quot;forks_url&quot;: &quot;https://api.github.com/repos/ignatandrei/generateApp/forks&quot;,\r\n        &quot;clone_url&quot;: &quot;https://github.com/ignatandrei/generateApp.git&quot;,\r\n        &quot;name&quot;: &quot;generateApp&quot;,\r\n        &quot;disabled&quot;: false,\r\n        &quot;language&quot;: null,\r\n        &quot;keys_url&quot;: &quot;https://api.github.com/repos/ignatandrei/generateApp/keys{/key_id}&quot;,\r\n        &quot;tags_url&quot;: &quot;https://api.github.com/repos/ignatandrei/generateApp/tags&quot;,\r\n        &quot;watchers&quot;: 0,\r\n        &quot;archived&quot;: false,\r\n        &quot;homepage&quot;: null,\r\n        &quot;has_wiki&quot;: true,\r\n        &quot;license&quot;: {\r\n          &quot;node_id&quot;: &quot;MDc6TGljZW5zZTEz&quot;,\r\n          &quot;url&quot;: &quot;https://api.github.com/licenses/mit&quot;,\r\n          &quot;name&quot;: &quot;MIT License&quot;,\r\n          &quot;spdx_id&quot;: &quot;MIT&quot;,\r\n          &quot;key&quot;: &quot;mit&quot;\r\n        },\r\n        &quot;private&quot;: false,\r\n        &quot;svn_url&quot;: &quot;https://github.com/ignatandrei/generateApp&quot;,\r\n        &quot;ssh_url&quot;: &quot;git@github.com:ignatandrei/generateApp.git&quot;,\r\n        &quot;git_url&quot;: &quot;git://github.com/ignatandrei/generateApp.git&quot;,\r\n        &quot;size&quot;: 0,\r\n        &quot;owner&quot;: {\r\n          &quot;received_events_url&quot;: &quot;https://api.github.com/users/ignatandrei/received_events&quot;,\r\n          &quot;organizations_url&quot;: &quot;https://api.github.com/users/ignatandrei/orgs&quot;,\r\n          &quot;subscriptions_url&quot;: &quot;https://api.github.com/users/ignatandrei/subscriptions&quot;,\r\n          &quot;events_url&quot;: &quot;https://api.github.com/users/ignatandrei/events{/privacy}&quot;,\r\n          &quot;html_url&quot;: &quot;https://github.com/ignatandrei&quot;,\r\n          &quot;followers_url&quot;: &quot;https://api.github.com/users/ignatandrei/followers&quot;,\r\n          &quot;following_url&quot;: &quot;https://api.github.com/users/ignatandrei/following{/other_user}&quot;,\r\n          &quot;node_id&quot;: &quot;MDQ6VXNlcjE1Mzk4Mg==&quot;,\r\n          &quot;gravatar_id&quot;: &quot;&quot;,\r\n          &quot;starred_url&quot;: &quot;https://api.github.com/users/ignatandrei/starred{/owner}{/repo}&quot;,\r\n          &quot;avatar_url&quot;: &quot;https://avatars3.githubusercontent.com/u/153982?v=4&quot;,\r\n          &quot;site_admin&quot;: false,\r\n          &quot;repos_url&quot;: &quot;https://api.github.com/users/ignatandrei/repos&quot;,\r\n          &quot;gists_url&quot;: &quot;https://api.github.com/users/ignatandrei/gists{/gist_id}&quot;,\r\n          &quot;url&quot;: &quot;https://api.github.com/users/ignatandrei&quot;,\r\n          &quot;login&quot;: &quot;ignatandrei&quot;,\r\n          &quot;type&quot;: &quot;User&quot;,\r\n          &quot;id&quot;: 153982\r\n        },\r\n        &quot;forks&quot;: 0,\r\n        &quot;fork&quot;: false\r\n      }\r\n    },\r\n    &quot;diff_url&quot;: &quot;https://github.com/ignatandrei/generateApp/pull/2.diff&quot;,\r\n    &quot;labels&quot;: [],\r\n    &quot;locked&quot;: false,\r\n    &quot;_links&quot;: {\r\n      &quot;review_comments&quot;: {\r\n        &quot;href&quot;: &quot;https://api.github.com/repos/ignatandrei/generateApp/pulls/2/comments&quot;\r\n      },\r\n      &quot;commits&quot;: {\r\n        &quot;href&quot;: &quot;https://api.github.com/repos/ignatandrei/generateApp/pulls/2/commits&quot;\r\n      },\r\n      &quot;comments&quot;: {\r\n        &quot;href&quot;: &quot;https://api.github.com/repos/ignatandrei/generateApp/issues/2/comments&quot;\r\n      },\r\n      &quot;review_comment&quot;: {\r\n        &quot;href&quot;: &quot;https://api.github.com/repos/ignatandrei/generateApp/pulls/comments{/number}&quot;\r\n      },\r\n      &quot;statuses&quot;: {\r\n        &quot;href&quot;: &quot;https://api.github.com/repos/ignatandrei/generateApp/statuses/4a2e2720caaab63a850623258a1e555d7ae00271&quot;\r\n      },\r\n      &quot;issue&quot;: {\r\n        &quot;href&quot;: &quot;https://api.github.com/repos/ignatandrei/generateApp/issues/2&quot;\r\n      },\r\n      &quot;html&quot;: {\r\n        &quot;href&quot;: &quot;https://github.com/ignatandrei/generateApp/pull/2&quot;\r\n      },\r\n      &quot;self&quot;: {\r\n        &quot;href&quot;: &quot;https://api.github.com/repos/ignatandrei/generateApp/pulls/2&quot;\r\n      }\r\n    },\r\n    &quot;title&quot;: &quot;Configure WhiteSource Bolt for GitHub&quot;,\r\n    &quot;state&quot;: &quot;open&quot;,\r\n    &quot;merged&quot;: false,\r\n    &quot;body&quot;: &quot;Welcome to [WhiteSource Bolt for GitHub](https://github.com/marketplace/whitesource-bolt)! This is an onboarding PR to help you understand and configure settings before WhiteSource starts scanning your repository for security vulnerabilities.\\n\\n:vertical_traffic_light: WhiteSource Bolt for GitHub will start scanning your repository only once you merge this Pull Request. To disable WhiteSource Bolt for GitHub, simply close this Pull Request. \\n\\n\\n\\n---\\n\\n### What to Expect\\n\\nThis PR contains a '.whitesource' configuration file which can be customized to your needs. If no changes were applied to this file, WhiteSource Bolt for GitHub will use the default configuration.\\n\\nBefore merging this PR, Make sure the [Issues tab is enabled](https://whitesource.atlassian.net/wiki/spaces/WD/pages/594641239/Enabling+the+Issues+Tab+for+the+GitHub+Repository). Once you merge this PR, WhiteSource Bolt for GitHub will scan your repository and create a GitHub Issue for every vulnerability detected in your repository. \\n\\nIf you do not want a GitHub Issue to be created for each detected vulnerability, you can edit the '.whitesource' file and set the 'minSeverityLevel' parameter to 'NONE'. \\n\\n---\\n\\n:question: Got questions? Check out WhiteSource Bolt for GitHub [docs](https://whitesource.atlassian.net/wiki/spaces/WD/pages/556007950/WhiteSource+Bolt+for+GitHub).\\nIf you need any further assistance then you can also [request help here](https://whitesourcesoftware.force.com/CustomerCommunity/s).&lt;!-- &lt;WHITESOURCE&gt;{ \\&quot;installationId\\&quot;: \\&quot;1165336\\&quot;}&lt;/WHITESOURCE&gt; --&gt;&quot;,\r\n    &quot;draft&quot;: false,\r\n    &quot;base&quot;: {\r\n      &quot;user&quot;: {\r\n        &quot;received_events_url&quot;: &quot;https://api.github.com/users/ignatandrei/received_events&quot;,\r\n        &quot;organizations_url&quot;: &quot;https://api.github.com/users/ignatandrei/orgs&quot;,\r\n        &quot;subscriptions_url&quot;: &quot;https://api.github.com/users/ignatandrei/subscriptions&quot;,\r\n        &quot;events_url&quot;: &quot;https://api.github.com/users/ignatandrei/events{/privacy}&quot;,\r\n        &quot;html_url&quot;: &quot;https://github.com/ignatandrei&quot;,\r\n        &quot;followers_url&quot;: &quot;https://api.github.com/users/ignatandrei/followers&quot;,\r\n        &quot;following_url&quot;: &quot;https://api.github.com/users/ignatandrei/following{/other_user}&quot;,\r\n        &quot;node_id&quot;: &quot;MDQ6VXNlcjE1Mzk4Mg==&quot;,\r\n        &quot;gravatar_id&quot;: &quot;&quot;,\r\n        &quot;starred_url&quot;: &quot;https://api.github.com/users/ignatandrei/starred{/owner}{/repo}&quot;,\r\n        &quot;avatar_url&quot;: &quot;https://avatars3.githubusercontent.com/u/153982?v=4&quot;,\r\n        &quot;site_admin&quot;: false,\r\n        &quot;repos_url&quot;: &quot;https://api.github.com/users/ignatandrei/repos&quot;,\r\n        &quot;gists_url&quot;: &quot;https://api.github.com/users/ignatandrei/gists{/gist_id}&quot;,\r\n        &quot;url&quot;: &quot;https://api.github.com/users/ignatandrei&quot;,\r\n        &quot;login&quot;: &quot;ignatandrei&quot;,\r\n        &quot;type&quot;: &quot;User&quot;,\r\n        &quot;id&quot;: 153982\r\n      },\r\n      &quot;ref&quot;: &quot;master&quot;,\r\n      &quot;sha&quot;: &quot;77cfc4e9a268522feefe4cf1728352a3fe35c7e3&quot;,\r\n      &quot;label&quot;: &quot;ignatandrei:master&quot;,\r\n      &quot;repo&quot;: {\r\n        &quot;events_url&quot;: &quot;https://api.github.com/repos/ignatandrei/generateApp/events&quot;,\r\n        &quot;html_url&quot;: &quot;https://github.com/ignatandrei/generateApp&quot;,\r\n        &quot;node_id&quot;: &quot;MDEwOlJlcG9zaXRvcnkyODQxNTIwNjY=&quot;,\r\n        &quot;comments_url&quot;: &quot;https://api.github.com/repos/ignatandrei/generateApp/comments{/number}&quot;,\r\n        &quot;description&quot;: null,\r\n        &quot;statuses_url&quot;: &quot;https://api.github.com/repos/ignatandrei/generateApp/statuses/{sha}&quot;,\r\n        &quot;url&quot;: &quot;https://api.github.com/repos/ignatandrei/generateApp&quot;,\r\n        &quot;open_issues_count&quot;: 2,\r\n        &quot;collaborators_url&quot;: &quot;https://api.github.com/repos/ignatandrei/generateApp/collaborators{/collaborator}&quot;,\r\n        &quot;notifications_url&quot;: &quot;https://api.github.com/repos/ignatandrei/generateApp/notifications{?since,all,participating}&quot;,\r\n        &quot;issue_comment_url&quot;: &quot;https://api.github.com/repos/ignatandrei/generateApp/issues/comments{/number}&quot;,\r\n        &quot;created_at&quot;: &quot;2020-07-31T23:59:49.0000000Z&quot;,\r\n        &quot;updated_at&quot;: &quot;2020-07-31T23:59:55.0000000Z&quot;,\r\n        &quot;commits_url&quot;: &quot;https://api.github.com/repos/ignatandrei/generateApp/commits{/sha}&quot;,\r\n        &quot;contributors_url&quot;: &quot;https://api.github.com/repos/ignatandrei/generateApp/contributors&quot;,\r\n        &quot;issue_events_url&quot;: &quot;https://api.github.com/repos/ignatandrei/generateApp/issues/events{/number}&quot;,\r\n        &quot;stargazers_count&quot;: 0,\r\n        &quot;subscription_url&quot;: &quot;https://api.github.com/repos/ignatandrei/generateApp/subscription&quot;,\r\n        &quot;git_commits_url&quot;: &quot;https://api.github.com/repos/ignatandrei/generateApp/git/commits{/sha}&quot;,\r\n        &quot;deployments_url&quot;: &quot;https://api.github.com/repos/ignatandrei/generateApp/deployments&quot;,\r\n        &quot;subscribers_url&quot;: &quot;https://api.github.com/repos/ignatandrei/generateApp/subscribers&quot;,\r\n        &quot;watchers_count&quot;: 0,\r\n        &quot;milestones_url&quot;: &quot;https://api.github.com/repos/ignatandrei/generateApp/milestones{/number}&quot;,\r\n        &quot;stargazers_url&quot;: &quot;https://api.github.com/repos/ignatandrei/generateApp/stargazers&quot;,\r\n        &quot;default_branch&quot;: &quot;master&quot;,\r\n        &quot;downloads_url&quot;: &quot;https://api.github.com/repos/ignatandrei/generateApp/downloads&quot;,\r\n        &quot;assignees_url&quot;: &quot;https://api.github.com/repos/ignatandrei/generateApp/assignees{/user}&quot;,\r\n        &quot;languages_url&quot;: &quot;https://api.github.com/repos/ignatandrei/generateApp/languages&quot;,\r\n        &quot;has_downloads&quot;: true,\r\n        &quot;branches_url&quot;: &quot;https://api.github.com/repos/ignatandrei/generateApp/branches{/branch}&quot;,\r\n        &quot;contents_url&quot;: &quot;https://api.github.com/repos/ignatandrei/generateApp/contents/{+path}&quot;,\r\n        &quot;releases_url&quot;: &quot;https://api.github.com/repos/ignatandrei/generateApp/releases{/id}&quot;,\r\n        &quot;has_projects&quot;: true,\r\n        &quot;git_refs_url&quot;: &quot;https://api.github.com/repos/ignatandrei/generateApp/git/refs{/sha}&quot;,\r\n        &quot;git_tags_url&quot;: &quot;https://api.github.com/repos/ignatandrei/generateApp/git/tags{/sha}&quot;,\r\n        &quot;open_issues&quot;: 2,\r\n        &quot;labels_url&quot;: &quot;https://api.github.com/repos/ignatandrei/generateApp/labels{/name}&quot;,\r\n        &quot;archive_url&quot;: &quot;https://api.github.com/repos/ignatandrei/generateApp/{archive_format}{/ref}&quot;,\r\n        &quot;forks_count&quot;: 0,\r\n        &quot;compare_url&quot;: &quot;https://api.github.com/repos/ignatandrei/generateApp/compare/{base}...{head}&quot;,\r\n        &quot;merges_url&quot;: &quot;https://api.github.com/repos/ignatandrei/generateApp/merges&quot;,\r\n        &quot;issues_url&quot;: &quot;https://api.github.com/repos/ignatandrei/generateApp/issues{/number}&quot;,\r\n        &quot;mirror_url&quot;: null,\r\n        &quot;has_issues&quot;: true,\r\n        &quot;id&quot;: 284152066,\r\n        &quot;pushed_at&quot;: &quot;2020-07-31T23:59:59.0000000Z&quot;,\r\n        &quot;trees_url&quot;: &quot;https://api.github.com/repos/ignatandrei/generateApp/git/trees{/sha}&quot;,\r\n        &quot;has_pages&quot;: false,\r\n        &quot;full_name&quot;: &quot;ignatandrei/generateApp&quot;,\r\n        &quot;pulls_url&quot;: &quot;https://api.github.com/repos/ignatandrei/generateApp/pulls{/number}&quot;,\r\n        &quot;hooks_url&quot;: &quot;https://api.github.com/repos/ignatandrei/generateApp/hooks&quot;,\r\n        &quot;teams_url&quot;: &quot;https://api.github.com/repos/ignatandrei/generateApp/teams&quot;,\r\n        &quot;blobs_url&quot;: &quot;https://api.github.com/repos/ignatandrei/generateApp/git/blobs{/sha}&quot;,\r\n        &quot;forks_url&quot;: &quot;https://api.github.com/repos/ignatandrei/generateApp/forks&quot;,\r\n        &quot;clone_url&quot;: &quot;https://github.com/ignatandrei/generateApp.git&quot;,\r\n        &quot;name&quot;: &quot;generateApp&quot;,\r\n        &quot;disabled&quot;: false,\r\n        &quot;language&quot;: null,\r\n        &quot;keys_url&quot;: &quot;https://api.github.com/repos/ignatandrei/generateApp/keys{/key_id}&quot;,\r\n        &quot;tags_url&quot;: &quot;https://api.github.com/repos/ignatandrei/generateApp/tags&quot;,\r\n        &quot;watchers&quot;: 0,\r\n        &quot;archived&quot;: false,\r\n        &quot;homepage&quot;: null,\r\n        &quot;has_wiki&quot;: true,\r\n        &quot;license&quot;: {\r\n          &quot;node_id&quot;: &quot;MDc6TGljZW5zZTEz&quot;,\r\n          &quot;url&quot;: &quot;https://api.github.com/licenses/mit&quot;,\r\n          &quot;name&quot;: &quot;MIT License&quot;,\r\n          &quot;spdx_id&quot;: &quot;MIT&quot;,\r\n          &quot;key&quot;: &quot;mit&quot;\r\n        },\r\n        &quot;private&quot;: false,\r\n        &quot;svn_url&quot;: &quot;https://github.com/ignatandrei/generateApp&quot;,\r\n        &quot;ssh_url&quot;: &quot;git@github.com:ignatandrei/generateApp.git&quot;,\r\n        &quot;git_url&quot;: &quot;git://github.com/ignatandrei/generateApp.git&quot;,\r\n        &quot;size&quot;: 0,\r\n        &quot;owner&quot;: {\r\n          &quot;received_events_url&quot;: &quot;https://api.github.com/users/ignatandrei/received_events&quot;,\r\n          &quot;organizations_url&quot;: &quot;https://api.github.com/users/ignatandrei/orgs&quot;,\r\n          &quot;subscriptions_url&quot;: &quot;https://api.github.com/users/ignatandrei/subscriptions&quot;,\r\n          &quot;events_url&quot;: &quot;https://api.github.com/users/ignatandrei/events{/privacy}&quot;,\r\n          &quot;html_url&quot;: &quot;https://github.com/ignatandrei&quot;,\r\n          &quot;followers_url&quot;: &quot;https://api.github.com/users/ignatandrei/followers&quot;,\r\n          &quot;following_url&quot;: &quot;https://api.github.com/users/ignatandrei/following{/other_user}&quot;,\r\n          &quot;node_id&quot;: &quot;MDQ6VXNlcjE1Mzk4Mg==&quot;,\r\n          &quot;gravatar_id&quot;: &quot;&quot;,\r\n          &quot;starred_url&quot;: &quot;https://api.github.com/users/ignatandrei/starred{/owner}{/repo}&quot;,\r\n          &quot;avatar_url&quot;: &quot;https://avatars3.githubusercontent.com/u/153982?v=4&quot;,\r\n          &quot;site_admin&quot;: false,\r\n          &quot;repos_url&quot;: &quot;https://api.github.com/users/ignatandrei/repos&quot;,\r\n          &quot;gists_url&quot;: &quot;https://api.github.com/users/ignatandrei/gists{/gist_id}&quot;,\r\n          &quot;url&quot;: &quot;https://api.github.com/users/ignatandrei&quot;,\r\n          &quot;login&quot;: &quot;ignatandrei&quot;,\r\n          &quot;type&quot;: &quot;User&quot;,\r\n          &quot;id&quot;: 153982\r\n        },\r\n        &quot;forks&quot;: 0,\r\n        &quot;fork&quot;: false\r\n      }\r\n    }\r\n  },\r\n  &quot;number&quot;: 2,\r\n  &quot;action&quot;: &quot;opened&quot;\r\n}</td><td>1</td><td>2020-08-01 00:00:00</td><td>https://adxdemo.blob.core.windows.net/adx-demo/github-events/Github-2020-08-01-0.json.gz</td></tr>",
                            "<tr><td>13078576147</td><td>PushEvent</td><td>lyh01</td><td>{\r\n  &quot;name&quot;: &quot;lyh01/word_pronunciation&quot;,\r\n  &quot;url&quot;: &quot;https://api.github.com/repos/lyh01/word_pronunciation&quot;,\r\n  &quot;id&quot;: 284137003\r\n}</td><td>{\r\n  &quot;commits&quot;: [\r\n    {\r\n      &quot;url&quot;: &quot;https://api.github.com/repos/lyh01/word_pronunciation/commits/4d7ae8a725aad971fc2dd52a6c10907f44ee0d5c&quot;,\r\n      &quot;distinct&quot;: true,\r\n      &quot;message&quot;: &quot;Update README.md&quot;,\r\n      &quot;sha&quot;: &quot;4d7ae8a725aad971fc2dd52a6c10907f44ee0d5c&quot;,\r\n      &quot;author&quot;: {\r\n        &quot;name&quot;: &quot;lyh01&quot;,\r\n        &quot;email&quot;: &quot;8ea06e9569776dd5312d9fd1c1c1f28dac32dc51@hotmail.com&quot;\r\n      }\r\n    }\r\n  ],\r\n  &quot;distinct_size&quot;: 1,\r\n  &quot;ref&quot;: &quot;refs/heads/master&quot;,\r\n  &quot;size&quot;: 1,\r\n  &quot;head&quot;: &quot;4d7ae8a725aad971fc2dd52a6c10907f44ee0d5c&quot;,\r\n  &quot;push_id&quot;: 5464383183,\r\n  &quot;before&quot;: &quot;70cc1d65af3039df1c7f78a50d974d5391addfed&quot;\r\n}</td><td>1</td><td>2020-08-01 00:00:00</td><td>https://adxdemo.blob.core.windows.net/adx-demo/github-events/Github-2020-08-01-0.json.gz</td></tr>",
                            "</table>"
                        ]
                    }
                }
            ],
            "execution_count": 28
        },
        {
            "cell_type": "code",
            "source": [
                "Events\r\n",
                "| top 5 by CreatedAt asc"
            ],
            "metadata": {
                "azdata_cell_guid": "22484b6b-fb19-489d-976f-4caa4e0e6bab"
            },
            "outputs": [
                {
                    "output_type": "display_data",
                    "data": {
                        "text/html": "Commands completed successfully."
                    },
                    "metadata": {}
                },
                {
                    "output_type": "display_data",
                    "data": {
                        "text/html": "Total execution time: 00:00:00.270"
                    },
                    "metadata": {}
                },
                {
                    "output_type": "execute_result",
                    "metadata": {},
                    "execution_count": 27,
                    "data": {
                        "application/vnd.dataresource+json": {
                            "schema": {
                                "fields": [
                                    {
                                        "name": "EventId"
                                    },
                                    {
                                        "name": "Type"
                                    },
                                    {
                                        "name": "Actor"
                                    },
                                    {
                                        "name": "Repository"
                                    },
                                    {
                                        "name": "Payload"
                                    },
                                    {
                                        "name": "Public"
                                    },
                                    {
                                        "name": "CreatedAt"
                                    },
                                    {
                                        "name": "SourceFile"
                                    }
                                ]
                            },
                            "data": [
                                {
                                    "0": "13078576066",
                                    "1": "CreateEvent",
                                    "2": "dependabot[bot]",
                                    "3": "{\r\n  \"name\": \"pras75299/React-demo\",\r\n  \"url\": \"https://api.github.com/repos/pras75299/React-demo\",\r\n  \"id\": 215850131\r\n}",
                                    "4": "{\r\n  \"description\": \"React project for learning\",\r\n  \"master_branch\": \"master\",\r\n  \"pusher_type\": \"user\",\r\n  \"ref\": \"dependabot/npm_and_yarn/elliptic-6.5.3\",\r\n  \"ref_type\": \"branch\"\r\n}",
                                    "5": "1",
                                    "6": "2020-08-01 00:00:00",
                                    "7": "https://adxdemo.blob.core.windows.net/adx-demo/github-events/Github-2020-08-01-0.json.gz"
                                },
                                {
                                    "0": "13078576067",
                                    "1": "PullRequestEvent",
                                    "2": "dependabot[bot]",
                                    "3": "{\r\n  \"name\": \"phfilly/graphql-search\",\r\n  \"url\": \"https://api.github.com/repos/phfilly/graphql-search\",\r\n  \"id\": 215121947\r\n}",
                                    "4": "{\r\n  \"pull_request\": {\r\n    \"html_url\": \"https://github.com/phfilly/graphql-search/pull/7\",\r\n    \"node_id\": \"MDExOlB1bGxSZXF1ZXN0NDYwNjI4NTU5\",\r\n    \"comments_url\": \"https://api.github.com/repos/phfilly/graphql-search/issues/7/comments\",\r\n    \"statuses_url\": \"https://api.github.com/repos/phfilly/graphql-search/statuses/3c0af4d4b5c8f4a947db2ca48f413db67b2294d9\",\r\n    \"url\": \"https://api.github.com/repos/phfilly/graphql-search/pulls/7\",\r\n    \"created_at\": \"2020-07-31T23:59:59.0000000Z\",\r\n    \"updated_at\": \"2020-07-31T23:59:59.0000000Z\",\r\n    \"commits_url\": \"https://api.github.com/repos/phfilly/graphql-search/pulls/7/commits\",\r\n    \"review_comments\": 0,\r\n    \"author_association\": \"NONE\",\r\n    \"commits\": 1,\r\n    \"active_lock_reason\": null,\r\n    \"maintainer_can_modify\": false,\r\n    \"review_comments_url\": \"https://api.github.com/repos/phfilly/graphql-search/pulls/7/comments\",\r\n    \"requested_reviewers\": [],\r\n    \"id\": 460628559,\r\n    \"review_comment_url\": \"https://api.github.com/repos/phfilly/graphql-search/pulls/comments{/number}\",\r\n    \"comments\": 0,\r\n    \"merge_commit_sha\": null,\r\n    \"requested_teams\": [],\r\n    \"mergeable_state\": \"unknown\",\r\n    \"user\": {\r\n      \"received_events_url\": \"https://api.github.com/users/dependabot%5Bbot%5D/received_events\",\r\n      \"organizations_url\": \"https://api.github.com/users/dependabot%5Bbot%5D/orgs\",\r\n      \"subscriptions_url\": \"https://api.github.com/users/dependabot%5Bbot%5D/subscriptions\",\r\n      \"events_url\": \"https://api.github.com/users/dependabot%5Bbot%5D/events{/privacy}\",\r\n      \"html_url\": \"https://github.com/apps/dependabot\",\r\n      \"followers_url\": \"https://api.github.com/users/dependabot%5Bbot%5D/followers\",\r\n      \"following_url\": \"https://api.github.com/users/dependabot%5Bbot%5D/following{/other_user}\",\r\n      \"node_id\": \"MDM6Qm90NDk2OTkzMzM=\",\r\n      \"gravatar_id\": \"\",\r\n      \"starred_url\": \"https://api.github.com/users/dependabot%5Bbot%5D/starred{/owner}{/repo}\",\r\n      \"avatar_url\": \"https://avatars0.githubusercontent.com/in/29110?v=4\",\r\n      \"site_admin\": false,\r\n      \"repos_url\": \"https://api.github.com/users/dependabot%5Bbot%5D/repos\",\r\n      \"gists_url\": \"https://api.github.com/users/dependabot%5Bbot%5D/gists{/gist_id}\",\r\n      \"url\": \"https://api.github.com/users/dependabot%5Bbot%5D\",\r\n      \"login\": \"dependabot[bot]\",\r\n      \"type\": \"Bot\",\r\n      \"id\": 49699333\r\n    },\r\n    \"number\": 7,\r\n    \"changed_files\": 2,\r\n    \"closed_at\": null,\r\n    \"milestone\": null,\r\n    \"assignees\": [],\r\n    \"issue_url\": \"https://api.github.com/repos/phfilly/graphql-search/issues/7\",\r\n    \"patch_url\": \"https://github.com/phfilly/graphql-search/pull/7.patch\",\r\n    \"rebaseable\": null,\r\n    \"assignee\": null,\r\n    \"merged_at\": null,\r\n    \"deletions\": 13,\r\n    \"additions\": 46,\r\n    \"mergeable\": null,\r\n    \"merged_by\": null,\r\n    \"head\": {\r\n      \"user\": {\r\n        \"received_events_url\": \"https://api.github.com/users/phfilly/received_events\",\r\n        \"organizations_url\": \"https://api.github.com/users/phfilly/orgs\",\r\n        \"subscriptions_url\": \"https://api.github.com/users/phfilly/subscriptions\",\r\n        \"events_url\": \"https://api.github.com/users/phfilly/events{/privacy}\",\r\n        \"html_url\": \"https://github.com/phfilly\",\r\n        \"followers_url\": \"https://api.github.com/users/phfilly/followers\",\r\n        \"following_url\": \"https://api.github.com/users/phfilly/following{/other_user}\",\r\n        \"node_id\": \"MDQ6VXNlcjQ2Mjc5NTM=\",\r\n        \"gravatar_id\": \"\",\r\n        \"starred_url\": \"https://api.github.com/users/phfilly/starred{/owner}{/repo}\",\r\n        \"avatar_url\": \"https://avatars1.githubusercontent.com/u/4627953?v=4\",\r\n        \"site_admin\": false,\r\n        \"repos_url\": \"https://api.github.com/users/phfilly/repos\",\r\n        \"gists_url\": \"https://api.github.com/users/phfilly/gists{/gist_id}\",\r\n        \"url\": \"https://api.github.com/users/phfilly\",\r\n        \"login\": \"phfilly\",\r\n        \"type\": \"User\",\r\n        \"id\": 4627953\r\n      },\r\n      \"ref\": \"dependabot/npm_and_yarn/elliptic-6.5.3\",\r\n      \"sha\": \"3c0af4d4b5c8f4a947db2ca48f413db67b2294d9\",\r\n      \"label\": \"phfilly:dependabot/npm_and_yarn/elliptic-6.5.3\",\r\n      \"repo\": {\r\n        \"events_url\": \"https://api.github.com/repos/phfilly/graphql-search/events\",\r\n        \"html_url\": \"https://github.com/phfilly/graphql-search\",\r\n        \"node_id\": \"MDEwOlJlcG9zaXRvcnkyMTUxMjE5NDc=\",\r\n        \"comments_url\": \"https://api.github.com/repos/phfilly/graphql-search/comments{/number}\",\r\n        \"description\": \"Portfolio piece\",\r\n        \"statuses_url\": \"https://api.github.com/repos/phfilly/graphql-search/statuses/{sha}\",\r\n        \"url\": \"https://api.github.com/repos/phfilly/graphql-search\",\r\n        \"open_issues_count\": 7,\r\n        \"collaborators_url\": \"https://api.github.com/repos/phfilly/graphql-search/collaborators{/collaborator}\",\r\n        \"notifications_url\": \"https://api.github.com/repos/phfilly/graphql-search/notifications{?since,all,participating}\",\r\n        \"issue_comment_url\": \"https://api.github.com/repos/phfilly/graphql-search/issues/comments{/number}\",\r\n        \"created_at\": \"2019-10-14T18:53:01.0000000Z\",\r\n        \"updated_at\": \"2020-02-26T17:12:10.0000000Z\",\r\n        \"commits_url\": \"https://api.github.com/repos/phfilly/graphql-search/commits{/sha}\",\r\n        \"contributors_url\": \"https://api.github.com/repos/phfilly/graphql-search/contributors\",\r\n        \"issue_events_url\": \"https://api.github.com/repos/phfilly/graphql-search/issues/events{/number}\",\r\n        \"stargazers_count\": 0,\r\n        \"subscription_url\": \"https://api.github.com/repos/phfilly/graphql-search/subscription\",\r\n        \"git_commits_url\": \"https://api.github.com/repos/phfilly/graphql-search/git/commits{/sha}\",\r\n        \"deployments_url\": \"https://api.github.com/repos/phfilly/graphql-search/deployments\",\r\n        \"subscribers_url\": \"https://api.github.com/repos/phfilly/graphql-search/subscribers\",\r\n        \"watchers_count\": 0,\r\n        \"milestones_url\": \"https://api.github.com/repos/phfilly/graphql-search/milestones{/number}\",\r\n        \"stargazers_url\": \"https://api.github.com/repos/phfilly/graphql-search/stargazers\",\r\n        \"default_branch\": \"master\",\r\n        \"downloads_url\": \"https://api.github.com/repos/phfilly/graphql-search/downloads\",\r\n        \"assignees_url\": \"https://api.github.com/repos/phfilly/graphql-search/assignees{/user}\",\r\n        \"languages_url\": \"https://api.github.com/repos/phfilly/graphql-search/languages\",\r\n        \"has_downloads\": true,\r\n        \"branches_url\": \"https://api.github.com/repos/phfilly/graphql-search/branches{/branch}\",\r\n        \"contents_url\": \"https://api.github.com/repos/phfilly/graphql-search/contents/{+path}\",\r\n        \"releases_url\": \"https://api.github.com/repos/phfilly/graphql-search/releases{/id}\",\r\n        \"has_projects\": true,\r\n        \"git_refs_url\": \"https://api.github.com/repos/phfilly/graphql-search/git/refs{/sha}\",\r\n        \"git_tags_url\": \"https://api.github.com/repos/phfilly/graphql-search/git/tags{/sha}\",\r\n        \"open_issues\": 7,\r\n        \"labels_url\": \"https://api.github.com/repos/phfilly/graphql-search/labels{/name}\",\r\n        \"archive_url\": \"https://api.github.com/repos/phfilly/graphql-search/{archive_format}{/ref}\",\r\n        \"forks_count\": 0,\r\n        \"compare_url\": \"https://api.github.com/repos/phfilly/graphql-search/compare/{base}...{head}\",\r\n        \"merges_url\": \"https://api.github.com/repos/phfilly/graphql-search/merges\",\r\n        \"issues_url\": \"https://api.github.com/repos/phfilly/graphql-search/issues{/number}\",\r\n        \"mirror_url\": null,\r\n        \"has_issues\": true,\r\n        \"id\": 215121947,\r\n        \"pushed_at\": \"2020-07-31T23:59:58.0000000Z\",\r\n        \"trees_url\": \"https://api.github.com/repos/phfilly/graphql-search/git/trees{/sha}\",\r\n        \"has_pages\": false,\r\n        \"full_name\": \"phfilly/graphql-search\",\r\n        \"pulls_url\": \"https://api.github.com/repos/phfilly/graphql-search/pulls{/number}\",\r\n        \"hooks_url\": \"https://api.github.com/repos/phfilly/graphql-search/hooks\",\r\n        \"teams_url\": \"https://api.github.com/repos/phfilly/graphql-search/teams\",\r\n        \"blobs_url\": \"https://api.github.com/repos/phfilly/graphql-search/git/blobs{/sha}\",\r\n        \"forks_url\": \"https://api.github.com/repos/phfilly/graphql-search/forks\",\r\n        \"clone_url\": \"https://github.com/phfilly/graphql-search.git\",\r\n        \"name\": \"graphql-search\",\r\n        \"disabled\": false,\r\n        \"language\": \"JavaScript\",\r\n        \"keys_url\": \"https://api.github.com/repos/phfilly/graphql-search/keys{/key_id}\",\r\n        \"tags_url\": \"https://api.github.com/repos/phfilly/graphql-search/tags\",\r\n        \"watchers\": 0,\r\n        \"archived\": false,\r\n        \"homepage\": \"\",\r\n        \"has_wiki\": true,\r\n        \"license\": null,\r\n        \"private\": false,\r\n        \"svn_url\": \"https://github.com/phfilly/graphql-search\",\r\n        \"ssh_url\": \"git@github.com:phfilly/graphql-search.git\",\r\n        \"git_url\": \"git://github.com/phfilly/graphql-search.git\",\r\n        \"size\": 9014,\r\n        \"owner\": {\r\n          \"received_events_url\": \"https://api.github.com/users/phfilly/received_events\",\r\n          \"organizations_url\": \"https://api.github.com/users/phfilly/orgs\",\r\n          \"subscriptions_url\": \"https://api.github.com/users/phfilly/subscriptions\",\r\n          \"events_url\": \"https://api.github.com/users/phfilly/events{/privacy}\",\r\n          \"html_url\": \"https://github.com/phfilly\",\r\n          \"followers_url\": \"https://api.github.com/users/phfilly/followers\",\r\n          \"following_url\": \"https://api.github.com/users/phfilly/following{/other_user}\",\r\n          \"node_id\": \"MDQ6VXNlcjQ2Mjc5NTM=\",\r\n          \"gravatar_id\": \"\",\r\n          \"starred_url\": \"https://api.github.com/users/phfilly/starred{/owner}{/repo}\",\r\n          \"avatar_url\": \"https://avatars1.githubusercontent.com/u/4627953?v=4\",\r\n          \"site_admin\": false,\r\n          \"repos_url\": \"https://api.github.com/users/phfilly/repos\",\r\n          \"gists_url\": \"https://api.github.com/users/phfilly/gists{/gist_id}\",\r\n          \"url\": \"https://api.github.com/users/phfilly\",\r\n          \"login\": \"phfilly\",\r\n          \"type\": \"User\",\r\n          \"id\": 4627953\r\n        },\r\n        \"forks\": 0,\r\n        \"fork\": false\r\n      }\r\n    },\r\n    \"diff_url\": \"https://github.com/phfilly/graphql-search/pull/7.diff\",\r\n    \"labels\": [],\r\n    \"locked\": false,\r\n    \"_links\": {\r\n      \"review_comments\": {\r\n        \"href\": \"https://api.github.com/repos/phfilly/graphql-search/pulls/7/comments\"\r\n      },\r\n      \"commits\": {\r\n        \"href\": \"https://api.github.com/repos/phfilly/graphql-search/pulls/7/commits\"\r\n      },\r\n      \"comments\": {\r\n        \"href\": \"https://api.github.com/repos/phfilly/graphql-search/issues/7/comments\"\r\n      },\r\n      \"review_comment\": {\r\n        \"href\": \"https://api.github.com/repos/phfilly/graphql-search/pulls/comments{/number}\"\r\n      },\r\n      \"statuses\": {\r\n        \"href\": \"https://api.github.com/repos/phfilly/graphql-search/statuses/3c0af4d4b5c8f4a947db2ca48f413db67b2294d9\"\r\n      },\r\n      \"issue\": {\r\n        \"href\": \"https://api.github.com/repos/phfilly/graphql-search/issues/7\"\r\n      },\r\n      \"html\": {\r\n        \"href\": \"https://github.com/phfilly/graphql-search/pull/7\"\r\n      },\r\n      \"self\": {\r\n        \"href\": \"https://api.github.com/repos/phfilly/graphql-search/pulls/7\"\r\n      }\r\n    },\r\n    \"title\": \"Bump elliptic from 6.4.1 to 6.5.3\",\r\n    \"state\": \"open\",\r\n    \"merged\": false,\r\n    \"body\": \"Bumps [elliptic](https://github.com/indutny/elliptic) from 6.4.1 to 6.5.3.\\n<details>\\n<summary>Commits</summary>\\n<ul>\\n<li><a href=\\\"https://github.com/indutny/elliptic/commit/8647803dc3d90506aa03021737f7b061ba959ae1\\\"><code>8647803</code></a> 6.5.3</li>\\n<li><a href=\\\"https://github.com/indutny/elliptic/commit/856fe4d99fe7b6200556e6400b3bf585b1721bec\\\"><code>856fe4d</code></a> signature: prevent malleability and overflows</li>\\n<li><a href=\\\"https://github.com/indutny/elliptic/commit/60489415e545efdfd3010ae74b9726facbf08ca8\\\"><code>6048941</code></a> 6.5.2</li>\\n<li><a href=\\\"https://github.com/indutny/elliptic/commit/9984964457c9f8a63b91b01ea103260417eca237\\\"><code>9984964</code></a> package: bump dependencies</li>\\n<li><a href=\\\"https://github.com/indutny/elliptic/commit/ec735edde187a43693197f6fa3667ceade751a3a\\\"><code>ec735ed</code></a> utils: leak less information in <code>getNAF()</code></li>\\n<li><a href=\\\"https://github.com/indutny/elliptic/commit/71e4e8e2f5b8f0bdbfbe106c72cc9fbc746d3d60\\\"><code>71e4e8e</code></a> 6.5.1</li>\\n<li><a href=\\\"https://github.com/indutny/elliptic/commit/7ec66ffa255079260126d87b1762a59ea10de5ea\\\"><code>7ec66ff</code></a> short: add infinity check before multiplying</li>\\n<li><a href=\\\"https://github.com/indutny/elliptic/commit/ee7970b92f388e981d694be0436c4c8036b5d36c\\\"><code>ee7970b</code></a> travis: really move on</li>\\n<li><a href=\\\"https://github.com/indutny/elliptic/commit/637d0216b58de7edee4f3eb5641295ac323acadb\\\"><code>637d021</code></a> travis: move on</li>\\n<li><a href=\\\"https://github.com/indutny/elliptic/commit/5ed0babb6467cd8575a9218265473fda926d9d42\\\"><code>5ed0bab</code></a> package: update deps</li>\\n<li>Additional commits viewable in <a href=\\\"https://github.com/indutny/elliptic/compare/v6.4.1...v6.5.3\\\">compare view</a></li>\\n</ul>\\n</details>\\n<br />\\n\\n\\n[![Dependabot compatibility score](https://dependabot-badges.githubapp.com/badges/compatibility_score?dependency-name=elliptic&package-manager=npm_and_yarn&previous-version=6.4.1&new-version=6.5.3)](https://help.github.com/articles/configuring-automated-security-fixes)\\n\\nDependabot will resolve any conflicts with this PR as long as you don't alter it yourself. You can also trigger a rebase manually by commenting `@dependabot rebase`.\\n\\n[//]: # (dependabot-automerge-start)\\n[//]: # (dependabot-automerge-end)\\n\\n---\\n\\n<details>\\n<summary>Dependabot commands and options</summary>\\n<br />\\n\\nYou can trigger Dependabot actions by commenting on this PR:\\n- `@dependabot rebase` will rebase this PR\\n- `@dependabot recreate` will recreate this PR, overwriting any edits that have been made to it\\n- `@dependabot merge` will merge this PR after your CI passes on it\\n- `@dependabot squash and merge` will squash and merge this PR after your CI passes on it\\n- `@dependabot cancel merge` will cancel a previously requested merge and block automerging\\n- `@dependabot reopen` will reopen this PR if it is closed\\n- `@dependabot close` will close this PR and stop Dependabot recreating it. You can achieve the same result by closing it manually\\n- `@dependabot ignore this major version` will close this PR and stop Dependabot creating any more for this major version (unless you reopen the PR or upgrade to it yourself)\\n- `@dependabot ignore this minor version` will close this PR and stop Dependabot creating any more for this minor version (unless you reopen the PR or upgrade to it yourself)\\n- `@dependabot ignore this dependency` will close this PR and stop Dependabot creating any more for this dependency (unless you reopen the PR or upgrade to it yourself)\\n- `@dependabot use these labels` will set the current labels as the default for future PRs for this repo and language\\n- `@dependabot use these reviewers` will set the current reviewers as the default for future PRs for this repo and language\\n- `@dependabot use these assignees` will set the current assignees as the default for future PRs for this repo and language\\n- `@dependabot use this milestone` will set the current milestone as the default for future PRs for this repo and language\\n\\nYou can disable automated security fix PRs for this repo from the [Security Alerts page](https://github.com/phfilly/graphql-search/network/alerts).\\n\\n</details>\",\r\n    \"draft\": false,\r\n    \"base\": {\r\n      \"user\": {\r\n        \"received_events_url\": \"https://api.github.com/users/phfilly/received_events\",\r\n        \"organizations_url\": \"https://api.github.com/users/phfilly/orgs\",\r\n        \"subscriptions_url\": \"https://api.github.com/users/phfilly/subscriptions\",\r\n        \"events_url\": \"https://api.github.com/users/phfilly/events{/privacy}\",\r\n        \"html_url\": \"https://github.com/phfilly\",\r\n        \"followers_url\": \"https://api.github.com/users/phfilly/followers\",\r\n        \"following_url\": \"https://api.github.com/users/phfilly/following{/other_user}\",\r\n        \"node_id\": \"MDQ6VXNlcjQ2Mjc5NTM=\",\r\n        \"gravatar_id\": \"\",\r\n        \"starred_url\": \"https://api.github.com/users/phfilly/starred{/owner}{/repo}\",\r\n        \"avatar_url\": \"https://avatars1.githubusercontent.com/u/4627953?v=4\",\r\n        \"site_admin\": false,\r\n        \"repos_url\": \"https://api.github.com/users/phfilly/repos\",\r\n        \"gists_url\": \"https://api.github.com/users/phfilly/gists{/gist_id}\",\r\n        \"url\": \"https://api.github.com/users/phfilly\",\r\n        \"login\": \"phfilly\",\r\n        \"type\": \"User\",\r\n        \"id\": 4627953\r\n      },\r\n      \"ref\": \"master\",\r\n      \"sha\": \"4c4356cf6c57c2b6e4504b75bde2fdbde6224e33\",\r\n      \"label\": \"phfilly:master\",\r\n      \"repo\": {\r\n        \"events_url\": \"https://api.github.com/repos/phfilly/graphql-search/events\",\r\n        \"html_url\": \"https://github.com/phfilly/graphql-search\",\r\n        \"node_id\": \"MDEwOlJlcG9zaXRvcnkyMTUxMjE5NDc=\",\r\n        \"comments_url\": \"https://api.github.com/repos/phfilly/graphql-search/comments{/number}\",\r\n        \"description\": \"Portfolio piece\",\r\n        \"statuses_url\": \"https://api.github.com/repos/phfilly/graphql-search/statuses/{sha}\",\r\n        \"url\": \"https://api.github.com/repos/phfilly/graphql-search\",\r\n        \"open_issues_count\": 7,\r\n        \"collaborators_url\": \"https://api.github.com/repos/phfilly/graphql-search/collaborators{/collaborator}\",\r\n        \"notifications_url\": \"https://api.github.com/repos/phfilly/graphql-search/notifications{?since,all,participating}\",\r\n        \"issue_comment_url\": \"https://api.github.com/repos/phfilly/graphql-search/issues/comments{/number}\",\r\n        \"created_at\": \"2019-10-14T18:53:01.0000000Z\",\r\n        \"updated_at\": \"2020-02-26T17:12:10.0000000Z\",\r\n        \"commits_url\": \"https://api.github.com/repos/phfilly/graphql-search/commits{/sha}\",\r\n        \"contributors_url\": \"https://api.github.com/repos/phfilly/graphql-search/contributors\",\r\n        \"issue_events_url\": \"https://api.github.com/repos/phfilly/graphql-search/issues/events{/number}\",\r\n        \"stargazers_count\": 0,\r\n        \"subscription_url\": \"https://api.github.com/repos/phfilly/graphql-search/subscription\",\r\n        \"git_commits_url\": \"https://api.github.com/repos/phfilly/graphql-search/git/commits{/sha}\",\r\n        \"deployments_url\": \"https://api.github.com/repos/phfilly/graphql-search/deployments\",\r\n        \"subscribers_url\": \"https://api.github.com/repos/phfilly/graphql-search/subscribers\",\r\n        \"watchers_count\": 0,\r\n        \"milestones_url\": \"https://api.github.com/repos/phfilly/graphql-search/milestones{/number}\",\r\n        \"stargazers_url\": \"https://api.github.com/repos/phfilly/graphql-search/stargazers\",\r\n        \"default_branch\": \"master\",\r\n        \"downloads_url\": \"https://api.github.com/repos/phfilly/graphql-search/downloads\",\r\n        \"assignees_url\": \"https://api.github.com/repos/phfilly/graphql-search/assignees{/user}\",\r\n        \"languages_url\": \"https://api.github.com/repos/phfilly/graphql-search/languages\",\r\n        \"has_downloads\": true,\r\n        \"branches_url\": \"https://api.github.com/repos/phfilly/graphql-search/branches{/branch}\",\r\n        \"contents_url\": \"https://api.github.com/repos/phfilly/graphql-search/contents/{+path}\",\r\n        \"releases_url\": \"https://api.github.com/repos/phfilly/graphql-search/releases{/id}\",\r\n        \"has_projects\": true,\r\n        \"git_refs_url\": \"https://api.github.com/repos/phfilly/graphql-search/git/refs{/sha}\",\r\n        \"git_tags_url\": \"https://api.github.com/repos/phfilly/graphql-search/git/tags{/sha}\",\r\n        \"open_issues\": 7,\r\n        \"labels_url\": \"https://api.github.com/repos/phfilly/graphql-search/labels{/name}\",\r\n        \"archive_url\": \"https://api.github.com/repos/phfilly/graphql-search/{archive_format}{/ref}\",\r\n        \"forks_count\": 0,\r\n        \"compare_url\": \"https://api.github.com/repos/phfilly/graphql-search/compare/{base}...{head}\",\r\n        \"merges_url\": \"https://api.github.com/repos/phfilly/graphql-search/merges\",\r\n        \"issues_url\": \"https://api.github.com/repos/phfilly/graphql-search/issues{/number}\",\r\n        \"mirror_url\": null,\r\n        \"has_issues\": true,\r\n        \"id\": 215121947,\r\n        \"pushed_at\": \"2020-07-31T23:59:58.0000000Z\",\r\n        \"trees_url\": \"https://api.github.com/repos/phfilly/graphql-search/git/trees{/sha}\",\r\n        \"has_pages\": false,\r\n        \"full_name\": \"phfilly/graphql-search\",\r\n        \"pulls_url\": \"https://api.github.com/repos/phfilly/graphql-search/pulls{/number}\",\r\n        \"hooks_url\": \"https://api.github.com/repos/phfilly/graphql-search/hooks\",\r\n        \"teams_url\": \"https://api.github.com/repos/phfilly/graphql-search/teams\",\r\n        \"blobs_url\": \"https://api.github.com/repos/phfilly/graphql-search/git/blobs{/sha}\",\r\n        \"forks_url\": \"https://api.github.com/repos/phfilly/graphql-search/forks\",\r\n        \"clone_url\": \"https://github.com/phfilly/graphql-search.git\",\r\n        \"name\": \"graphql-search\",\r\n        \"disabled\": false,\r\n        \"language\": \"JavaScript\",\r\n        \"keys_url\": \"https://api.github.com/repos/phfilly/graphql-search/keys{/key_id}\",\r\n        \"tags_url\": \"https://api.github.com/repos/phfilly/graphql-search/tags\",\r\n        \"watchers\": 0,\r\n        \"archived\": false,\r\n        \"homepage\": \"\",\r\n        \"has_wiki\": true,\r\n        \"license\": null,\r\n        \"private\": false,\r\n        \"svn_url\": \"https://github.com/phfilly/graphql-search\",\r\n        \"ssh_url\": \"git@github.com:phfilly/graphql-search.git\",\r\n        \"git_url\": \"git://github.com/phfilly/graphql-search.git\",\r\n        \"size\": 9014,\r\n        \"owner\": {\r\n          \"received_events_url\": \"https://api.github.com/users/phfilly/received_events\",\r\n          \"organizations_url\": \"https://api.github.com/users/phfilly/orgs\",\r\n          \"subscriptions_url\": \"https://api.github.com/users/phfilly/subscriptions\",\r\n          \"events_url\": \"https://api.github.com/users/phfilly/events{/privacy}\",\r\n          \"html_url\": \"https://github.com/phfilly\",\r\n          \"followers_url\": \"https://api.github.com/users/phfilly/followers\",\r\n          \"following_url\": \"https://api.github.com/users/phfilly/following{/other_user}\",\r\n          \"node_id\": \"MDQ6VXNlcjQ2Mjc5NTM=\",\r\n          \"gravatar_id\": \"\",\r\n          \"starred_url\": \"https://api.github.com/users/phfilly/starred{/owner}{/repo}\",\r\n          \"avatar_url\": \"https://avatars1.githubusercontent.com/u/4627953?v=4\",\r\n          \"site_admin\": false,\r\n          \"repos_url\": \"https://api.github.com/users/phfilly/repos\",\r\n          \"gists_url\": \"https://api.github.com/users/phfilly/gists{/gist_id}\",\r\n          \"url\": \"https://api.github.com/users/phfilly\",\r\n          \"login\": \"phfilly\",\r\n          \"type\": \"User\",\r\n          \"id\": 4627953\r\n        },\r\n        \"forks\": 0,\r\n        \"fork\": false\r\n      }\r\n    }\r\n  },\r\n  \"number\": 7,\r\n  \"action\": \"opened\"\r\n}",
                                    "5": "1",
                                    "6": "2020-08-01 00:00:00",
                                    "7": "https://adxdemo.blob.core.windows.net/adx-demo/github-events/Github-2020-08-01-0.json.gz"
                                },
                                {
                                    "0": "13078576140",
                                    "1": "PushEvent",
                                    "2": "koki-noguchi",
                                    "3": "{\r\n  \"name\": \"koki-noguchi/laravel-portfolio\",\r\n  \"url\": \"https://api.github.com/repos/koki-noguchi/laravel-portfolio\",\r\n  \"id\": 278555963\r\n}",
                                    "4": "{\r\n  \"commits\": [\r\n    {\r\n      \"url\": \"https://api.github.com/repos/koki-noguchi/laravel-portfolio/commits/c631f9a5736312f724149b034bc3b1564f812faa\",\r\n      \"distinct\": false,\r\n      \"message\": \"[fix]募集編集ページをコ ンポーネントに分ける\",\r\n      \"sha\": \"c631f9a5736312f724149b034bc3b1564f812faa\",\r\n      \"author\": {\r\n        \"name\": \"koki_noguchi\",\r\n        \"email\": \"3deabe229a6344be8a56548876acee888315fcec@gmail.com\"\r\n      }\r\n    },\r\n    {\r\n      \"url\": \"https://api.github.com/repos/koki-noguchi/laravel-portfolio/commits/de6cd1b86b68b2d532ec1d6c6b7c03a76e4eba78\",\r\n      \"distinct\": true,\r\n      \"message\": \"Merge pull request #73 from koki-noguchi/design_post_page\\n\\nメッセージ募集の編集ページをコ ンポーネントに分ける\",\r\n      \"sha\": \"de6cd1b86b68b2d532ec1d6c6b7c03a76e4eba78\",\r\n      \"author\": {\r\n        \"name\": \"koki-noguchi\",\r\n        \"email\": \"e7220f0d43468ee4e189074d9e4990052258c514@users.noreply.github.com\"\r\n      }\r\n    }\r\n  ],\r\n  \"distinct_size\": 1,\r\n  \"ref\": \"refs/heads/master\",\r\n  \"size\": 2,\r\n  \"head\": \"de6cd1b86b68b2d532ec1d6c6b7c03a76e4eba78\",\r\n  \"push_id\": 5464383179,\r\n  \"before\": \"1d0f1948648a669c39bd84b01b3b42e92d08c49c\"\r\n}",
                                    "5": "1",
                                    "6": "2020-08-01 00:00:00",
                                    "7": "https://adxdemo.blob.core.windows.net/adx-demo/github-events/Github-2020-08-01-0.json.gz"
                                },
                                {
                                    "0": "13078576143",
                                    "1": "PullRequestEvent",
                                    "2": "whitesource-bolt-for-github[bot]",
                                    "3": "{\r\n  \"name\": \"ignatandrei/generateApp\",\r\n  \"url\": \"https://api.github.com/repos/ignatandrei/generateApp\",\r\n  \"id\": 284152066\r\n}",
                                    "4": "{\r\n  \"pull_request\": {\r\n    \"html_url\": \"https://github.com/ignatandrei/generateApp/pull/2\",\r\n    \"node_id\": \"MDExOlB1bGxSZXF1ZXN0NDYwNjI4NTcw\",\r\n    \"comments_url\": \"https://api.github.com/repos/ignatandrei/generateApp/issues/2/comments\",\r\n    \"statuses_url\": \"https://api.github.com/repos/ignatandrei/generateApp/statuses/4a2e2720caaab63a850623258a1e555d7ae00271\",\r\n    \"url\": \"https://api.github.com/repos/ignatandrei/generateApp/pulls/2\",\r\n    \"created_at\": \"2020-08-01T00:00:00.0000000Z\",\r\n    \"updated_at\": \"2020-08-01T00:00:00.0000000Z\",\r\n    \"commits_url\": \"https://api.github.com/repos/ignatandrei/generateApp/pulls/2/commits\",\r\n    \"review_comments\": 0,\r\n    \"author_association\": \"NONE\",\r\n    \"commits\": 1,\r\n    \"active_lock_reason\": null,\r\n    \"maintainer_can_modify\": false,\r\n    \"review_comments_url\": \"https://api.github.com/repos/ignatandrei/generateApp/pulls/2/comments\",\r\n    \"requested_reviewers\": [],\r\n    \"id\": 460628570,\r\n    \"review_comment_url\": \"https://api.github.com/repos/ignatandrei/generateApp/pulls/comments{/number}\",\r\n    \"comments\": 0,\r\n    \"merge_commit_sha\": null,\r\n    \"requested_teams\": [],\r\n    \"mergeable_state\": \"unknown\",\r\n    \"user\": {\r\n      \"received_events_url\": \"https://api.github.com/users/whitesource-bolt-for-github%5Bbot%5D/received_events\",\r\n      \"organizations_url\": \"https://api.github.com/users/whitesource-bolt-for-github%5Bbot%5D/orgs\",\r\n      \"subscriptions_url\": \"https://api.github.com/users/whitesource-bolt-for-github%5Bbot%5D/subscriptions\",\r\n      \"events_url\": \"https://api.github.com/users/whitesource-bolt-for-github%5Bbot%5D/events{/privacy}\",\r\n      \"html_url\": \"https://github.com/apps/whitesource-bolt-for-github\",\r\n      \"followers_url\": \"https://api.github.com/users/whitesource-bolt-for-github%5Bbot%5D/followers\",\r\n      \"following_url\": \"https://api.github.com/users/whitesource-bolt-for-github%5Bbot%5D/following{/other_user}\",\r\n      \"node_id\": \"MDM6Qm90NDI4MTk2ODk=\",\r\n      \"gravatar_id\": \"\",\r\n      \"starred_url\": \"https://api.github.com/users/whitesource-bolt-for-github%5Bbot%5D/starred{/owner}{/repo}\",\r\n      \"avatar_url\": \"https://avatars2.githubusercontent.com/in/16809?v=4\",\r\n      \"site_admin\": false,\r\n      \"repos_url\": \"https://api.github.com/users/whitesource-bolt-for-github%5Bbot%5D/repos\",\r\n      \"gists_url\": \"https://api.github.com/users/whitesource-bolt-for-github%5Bbot%5D/gists{/gist_id}\",\r\n      \"url\": \"https://api.github.com/users/whitesource-bolt-for-github%5Bbot%5D\",\r\n      \"login\": \"whitesource-bolt-for-github[bot]\",\r\n      \"type\": \"Bot\",\r\n      \"id\": 42819689\r\n    },\r\n    \"number\": 2,\r\n    \"changed_files\": 1,\r\n    \"closed_at\": null,\r\n    \"milestone\": null,\r\n    \"assignees\": [],\r\n    \"issue_url\": \"https://api.github.com/repos/ignatandrei/generateApp/issues/2\",\r\n    \"patch_url\": \"https://github.com/ignatandrei/generateApp/pull/2.patch\",\r\n    \"rebaseable\": null,\r\n    \"assignee\": null,\r\n    \"merged_at\": null,\r\n    \"deletions\": 0,\r\n    \"additions\": 11,\r\n    \"mergeable\": null,\r\n    \"merged_by\": null,\r\n    \"head\": {\r\n      \"user\": {\r\n        \"received_events_url\": \"https://api.github.com/users/ignatandrei/received_events\",\r\n        \"organizations_url\": \"https://api.github.com/users/ignatandrei/orgs\",\r\n        \"subscriptions_url\": \"https://api.github.com/users/ignatandrei/subscriptions\",\r\n        \"events_url\": \"https://api.github.com/users/ignatandrei/events{/privacy}\",\r\n        \"html_url\": \"https://github.com/ignatandrei\",\r\n        \"followers_url\": \"https://api.github.com/users/ignatandrei/followers\",\r\n        \"following_url\": \"https://api.github.com/users/ignatandrei/following{/other_user}\",\r\n        \"node_id\": \"MDQ6VXNlcjE1Mzk4Mg==\",\r\n        \"gravatar_id\": \"\",\r\n        \"starred_url\": \"https://api.github.com/users/ignatandrei/starred{/owner}{/repo}\",\r\n        \"avatar_url\": \"https://avatars3.githubusercontent.com/u/153982?v=4\",\r\n        \"site_admin\": false,\r\n        \"repos_url\": \"https://api.github.com/users/ignatandrei/repos\",\r\n        \"gists_url\": \"https://api.github.com/users/ignatandrei/gists{/gist_id}\",\r\n        \"url\": \"https://api.github.com/users/ignatandrei\",\r\n        \"login\": \"ignatandrei\",\r\n        \"type\": \"User\",\r\n        \"id\": 153982\r\n      },\r\n      \"ref\": \"whitesource/configure\",\r\n      \"sha\": \"4a2e2720caaab63a850623258a1e555d7ae00271\",\r\n      \"label\": \"ignatandrei:whitesource/configure\",\r\n      \"repo\": {\r\n        \"events_url\": \"https://api.github.com/repos/ignatandrei/generateApp/events\",\r\n        \"html_url\": \"https://github.com/ignatandrei/generateApp\",\r\n        \"node_id\": \"MDEwOlJlcG9zaXRvcnkyODQxNTIwNjY=\",\r\n        \"comments_url\": \"https://api.github.com/repos/ignatandrei/generateApp/comments{/number}\",\r\n        \"description\": null,\r\n        \"statuses_url\": \"https://api.github.com/repos/ignatandrei/generateApp/statuses/{sha}\",\r\n        \"url\": \"https://api.github.com/repos/ignatandrei/generateApp\",\r\n        \"open_issues_count\": 2,\r\n        \"collaborators_url\": \"https://api.github.com/repos/ignatandrei/generateApp/collaborators{/collaborator}\",\r\n        \"notifications_url\": \"https://api.github.com/repos/ignatandrei/generateApp/notifications{?since,all,participating}\",\r\n        \"issue_comment_url\": \"https://api.github.com/repos/ignatandrei/generateApp/issues/comments{/number}\",\r\n        \"created_at\": \"2020-07-31T23:59:49.0000000Z\",\r\n        \"updated_at\": \"2020-07-31T23:59:55.0000000Z\",\r\n        \"commits_url\": \"https://api.github.com/repos/ignatandrei/generateApp/commits{/sha}\",\r\n        \"contributors_url\": \"https://api.github.com/repos/ignatandrei/generateApp/contributors\",\r\n        \"issue_events_url\": \"https://api.github.com/repos/ignatandrei/generateApp/issues/events{/number}\",\r\n        \"stargazers_count\": 0,\r\n        \"subscription_url\": \"https://api.github.com/repos/ignatandrei/generateApp/subscription\",\r\n        \"git_commits_url\": \"https://api.github.com/repos/ignatandrei/generateApp/git/commits{/sha}\",\r\n        \"deployments_url\": \"https://api.github.com/repos/ignatandrei/generateApp/deployments\",\r\n        \"subscribers_url\": \"https://api.github.com/repos/ignatandrei/generateApp/subscribers\",\r\n        \"watchers_count\": 0,\r\n        \"milestones_url\": \"https://api.github.com/repos/ignatandrei/generateApp/milestones{/number}\",\r\n        \"stargazers_url\": \"https://api.github.com/repos/ignatandrei/generateApp/stargazers\",\r\n        \"default_branch\": \"master\",\r\n        \"downloads_url\": \"https://api.github.com/repos/ignatandrei/generateApp/downloads\",\r\n        \"assignees_url\": \"https://api.github.com/repos/ignatandrei/generateApp/assignees{/user}\",\r\n        \"languages_url\": \"https://api.github.com/repos/ignatandrei/generateApp/languages\",\r\n        \"has_downloads\": true,\r\n        \"branches_url\": \"https://api.github.com/repos/ignatandrei/generateApp/branches{/branch}\",\r\n        \"contents_url\": \"https://api.github.com/repos/ignatandrei/generateApp/contents/{+path}\",\r\n        \"releases_url\": \"https://api.github.com/repos/ignatandrei/generateApp/releases{/id}\",\r\n        \"has_projects\": true,\r\n        \"git_refs_url\": \"https://api.github.com/repos/ignatandrei/generateApp/git/refs{/sha}\",\r\n        \"git_tags_url\": \"https://api.github.com/repos/ignatandrei/generateApp/git/tags{/sha}\",\r\n        \"open_issues\": 2,\r\n        \"labels_url\": \"https://api.github.com/repos/ignatandrei/generateApp/labels{/name}\",\r\n        \"archive_url\": \"https://api.github.com/repos/ignatandrei/generateApp/{archive_format}{/ref}\",\r\n        \"forks_count\": 0,\r\n        \"compare_url\": \"https://api.github.com/repos/ignatandrei/generateApp/compare/{base}...{head}\",\r\n        \"merges_url\": \"https://api.github.com/repos/ignatandrei/generateApp/merges\",\r\n        \"issues_url\": \"https://api.github.com/repos/ignatandrei/generateApp/issues{/number}\",\r\n        \"mirror_url\": null,\r\n        \"has_issues\": true,\r\n        \"id\": 284152066,\r\n        \"pushed_at\": \"2020-07-31T23:59:59.0000000Z\",\r\n        \"trees_url\": \"https://api.github.com/repos/ignatandrei/generateApp/git/trees{/sha}\",\r\n        \"has_pages\": false,\r\n        \"full_name\": \"ignatandrei/generateApp\",\r\n        \"pulls_url\": \"https://api.github.com/repos/ignatandrei/generateApp/pulls{/number}\",\r\n        \"hooks_url\": \"https://api.github.com/repos/ignatandrei/generateApp/hooks\",\r\n        \"teams_url\": \"https://api.github.com/repos/ignatandrei/generateApp/teams\",\r\n        \"blobs_url\": \"https://api.github.com/repos/ignatandrei/generateApp/git/blobs{/sha}\",\r\n        \"forks_url\": \"https://api.github.com/repos/ignatandrei/generateApp/forks\",\r\n        \"clone_url\": \"https://github.com/ignatandrei/generateApp.git\",\r\n        \"name\": \"generateApp\",\r\n        \"disabled\": false,\r\n        \"language\": null,\r\n        \"keys_url\": \"https://api.github.com/repos/ignatandrei/generateApp/keys{/key_id}\",\r\n        \"tags_url\": \"https://api.github.com/repos/ignatandrei/generateApp/tags\",\r\n        \"watchers\": 0,\r\n        \"archived\": false,\r\n        \"homepage\": null,\r\n        \"has_wiki\": true,\r\n        \"license\": {\r\n          \"node_id\": \"MDc6TGljZW5zZTEz\",\r\n          \"url\": \"https://api.github.com/licenses/mit\",\r\n          \"name\": \"MIT License\",\r\n          \"spdx_id\": \"MIT\",\r\n          \"key\": \"mit\"\r\n        },\r\n        \"private\": false,\r\n        \"svn_url\": \"https://github.com/ignatandrei/generateApp\",\r\n        \"ssh_url\": \"git@github.com:ignatandrei/generateApp.git\",\r\n        \"git_url\": \"git://github.com/ignatandrei/generateApp.git\",\r\n        \"size\": 0,\r\n        \"owner\": {\r\n          \"received_events_url\": \"https://api.github.com/users/ignatandrei/received_events\",\r\n          \"organizations_url\": \"https://api.github.com/users/ignatandrei/orgs\",\r\n          \"subscriptions_url\": \"https://api.github.com/users/ignatandrei/subscriptions\",\r\n          \"events_url\": \"https://api.github.com/users/ignatandrei/events{/privacy}\",\r\n          \"html_url\": \"https://github.com/ignatandrei\",\r\n          \"followers_url\": \"https://api.github.com/users/ignatandrei/followers\",\r\n          \"following_url\": \"https://api.github.com/users/ignatandrei/following{/other_user}\",\r\n          \"node_id\": \"MDQ6VXNlcjE1Mzk4Mg==\",\r\n          \"gravatar_id\": \"\",\r\n          \"starred_url\": \"https://api.github.com/users/ignatandrei/starred{/owner}{/repo}\",\r\n          \"avatar_url\": \"https://avatars3.githubusercontent.com/u/153982?v=4\",\r\n          \"site_admin\": false,\r\n          \"repos_url\": \"https://api.github.com/users/ignatandrei/repos\",\r\n          \"gists_url\": \"https://api.github.com/users/ignatandrei/gists{/gist_id}\",\r\n          \"url\": \"https://api.github.com/users/ignatandrei\",\r\n          \"login\": \"ignatandrei\",\r\n          \"type\": \"User\",\r\n          \"id\": 153982\r\n        },\r\n        \"forks\": 0,\r\n        \"fork\": false\r\n      }\r\n    },\r\n    \"diff_url\": \"https://github.com/ignatandrei/generateApp/pull/2.diff\",\r\n    \"labels\": [],\r\n    \"locked\": false,\r\n    \"_links\": {\r\n      \"review_comments\": {\r\n        \"href\": \"https://api.github.com/repos/ignatandrei/generateApp/pulls/2/comments\"\r\n      },\r\n      \"commits\": {\r\n        \"href\": \"https://api.github.com/repos/ignatandrei/generateApp/pulls/2/commits\"\r\n      },\r\n      \"comments\": {\r\n        \"href\": \"https://api.github.com/repos/ignatandrei/generateApp/issues/2/comments\"\r\n      },\r\n      \"review_comment\": {\r\n        \"href\": \"https://api.github.com/repos/ignatandrei/generateApp/pulls/comments{/number}\"\r\n      },\r\n      \"statuses\": {\r\n        \"href\": \"https://api.github.com/repos/ignatandrei/generateApp/statuses/4a2e2720caaab63a850623258a1e555d7ae00271\"\r\n      },\r\n      \"issue\": {\r\n        \"href\": \"https://api.github.com/repos/ignatandrei/generateApp/issues/2\"\r\n      },\r\n      \"html\": {\r\n        \"href\": \"https://github.com/ignatandrei/generateApp/pull/2\"\r\n      },\r\n      \"self\": {\r\n        \"href\": \"https://api.github.com/repos/ignatandrei/generateApp/pulls/2\"\r\n      }\r\n    },\r\n    \"title\": \"Configure WhiteSource Bolt for GitHub\",\r\n    \"state\": \"open\",\r\n    \"merged\": false,\r\n    \"body\": \"Welcome to [WhiteSource Bolt for GitHub](https://github.com/marketplace/whitesource-bolt)! This is an onboarding PR to help you understand and configure settings before WhiteSource starts scanning your repository for security vulnerabilities.\\n\\n:vertical_traffic_light: WhiteSource Bolt for GitHub will start scanning your repository only once you merge this Pull Request. To disable WhiteSource Bolt for GitHub, simply close this Pull Request. \\n\\n\\n\\n---\\n\\n### What to Expect\\n\\nThis PR contains a '.whitesource' configuration file which can be customized to your needs. If no changes were applied to this file, WhiteSource Bolt for GitHub will use the default configuration.\\n\\nBefore merging this PR, Make sure the [Issues tab is enabled](https://whitesource.atlassian.net/wiki/spaces/WD/pages/594641239/Enabling+the+Issues+Tab+for+the+GitHub+Repository). Once you merge this PR, WhiteSource Bolt for GitHub will scan your repository and create a GitHub Issue for every vulnerability detected in your repository. \\n\\nIf you do not want a GitHub Issue to be created for each detected vulnerability, you can edit the '.whitesource' file and set the 'minSeverityLevel' parameter to 'NONE'. \\n\\n---\\n\\n:question: Got questions? Check out WhiteSource Bolt for GitHub [docs](https://whitesource.atlassian.net/wiki/spaces/WD/pages/556007950/WhiteSource+Bolt+for+GitHub).\\nIf you need any further assistance then you can also [request help here](https://whitesourcesoftware.force.com/CustomerCommunity/s).<!-- <WHITESOURCE>{ \\\"installationId\\\": \\\"1165336\\\"}</WHITESOURCE> -->\",\r\n    \"draft\": false,\r\n    \"base\": {\r\n      \"user\": {\r\n        \"received_events_url\": \"https://api.github.com/users/ignatandrei/received_events\",\r\n        \"organizations_url\": \"https://api.github.com/users/ignatandrei/orgs\",\r\n        \"subscriptions_url\": \"https://api.github.com/users/ignatandrei/subscriptions\",\r\n        \"events_url\": \"https://api.github.com/users/ignatandrei/events{/privacy}\",\r\n        \"html_url\": \"https://github.com/ignatandrei\",\r\n        \"followers_url\": \"https://api.github.com/users/ignatandrei/followers\",\r\n        \"following_url\": \"https://api.github.com/users/ignatandrei/following{/other_user}\",\r\n        \"node_id\": \"MDQ6VXNlcjE1Mzk4Mg==\",\r\n        \"gravatar_id\": \"\",\r\n        \"starred_url\": \"https://api.github.com/users/ignatandrei/starred{/owner}{/repo}\",\r\n        \"avatar_url\": \"https://avatars3.githubusercontent.com/u/153982?v=4\",\r\n        \"site_admin\": false,\r\n        \"repos_url\": \"https://api.github.com/users/ignatandrei/repos\",\r\n        \"gists_url\": \"https://api.github.com/users/ignatandrei/gists{/gist_id}\",\r\n        \"url\": \"https://api.github.com/users/ignatandrei\",\r\n        \"login\": \"ignatandrei\",\r\n        \"type\": \"User\",\r\n        \"id\": 153982\r\n      },\r\n      \"ref\": \"master\",\r\n      \"sha\": \"77cfc4e9a268522feefe4cf1728352a3fe35c7e3\",\r\n      \"label\": \"ignatandrei:master\",\r\n      \"repo\": {\r\n        \"events_url\": \"https://api.github.com/repos/ignatandrei/generateApp/events\",\r\n        \"html_url\": \"https://github.com/ignatandrei/generateApp\",\r\n        \"node_id\": \"MDEwOlJlcG9zaXRvcnkyODQxNTIwNjY=\",\r\n        \"comments_url\": \"https://api.github.com/repos/ignatandrei/generateApp/comments{/number}\",\r\n        \"description\": null,\r\n        \"statuses_url\": \"https://api.github.com/repos/ignatandrei/generateApp/statuses/{sha}\",\r\n        \"url\": \"https://api.github.com/repos/ignatandrei/generateApp\",\r\n        \"open_issues_count\": 2,\r\n        \"collaborators_url\": \"https://api.github.com/repos/ignatandrei/generateApp/collaborators{/collaborator}\",\r\n        \"notifications_url\": \"https://api.github.com/repos/ignatandrei/generateApp/notifications{?since,all,participating}\",\r\n        \"issue_comment_url\": \"https://api.github.com/repos/ignatandrei/generateApp/issues/comments{/number}\",\r\n        \"created_at\": \"2020-07-31T23:59:49.0000000Z\",\r\n        \"updated_at\": \"2020-07-31T23:59:55.0000000Z\",\r\n        \"commits_url\": \"https://api.github.com/repos/ignatandrei/generateApp/commits{/sha}\",\r\n        \"contributors_url\": \"https://api.github.com/repos/ignatandrei/generateApp/contributors\",\r\n        \"issue_events_url\": \"https://api.github.com/repos/ignatandrei/generateApp/issues/events{/number}\",\r\n        \"stargazers_count\": 0,\r\n        \"subscription_url\": \"https://api.github.com/repos/ignatandrei/generateApp/subscription\",\r\n        \"git_commits_url\": \"https://api.github.com/repos/ignatandrei/generateApp/git/commits{/sha}\",\r\n        \"deployments_url\": \"https://api.github.com/repos/ignatandrei/generateApp/deployments\",\r\n        \"subscribers_url\": \"https://api.github.com/repos/ignatandrei/generateApp/subscribers\",\r\n        \"watchers_count\": 0,\r\n        \"milestones_url\": \"https://api.github.com/repos/ignatandrei/generateApp/milestones{/number}\",\r\n        \"stargazers_url\": \"https://api.github.com/repos/ignatandrei/generateApp/stargazers\",\r\n        \"default_branch\": \"master\",\r\n        \"downloads_url\": \"https://api.github.com/repos/ignatandrei/generateApp/downloads\",\r\n        \"assignees_url\": \"https://api.github.com/repos/ignatandrei/generateApp/assignees{/user}\",\r\n        \"languages_url\": \"https://api.github.com/repos/ignatandrei/generateApp/languages\",\r\n        \"has_downloads\": true,\r\n        \"branches_url\": \"https://api.github.com/repos/ignatandrei/generateApp/branches{/branch}\",\r\n        \"contents_url\": \"https://api.github.com/repos/ignatandrei/generateApp/contents/{+path}\",\r\n        \"releases_url\": \"https://api.github.com/repos/ignatandrei/generateApp/releases{/id}\",\r\n        \"has_projects\": true,\r\n        \"git_refs_url\": \"https://api.github.com/repos/ignatandrei/generateApp/git/refs{/sha}\",\r\n        \"git_tags_url\": \"https://api.github.com/repos/ignatandrei/generateApp/git/tags{/sha}\",\r\n        \"open_issues\": 2,\r\n        \"labels_url\": \"https://api.github.com/repos/ignatandrei/generateApp/labels{/name}\",\r\n        \"archive_url\": \"https://api.github.com/repos/ignatandrei/generateApp/{archive_format}{/ref}\",\r\n        \"forks_count\": 0,\r\n        \"compare_url\": \"https://api.github.com/repos/ignatandrei/generateApp/compare/{base}...{head}\",\r\n        \"merges_url\": \"https://api.github.com/repos/ignatandrei/generateApp/merges\",\r\n        \"issues_url\": \"https://api.github.com/repos/ignatandrei/generateApp/issues{/number}\",\r\n        \"mirror_url\": null,\r\n        \"has_issues\": true,\r\n        \"id\": 284152066,\r\n        \"pushed_at\": \"2020-07-31T23:59:59.0000000Z\",\r\n        \"trees_url\": \"https://api.github.com/repos/ignatandrei/generateApp/git/trees{/sha}\",\r\n        \"has_pages\": false,\r\n        \"full_name\": \"ignatandrei/generateApp\",\r\n        \"pulls_url\": \"https://api.github.com/repos/ignatandrei/generateApp/pulls{/number}\",\r\n        \"hooks_url\": \"https://api.github.com/repos/ignatandrei/generateApp/hooks\",\r\n        \"teams_url\": \"https://api.github.com/repos/ignatandrei/generateApp/teams\",\r\n        \"blobs_url\": \"https://api.github.com/repos/ignatandrei/generateApp/git/blobs{/sha}\",\r\n        \"forks_url\": \"https://api.github.com/repos/ignatandrei/generateApp/forks\",\r\n        \"clone_url\": \"https://github.com/ignatandrei/generateApp.git\",\r\n        \"name\": \"generateApp\",\r\n        \"disabled\": false,\r\n        \"language\": null,\r\n        \"keys_url\": \"https://api.github.com/repos/ignatandrei/generateApp/keys{/key_id}\",\r\n        \"tags_url\": \"https://api.github.com/repos/ignatandrei/generateApp/tags\",\r\n        \"watchers\": 0,\r\n        \"archived\": false,\r\n        \"homepage\": null,\r\n        \"has_wiki\": true,\r\n        \"license\": {\r\n          \"node_id\": \"MDc6TGljZW5zZTEz\",\r\n          \"url\": \"https://api.github.com/licenses/mit\",\r\n          \"name\": \"MIT License\",\r\n          \"spdx_id\": \"MIT\",\r\n          \"key\": \"mit\"\r\n        },\r\n        \"private\": false,\r\n        \"svn_url\": \"https://github.com/ignatandrei/generateApp\",\r\n        \"ssh_url\": \"git@github.com:ignatandrei/generateApp.git\",\r\n        \"git_url\": \"git://github.com/ignatandrei/generateApp.git\",\r\n        \"size\": 0,\r\n        \"owner\": {\r\n          \"received_events_url\": \"https://api.github.com/users/ignatandrei/received_events\",\r\n          \"organizations_url\": \"https://api.github.com/users/ignatandrei/orgs\",\r\n          \"subscriptions_url\": \"https://api.github.com/users/ignatandrei/subscriptions\",\r\n          \"events_url\": \"https://api.github.com/users/ignatandrei/events{/privacy}\",\r\n          \"html_url\": \"https://github.com/ignatandrei\",\r\n          \"followers_url\": \"https://api.github.com/users/ignatandrei/followers\",\r\n          \"following_url\": \"https://api.github.com/users/ignatandrei/following{/other_user}\",\r\n          \"node_id\": \"MDQ6VXNlcjE1Mzk4Mg==\",\r\n          \"gravatar_id\": \"\",\r\n          \"starred_url\": \"https://api.github.com/users/ignatandrei/starred{/owner}{/repo}\",\r\n          \"avatar_url\": \"https://avatars3.githubusercontent.com/u/153982?v=4\",\r\n          \"site_admin\": false,\r\n          \"repos_url\": \"https://api.github.com/users/ignatandrei/repos\",\r\n          \"gists_url\": \"https://api.github.com/users/ignatandrei/gists{/gist_id}\",\r\n          \"url\": \"https://api.github.com/users/ignatandrei\",\r\n          \"login\": \"ignatandrei\",\r\n          \"type\": \"User\",\r\n          \"id\": 153982\r\n        },\r\n        \"forks\": 0,\r\n        \"fork\": false\r\n      }\r\n    }\r\n  },\r\n  \"number\": 2,\r\n  \"action\": \"opened\"\r\n}",
                                    "5": "1",
                                    "6": "2020-08-01 00:00:00",
                                    "7": "https://adxdemo.blob.core.windows.net/adx-demo/github-events/Github-2020-08-01-0.json.gz"
                                },
                                {
                                    "0": "13078576147",
                                    "1": "PushEvent",
                                    "2": "lyh01",
                                    "3": "{\r\n  \"name\": \"lyh01/word_pronunciation\",\r\n  \"url\": \"https://api.github.com/repos/lyh01/word_pronunciation\",\r\n  \"id\": 284137003\r\n}",
                                    "4": "{\r\n  \"commits\": [\r\n    {\r\n      \"url\": \"https://api.github.com/repos/lyh01/word_pronunciation/commits/4d7ae8a725aad971fc2dd52a6c10907f44ee0d5c\",\r\n      \"distinct\": true,\r\n      \"message\": \"Update README.md\",\r\n      \"sha\": \"4d7ae8a725aad971fc2dd52a6c10907f44ee0d5c\",\r\n      \"author\": {\r\n        \"name\": \"lyh01\",\r\n        \"email\": \"8ea06e9569776dd5312d9fd1c1c1f28dac32dc51@hotmail.com\"\r\n      }\r\n    }\r\n  ],\r\n  \"distinct_size\": 1,\r\n  \"ref\": \"refs/heads/master\",\r\n  \"size\": 1,\r\n  \"head\": \"4d7ae8a725aad971fc2dd52a6c10907f44ee0d5c\",\r\n  \"push_id\": 5464383183,\r\n  \"before\": \"70cc1d65af3039df1c7f78a50d974d5391addfed\"\r\n}",
                                    "5": "1",
                                    "6": "2020-08-01 00:00:00",
                                    "7": "https://adxdemo.blob.core.windows.net/adx-demo/github-events/Github-2020-08-01-0.json.gz"
                                }
                            ]
                        },
                        "text/html": [
                            "<table>",
                            "<tr><th>EventId</th><th>Type</th><th>Actor</th><th>Repository</th><th>Payload</th><th>Public</th><th>CreatedAt</th><th>SourceFile</th></tr>",
                            "<tr><td>13078576066</td><td>CreateEvent</td><td>dependabot[bot]</td><td>{\r\n  &quot;name&quot;: &quot;pras75299/React-demo&quot;,\r\n  &quot;url&quot;: &quot;https://api.github.com/repos/pras75299/React-demo&quot;,\r\n  &quot;id&quot;: 215850131\r\n}</td><td>{\r\n  &quot;description&quot;: &quot;React project for learning&quot;,\r\n  &quot;master_branch&quot;: &quot;master&quot;,\r\n  &quot;pusher_type&quot;: &quot;user&quot;,\r\n  &quot;ref&quot;: &quot;dependabot/npm_and_yarn/elliptic-6.5.3&quot;,\r\n  &quot;ref_type&quot;: &quot;branch&quot;\r\n}</td><td>1</td><td>2020-08-01 00:00:00</td><td>https://adxdemo.blob.core.windows.net/adx-demo/github-events/Github-2020-08-01-0.json.gz</td></tr>",
                            "<tr><td>13078576067</td><td>PullRequestEvent</td><td>dependabot[bot]</td><td>{\r\n  &quot;name&quot;: &quot;phfilly/graphql-search&quot;,\r\n  &quot;url&quot;: &quot;https://api.github.com/repos/phfilly/graphql-search&quot;,\r\n  &quot;id&quot;: 215121947\r\n}</td><td>{\r\n  &quot;pull_request&quot;: {\r\n    &quot;html_url&quot;: &quot;https://github.com/phfilly/graphql-search/pull/7&quot;,\r\n    &quot;node_id&quot;: &quot;MDExOlB1bGxSZXF1ZXN0NDYwNjI4NTU5&quot;,\r\n    &quot;comments_url&quot;: &quot;https://api.github.com/repos/phfilly/graphql-search/issues/7/comments&quot;,\r\n    &quot;statuses_url&quot;: &quot;https://api.github.com/repos/phfilly/graphql-search/statuses/3c0af4d4b5c8f4a947db2ca48f413db67b2294d9&quot;,\r\n    &quot;url&quot;: &quot;https://api.github.com/repos/phfilly/graphql-search/pulls/7&quot;,\r\n    &quot;created_at&quot;: &quot;2020-07-31T23:59:59.0000000Z&quot;,\r\n    &quot;updated_at&quot;: &quot;2020-07-31T23:59:59.0000000Z&quot;,\r\n    &quot;commits_url&quot;: &quot;https://api.github.com/repos/phfilly/graphql-search/pulls/7/commits&quot;,\r\n    &quot;review_comments&quot;: 0,\r\n    &quot;author_association&quot;: &quot;NONE&quot;,\r\n    &quot;commits&quot;: 1,\r\n    &quot;active_lock_reason&quot;: null,\r\n    &quot;maintainer_can_modify&quot;: false,\r\n    &quot;review_comments_url&quot;: &quot;https://api.github.com/repos/phfilly/graphql-search/pulls/7/comments&quot;,\r\n    &quot;requested_reviewers&quot;: [],\r\n    &quot;id&quot;: 460628559,\r\n    &quot;review_comment_url&quot;: &quot;https://api.github.com/repos/phfilly/graphql-search/pulls/comments{/number}&quot;,\r\n    &quot;comments&quot;: 0,\r\n    &quot;merge_commit_sha&quot;: null,\r\n    &quot;requested_teams&quot;: [],\r\n    &quot;mergeable_state&quot;: &quot;unknown&quot;,\r\n    &quot;user&quot;: {\r\n      &quot;received_events_url&quot;: &quot;https://api.github.com/users/dependabot%5Bbot%5D/received_events&quot;,\r\n      &quot;organizations_url&quot;: &quot;https://api.github.com/users/dependabot%5Bbot%5D/orgs&quot;,\r\n      &quot;subscriptions_url&quot;: &quot;https://api.github.com/users/dependabot%5Bbot%5D/subscriptions&quot;,\r\n      &quot;events_url&quot;: &quot;https://api.github.com/users/dependabot%5Bbot%5D/events{/privacy}&quot;,\r\n      &quot;html_url&quot;: &quot;https://github.com/apps/dependabot&quot;,\r\n      &quot;followers_url&quot;: &quot;https://api.github.com/users/dependabot%5Bbot%5D/followers&quot;,\r\n      &quot;following_url&quot;: &quot;https://api.github.com/users/dependabot%5Bbot%5D/following{/other_user}&quot;,\r\n      &quot;node_id&quot;: &quot;MDM6Qm90NDk2OTkzMzM=&quot;,\r\n      &quot;gravatar_id&quot;: &quot;&quot;,\r\n      &quot;starred_url&quot;: &quot;https://api.github.com/users/dependabot%5Bbot%5D/starred{/owner}{/repo}&quot;,\r\n      &quot;avatar_url&quot;: &quot;https://avatars0.githubusercontent.com/in/29110?v=4&quot;,\r\n      &quot;site_admin&quot;: false,\r\n      &quot;repos_url&quot;: &quot;https://api.github.com/users/dependabot%5Bbot%5D/repos&quot;,\r\n      &quot;gists_url&quot;: &quot;https://api.github.com/users/dependabot%5Bbot%5D/gists{/gist_id}&quot;,\r\n      &quot;url&quot;: &quot;https://api.github.com/users/dependabot%5Bbot%5D&quot;,\r\n      &quot;login&quot;: &quot;dependabot[bot]&quot;,\r\n      &quot;type&quot;: &quot;Bot&quot;,\r\n      &quot;id&quot;: 49699333\r\n    },\r\n    &quot;number&quot;: 7,\r\n    &quot;changed_files&quot;: 2,\r\n    &quot;closed_at&quot;: null,\r\n    &quot;milestone&quot;: null,\r\n    &quot;assignees&quot;: [],\r\n    &quot;issue_url&quot;: &quot;https://api.github.com/repos/phfilly/graphql-search/issues/7&quot;,\r\n    &quot;patch_url&quot;: &quot;https://github.com/phfilly/graphql-search/pull/7.patch&quot;,\r\n    &quot;rebaseable&quot;: null,\r\n    &quot;assignee&quot;: null,\r\n    &quot;merged_at&quot;: null,\r\n    &quot;deletions&quot;: 13,\r\n    &quot;additions&quot;: 46,\r\n    &quot;mergeable&quot;: null,\r\n    &quot;merged_by&quot;: null,\r\n    &quot;head&quot;: {\r\n      &quot;user&quot;: {\r\n        &quot;received_events_url&quot;: &quot;https://api.github.com/users/phfilly/received_events&quot;,\r\n        &quot;organizations_url&quot;: &quot;https://api.github.com/users/phfilly/orgs&quot;,\r\n        &quot;subscriptions_url&quot;: &quot;https://api.github.com/users/phfilly/subscriptions&quot;,\r\n        &quot;events_url&quot;: &quot;https://api.github.com/users/phfilly/events{/privacy}&quot;,\r\n        &quot;html_url&quot;: &quot;https://github.com/phfilly&quot;,\r\n        &quot;followers_url&quot;: &quot;https://api.github.com/users/phfilly/followers&quot;,\r\n        &quot;following_url&quot;: &quot;https://api.github.com/users/phfilly/following{/other_user}&quot;,\r\n        &quot;node_id&quot;: &quot;MDQ6VXNlcjQ2Mjc5NTM=&quot;,\r\n        &quot;gravatar_id&quot;: &quot;&quot;,\r\n        &quot;starred_url&quot;: &quot;https://api.github.com/users/phfilly/starred{/owner}{/repo}&quot;,\r\n        &quot;avatar_url&quot;: &quot;https://avatars1.githubusercontent.com/u/4627953?v=4&quot;,\r\n        &quot;site_admin&quot;: false,\r\n        &quot;repos_url&quot;: &quot;https://api.github.com/users/phfilly/repos&quot;,\r\n        &quot;gists_url&quot;: &quot;https://api.github.com/users/phfilly/gists{/gist_id}&quot;,\r\n        &quot;url&quot;: &quot;https://api.github.com/users/phfilly&quot;,\r\n        &quot;login&quot;: &quot;phfilly&quot;,\r\n        &quot;type&quot;: &quot;User&quot;,\r\n        &quot;id&quot;: 4627953\r\n      },\r\n      &quot;ref&quot;: &quot;dependabot/npm_and_yarn/elliptic-6.5.3&quot;,\r\n      &quot;sha&quot;: &quot;3c0af4d4b5c8f4a947db2ca48f413db67b2294d9&quot;,\r\n      &quot;label&quot;: &quot;phfilly:dependabot/npm_and_yarn/elliptic-6.5.3&quot;,\r\n      &quot;repo&quot;: {\r\n        &quot;events_url&quot;: &quot;https://api.github.com/repos/phfilly/graphql-search/events&quot;,\r\n        &quot;html_url&quot;: &quot;https://github.com/phfilly/graphql-search&quot;,\r\n        &quot;node_id&quot;: &quot;MDEwOlJlcG9zaXRvcnkyMTUxMjE5NDc=&quot;,\r\n        &quot;comments_url&quot;: &quot;https://api.github.com/repos/phfilly/graphql-search/comments{/number}&quot;,\r\n        &quot;description&quot;: &quot;Portfolio piece&quot;,\r\n        &quot;statuses_url&quot;: &quot;https://api.github.com/repos/phfilly/graphql-search/statuses/{sha}&quot;,\r\n        &quot;url&quot;: &quot;https://api.github.com/repos/phfilly/graphql-search&quot;,\r\n        &quot;open_issues_count&quot;: 7,\r\n        &quot;collaborators_url&quot;: &quot;https://api.github.com/repos/phfilly/graphql-search/collaborators{/collaborator}&quot;,\r\n        &quot;notifications_url&quot;: &quot;https://api.github.com/repos/phfilly/graphql-search/notifications{?since,all,participating}&quot;,\r\n        &quot;issue_comment_url&quot;: &quot;https://api.github.com/repos/phfilly/graphql-search/issues/comments{/number}&quot;,\r\n        &quot;created_at&quot;: &quot;2019-10-14T18:53:01.0000000Z&quot;,\r\n        &quot;updated_at&quot;: &quot;2020-02-26T17:12:10.0000000Z&quot;,\r\n        &quot;commits_url&quot;: &quot;https://api.github.com/repos/phfilly/graphql-search/commits{/sha}&quot;,\r\n        &quot;contributors_url&quot;: &quot;https://api.github.com/repos/phfilly/graphql-search/contributors&quot;,\r\n        &quot;issue_events_url&quot;: &quot;https://api.github.com/repos/phfilly/graphql-search/issues/events{/number}&quot;,\r\n        &quot;stargazers_count&quot;: 0,\r\n        &quot;subscription_url&quot;: &quot;https://api.github.com/repos/phfilly/graphql-search/subscription&quot;,\r\n        &quot;git_commits_url&quot;: &quot;https://api.github.com/repos/phfilly/graphql-search/git/commits{/sha}&quot;,\r\n        &quot;deployments_url&quot;: &quot;https://api.github.com/repos/phfilly/graphql-search/deployments&quot;,\r\n        &quot;subscribers_url&quot;: &quot;https://api.github.com/repos/phfilly/graphql-search/subscribers&quot;,\r\n        &quot;watchers_count&quot;: 0,\r\n        &quot;milestones_url&quot;: &quot;https://api.github.com/repos/phfilly/graphql-search/milestones{/number}&quot;,\r\n        &quot;stargazers_url&quot;: &quot;https://api.github.com/repos/phfilly/graphql-search/stargazers&quot;,\r\n        &quot;default_branch&quot;: &quot;master&quot;,\r\n        &quot;downloads_url&quot;: &quot;https://api.github.com/repos/phfilly/graphql-search/downloads&quot;,\r\n        &quot;assignees_url&quot;: &quot;https://api.github.com/repos/phfilly/graphql-search/assignees{/user}&quot;,\r\n        &quot;languages_url&quot;: &quot;https://api.github.com/repos/phfilly/graphql-search/languages&quot;,\r\n        &quot;has_downloads&quot;: true,\r\n        &quot;branches_url&quot;: &quot;https://api.github.com/repos/phfilly/graphql-search/branches{/branch}&quot;,\r\n        &quot;contents_url&quot;: &quot;https://api.github.com/repos/phfilly/graphql-search/contents/{+path}&quot;,\r\n        &quot;releases_url&quot;: &quot;https://api.github.com/repos/phfilly/graphql-search/releases{/id}&quot;,\r\n        &quot;has_projects&quot;: true,\r\n        &quot;git_refs_url&quot;: &quot;https://api.github.com/repos/phfilly/graphql-search/git/refs{/sha}&quot;,\r\n        &quot;git_tags_url&quot;: &quot;https://api.github.com/repos/phfilly/graphql-search/git/tags{/sha}&quot;,\r\n        &quot;open_issues&quot;: 7,\r\n        &quot;labels_url&quot;: &quot;https://api.github.com/repos/phfilly/graphql-search/labels{/name}&quot;,\r\n        &quot;archive_url&quot;: &quot;https://api.github.com/repos/phfilly/graphql-search/{archive_format}{/ref}&quot;,\r\n        &quot;forks_count&quot;: 0,\r\n        &quot;compare_url&quot;: &quot;https://api.github.com/repos/phfilly/graphql-search/compare/{base}...{head}&quot;,\r\n        &quot;merges_url&quot;: &quot;https://api.github.com/repos/phfilly/graphql-search/merges&quot;,\r\n        &quot;issues_url&quot;: &quot;https://api.github.com/repos/phfilly/graphql-search/issues{/number}&quot;,\r\n        &quot;mirror_url&quot;: null,\r\n        &quot;has_issues&quot;: true,\r\n        &quot;id&quot;: 215121947,\r\n        &quot;pushed_at&quot;: &quot;2020-07-31T23:59:58.0000000Z&quot;,\r\n        &quot;trees_url&quot;: &quot;https://api.github.com/repos/phfilly/graphql-search/git/trees{/sha}&quot;,\r\n        &quot;has_pages&quot;: false,\r\n        &quot;full_name&quot;: &quot;phfilly/graphql-search&quot;,\r\n        &quot;pulls_url&quot;: &quot;https://api.github.com/repos/phfilly/graphql-search/pulls{/number}&quot;,\r\n        &quot;hooks_url&quot;: &quot;https://api.github.com/repos/phfilly/graphql-search/hooks&quot;,\r\n        &quot;teams_url&quot;: &quot;https://api.github.com/repos/phfilly/graphql-search/teams&quot;,\r\n        &quot;blobs_url&quot;: &quot;https://api.github.com/repos/phfilly/graphql-search/git/blobs{/sha}&quot;,\r\n        &quot;forks_url&quot;: &quot;https://api.github.com/repos/phfilly/graphql-search/forks&quot;,\r\n        &quot;clone_url&quot;: &quot;https://github.com/phfilly/graphql-search.git&quot;,\r\n        &quot;name&quot;: &quot;graphql-search&quot;,\r\n        &quot;disabled&quot;: false,\r\n        &quot;language&quot;: &quot;JavaScript&quot;,\r\n        &quot;keys_url&quot;: &quot;https://api.github.com/repos/phfilly/graphql-search/keys{/key_id}&quot;,\r\n        &quot;tags_url&quot;: &quot;https://api.github.com/repos/phfilly/graphql-search/tags&quot;,\r\n        &quot;watchers&quot;: 0,\r\n        &quot;archived&quot;: false,\r\n        &quot;homepage&quot;: &quot;&quot;,\r\n        &quot;has_wiki&quot;: true,\r\n        &quot;license&quot;: null,\r\n        &quot;private&quot;: false,\r\n        &quot;svn_url&quot;: &quot;https://github.com/phfilly/graphql-search&quot;,\r\n        &quot;ssh_url&quot;: &quot;git@github.com:phfilly/graphql-search.git&quot;,\r\n        &quot;git_url&quot;: &quot;git://github.com/phfilly/graphql-search.git&quot;,\r\n        &quot;size&quot;: 9014,\r\n        &quot;owner&quot;: {\r\n          &quot;received_events_url&quot;: &quot;https://api.github.com/users/phfilly/received_events&quot;,\r\n          &quot;organizations_url&quot;: &quot;https://api.github.com/users/phfilly/orgs&quot;,\r\n          &quot;subscriptions_url&quot;: &quot;https://api.github.com/users/phfilly/subscriptions&quot;,\r\n          &quot;events_url&quot;: &quot;https://api.github.com/users/phfilly/events{/privacy}&quot;,\r\n          &quot;html_url&quot;: &quot;https://github.com/phfilly&quot;,\r\n          &quot;followers_url&quot;: &quot;https://api.github.com/users/phfilly/followers&quot;,\r\n          &quot;following_url&quot;: &quot;https://api.github.com/users/phfilly/following{/other_user}&quot;,\r\n          &quot;node_id&quot;: &quot;MDQ6VXNlcjQ2Mjc5NTM=&quot;,\r\n          &quot;gravatar_id&quot;: &quot;&quot;,\r\n          &quot;starred_url&quot;: &quot;https://api.github.com/users/phfilly/starred{/owner}{/repo}&quot;,\r\n          &quot;avatar_url&quot;: &quot;https://avatars1.githubusercontent.com/u/4627953?v=4&quot;,\r\n          &quot;site_admin&quot;: false,\r\n          &quot;repos_url&quot;: &quot;https://api.github.com/users/phfilly/repos&quot;,\r\n          &quot;gists_url&quot;: &quot;https://api.github.com/users/phfilly/gists{/gist_id}&quot;,\r\n          &quot;url&quot;: &quot;https://api.github.com/users/phfilly&quot;,\r\n          &quot;login&quot;: &quot;phfilly&quot;,\r\n          &quot;type&quot;: &quot;User&quot;,\r\n          &quot;id&quot;: 4627953\r\n        },\r\n        &quot;forks&quot;: 0,\r\n        &quot;fork&quot;: false\r\n      }\r\n    },\r\n    &quot;diff_url&quot;: &quot;https://github.com/phfilly/graphql-search/pull/7.diff&quot;,\r\n    &quot;labels&quot;: [],\r\n    &quot;locked&quot;: false,\r\n    &quot;_links&quot;: {\r\n      &quot;review_comments&quot;: {\r\n        &quot;href&quot;: &quot;https://api.github.com/repos/phfilly/graphql-search/pulls/7/comments&quot;\r\n      },\r\n      &quot;commits&quot;: {\r\n        &quot;href&quot;: &quot;https://api.github.com/repos/phfilly/graphql-search/pulls/7/commits&quot;\r\n      },\r\n      &quot;comments&quot;: {\r\n        &quot;href&quot;: &quot;https://api.github.com/repos/phfilly/graphql-search/issues/7/comments&quot;\r\n      },\r\n      &quot;review_comment&quot;: {\r\n        &quot;href&quot;: &quot;https://api.github.com/repos/phfilly/graphql-search/pulls/comments{/number}&quot;\r\n      },\r\n      &quot;statuses&quot;: {\r\n        &quot;href&quot;: &quot;https://api.github.com/repos/phfilly/graphql-search/statuses/3c0af4d4b5c8f4a947db2ca48f413db67b2294d9&quot;\r\n      },\r\n      &quot;issue&quot;: {\r\n        &quot;href&quot;: &quot;https://api.github.com/repos/phfilly/graphql-search/issues/7&quot;\r\n      },\r\n      &quot;html&quot;: {\r\n        &quot;href&quot;: &quot;https://github.com/phfilly/graphql-search/pull/7&quot;\r\n      },\r\n      &quot;self&quot;: {\r\n        &quot;href&quot;: &quot;https://api.github.com/repos/phfilly/graphql-search/pulls/7&quot;\r\n      }\r\n    },\r\n    &quot;title&quot;: &quot;Bump elliptic from 6.4.1 to 6.5.3&quot;,\r\n    &quot;state&quot;: &quot;open&quot;,\r\n    &quot;merged&quot;: false,\r\n    &quot;body&quot;: &quot;Bumps [elliptic](https://github.com/indutny/elliptic) from 6.4.1 to 6.5.3.\\n&lt;details&gt;\\n&lt;summary&gt;Commits&lt;/summary&gt;\\n&lt;ul&gt;\\n&lt;li&gt;&lt;a href=\\&quot;https://github.com/indutny/elliptic/commit/8647803dc3d90506aa03021737f7b061ba959ae1\\&quot;&gt;&lt;code&gt;8647803&lt;/code&gt;&lt;/a&gt; 6.5.3&lt;/li&gt;\\n&lt;li&gt;&lt;a href=\\&quot;https://github.com/indutny/elliptic/commit/856fe4d99fe7b6200556e6400b3bf585b1721bec\\&quot;&gt;&lt;code&gt;856fe4d&lt;/code&gt;&lt;/a&gt; signature: prevent malleability and overflows&lt;/li&gt;\\n&lt;li&gt;&lt;a href=\\&quot;https://github.com/indutny/elliptic/commit/60489415e545efdfd3010ae74b9726facbf08ca8\\&quot;&gt;&lt;code&gt;6048941&lt;/code&gt;&lt;/a&gt; 6.5.2&lt;/li&gt;\\n&lt;li&gt;&lt;a href=\\&quot;https://github.com/indutny/elliptic/commit/9984964457c9f8a63b91b01ea103260417eca237\\&quot;&gt;&lt;code&gt;9984964&lt;/code&gt;&lt;/a&gt; package: bump dependencies&lt;/li&gt;\\n&lt;li&gt;&lt;a href=\\&quot;https://github.com/indutny/elliptic/commit/ec735edde187a43693197f6fa3667ceade751a3a\\&quot;&gt;&lt;code&gt;ec735ed&lt;/code&gt;&lt;/a&gt; utils: leak less information in &lt;code&gt;getNAF()&lt;/code&gt;&lt;/li&gt;\\n&lt;li&gt;&lt;a href=\\&quot;https://github.com/indutny/elliptic/commit/71e4e8e2f5b8f0bdbfbe106c72cc9fbc746d3d60\\&quot;&gt;&lt;code&gt;71e4e8e&lt;/code&gt;&lt;/a&gt; 6.5.1&lt;/li&gt;\\n&lt;li&gt;&lt;a href=\\&quot;https://github.com/indutny/elliptic/commit/7ec66ffa255079260126d87b1762a59ea10de5ea\\&quot;&gt;&lt;code&gt;7ec66ff&lt;/code&gt;&lt;/a&gt; short: add infinity check before multiplying&lt;/li&gt;\\n&lt;li&gt;&lt;a href=\\&quot;https://github.com/indutny/elliptic/commit/ee7970b92f388e981d694be0436c4c8036b5d36c\\&quot;&gt;&lt;code&gt;ee7970b&lt;/code&gt;&lt;/a&gt; travis: really move on&lt;/li&gt;\\n&lt;li&gt;&lt;a href=\\&quot;https://github.com/indutny/elliptic/commit/637d0216b58de7edee4f3eb5641295ac323acadb\\&quot;&gt;&lt;code&gt;637d021&lt;/code&gt;&lt;/a&gt; travis: move on&lt;/li&gt;\\n&lt;li&gt;&lt;a href=\\&quot;https://github.com/indutny/elliptic/commit/5ed0babb6467cd8575a9218265473fda926d9d42\\&quot;&gt;&lt;code&gt;5ed0bab&lt;/code&gt;&lt;/a&gt; package: update deps&lt;/li&gt;\\n&lt;li&gt;Additional commits viewable in &lt;a href=\\&quot;https://github.com/indutny/elliptic/compare/v6.4.1...v6.5.3\\&quot;&gt;compare view&lt;/a&gt;&lt;/li&gt;\\n&lt;/ul&gt;\\n&lt;/details&gt;\\n&lt;br /&gt;\\n\\n\\n[![Dependabot compatibility score](https://dependabot-badges.githubapp.com/badges/compatibility_score?dependency-name=elliptic&amp;package-manager=npm_and_yarn&amp;previous-version=6.4.1&amp;new-version=6.5.3)](https://help.github.com/articles/configuring-automated-security-fixes)\\n\\nDependabot will resolve any conflicts with this PR as long as you don't alter it yourself. You can also trigger a rebase manually by commenting `@dependabot rebase`.\\n\\n[//]: # (dependabot-automerge-start)\\n[//]: # (dependabot-automerge-end)\\n\\n---\\n\\n&lt;details&gt;\\n&lt;summary&gt;Dependabot commands and options&lt;/summary&gt;\\n&lt;br /&gt;\\n\\nYou can trigger Dependabot actions by commenting on this PR:\\n- `@dependabot rebase` will rebase this PR\\n- `@dependabot recreate` will recreate this PR, overwriting any edits that have been made to it\\n- `@dependabot merge` will merge this PR after your CI passes on it\\n- `@dependabot squash and merge` will squash and merge this PR after your CI passes on it\\n- `@dependabot cancel merge` will cancel a previously requested merge and block automerging\\n- `@dependabot reopen` will reopen this PR if it is closed\\n- `@dependabot close` will close this PR and stop Dependabot recreating it. You can achieve the same result by closing it manually\\n- `@dependabot ignore this major version` will close this PR and stop Dependabot creating any more for this major version (unless you reopen the PR or upgrade to it yourself)\\n- `@dependabot ignore this minor version` will close this PR and stop Dependabot creating any more for this minor version (unless you reopen the PR or upgrade to it yourself)\\n- `@dependabot ignore this dependency` will close this PR and stop Dependabot creating any more for this dependency (unless you reopen the PR or upgrade to it yourself)\\n- `@dependabot use these labels` will set the current labels as the default for future PRs for this repo and language\\n- `@dependabot use these reviewers` will set the current reviewers as the default for future PRs for this repo and language\\n- `@dependabot use these assignees` will set the current assignees as the default for future PRs for this repo and language\\n- `@dependabot use this milestone` will set the current milestone as the default for future PRs for this repo and language\\n\\nYou can disable automated security fix PRs for this repo from the [Security Alerts page](https://github.com/phfilly/graphql-search/network/alerts).\\n\\n&lt;/details&gt;&quot;,\r\n    &quot;draft&quot;: false,\r\n    &quot;base&quot;: {\r\n      &quot;user&quot;: {\r\n        &quot;received_events_url&quot;: &quot;https://api.github.com/users/phfilly/received_events&quot;,\r\n        &quot;organizations_url&quot;: &quot;https://api.github.com/users/phfilly/orgs&quot;,\r\n        &quot;subscriptions_url&quot;: &quot;https://api.github.com/users/phfilly/subscriptions&quot;,\r\n        &quot;events_url&quot;: &quot;https://api.github.com/users/phfilly/events{/privacy}&quot;,\r\n        &quot;html_url&quot;: &quot;https://github.com/phfilly&quot;,\r\n        &quot;followers_url&quot;: &quot;https://api.github.com/users/phfilly/followers&quot;,\r\n        &quot;following_url&quot;: &quot;https://api.github.com/users/phfilly/following{/other_user}&quot;,\r\n        &quot;node_id&quot;: &quot;MDQ6VXNlcjQ2Mjc5NTM=&quot;,\r\n        &quot;gravatar_id&quot;: &quot;&quot;,\r\n        &quot;starred_url&quot;: &quot;https://api.github.com/users/phfilly/starred{/owner}{/repo}&quot;,\r\n        &quot;avatar_url&quot;: &quot;https://avatars1.githubusercontent.com/u/4627953?v=4&quot;,\r\n        &quot;site_admin&quot;: false,\r\n        &quot;repos_url&quot;: &quot;https://api.github.com/users/phfilly/repos&quot;,\r\n        &quot;gists_url&quot;: &quot;https://api.github.com/users/phfilly/gists{/gist_id}&quot;,\r\n        &quot;url&quot;: &quot;https://api.github.com/users/phfilly&quot;,\r\n        &quot;login&quot;: &quot;phfilly&quot;,\r\n        &quot;type&quot;: &quot;User&quot;,\r\n        &quot;id&quot;: 4627953\r\n      },\r\n      &quot;ref&quot;: &quot;master&quot;,\r\n      &quot;sha&quot;: &quot;4c4356cf6c57c2b6e4504b75bde2fdbde6224e33&quot;,\r\n      &quot;label&quot;: &quot;phfilly:master&quot;,\r\n      &quot;repo&quot;: {\r\n        &quot;events_url&quot;: &quot;https://api.github.com/repos/phfilly/graphql-search/events&quot;,\r\n        &quot;html_url&quot;: &quot;https://github.com/phfilly/graphql-search&quot;,\r\n        &quot;node_id&quot;: &quot;MDEwOlJlcG9zaXRvcnkyMTUxMjE5NDc=&quot;,\r\n        &quot;comments_url&quot;: &quot;https://api.github.com/repos/phfilly/graphql-search/comments{/number}&quot;,\r\n        &quot;description&quot;: &quot;Portfolio piece&quot;,\r\n        &quot;statuses_url&quot;: &quot;https://api.github.com/repos/phfilly/graphql-search/statuses/{sha}&quot;,\r\n        &quot;url&quot;: &quot;https://api.github.com/repos/phfilly/graphql-search&quot;,\r\n        &quot;open_issues_count&quot;: 7,\r\n        &quot;collaborators_url&quot;: &quot;https://api.github.com/repos/phfilly/graphql-search/collaborators{/collaborator}&quot;,\r\n        &quot;notifications_url&quot;: &quot;https://api.github.com/repos/phfilly/graphql-search/notifications{?since,all,participating}&quot;,\r\n        &quot;issue_comment_url&quot;: &quot;https://api.github.com/repos/phfilly/graphql-search/issues/comments{/number}&quot;,\r\n        &quot;created_at&quot;: &quot;2019-10-14T18:53:01.0000000Z&quot;,\r\n        &quot;updated_at&quot;: &quot;2020-02-26T17:12:10.0000000Z&quot;,\r\n        &quot;commits_url&quot;: &quot;https://api.github.com/repos/phfilly/graphql-search/commits{/sha}&quot;,\r\n        &quot;contributors_url&quot;: &quot;https://api.github.com/repos/phfilly/graphql-search/contributors&quot;,\r\n        &quot;issue_events_url&quot;: &quot;https://api.github.com/repos/phfilly/graphql-search/issues/events{/number}&quot;,\r\n        &quot;stargazers_count&quot;: 0,\r\n        &quot;subscription_url&quot;: &quot;https://api.github.com/repos/phfilly/graphql-search/subscription&quot;,\r\n        &quot;git_commits_url&quot;: &quot;https://api.github.com/repos/phfilly/graphql-search/git/commits{/sha}&quot;,\r\n        &quot;deployments_url&quot;: &quot;https://api.github.com/repos/phfilly/graphql-search/deployments&quot;,\r\n        &quot;subscribers_url&quot;: &quot;https://api.github.com/repos/phfilly/graphql-search/subscribers&quot;,\r\n        &quot;watchers_count&quot;: 0,\r\n        &quot;milestones_url&quot;: &quot;https://api.github.com/repos/phfilly/graphql-search/milestones{/number}&quot;,\r\n        &quot;stargazers_url&quot;: &quot;https://api.github.com/repos/phfilly/graphql-search/stargazers&quot;,\r\n        &quot;default_branch&quot;: &quot;master&quot;,\r\n        &quot;downloads_url&quot;: &quot;https://api.github.com/repos/phfilly/graphql-search/downloads&quot;,\r\n        &quot;assignees_url&quot;: &quot;https://api.github.com/repos/phfilly/graphql-search/assignees{/user}&quot;,\r\n        &quot;languages_url&quot;: &quot;https://api.github.com/repos/phfilly/graphql-search/languages&quot;,\r\n        &quot;has_downloads&quot;: true,\r\n        &quot;branches_url&quot;: &quot;https://api.github.com/repos/phfilly/graphql-search/branches{/branch}&quot;,\r\n        &quot;contents_url&quot;: &quot;https://api.github.com/repos/phfilly/graphql-search/contents/{+path}&quot;,\r\n        &quot;releases_url&quot;: &quot;https://api.github.com/repos/phfilly/graphql-search/releases{/id}&quot;,\r\n        &quot;has_projects&quot;: true,\r\n        &quot;git_refs_url&quot;: &quot;https://api.github.com/repos/phfilly/graphql-search/git/refs{/sha}&quot;,\r\n        &quot;git_tags_url&quot;: &quot;https://api.github.com/repos/phfilly/graphql-search/git/tags{/sha}&quot;,\r\n        &quot;open_issues&quot;: 7,\r\n        &quot;labels_url&quot;: &quot;https://api.github.com/repos/phfilly/graphql-search/labels{/name}&quot;,\r\n        &quot;archive_url&quot;: &quot;https://api.github.com/repos/phfilly/graphql-search/{archive_format}{/ref}&quot;,\r\n        &quot;forks_count&quot;: 0,\r\n        &quot;compare_url&quot;: &quot;https://api.github.com/repos/phfilly/graphql-search/compare/{base}...{head}&quot;,\r\n        &quot;merges_url&quot;: &quot;https://api.github.com/repos/phfilly/graphql-search/merges&quot;,\r\n        &quot;issues_url&quot;: &quot;https://api.github.com/repos/phfilly/graphql-search/issues{/number}&quot;,\r\n        &quot;mirror_url&quot;: null,\r\n        &quot;has_issues&quot;: true,\r\n        &quot;id&quot;: 215121947,\r\n        &quot;pushed_at&quot;: &quot;2020-07-31T23:59:58.0000000Z&quot;,\r\n        &quot;trees_url&quot;: &quot;https://api.github.com/repos/phfilly/graphql-search/git/trees{/sha}&quot;,\r\n        &quot;has_pages&quot;: false,\r\n        &quot;full_name&quot;: &quot;phfilly/graphql-search&quot;,\r\n        &quot;pulls_url&quot;: &quot;https://api.github.com/repos/phfilly/graphql-search/pulls{/number}&quot;,\r\n        &quot;hooks_url&quot;: &quot;https://api.github.com/repos/phfilly/graphql-search/hooks&quot;,\r\n        &quot;teams_url&quot;: &quot;https://api.github.com/repos/phfilly/graphql-search/teams&quot;,\r\n        &quot;blobs_url&quot;: &quot;https://api.github.com/repos/phfilly/graphql-search/git/blobs{/sha}&quot;,\r\n        &quot;forks_url&quot;: &quot;https://api.github.com/repos/phfilly/graphql-search/forks&quot;,\r\n        &quot;clone_url&quot;: &quot;https://github.com/phfilly/graphql-search.git&quot;,\r\n        &quot;name&quot;: &quot;graphql-search&quot;,\r\n        &quot;disabled&quot;: false,\r\n        &quot;language&quot;: &quot;JavaScript&quot;,\r\n        &quot;keys_url&quot;: &quot;https://api.github.com/repos/phfilly/graphql-search/keys{/key_id}&quot;,\r\n        &quot;tags_url&quot;: &quot;https://api.github.com/repos/phfilly/graphql-search/tags&quot;,\r\n        &quot;watchers&quot;: 0,\r\n        &quot;archived&quot;: false,\r\n        &quot;homepage&quot;: &quot;&quot;,\r\n        &quot;has_wiki&quot;: true,\r\n        &quot;license&quot;: null,\r\n        &quot;private&quot;: false,\r\n        &quot;svn_url&quot;: &quot;https://github.com/phfilly/graphql-search&quot;,\r\n        &quot;ssh_url&quot;: &quot;git@github.com:phfilly/graphql-search.git&quot;,\r\n        &quot;git_url&quot;: &quot;git://github.com/phfilly/graphql-search.git&quot;,\r\n        &quot;size&quot;: 9014,\r\n        &quot;owner&quot;: {\r\n          &quot;received_events_url&quot;: &quot;https://api.github.com/users/phfilly/received_events&quot;,\r\n          &quot;organizations_url&quot;: &quot;https://api.github.com/users/phfilly/orgs&quot;,\r\n          &quot;subscriptions_url&quot;: &quot;https://api.github.com/users/phfilly/subscriptions&quot;,\r\n          &quot;events_url&quot;: &quot;https://api.github.com/users/phfilly/events{/privacy}&quot;,\r\n          &quot;html_url&quot;: &quot;https://github.com/phfilly&quot;,\r\n          &quot;followers_url&quot;: &quot;https://api.github.com/users/phfilly/followers&quot;,\r\n          &quot;following_url&quot;: &quot;https://api.github.com/users/phfilly/following{/other_user}&quot;,\r\n          &quot;node_id&quot;: &quot;MDQ6VXNlcjQ2Mjc5NTM=&quot;,\r\n          &quot;gravatar_id&quot;: &quot;&quot;,\r\n          &quot;starred_url&quot;: &quot;https://api.github.com/users/phfilly/starred{/owner}{/repo}&quot;,\r\n          &quot;avatar_url&quot;: &quot;https://avatars1.githubusercontent.com/u/4627953?v=4&quot;,\r\n          &quot;site_admin&quot;: false,\r\n          &quot;repos_url&quot;: &quot;https://api.github.com/users/phfilly/repos&quot;,\r\n          &quot;gists_url&quot;: &quot;https://api.github.com/users/phfilly/gists{/gist_id}&quot;,\r\n          &quot;url&quot;: &quot;https://api.github.com/users/phfilly&quot;,\r\n          &quot;login&quot;: &quot;phfilly&quot;,\r\n          &quot;type&quot;: &quot;User&quot;,\r\n          &quot;id&quot;: 4627953\r\n        },\r\n        &quot;forks&quot;: 0,\r\n        &quot;fork&quot;: false\r\n      }\r\n    }\r\n  },\r\n  &quot;number&quot;: 7,\r\n  &quot;action&quot;: &quot;opened&quot;\r\n}</td><td>1</td><td>2020-08-01 00:00:00</td><td>https://adxdemo.blob.core.windows.net/adx-demo/github-events/Github-2020-08-01-0.json.gz</td></tr>",
                            "<tr><td>13078576140</td><td>PushEvent</td><td>koki-noguchi</td><td>{\r\n  &quot;name&quot;: &quot;koki-noguchi/laravel-portfolio&quot;,\r\n  &quot;url&quot;: &quot;https://api.github.com/repos/koki-noguchi/laravel-portfolio&quot;,\r\n  &quot;id&quot;: 278555963\r\n}</td><td>{\r\n  &quot;commits&quot;: [\r\n    {\r\n      &quot;url&quot;: &quot;https://api.github.com/repos/koki-noguchi/laravel-portfolio/commits/c631f9a5736312f724149b034bc3b1564f812faa&quot;,\r\n      &quot;distinct&quot;: false,\r\n      &quot;message&quot;: &quot;[fix]募集編集ページをコ ンポーネントに分ける&quot;,\r\n      &quot;sha&quot;: &quot;c631f9a5736312f724149b034bc3b1564f812faa&quot;,\r\n      &quot;author&quot;: {\r\n        &quot;name&quot;: &quot;koki_noguchi&quot;,\r\n        &quot;email&quot;: &quot;3deabe229a6344be8a56548876acee888315fcec@gmail.com&quot;\r\n      }\r\n    },\r\n    {\r\n      &quot;url&quot;: &quot;https://api.github.com/repos/koki-noguchi/laravel-portfolio/commits/de6cd1b86b68b2d532ec1d6c6b7c03a76e4eba78&quot;,\r\n      &quot;distinct&quot;: true,\r\n      &quot;message&quot;: &quot;Merge pull request #73 from koki-noguchi/design_post_page\\n\\nメッセージ募集の編集ページをコ ンポーネントに分ける&quot;,\r\n      &quot;sha&quot;: &quot;de6cd1b86b68b2d532ec1d6c6b7c03a76e4eba78&quot;,\r\n      &quot;author&quot;: {\r\n        &quot;name&quot;: &quot;koki-noguchi&quot;,\r\n        &quot;email&quot;: &quot;e7220f0d43468ee4e189074d9e4990052258c514@users.noreply.github.com&quot;\r\n      }\r\n    }\r\n  ],\r\n  &quot;distinct_size&quot;: 1,\r\n  &quot;ref&quot;: &quot;refs/heads/master&quot;,\r\n  &quot;size&quot;: 2,\r\n  &quot;head&quot;: &quot;de6cd1b86b68b2d532ec1d6c6b7c03a76e4eba78&quot;,\r\n  &quot;push_id&quot;: 5464383179,\r\n  &quot;before&quot;: &quot;1d0f1948648a669c39bd84b01b3b42e92d08c49c&quot;\r\n}</td><td>1</td><td>2020-08-01 00:00:00</td><td>https://adxdemo.blob.core.windows.net/adx-demo/github-events/Github-2020-08-01-0.json.gz</td></tr>",
                            "<tr><td>13078576143</td><td>PullRequestEvent</td><td>whitesource-bolt-for-github[bot]</td><td>{\r\n  &quot;name&quot;: &quot;ignatandrei/generateApp&quot;,\r\n  &quot;url&quot;: &quot;https://api.github.com/repos/ignatandrei/generateApp&quot;,\r\n  &quot;id&quot;: 284152066\r\n}</td><td>{\r\n  &quot;pull_request&quot;: {\r\n    &quot;html_url&quot;: &quot;https://github.com/ignatandrei/generateApp/pull/2&quot;,\r\n    &quot;node_id&quot;: &quot;MDExOlB1bGxSZXF1ZXN0NDYwNjI4NTcw&quot;,\r\n    &quot;comments_url&quot;: &quot;https://api.github.com/repos/ignatandrei/generateApp/issues/2/comments&quot;,\r\n    &quot;statuses_url&quot;: &quot;https://api.github.com/repos/ignatandrei/generateApp/statuses/4a2e2720caaab63a850623258a1e555d7ae00271&quot;,\r\n    &quot;url&quot;: &quot;https://api.github.com/repos/ignatandrei/generateApp/pulls/2&quot;,\r\n    &quot;created_at&quot;: &quot;2020-08-01T00:00:00.0000000Z&quot;,\r\n    &quot;updated_at&quot;: &quot;2020-08-01T00:00:00.0000000Z&quot;,\r\n    &quot;commits_url&quot;: &quot;https://api.github.com/repos/ignatandrei/generateApp/pulls/2/commits&quot;,\r\n    &quot;review_comments&quot;: 0,\r\n    &quot;author_association&quot;: &quot;NONE&quot;,\r\n    &quot;commits&quot;: 1,\r\n    &quot;active_lock_reason&quot;: null,\r\n    &quot;maintainer_can_modify&quot;: false,\r\n    &quot;review_comments_url&quot;: &quot;https://api.github.com/repos/ignatandrei/generateApp/pulls/2/comments&quot;,\r\n    &quot;requested_reviewers&quot;: [],\r\n    &quot;id&quot;: 460628570,\r\n    &quot;review_comment_url&quot;: &quot;https://api.github.com/repos/ignatandrei/generateApp/pulls/comments{/number}&quot;,\r\n    &quot;comments&quot;: 0,\r\n    &quot;merge_commit_sha&quot;: null,\r\n    &quot;requested_teams&quot;: [],\r\n    &quot;mergeable_state&quot;: &quot;unknown&quot;,\r\n    &quot;user&quot;: {\r\n      &quot;received_events_url&quot;: &quot;https://api.github.com/users/whitesource-bolt-for-github%5Bbot%5D/received_events&quot;,\r\n      &quot;organizations_url&quot;: &quot;https://api.github.com/users/whitesource-bolt-for-github%5Bbot%5D/orgs&quot;,\r\n      &quot;subscriptions_url&quot;: &quot;https://api.github.com/users/whitesource-bolt-for-github%5Bbot%5D/subscriptions&quot;,\r\n      &quot;events_url&quot;: &quot;https://api.github.com/users/whitesource-bolt-for-github%5Bbot%5D/events{/privacy}&quot;,\r\n      &quot;html_url&quot;: &quot;https://github.com/apps/whitesource-bolt-for-github&quot;,\r\n      &quot;followers_url&quot;: &quot;https://api.github.com/users/whitesource-bolt-for-github%5Bbot%5D/followers&quot;,\r\n      &quot;following_url&quot;: &quot;https://api.github.com/users/whitesource-bolt-for-github%5Bbot%5D/following{/other_user}&quot;,\r\n      &quot;node_id&quot;: &quot;MDM6Qm90NDI4MTk2ODk=&quot;,\r\n      &quot;gravatar_id&quot;: &quot;&quot;,\r\n      &quot;starred_url&quot;: &quot;https://api.github.com/users/whitesource-bolt-for-github%5Bbot%5D/starred{/owner}{/repo}&quot;,\r\n      &quot;avatar_url&quot;: &quot;https://avatars2.githubusercontent.com/in/16809?v=4&quot;,\r\n      &quot;site_admin&quot;: false,\r\n      &quot;repos_url&quot;: &quot;https://api.github.com/users/whitesource-bolt-for-github%5Bbot%5D/repos&quot;,\r\n      &quot;gists_url&quot;: &quot;https://api.github.com/users/whitesource-bolt-for-github%5Bbot%5D/gists{/gist_id}&quot;,\r\n      &quot;url&quot;: &quot;https://api.github.com/users/whitesource-bolt-for-github%5Bbot%5D&quot;,\r\n      &quot;login&quot;: &quot;whitesource-bolt-for-github[bot]&quot;,\r\n      &quot;type&quot;: &quot;Bot&quot;,\r\n      &quot;id&quot;: 42819689\r\n    },\r\n    &quot;number&quot;: 2,\r\n    &quot;changed_files&quot;: 1,\r\n    &quot;closed_at&quot;: null,\r\n    &quot;milestone&quot;: null,\r\n    &quot;assignees&quot;: [],\r\n    &quot;issue_url&quot;: &quot;https://api.github.com/repos/ignatandrei/generateApp/issues/2&quot;,\r\n    &quot;patch_url&quot;: &quot;https://github.com/ignatandrei/generateApp/pull/2.patch&quot;,\r\n    &quot;rebaseable&quot;: null,\r\n    &quot;assignee&quot;: null,\r\n    &quot;merged_at&quot;: null,\r\n    &quot;deletions&quot;: 0,\r\n    &quot;additions&quot;: 11,\r\n    &quot;mergeable&quot;: null,\r\n    &quot;merged_by&quot;: null,\r\n    &quot;head&quot;: {\r\n      &quot;user&quot;: {\r\n        &quot;received_events_url&quot;: &quot;https://api.github.com/users/ignatandrei/received_events&quot;,\r\n        &quot;organizations_url&quot;: &quot;https://api.github.com/users/ignatandrei/orgs&quot;,\r\n        &quot;subscriptions_url&quot;: &quot;https://api.github.com/users/ignatandrei/subscriptions&quot;,\r\n        &quot;events_url&quot;: &quot;https://api.github.com/users/ignatandrei/events{/privacy}&quot;,\r\n        &quot;html_url&quot;: &quot;https://github.com/ignatandrei&quot;,\r\n        &quot;followers_url&quot;: &quot;https://api.github.com/users/ignatandrei/followers&quot;,\r\n        &quot;following_url&quot;: &quot;https://api.github.com/users/ignatandrei/following{/other_user}&quot;,\r\n        &quot;node_id&quot;: &quot;MDQ6VXNlcjE1Mzk4Mg==&quot;,\r\n        &quot;gravatar_id&quot;: &quot;&quot;,\r\n        &quot;starred_url&quot;: &quot;https://api.github.com/users/ignatandrei/starred{/owner}{/repo}&quot;,\r\n        &quot;avatar_url&quot;: &quot;https://avatars3.githubusercontent.com/u/153982?v=4&quot;,\r\n        &quot;site_admin&quot;: false,\r\n        &quot;repos_url&quot;: &quot;https://api.github.com/users/ignatandrei/repos&quot;,\r\n        &quot;gists_url&quot;: &quot;https://api.github.com/users/ignatandrei/gists{/gist_id}&quot;,\r\n        &quot;url&quot;: &quot;https://api.github.com/users/ignatandrei&quot;,\r\n        &quot;login&quot;: &quot;ignatandrei&quot;,\r\n        &quot;type&quot;: &quot;User&quot;,\r\n        &quot;id&quot;: 153982\r\n      },\r\n      &quot;ref&quot;: &quot;whitesource/configure&quot;,\r\n      &quot;sha&quot;: &quot;4a2e2720caaab63a850623258a1e555d7ae00271&quot;,\r\n      &quot;label&quot;: &quot;ignatandrei:whitesource/configure&quot;,\r\n      &quot;repo&quot;: {\r\n        &quot;events_url&quot;: &quot;https://api.github.com/repos/ignatandrei/generateApp/events&quot;,\r\n        &quot;html_url&quot;: &quot;https://github.com/ignatandrei/generateApp&quot;,\r\n        &quot;node_id&quot;: &quot;MDEwOlJlcG9zaXRvcnkyODQxNTIwNjY=&quot;,\r\n        &quot;comments_url&quot;: &quot;https://api.github.com/repos/ignatandrei/generateApp/comments{/number}&quot;,\r\n        &quot;description&quot;: null,\r\n        &quot;statuses_url&quot;: &quot;https://api.github.com/repos/ignatandrei/generateApp/statuses/{sha}&quot;,\r\n        &quot;url&quot;: &quot;https://api.github.com/repos/ignatandrei/generateApp&quot;,\r\n        &quot;open_issues_count&quot;: 2,\r\n        &quot;collaborators_url&quot;: &quot;https://api.github.com/repos/ignatandrei/generateApp/collaborators{/collaborator}&quot;,\r\n        &quot;notifications_url&quot;: &quot;https://api.github.com/repos/ignatandrei/generateApp/notifications{?since,all,participating}&quot;,\r\n        &quot;issue_comment_url&quot;: &quot;https://api.github.com/repos/ignatandrei/generateApp/issues/comments{/number}&quot;,\r\n        &quot;created_at&quot;: &quot;2020-07-31T23:59:49.0000000Z&quot;,\r\n        &quot;updated_at&quot;: &quot;2020-07-31T23:59:55.0000000Z&quot;,\r\n        &quot;commits_url&quot;: &quot;https://api.github.com/repos/ignatandrei/generateApp/commits{/sha}&quot;,\r\n        &quot;contributors_url&quot;: &quot;https://api.github.com/repos/ignatandrei/generateApp/contributors&quot;,\r\n        &quot;issue_events_url&quot;: &quot;https://api.github.com/repos/ignatandrei/generateApp/issues/events{/number}&quot;,\r\n        &quot;stargazers_count&quot;: 0,\r\n        &quot;subscription_url&quot;: &quot;https://api.github.com/repos/ignatandrei/generateApp/subscription&quot;,\r\n        &quot;git_commits_url&quot;: &quot;https://api.github.com/repos/ignatandrei/generateApp/git/commits{/sha}&quot;,\r\n        &quot;deployments_url&quot;: &quot;https://api.github.com/repos/ignatandrei/generateApp/deployments&quot;,\r\n        &quot;subscribers_url&quot;: &quot;https://api.github.com/repos/ignatandrei/generateApp/subscribers&quot;,\r\n        &quot;watchers_count&quot;: 0,\r\n        &quot;milestones_url&quot;: &quot;https://api.github.com/repos/ignatandrei/generateApp/milestones{/number}&quot;,\r\n        &quot;stargazers_url&quot;: &quot;https://api.github.com/repos/ignatandrei/generateApp/stargazers&quot;,\r\n        &quot;default_branch&quot;: &quot;master&quot;,\r\n        &quot;downloads_url&quot;: &quot;https://api.github.com/repos/ignatandrei/generateApp/downloads&quot;,\r\n        &quot;assignees_url&quot;: &quot;https://api.github.com/repos/ignatandrei/generateApp/assignees{/user}&quot;,\r\n        &quot;languages_url&quot;: &quot;https://api.github.com/repos/ignatandrei/generateApp/languages&quot;,\r\n        &quot;has_downloads&quot;: true,\r\n        &quot;branches_url&quot;: &quot;https://api.github.com/repos/ignatandrei/generateApp/branches{/branch}&quot;,\r\n        &quot;contents_url&quot;: &quot;https://api.github.com/repos/ignatandrei/generateApp/contents/{+path}&quot;,\r\n        &quot;releases_url&quot;: &quot;https://api.github.com/repos/ignatandrei/generateApp/releases{/id}&quot;,\r\n        &quot;has_projects&quot;: true,\r\n        &quot;git_refs_url&quot;: &quot;https://api.github.com/repos/ignatandrei/generateApp/git/refs{/sha}&quot;,\r\n        &quot;git_tags_url&quot;: &quot;https://api.github.com/repos/ignatandrei/generateApp/git/tags{/sha}&quot;,\r\n        &quot;open_issues&quot;: 2,\r\n        &quot;labels_url&quot;: &quot;https://api.github.com/repos/ignatandrei/generateApp/labels{/name}&quot;,\r\n        &quot;archive_url&quot;: &quot;https://api.github.com/repos/ignatandrei/generateApp/{archive_format}{/ref}&quot;,\r\n        &quot;forks_count&quot;: 0,\r\n        &quot;compare_url&quot;: &quot;https://api.github.com/repos/ignatandrei/generateApp/compare/{base}...{head}&quot;,\r\n        &quot;merges_url&quot;: &quot;https://api.github.com/repos/ignatandrei/generateApp/merges&quot;,\r\n        &quot;issues_url&quot;: &quot;https://api.github.com/repos/ignatandrei/generateApp/issues{/number}&quot;,\r\n        &quot;mirror_url&quot;: null,\r\n        &quot;has_issues&quot;: true,\r\n        &quot;id&quot;: 284152066,\r\n        &quot;pushed_at&quot;: &quot;2020-07-31T23:59:59.0000000Z&quot;,\r\n        &quot;trees_url&quot;: &quot;https://api.github.com/repos/ignatandrei/generateApp/git/trees{/sha}&quot;,\r\n        &quot;has_pages&quot;: false,\r\n        &quot;full_name&quot;: &quot;ignatandrei/generateApp&quot;,\r\n        &quot;pulls_url&quot;: &quot;https://api.github.com/repos/ignatandrei/generateApp/pulls{/number}&quot;,\r\n        &quot;hooks_url&quot;: &quot;https://api.github.com/repos/ignatandrei/generateApp/hooks&quot;,\r\n        &quot;teams_url&quot;: &quot;https://api.github.com/repos/ignatandrei/generateApp/teams&quot;,\r\n        &quot;blobs_url&quot;: &quot;https://api.github.com/repos/ignatandrei/generateApp/git/blobs{/sha}&quot;,\r\n        &quot;forks_url&quot;: &quot;https://api.github.com/repos/ignatandrei/generateApp/forks&quot;,\r\n        &quot;clone_url&quot;: &quot;https://github.com/ignatandrei/generateApp.git&quot;,\r\n        &quot;name&quot;: &quot;generateApp&quot;,\r\n        &quot;disabled&quot;: false,\r\n        &quot;language&quot;: null,\r\n        &quot;keys_url&quot;: &quot;https://api.github.com/repos/ignatandrei/generateApp/keys{/key_id}&quot;,\r\n        &quot;tags_url&quot;: &quot;https://api.github.com/repos/ignatandrei/generateApp/tags&quot;,\r\n        &quot;watchers&quot;: 0,\r\n        &quot;archived&quot;: false,\r\n        &quot;homepage&quot;: null,\r\n        &quot;has_wiki&quot;: true,\r\n        &quot;license&quot;: {\r\n          &quot;node_id&quot;: &quot;MDc6TGljZW5zZTEz&quot;,\r\n          &quot;url&quot;: &quot;https://api.github.com/licenses/mit&quot;,\r\n          &quot;name&quot;: &quot;MIT License&quot;,\r\n          &quot;spdx_id&quot;: &quot;MIT&quot;,\r\n          &quot;key&quot;: &quot;mit&quot;\r\n        },\r\n        &quot;private&quot;: false,\r\n        &quot;svn_url&quot;: &quot;https://github.com/ignatandrei/generateApp&quot;,\r\n        &quot;ssh_url&quot;: &quot;git@github.com:ignatandrei/generateApp.git&quot;,\r\n        &quot;git_url&quot;: &quot;git://github.com/ignatandrei/generateApp.git&quot;,\r\n        &quot;size&quot;: 0,\r\n        &quot;owner&quot;: {\r\n          &quot;received_events_url&quot;: &quot;https://api.github.com/users/ignatandrei/received_events&quot;,\r\n          &quot;organizations_url&quot;: &quot;https://api.github.com/users/ignatandrei/orgs&quot;,\r\n          &quot;subscriptions_url&quot;: &quot;https://api.github.com/users/ignatandrei/subscriptions&quot;,\r\n          &quot;events_url&quot;: &quot;https://api.github.com/users/ignatandrei/events{/privacy}&quot;,\r\n          &quot;html_url&quot;: &quot;https://github.com/ignatandrei&quot;,\r\n          &quot;followers_url&quot;: &quot;https://api.github.com/users/ignatandrei/followers&quot;,\r\n          &quot;following_url&quot;: &quot;https://api.github.com/users/ignatandrei/following{/other_user}&quot;,\r\n          &quot;node_id&quot;: &quot;MDQ6VXNlcjE1Mzk4Mg==&quot;,\r\n          &quot;gravatar_id&quot;: &quot;&quot;,\r\n          &quot;starred_url&quot;: &quot;https://api.github.com/users/ignatandrei/starred{/owner}{/repo}&quot;,\r\n          &quot;avatar_url&quot;: &quot;https://avatars3.githubusercontent.com/u/153982?v=4&quot;,\r\n          &quot;site_admin&quot;: false,\r\n          &quot;repos_url&quot;: &quot;https://api.github.com/users/ignatandrei/repos&quot;,\r\n          &quot;gists_url&quot;: &quot;https://api.github.com/users/ignatandrei/gists{/gist_id}&quot;,\r\n          &quot;url&quot;: &quot;https://api.github.com/users/ignatandrei&quot;,\r\n          &quot;login&quot;: &quot;ignatandrei&quot;,\r\n          &quot;type&quot;: &quot;User&quot;,\r\n          &quot;id&quot;: 153982\r\n        },\r\n        &quot;forks&quot;: 0,\r\n        &quot;fork&quot;: false\r\n      }\r\n    },\r\n    &quot;diff_url&quot;: &quot;https://github.com/ignatandrei/generateApp/pull/2.diff&quot;,\r\n    &quot;labels&quot;: [],\r\n    &quot;locked&quot;: false,\r\n    &quot;_links&quot;: {\r\n      &quot;review_comments&quot;: {\r\n        &quot;href&quot;: &quot;https://api.github.com/repos/ignatandrei/generateApp/pulls/2/comments&quot;\r\n      },\r\n      &quot;commits&quot;: {\r\n        &quot;href&quot;: &quot;https://api.github.com/repos/ignatandrei/generateApp/pulls/2/commits&quot;\r\n      },\r\n      &quot;comments&quot;: {\r\n        &quot;href&quot;: &quot;https://api.github.com/repos/ignatandrei/generateApp/issues/2/comments&quot;\r\n      },\r\n      &quot;review_comment&quot;: {\r\n        &quot;href&quot;: &quot;https://api.github.com/repos/ignatandrei/generateApp/pulls/comments{/number}&quot;\r\n      },\r\n      &quot;statuses&quot;: {\r\n        &quot;href&quot;: &quot;https://api.github.com/repos/ignatandrei/generateApp/statuses/4a2e2720caaab63a850623258a1e555d7ae00271&quot;\r\n      },\r\n      &quot;issue&quot;: {\r\n        &quot;href&quot;: &quot;https://api.github.com/repos/ignatandrei/generateApp/issues/2&quot;\r\n      },\r\n      &quot;html&quot;: {\r\n        &quot;href&quot;: &quot;https://github.com/ignatandrei/generateApp/pull/2&quot;\r\n      },\r\n      &quot;self&quot;: {\r\n        &quot;href&quot;: &quot;https://api.github.com/repos/ignatandrei/generateApp/pulls/2&quot;\r\n      }\r\n    },\r\n    &quot;title&quot;: &quot;Configure WhiteSource Bolt for GitHub&quot;,\r\n    &quot;state&quot;: &quot;open&quot;,\r\n    &quot;merged&quot;: false,\r\n    &quot;body&quot;: &quot;Welcome to [WhiteSource Bolt for GitHub](https://github.com/marketplace/whitesource-bolt)! This is an onboarding PR to help you understand and configure settings before WhiteSource starts scanning your repository for security vulnerabilities.\\n\\n:vertical_traffic_light: WhiteSource Bolt for GitHub will start scanning your repository only once you merge this Pull Request. To disable WhiteSource Bolt for GitHub, simply close this Pull Request. \\n\\n\\n\\n---\\n\\n### What to Expect\\n\\nThis PR contains a '.whitesource' configuration file which can be customized to your needs. If no changes were applied to this file, WhiteSource Bolt for GitHub will use the default configuration.\\n\\nBefore merging this PR, Make sure the [Issues tab is enabled](https://whitesource.atlassian.net/wiki/spaces/WD/pages/594641239/Enabling+the+Issues+Tab+for+the+GitHub+Repository). Once you merge this PR, WhiteSource Bolt for GitHub will scan your repository and create a GitHub Issue for every vulnerability detected in your repository. \\n\\nIf you do not want a GitHub Issue to be created for each detected vulnerability, you can edit the '.whitesource' file and set the 'minSeverityLevel' parameter to 'NONE'. \\n\\n---\\n\\n:question: Got questions? Check out WhiteSource Bolt for GitHub [docs](https://whitesource.atlassian.net/wiki/spaces/WD/pages/556007950/WhiteSource+Bolt+for+GitHub).\\nIf you need any further assistance then you can also [request help here](https://whitesourcesoftware.force.com/CustomerCommunity/s).&lt;!-- &lt;WHITESOURCE&gt;{ \\&quot;installationId\\&quot;: \\&quot;1165336\\&quot;}&lt;/WHITESOURCE&gt; --&gt;&quot;,\r\n    &quot;draft&quot;: false,\r\n    &quot;base&quot;: {\r\n      &quot;user&quot;: {\r\n        &quot;received_events_url&quot;: &quot;https://api.github.com/users/ignatandrei/received_events&quot;,\r\n        &quot;organizations_url&quot;: &quot;https://api.github.com/users/ignatandrei/orgs&quot;,\r\n        &quot;subscriptions_url&quot;: &quot;https://api.github.com/users/ignatandrei/subscriptions&quot;,\r\n        &quot;events_url&quot;: &quot;https://api.github.com/users/ignatandrei/events{/privacy}&quot;,\r\n        &quot;html_url&quot;: &quot;https://github.com/ignatandrei&quot;,\r\n        &quot;followers_url&quot;: &quot;https://api.github.com/users/ignatandrei/followers&quot;,\r\n        &quot;following_url&quot;: &quot;https://api.github.com/users/ignatandrei/following{/other_user}&quot;,\r\n        &quot;node_id&quot;: &quot;MDQ6VXNlcjE1Mzk4Mg==&quot;,\r\n        &quot;gravatar_id&quot;: &quot;&quot;,\r\n        &quot;starred_url&quot;: &quot;https://api.github.com/users/ignatandrei/starred{/owner}{/repo}&quot;,\r\n        &quot;avatar_url&quot;: &quot;https://avatars3.githubusercontent.com/u/153982?v=4&quot;,\r\n        &quot;site_admin&quot;: false,\r\n        &quot;repos_url&quot;: &quot;https://api.github.com/users/ignatandrei/repos&quot;,\r\n        &quot;gists_url&quot;: &quot;https://api.github.com/users/ignatandrei/gists{/gist_id}&quot;,\r\n        &quot;url&quot;: &quot;https://api.github.com/users/ignatandrei&quot;,\r\n        &quot;login&quot;: &quot;ignatandrei&quot;,\r\n        &quot;type&quot;: &quot;User&quot;,\r\n        &quot;id&quot;: 153982\r\n      },\r\n      &quot;ref&quot;: &quot;master&quot;,\r\n      &quot;sha&quot;: &quot;77cfc4e9a268522feefe4cf1728352a3fe35c7e3&quot;,\r\n      &quot;label&quot;: &quot;ignatandrei:master&quot;,\r\n      &quot;repo&quot;: {\r\n        &quot;events_url&quot;: &quot;https://api.github.com/repos/ignatandrei/generateApp/events&quot;,\r\n        &quot;html_url&quot;: &quot;https://github.com/ignatandrei/generateApp&quot;,\r\n        &quot;node_id&quot;: &quot;MDEwOlJlcG9zaXRvcnkyODQxNTIwNjY=&quot;,\r\n        &quot;comments_url&quot;: &quot;https://api.github.com/repos/ignatandrei/generateApp/comments{/number}&quot;,\r\n        &quot;description&quot;: null,\r\n        &quot;statuses_url&quot;: &quot;https://api.github.com/repos/ignatandrei/generateApp/statuses/{sha}&quot;,\r\n        &quot;url&quot;: &quot;https://api.github.com/repos/ignatandrei/generateApp&quot;,\r\n        &quot;open_issues_count&quot;: 2,\r\n        &quot;collaborators_url&quot;: &quot;https://api.github.com/repos/ignatandrei/generateApp/collaborators{/collaborator}&quot;,\r\n        &quot;notifications_url&quot;: &quot;https://api.github.com/repos/ignatandrei/generateApp/notifications{?since,all,participating}&quot;,\r\n        &quot;issue_comment_url&quot;: &quot;https://api.github.com/repos/ignatandrei/generateApp/issues/comments{/number}&quot;,\r\n        &quot;created_at&quot;: &quot;2020-07-31T23:59:49.0000000Z&quot;,\r\n        &quot;updated_at&quot;: &quot;2020-07-31T23:59:55.0000000Z&quot;,\r\n        &quot;commits_url&quot;: &quot;https://api.github.com/repos/ignatandrei/generateApp/commits{/sha}&quot;,\r\n        &quot;contributors_url&quot;: &quot;https://api.github.com/repos/ignatandrei/generateApp/contributors&quot;,\r\n        &quot;issue_events_url&quot;: &quot;https://api.github.com/repos/ignatandrei/generateApp/issues/events{/number}&quot;,\r\n        &quot;stargazers_count&quot;: 0,\r\n        &quot;subscription_url&quot;: &quot;https://api.github.com/repos/ignatandrei/generateApp/subscription&quot;,\r\n        &quot;git_commits_url&quot;: &quot;https://api.github.com/repos/ignatandrei/generateApp/git/commits{/sha}&quot;,\r\n        &quot;deployments_url&quot;: &quot;https://api.github.com/repos/ignatandrei/generateApp/deployments&quot;,\r\n        &quot;subscribers_url&quot;: &quot;https://api.github.com/repos/ignatandrei/generateApp/subscribers&quot;,\r\n        &quot;watchers_count&quot;: 0,\r\n        &quot;milestones_url&quot;: &quot;https://api.github.com/repos/ignatandrei/generateApp/milestones{/number}&quot;,\r\n        &quot;stargazers_url&quot;: &quot;https://api.github.com/repos/ignatandrei/generateApp/stargazers&quot;,\r\n        &quot;default_branch&quot;: &quot;master&quot;,\r\n        &quot;downloads_url&quot;: &quot;https://api.github.com/repos/ignatandrei/generateApp/downloads&quot;,\r\n        &quot;assignees_url&quot;: &quot;https://api.github.com/repos/ignatandrei/generateApp/assignees{/user}&quot;,\r\n        &quot;languages_url&quot;: &quot;https://api.github.com/repos/ignatandrei/generateApp/languages&quot;,\r\n        &quot;has_downloads&quot;: true,\r\n        &quot;branches_url&quot;: &quot;https://api.github.com/repos/ignatandrei/generateApp/branches{/branch}&quot;,\r\n        &quot;contents_url&quot;: &quot;https://api.github.com/repos/ignatandrei/generateApp/contents/{+path}&quot;,\r\n        &quot;releases_url&quot;: &quot;https://api.github.com/repos/ignatandrei/generateApp/releases{/id}&quot;,\r\n        &quot;has_projects&quot;: true,\r\n        &quot;git_refs_url&quot;: &quot;https://api.github.com/repos/ignatandrei/generateApp/git/refs{/sha}&quot;,\r\n        &quot;git_tags_url&quot;: &quot;https://api.github.com/repos/ignatandrei/generateApp/git/tags{/sha}&quot;,\r\n        &quot;open_issues&quot;: 2,\r\n        &quot;labels_url&quot;: &quot;https://api.github.com/repos/ignatandrei/generateApp/labels{/name}&quot;,\r\n        &quot;archive_url&quot;: &quot;https://api.github.com/repos/ignatandrei/generateApp/{archive_format}{/ref}&quot;,\r\n        &quot;forks_count&quot;: 0,\r\n        &quot;compare_url&quot;: &quot;https://api.github.com/repos/ignatandrei/generateApp/compare/{base}...{head}&quot;,\r\n        &quot;merges_url&quot;: &quot;https://api.github.com/repos/ignatandrei/generateApp/merges&quot;,\r\n        &quot;issues_url&quot;: &quot;https://api.github.com/repos/ignatandrei/generateApp/issues{/number}&quot;,\r\n        &quot;mirror_url&quot;: null,\r\n        &quot;has_issues&quot;: true,\r\n        &quot;id&quot;: 284152066,\r\n        &quot;pushed_at&quot;: &quot;2020-07-31T23:59:59.0000000Z&quot;,\r\n        &quot;trees_url&quot;: &quot;https://api.github.com/repos/ignatandrei/generateApp/git/trees{/sha}&quot;,\r\n        &quot;has_pages&quot;: false,\r\n        &quot;full_name&quot;: &quot;ignatandrei/generateApp&quot;,\r\n        &quot;pulls_url&quot;: &quot;https://api.github.com/repos/ignatandrei/generateApp/pulls{/number}&quot;,\r\n        &quot;hooks_url&quot;: &quot;https://api.github.com/repos/ignatandrei/generateApp/hooks&quot;,\r\n        &quot;teams_url&quot;: &quot;https://api.github.com/repos/ignatandrei/generateApp/teams&quot;,\r\n        &quot;blobs_url&quot;: &quot;https://api.github.com/repos/ignatandrei/generateApp/git/blobs{/sha}&quot;,\r\n        &quot;forks_url&quot;: &quot;https://api.github.com/repos/ignatandrei/generateApp/forks&quot;,\r\n        &quot;clone_url&quot;: &quot;https://github.com/ignatandrei/generateApp.git&quot;,\r\n        &quot;name&quot;: &quot;generateApp&quot;,\r\n        &quot;disabled&quot;: false,\r\n        &quot;language&quot;: null,\r\n        &quot;keys_url&quot;: &quot;https://api.github.com/repos/ignatandrei/generateApp/keys{/key_id}&quot;,\r\n        &quot;tags_url&quot;: &quot;https://api.github.com/repos/ignatandrei/generateApp/tags&quot;,\r\n        &quot;watchers&quot;: 0,\r\n        &quot;archived&quot;: false,\r\n        &quot;homepage&quot;: null,\r\n        &quot;has_wiki&quot;: true,\r\n        &quot;license&quot;: {\r\n          &quot;node_id&quot;: &quot;MDc6TGljZW5zZTEz&quot;,\r\n          &quot;url&quot;: &quot;https://api.github.com/licenses/mit&quot;,\r\n          &quot;name&quot;: &quot;MIT License&quot;,\r\n          &quot;spdx_id&quot;: &quot;MIT&quot;,\r\n          &quot;key&quot;: &quot;mit&quot;\r\n        },\r\n        &quot;private&quot;: false,\r\n        &quot;svn_url&quot;: &quot;https://github.com/ignatandrei/generateApp&quot;,\r\n        &quot;ssh_url&quot;: &quot;git@github.com:ignatandrei/generateApp.git&quot;,\r\n        &quot;git_url&quot;: &quot;git://github.com/ignatandrei/generateApp.git&quot;,\r\n        &quot;size&quot;: 0,\r\n        &quot;owner&quot;: {\r\n          &quot;received_events_url&quot;: &quot;https://api.github.com/users/ignatandrei/received_events&quot;,\r\n          &quot;organizations_url&quot;: &quot;https://api.github.com/users/ignatandrei/orgs&quot;,\r\n          &quot;subscriptions_url&quot;: &quot;https://api.github.com/users/ignatandrei/subscriptions&quot;,\r\n          &quot;events_url&quot;: &quot;https://api.github.com/users/ignatandrei/events{/privacy}&quot;,\r\n          &quot;html_url&quot;: &quot;https://github.com/ignatandrei&quot;,\r\n          &quot;followers_url&quot;: &quot;https://api.github.com/users/ignatandrei/followers&quot;,\r\n          &quot;following_url&quot;: &quot;https://api.github.com/users/ignatandrei/following{/other_user}&quot;,\r\n          &quot;node_id&quot;: &quot;MDQ6VXNlcjE1Mzk4Mg==&quot;,\r\n          &quot;gravatar_id&quot;: &quot;&quot;,\r\n          &quot;starred_url&quot;: &quot;https://api.github.com/users/ignatandrei/starred{/owner}{/repo}&quot;,\r\n          &quot;avatar_url&quot;: &quot;https://avatars3.githubusercontent.com/u/153982?v=4&quot;,\r\n          &quot;site_admin&quot;: false,\r\n          &quot;repos_url&quot;: &quot;https://api.github.com/users/ignatandrei/repos&quot;,\r\n          &quot;gists_url&quot;: &quot;https://api.github.com/users/ignatandrei/gists{/gist_id}&quot;,\r\n          &quot;url&quot;: &quot;https://api.github.com/users/ignatandrei&quot;,\r\n          &quot;login&quot;: &quot;ignatandrei&quot;,\r\n          &quot;type&quot;: &quot;User&quot;,\r\n          &quot;id&quot;: 153982\r\n        },\r\n        &quot;forks&quot;: 0,\r\n        &quot;fork&quot;: false\r\n      }\r\n    }\r\n  },\r\n  &quot;number&quot;: 2,\r\n  &quot;action&quot;: &quot;opened&quot;\r\n}</td><td>1</td><td>2020-08-01 00:00:00</td><td>https://adxdemo.blob.core.windows.net/adx-demo/github-events/Github-2020-08-01-0.json.gz</td></tr>",
                            "<tr><td>13078576147</td><td>PushEvent</td><td>lyh01</td><td>{\r\n  &quot;name&quot;: &quot;lyh01/word_pronunciation&quot;,\r\n  &quot;url&quot;: &quot;https://api.github.com/repos/lyh01/word_pronunciation&quot;,\r\n  &quot;id&quot;: 284137003\r\n}</td><td>{\r\n  &quot;commits&quot;: [\r\n    {\r\n      &quot;url&quot;: &quot;https://api.github.com/repos/lyh01/word_pronunciation/commits/4d7ae8a725aad971fc2dd52a6c10907f44ee0d5c&quot;,\r\n      &quot;distinct&quot;: true,\r\n      &quot;message&quot;: &quot;Update README.md&quot;,\r\n      &quot;sha&quot;: &quot;4d7ae8a725aad971fc2dd52a6c10907f44ee0d5c&quot;,\r\n      &quot;author&quot;: {\r\n        &quot;name&quot;: &quot;lyh01&quot;,\r\n        &quot;email&quot;: &quot;8ea06e9569776dd5312d9fd1c1c1f28dac32dc51@hotmail.com&quot;\r\n      }\r\n    }\r\n  ],\r\n  &quot;distinct_size&quot;: 1,\r\n  &quot;ref&quot;: &quot;refs/heads/master&quot;,\r\n  &quot;size&quot;: 1,\r\n  &quot;head&quot;: &quot;4d7ae8a725aad971fc2dd52a6c10907f44ee0d5c&quot;,\r\n  &quot;push_id&quot;: 5464383183,\r\n  &quot;before&quot;: &quot;70cc1d65af3039df1c7f78a50d974d5391addfed&quot;\r\n}</td><td>1</td><td>2020-08-01 00:00:00</td><td>https://adxdemo.blob.core.windows.net/adx-demo/github-events/Github-2020-08-01-0.json.gz</td></tr>",
                            "</table>"
                        ]
                    }
                }
            ],
            "execution_count": 27
        },
        {
            "cell_type": "code",
            "source": [
                "Events\r\n",
                "| where Type==\"CreateEvent\"\r\n",
                "| limit 5;\r\n",
                "\r\n",
                "Events\r\n",
                "| limit 5\r\n",
                "| where Type==\"CreateEvent\";\r\n",
                "\r\n",
                ""
            ],
            "metadata": {
                "azdata_cell_guid": "55db2670-5793-427a-a696-78f68eb79daa"
            },
            "outputs": [
                {
                    "output_type": "display_data",
                    "data": {
                        "text/html": "Commands completed successfully."
                    },
                    "metadata": {}
                },
                {
                    "output_type": "display_data",
                    "data": {
                        "text/html": "Total execution time: 00:00:06.350"
                    },
                    "metadata": {}
                },
                {
                    "output_type": "execute_result",
                    "metadata": {},
                    "execution_count": 5,
                    "data": {
                        "application/vnd.dataresource+json": {
                            "schema": {
                                "fields": [
                                    {
                                        "name": "EventId"
                                    },
                                    {
                                        "name": "Type"
                                    },
                                    {
                                        "name": "Actor"
                                    },
                                    {
                                        "name": "Repository"
                                    },
                                    {
                                        "name": "Payload"
                                    },
                                    {
                                        "name": "Public"
                                    },
                                    {
                                        "name": "CreatedAt"
                                    },
                                    {
                                        "name": "SourceFile"
                                    }
                                ]
                            },
                            "data": [
                                {
                                    "0": "13084021335",
                                    "1": "CreateEvent",
                                    "2": "Gabriel-Almeida-99",
                                    "3": "{\r\n  \"name\": \"Gabriel-Almeida-99/github-slideshow\",\r\n  \"url\": \"https://api.github.com/repos/Gabriel-Almeida-99/github-slideshow\",\r\n  \"id\": 284304876\r\n}",
                                    "4": "{\r\n  \"description\": \"A robot powered training repository :robot:\",\r\n  \"master_branch\": \"master\",\r\n  \"pusher_type\": \"user\",\r\n  \"ref\": \"my-slide\",\r\n  \"ref_type\": \"branch\"\r\n}",
                                    "5": "1",
                                    "6": "2020-08-01 20:00:00",
                                    "7": "https://adxdemo.blob.core.windows.net/adx-demo/github-events/Github-2020-08-01-20.json.gz"
                                },
                                {
                                    "0": "13084021337",
                                    "1": "CreateEvent",
                                    "2": "dependabot[bot]",
                                    "3": "{\r\n  \"name\": \"IlyaGureshidze/test-tree\",\r\n  \"url\": \"https://api.github.com/repos/IlyaGureshidze/test-tree\",\r\n  \"id\": 253728280\r\n}",
                                    "4": "{\r\n  \"description\": \"test task\",\r\n  \"master_branch\": \"master\",\r\n  \"pusher_type\": \"user\",\r\n  \"ref\": \"dependabot/npm_and_yarn/elliptic-6.5.3\",\r\n  \"ref_type\": \"branch\"\r\n}",
                                    "5": "1",
                                    "6": "2020-08-01 20:00:00",
                                    "7": "https://adxdemo.blob.core.windows.net/adx-demo/github-events/Github-2020-08-01-20.json.gz"
                                },
                                {
                                    "0": "13084021339",
                                    "1": "CreateEvent",
                                    "2": "dependabot[bot]",
                                    "3": "{\r\n  \"name\": \"HiEricHere/planner-vue\",\r\n  \"url\": \"https://api.github.com/repos/HiEricHere/planner-vue\",\r\n  \"id\": 244358513\r\n}",
                                    "4": "{\r\n  \"description\": null,\r\n  \"master_branch\": \"master\",\r\n  \"pusher_type\": \"user\",\r\n  \"ref\": \"dependabot/npm_and_yarn/elliptic-6.5.3\",\r\n  \"ref_type\": \"branch\"\r\n}",
                                    "5": "1",
                                    "6": "2020-08-01 20:00:00",
                                    "7": "https://adxdemo.blob.core.windows.net/adx-demo/github-events/Github-2020-08-01-20.json.gz"
                                },
                                {
                                    "0": "13084021355",
                                    "1": "CreateEvent",
                                    "2": "dependabot[bot]",
                                    "3": "{\r\n  \"name\": \"mcirami/ybankTest\",\r\n  \"url\": \"https://api.github.com/repos/mcirami/ybankTest\",\r\n  \"id\": 253313602\r\n}",
                                    "4": "{\r\n  \"description\": null,\r\n  \"master_branch\": \"master\",\r\n  \"pusher_type\": \"user\",\r\n  \"ref\": \"dependabot/npm_and_yarn/api/elliptic-6.5.3\",\r\n  \"ref_type\": \"branch\"\r\n}",
                                    "5": "1",
                                    "6": "2020-08-01 20:00:00",
                                    "7": "https://adxdemo.blob.core.windows.net/adx-demo/github-events/Github-2020-08-01-20.json.gz"
                                },
                                {
                                    "0": "13084021370",
                                    "1": "CreateEvent",
                                    "2": "dependabot[bot]",
                                    "3": "{\r\n  \"name\": \"pirangabaneto/pizzahouse\",\r\n  \"url\": \"https://api.github.com/repos/pirangabaneto/pizzahouse\",\r\n  \"id\": 253363886\r\n}",
                                    "4": "{\r\n  \"description\": null,\r\n  \"master_branch\": \"master\",\r\n  \"pusher_type\": \"user\",\r\n  \"ref\": \"dependabot/npm_and_yarn/elliptic-6.5.3\",\r\n  \"ref_type\": \"branch\"\r\n}",
                                    "5": "1",
                                    "6": "2020-08-01 20:00:00",
                                    "7": "https://adxdemo.blob.core.windows.net/adx-demo/github-events/Github-2020-08-01-20.json.gz"
                                }
                            ]
                        },
                        "text/html": [
                            "<table>",
                            "<tr><th>EventId</th><th>Type</th><th>Actor</th><th>Repository</th><th>Payload</th><th>Public</th><th>CreatedAt</th><th>SourceFile</th></tr>",
                            "<tr><td>13084021335</td><td>CreateEvent</td><td>Gabriel-Almeida-99</td><td>{\r\n  &quot;name&quot;: &quot;Gabriel-Almeida-99/github-slideshow&quot;,\r\n  &quot;url&quot;: &quot;https://api.github.com/repos/Gabriel-Almeida-99/github-slideshow&quot;,\r\n  &quot;id&quot;: 284304876\r\n}</td><td>{\r\n  &quot;description&quot;: &quot;A robot powered training repository :robot:&quot;,\r\n  &quot;master_branch&quot;: &quot;master&quot;,\r\n  &quot;pusher_type&quot;: &quot;user&quot;,\r\n  &quot;ref&quot;: &quot;my-slide&quot;,\r\n  &quot;ref_type&quot;: &quot;branch&quot;\r\n}</td><td>1</td><td>2020-08-01 20:00:00</td><td>https://adxdemo.blob.core.windows.net/adx-demo/github-events/Github-2020-08-01-20.json.gz</td></tr>",
                            "<tr><td>13084021337</td><td>CreateEvent</td><td>dependabot[bot]</td><td>{\r\n  &quot;name&quot;: &quot;IlyaGureshidze/test-tree&quot;,\r\n  &quot;url&quot;: &quot;https://api.github.com/repos/IlyaGureshidze/test-tree&quot;,\r\n  &quot;id&quot;: 253728280\r\n}</td><td>{\r\n  &quot;description&quot;: &quot;test task&quot;,\r\n  &quot;master_branch&quot;: &quot;master&quot;,\r\n  &quot;pusher_type&quot;: &quot;user&quot;,\r\n  &quot;ref&quot;: &quot;dependabot/npm_and_yarn/elliptic-6.5.3&quot;,\r\n  &quot;ref_type&quot;: &quot;branch&quot;\r\n}</td><td>1</td><td>2020-08-01 20:00:00</td><td>https://adxdemo.blob.core.windows.net/adx-demo/github-events/Github-2020-08-01-20.json.gz</td></tr>",
                            "<tr><td>13084021339</td><td>CreateEvent</td><td>dependabot[bot]</td><td>{\r\n  &quot;name&quot;: &quot;HiEricHere/planner-vue&quot;,\r\n  &quot;url&quot;: &quot;https://api.github.com/repos/HiEricHere/planner-vue&quot;,\r\n  &quot;id&quot;: 244358513\r\n}</td><td>{\r\n  &quot;description&quot;: null,\r\n  &quot;master_branch&quot;: &quot;master&quot;,\r\n  &quot;pusher_type&quot;: &quot;user&quot;,\r\n  &quot;ref&quot;: &quot;dependabot/npm_and_yarn/elliptic-6.5.3&quot;,\r\n  &quot;ref_type&quot;: &quot;branch&quot;\r\n}</td><td>1</td><td>2020-08-01 20:00:00</td><td>https://adxdemo.blob.core.windows.net/adx-demo/github-events/Github-2020-08-01-20.json.gz</td></tr>",
                            "<tr><td>13084021355</td><td>CreateEvent</td><td>dependabot[bot]</td><td>{\r\n  &quot;name&quot;: &quot;mcirami/ybankTest&quot;,\r\n  &quot;url&quot;: &quot;https://api.github.com/repos/mcirami/ybankTest&quot;,\r\n  &quot;id&quot;: 253313602\r\n}</td><td>{\r\n  &quot;description&quot;: null,\r\n  &quot;master_branch&quot;: &quot;master&quot;,\r\n  &quot;pusher_type&quot;: &quot;user&quot;,\r\n  &quot;ref&quot;: &quot;dependabot/npm_and_yarn/api/elliptic-6.5.3&quot;,\r\n  &quot;ref_type&quot;: &quot;branch&quot;\r\n}</td><td>1</td><td>2020-08-01 20:00:00</td><td>https://adxdemo.blob.core.windows.net/adx-demo/github-events/Github-2020-08-01-20.json.gz</td></tr>",
                            "<tr><td>13084021370</td><td>CreateEvent</td><td>dependabot[bot]</td><td>{\r\n  &quot;name&quot;: &quot;pirangabaneto/pizzahouse&quot;,\r\n  &quot;url&quot;: &quot;https://api.github.com/repos/pirangabaneto/pizzahouse&quot;,\r\n  &quot;id&quot;: 253363886\r\n}</td><td>{\r\n  &quot;description&quot;: null,\r\n  &quot;master_branch&quot;: &quot;master&quot;,\r\n  &quot;pusher_type&quot;: &quot;user&quot;,\r\n  &quot;ref&quot;: &quot;dependabot/npm_and_yarn/elliptic-6.5.3&quot;,\r\n  &quot;ref_type&quot;: &quot;branch&quot;\r\n}</td><td>1</td><td>2020-08-01 20:00:00</td><td>https://adxdemo.blob.core.windows.net/adx-demo/github-events/Github-2020-08-01-20.json.gz</td></tr>",
                            "</table>"
                        ]
                    }
                },
                {
                    "output_type": "execute_result",
                    "metadata": {},
                    "execution_count": 5,
                    "data": {
                        "application/vnd.dataresource+json": {
                            "schema": {
                                "fields": [
                                    {
                                        "name": "EventId"
                                    },
                                    {
                                        "name": "Type"
                                    },
                                    {
                                        "name": "Actor"
                                    },
                                    {
                                        "name": "Repository"
                                    },
                                    {
                                        "name": "Payload"
                                    },
                                    {
                                        "name": "Public"
                                    },
                                    {
                                        "name": "CreatedAt"
                                    },
                                    {
                                        "name": "SourceFile"
                                    }
                                ]
                            },
                            "data": [
                                {
                                    "0": "13084021335",
                                    "1": "CreateEvent",
                                    "2": "Gabriel-Almeida-99",
                                    "3": "{\r\n  \"name\": \"Gabriel-Almeida-99/github-slideshow\",\r\n  \"url\": \"https://api.github.com/repos/Gabriel-Almeida-99/github-slideshow\",\r\n  \"id\": 284304876\r\n}",
                                    "4": "{\r\n  \"description\": \"A robot powered training repository :robot:\",\r\n  \"master_branch\": \"master\",\r\n  \"pusher_type\": \"user\",\r\n  \"ref\": \"my-slide\",\r\n  \"ref_type\": \"branch\"\r\n}",
                                    "5": "1",
                                    "6": "2020-08-01 20:00:00",
                                    "7": "https://adxdemo.blob.core.windows.net/adx-demo/github-events/Github-2020-08-01-20.json.gz"
                                },
                                {
                                    "0": "13084021337",
                                    "1": "CreateEvent",
                                    "2": "dependabot[bot]",
                                    "3": "{\r\n  \"name\": \"IlyaGureshidze/test-tree\",\r\n  \"url\": \"https://api.github.com/repos/IlyaGureshidze/test-tree\",\r\n  \"id\": 253728280\r\n}",
                                    "4": "{\r\n  \"description\": \"test task\",\r\n  \"master_branch\": \"master\",\r\n  \"pusher_type\": \"user\",\r\n  \"ref\": \"dependabot/npm_and_yarn/elliptic-6.5.3\",\r\n  \"ref_type\": \"branch\"\r\n}",
                                    "5": "1",
                                    "6": "2020-08-01 20:00:00",
                                    "7": "https://adxdemo.blob.core.windows.net/adx-demo/github-events/Github-2020-08-01-20.json.gz"
                                },
                                {
                                    "0": "13084021339",
                                    "1": "CreateEvent",
                                    "2": "dependabot[bot]",
                                    "3": "{\r\n  \"name\": \"HiEricHere/planner-vue\",\r\n  \"url\": \"https://api.github.com/repos/HiEricHere/planner-vue\",\r\n  \"id\": 244358513\r\n}",
                                    "4": "{\r\n  \"description\": null,\r\n  \"master_branch\": \"master\",\r\n  \"pusher_type\": \"user\",\r\n  \"ref\": \"dependabot/npm_and_yarn/elliptic-6.5.3\",\r\n  \"ref_type\": \"branch\"\r\n}",
                                    "5": "1",
                                    "6": "2020-08-01 20:00:00",
                                    "7": "https://adxdemo.blob.core.windows.net/adx-demo/github-events/Github-2020-08-01-20.json.gz"
                                }
                            ]
                        },
                        "text/html": [
                            "<table>",
                            "<tr><th>EventId</th><th>Type</th><th>Actor</th><th>Repository</th><th>Payload</th><th>Public</th><th>CreatedAt</th><th>SourceFile</th></tr>",
                            "<tr><td>13084021335</td><td>CreateEvent</td><td>Gabriel-Almeida-99</td><td>{\r\n  &quot;name&quot;: &quot;Gabriel-Almeida-99/github-slideshow&quot;,\r\n  &quot;url&quot;: &quot;https://api.github.com/repos/Gabriel-Almeida-99/github-slideshow&quot;,\r\n  &quot;id&quot;: 284304876\r\n}</td><td>{\r\n  &quot;description&quot;: &quot;A robot powered training repository :robot:&quot;,\r\n  &quot;master_branch&quot;: &quot;master&quot;,\r\n  &quot;pusher_type&quot;: &quot;user&quot;,\r\n  &quot;ref&quot;: &quot;my-slide&quot;,\r\n  &quot;ref_type&quot;: &quot;branch&quot;\r\n}</td><td>1</td><td>2020-08-01 20:00:00</td><td>https://adxdemo.blob.core.windows.net/adx-demo/github-events/Github-2020-08-01-20.json.gz</td></tr>",
                            "<tr><td>13084021337</td><td>CreateEvent</td><td>dependabot[bot]</td><td>{\r\n  &quot;name&quot;: &quot;IlyaGureshidze/test-tree&quot;,\r\n  &quot;url&quot;: &quot;https://api.github.com/repos/IlyaGureshidze/test-tree&quot;,\r\n  &quot;id&quot;: 253728280\r\n}</td><td>{\r\n  &quot;description&quot;: &quot;test task&quot;,\r\n  &quot;master_branch&quot;: &quot;master&quot;,\r\n  &quot;pusher_type&quot;: &quot;user&quot;,\r\n  &quot;ref&quot;: &quot;dependabot/npm_and_yarn/elliptic-6.5.3&quot;,\r\n  &quot;ref_type&quot;: &quot;branch&quot;\r\n}</td><td>1</td><td>2020-08-01 20:00:00</td><td>https://adxdemo.blob.core.windows.net/adx-demo/github-events/Github-2020-08-01-20.json.gz</td></tr>",
                            "<tr><td>13084021339</td><td>CreateEvent</td><td>dependabot[bot]</td><td>{\r\n  &quot;name&quot;: &quot;HiEricHere/planner-vue&quot;,\r\n  &quot;url&quot;: &quot;https://api.github.com/repos/HiEricHere/planner-vue&quot;,\r\n  &quot;id&quot;: 244358513\r\n}</td><td>{\r\n  &quot;description&quot;: null,\r\n  &quot;master_branch&quot;: &quot;master&quot;,\r\n  &quot;pusher_type&quot;: &quot;user&quot;,\r\n  &quot;ref&quot;: &quot;dependabot/npm_and_yarn/elliptic-6.5.3&quot;,\r\n  &quot;ref_type&quot;: &quot;branch&quot;\r\n}</td><td>1</td><td>2020-08-01 20:00:00</td><td>https://adxdemo.blob.core.windows.net/adx-demo/github-events/Github-2020-08-01-20.json.gz</td></tr>",
                            "</table>"
                        ]
                    }
                }
            ],
            "execution_count": 5
        },
        {
            "cell_type": "code",
            "source": [
                "Events\r\n",
                "| where Type==\"CreateEvent\"\r\n",
                "| limit 5\r\n",
                "| project Actor, RepositoryName = Repository.name, CaseSensitive = Repository.Name, Payload.description\r\n",
                "    "
            ],
            "metadata": {
                "azdata_cell_guid": "c1106343-5d3d-4097-bb79-d51c2090aeeb",
                "tags": []
            },
            "outputs": [
                {
                    "output_type": "display_data",
                    "data": {
                        "text/html": "Commands completed successfully."
                    },
                    "metadata": {}
                },
                {
                    "output_type": "display_data",
                    "data": {
                        "text/html": "Total execution time: 00:00:00.046"
                    },
                    "metadata": {}
                },
                {
                    "output_type": "execute_result",
                    "metadata": {},
                    "execution_count": 33,
                    "data": {
                        "application/vnd.dataresource+json": {
                            "schema": {
                                "fields": [
                                    {
                                        "name": "Actor"
                                    },
                                    {
                                        "name": "RepositoryName"
                                    },
                                    {
                                        "name": "CaseSensitive"
                                    },
                                    {
                                        "name": "Payload_description"
                                    }
                                ]
                            },
                            "data": [
                                {
                                    "0": "Gabriel-Almeida-99",
                                    "1": "Gabriel-Almeida-99/github-slideshow",
                                    "2": "",
                                    "3": "A robot powered training repository :robot:"
                                },
                                {
                                    "0": "dependabot[bot]",
                                    "1": "IlyaGureshidze/test-tree",
                                    "2": "",
                                    "3": "test task"
                                },
                                {
                                    "0": "dependabot[bot]",
                                    "1": "HiEricHere/planner-vue",
                                    "2": "",
                                    "3": ""
                                },
                                {
                                    "0": "dependabot[bot]",
                                    "1": "mcirami/ybankTest",
                                    "2": "",
                                    "3": ""
                                },
                                {
                                    "0": "dependabot[bot]",
                                    "1": "pirangabaneto/pizzahouse",
                                    "2": "",
                                    "3": ""
                                }
                            ]
                        },
                        "text/html": [
                            "<table>",
                            "<tr><th>Actor</th><th>RepositoryName</th><th>CaseSensitive</th><th>Payload_description</th></tr>",
                            "<tr><td>Gabriel-Almeida-99</td><td>Gabriel-Almeida-99/github-slideshow</td><td></td><td>A robot powered training repository :robot:</td></tr>",
                            "<tr><td>dependabot[bot]</td><td>IlyaGureshidze/test-tree</td><td></td><td>test task</td></tr>",
                            "<tr><td>dependabot[bot]</td><td>HiEricHere/planner-vue</td><td></td><td></td></tr>",
                            "<tr><td>dependabot[bot]</td><td>mcirami/ybankTest</td><td></td><td></td></tr>",
                            "<tr><td>dependabot[bot]</td><td>pirangabaneto/pizzahouse</td><td></td><td></td></tr>",
                            "</table>"
                        ]
                    }
                }
            ],
            "execution_count": 33
        },
        {
            "cell_type": "code",
            "source": [
                "Events\r\n",
                "| extend Description = iif(\r\n",
                "        strlen(tostring(Payload))>25 \r\n",
                "        , strcat(substring(tostring(Payload),0 ,10), \" ... \", reverse(substring(reverse(tostring(Payload)),0 ,10)))\r\n",
                "        , tostring(Payload.description)\r\n",
                "    )\r\n",
                "| project Actor, Description\r\n",
                "| limit 5"
            ],
            "metadata": {
                "azdata_cell_guid": "0b68b28a-64b6-4d66-bad8-66e865cd2595"
            },
            "outputs": [
                {
                    "output_type": "display_data",
                    "data": {
                        "text/html": "Commands completed successfully."
                    },
                    "metadata": {}
                },
                {
                    "output_type": "display_data",
                    "data": {
                        "text/html": "Total execution time: 00:00:00.036"
                    },
                    "metadata": {}
                },
                {
                    "output_type": "execute_result",
                    "metadata": {},
                    "execution_count": 43,
                    "data": {
                        "application/vnd.dataresource+json": {
                            "schema": {
                                "fields": [
                                    {
                                        "name": "Actor"
                                    },
                                    {
                                        "name": "Description"
                                    }
                                ]
                            },
                            "data": [
                                {
                                    "0": "Gabriel-Almeida-99",
                                    "1": "{\"descript ... :\"branch\"}"
                                },
                                {
                                    "0": "dependabot[bot]",
                                    "1": "{\"descript ... :\"branch\"}"
                                },
                                {
                                    "0": "dependabot[bot]",
                                    "1": "{\"descript ... :\"branch\"}"
                                },
                                {
                                    "0": "MikeOwino",
                                    "1": ""
                                },
                                {
                                    "0": "dbhautik",
                                    "1": "{\"action\": ... alendar\"}}"
                                }
                            ]
                        },
                        "text/html": [
                            "<table>",
                            "<tr><th>Actor</th><th>Description</th></tr>",
                            "<tr><td>Gabriel-Almeida-99</td><td>{&quot;descript ... :&quot;branch&quot;}</td></tr>",
                            "<tr><td>dependabot[bot]</td><td>{&quot;descript ... :&quot;branch&quot;}</td></tr>",
                            "<tr><td>dependabot[bot]</td><td>{&quot;descript ... :&quot;branch&quot;}</td></tr>",
                            "<tr><td>MikeOwino</td><td></td></tr>",
                            "<tr><td>dbhautik</td><td>{&quot;action&quot;: ... alendar&quot;}}</td></tr>",
                            "</table>"
                        ]
                    }
                }
            ],
            "execution_count": 43
        },
        {
            "cell_type": "code",
            "source": [
                "Events\r\n",
                "| project-away Actor, EventId, Payload\r\n",
                "| limit 5"
            ],
            "metadata": {
                "azdata_cell_guid": "ab0ef7d6-b35a-4d9f-b485-e64d2ac4566e"
            },
            "outputs": [
                {
                    "output_type": "display_data",
                    "data": {
                        "text/html": "Commands completed successfully."
                    },
                    "metadata": {}
                },
                {
                    "output_type": "display_data",
                    "data": {
                        "text/html": "Total execution time: 00:00:00.041"
                    },
                    "metadata": {}
                },
                {
                    "output_type": "execute_result",
                    "metadata": {},
                    "execution_count": 42,
                    "data": {
                        "application/vnd.dataresource+json": {
                            "schema": {
                                "fields": [
                                    {
                                        "name": "Type"
                                    },
                                    {
                                        "name": "Repository"
                                    },
                                    {
                                        "name": "Public"
                                    },
                                    {
                                        "name": "CreatedAt"
                                    },
                                    {
                                        "name": "SourceFile"
                                    }
                                ]
                            },
                            "data": [
                                {
                                    "0": "CreateEvent",
                                    "1": "{\r\n  \"name\": \"Gabriel-Almeida-99/github-slideshow\",\r\n  \"url\": \"https://api.github.com/repos/Gabriel-Almeida-99/github-slideshow\",\r\n  \"id\": 284304876\r\n}",
                                    "2": "1",
                                    "3": "2020-08-01 20:00:00",
                                    "4": "https://adxdemo.blob.core.windows.net/adx-demo/github-events/Github-2020-08-01-20.json.gz"
                                },
                                {
                                    "0": "CreateEvent",
                                    "1": "{\r\n  \"name\": \"IlyaGureshidze/test-tree\",\r\n  \"url\": \"https://api.github.com/repos/IlyaGureshidze/test-tree\",\r\n  \"id\": 253728280\r\n}",
                                    "2": "1",
                                    "3": "2020-08-01 20:00:00",
                                    "4": "https://adxdemo.blob.core.windows.net/adx-demo/github-events/Github-2020-08-01-20.json.gz"
                                },
                                {
                                    "0": "CreateEvent",
                                    "1": "{\r\n  \"name\": \"HiEricHere/planner-vue\",\r\n  \"url\": \"https://api.github.com/repos/HiEricHere/planner-vue\",\r\n  \"id\": 244358513\r\n}",
                                    "2": "1",
                                    "3": "2020-08-01 20:00:00",
                                    "4": "https://adxdemo.blob.core.windows.net/adx-demo/github-events/Github-2020-08-01-20.json.gz"
                                },
                                {
                                    "0": "WatchEvent",
                                    "1": "{\r\n  \"name\": \"MikeOwino/TransCoder\",\r\n  \"url\": \"https://api.github.com/repos/MikeOwino/TransCoder\",\r\n  \"id\": 283982516\r\n}",
                                    "2": "1",
                                    "3": "2020-08-01 20:00:00",
                                    "4": "https://adxdemo.blob.core.windows.net/adx-demo/github-events/Github-2020-08-01-20.json.gz"
                                },
                                {
                                    "0": "IssuesEvent",
                                    "1": "{\r\n  \"name\": \"fullcalendar/fullcalendar\",\r\n  \"url\": \"https://api.github.com/repos/fullcalendar/fullcalendar\",\r\n  \"id\": 381979\r\n}",
                                    "2": "1",
                                    "3": "2020-08-01 20:00:00",
                                    "4": "https://adxdemo.blob.core.windows.net/adx-demo/github-events/Github-2020-08-01-20.json.gz"
                                }
                            ]
                        },
                        "text/html": [
                            "<table>",
                            "<tr><th>Type</th><th>Repository</th><th>Public</th><th>CreatedAt</th><th>SourceFile</th></tr>",
                            "<tr><td>CreateEvent</td><td>{\r\n  &quot;name&quot;: &quot;Gabriel-Almeida-99/github-slideshow&quot;,\r\n  &quot;url&quot;: &quot;https://api.github.com/repos/Gabriel-Almeida-99/github-slideshow&quot;,\r\n  &quot;id&quot;: 284304876\r\n}</td><td>1</td><td>2020-08-01 20:00:00</td><td>https://adxdemo.blob.core.windows.net/adx-demo/github-events/Github-2020-08-01-20.json.gz</td></tr>",
                            "<tr><td>CreateEvent</td><td>{\r\n  &quot;name&quot;: &quot;IlyaGureshidze/test-tree&quot;,\r\n  &quot;url&quot;: &quot;https://api.github.com/repos/IlyaGureshidze/test-tree&quot;,\r\n  &quot;id&quot;: 253728280\r\n}</td><td>1</td><td>2020-08-01 20:00:00</td><td>https://adxdemo.blob.core.windows.net/adx-demo/github-events/Github-2020-08-01-20.json.gz</td></tr>",
                            "<tr><td>CreateEvent</td><td>{\r\n  &quot;name&quot;: &quot;HiEricHere/planner-vue&quot;,\r\n  &quot;url&quot;: &quot;https://api.github.com/repos/HiEricHere/planner-vue&quot;,\r\n  &quot;id&quot;: 244358513\r\n}</td><td>1</td><td>2020-08-01 20:00:00</td><td>https://adxdemo.blob.core.windows.net/adx-demo/github-events/Github-2020-08-01-20.json.gz</td></tr>",
                            "<tr><td>WatchEvent</td><td>{\r\n  &quot;name&quot;: &quot;MikeOwino/TransCoder&quot;,\r\n  &quot;url&quot;: &quot;https://api.github.com/repos/MikeOwino/TransCoder&quot;,\r\n  &quot;id&quot;: 283982516\r\n}</td><td>1</td><td>2020-08-01 20:00:00</td><td>https://adxdemo.blob.core.windows.net/adx-demo/github-events/Github-2020-08-01-20.json.gz</td></tr>",
                            "<tr><td>IssuesEvent</td><td>{\r\n  &quot;name&quot;: &quot;fullcalendar/fullcalendar&quot;,\r\n  &quot;url&quot;: &quot;https://api.github.com/repos/fullcalendar/fullcalendar&quot;,\r\n  &quot;id&quot;: 381979\r\n}</td><td>1</td><td>2020-08-01 20:00:00</td><td>https://adxdemo.blob.core.windows.net/adx-demo/github-events/Github-2020-08-01-20.json.gz</td></tr>",
                            "</table>"
                        ]
                    }
                }
            ],
            "execution_count": 42
        },
        {
            "cell_type": "code",
            "source": [
                "Events\r\n",
                "| project-rename Login = Actor\r\n",
                "| limit 5"
            ],
            "metadata": {
                "azdata_cell_guid": "0006cd1d-c945-40b7-8861-79197e198975"
            },
            "outputs": [
                {
                    "output_type": "display_data",
                    "data": {
                        "text/html": "Commands completed successfully."
                    },
                    "metadata": {}
                },
                {
                    "output_type": "display_data",
                    "data": {
                        "text/html": "Total execution time: 00:00:00.052"
                    },
                    "metadata": {}
                },
                {
                    "output_type": "execute_result",
                    "metadata": {},
                    "execution_count": 47,
                    "data": {
                        "application/vnd.dataresource+json": {
                            "schema": {
                                "fields": [
                                    {
                                        "name": "EventId"
                                    },
                                    {
                                        "name": "Type"
                                    },
                                    {
                                        "name": "Login"
                                    },
                                    {
                                        "name": "Repository"
                                    },
                                    {
                                        "name": "Payload"
                                    },
                                    {
                                        "name": "Public"
                                    },
                                    {
                                        "name": "CreatedAt"
                                    },
                                    {
                                        "name": "SourceFile"
                                    }
                                ]
                            },
                            "data": [
                                {
                                    "0": "13084021335",
                                    "1": "CreateEvent",
                                    "2": "Gabriel-Almeida-99",
                                    "3": "{\r\n  \"name\": \"Gabriel-Almeida-99/github-slideshow\",\r\n  \"url\": \"https://api.github.com/repos/Gabriel-Almeida-99/github-slideshow\",\r\n  \"id\": 284304876\r\n}",
                                    "4": "{\r\n  \"description\": \"A robot powered training repository :robot:\",\r\n  \"master_branch\": \"master\",\r\n  \"pusher_type\": \"user\",\r\n  \"ref\": \"my-slide\",\r\n  \"ref_type\": \"branch\"\r\n}",
                                    "5": "1",
                                    "6": "2020-08-01 20:00:00",
                                    "7": "https://adxdemo.blob.core.windows.net/adx-demo/github-events/Github-2020-08-01-20.json.gz"
                                },
                                {
                                    "0": "13084021337",
                                    "1": "CreateEvent",
                                    "2": "dependabot[bot]",
                                    "3": "{\r\n  \"name\": \"IlyaGureshidze/test-tree\",\r\n  \"url\": \"https://api.github.com/repos/IlyaGureshidze/test-tree\",\r\n  \"id\": 253728280\r\n}",
                                    "4": "{\r\n  \"description\": \"test task\",\r\n  \"master_branch\": \"master\",\r\n  \"pusher_type\": \"user\",\r\n  \"ref\": \"dependabot/npm_and_yarn/elliptic-6.5.3\",\r\n  \"ref_type\": \"branch\"\r\n}",
                                    "5": "1",
                                    "6": "2020-08-01 20:00:00",
                                    "7": "https://adxdemo.blob.core.windows.net/adx-demo/github-events/Github-2020-08-01-20.json.gz"
                                },
                                {
                                    "0": "13084021339",
                                    "1": "CreateEvent",
                                    "2": "dependabot[bot]",
                                    "3": "{\r\n  \"name\": \"HiEricHere/planner-vue\",\r\n  \"url\": \"https://api.github.com/repos/HiEricHere/planner-vue\",\r\n  \"id\": 244358513\r\n}",
                                    "4": "{\r\n  \"description\": null,\r\n  \"master_branch\": \"master\",\r\n  \"pusher_type\": \"user\",\r\n  \"ref\": \"dependabot/npm_and_yarn/elliptic-6.5.3\",\r\n  \"ref_type\": \"branch\"\r\n}",
                                    "5": "1",
                                    "6": "2020-08-01 20:00:00",
                                    "7": "https://adxdemo.blob.core.windows.net/adx-demo/github-events/Github-2020-08-01-20.json.gz"
                                },
                                {
                                    "0": "13084021340",
                                    "1": "WatchEvent",
                                    "2": "MikeOwino",
                                    "3": "{\r\n  \"name\": \"MikeOwino/TransCoder\",\r\n  \"url\": \"https://api.github.com/repos/MikeOwino/TransCoder\",\r\n  \"id\": 283982516\r\n}",
                                    "4": "{\r\n  \"action\": \"started\"\r\n}",
                                    "5": "1",
                                    "6": "2020-08-01 20:00:00",
                                    "7": "https://adxdemo.blob.core.windows.net/adx-demo/github-events/Github-2020-08-01-20.json.gz"
                                },
                                {
                                    "0": "13084021341",
                                    "1": "IssuesEvent",
                                    "2": "dbhautik",
                                    "3": "{\r\n  \"name\": \"fullcalendar/fullcalendar\",\r\n  \"url\": \"https://api.github.com/repos/fullcalendar/fullcalendar\",\r\n  \"id\": 381979\r\n}",
                                    "4": "{\r\n  \"action\": \"opened\",\r\n  \"issue\": {\r\n    \"events_url\": \"https://api.github.com/repos/fullcalendar/fullcalendar/issues/5687/events\",\r\n    \"html_url\": \"https://github.com/fullcalendar/fullcalendar/issues/5687\",\r\n    \"node_id\": \"MDU6SXNzdWU2NzExNTI4NTU=\",\r\n    \"comments_url\": \"https://api.github.com/repos/fullcalendar/fullcalendar/issues/5687/comments\",\r\n    \"created_at\": \"2020-08-01T19:59:59.0000000Z\",\r\n    \"updated_at\": \"2020-08-01T19:59:59.0000000Z\",\r\n    \"url\": \"https://api.github.com/repos/fullcalendar/fullcalendar/issues/5687\",\r\n    \"author_association\": \"NONE\",\r\n    \"labels_url\": \"https://api.github.com/repos/fullcalendar/fullcalendar/issues/5687/labels{/name}\",\r\n    \"active_lock_reason\": null,\r\n    \"id\": 671152855,\r\n    \"comments\": 0,\r\n    \"user\": {\r\n      \"received_events_url\": \"https://api.github.com/users/dbhautik/received_events\",\r\n      \"organizations_url\": \"https://api.github.com/users/dbhautik/orgs\",\r\n      \"subscriptions_url\": \"https://api.github.com/users/dbhautik/subscriptions\",\r\n      \"events_url\": \"https://api.github.com/users/dbhautik/events{/privacy}\",\r\n      \"followers_url\": \"https://api.github.com/users/dbhautik/followers\",\r\n      \"following_url\": \"https://api.github.com/users/dbhautik/following{/other_user}\",\r\n      \"html_url\": \"https://github.com/dbhautik\",\r\n      \"node_id\": \"MDQ6VXNlcjM4Njc3Mjk1\",\r\n      \"starred_url\": \"https://api.github.com/users/dbhautik/starred{/owner}{/repo}\",\r\n      \"gravatar_id\": \"\",\r\n      \"site_admin\": false,\r\n      \"avatar_url\": \"https://avatars3.githubusercontent.com/u/38677295?v=4\",\r\n      \"repos_url\": \"https://api.github.com/users/dbhautik/repos\",\r\n      \"gists_url\": \"https://api.github.com/users/dbhautik/gists{/gist_id}\",\r\n      \"url\": \"https://api.github.com/users/dbhautik\",\r\n      \"login\": \"dbhautik\",\r\n      \"type\": \"User\",\r\n      \"id\": 38677295\r\n    },\r\n    \"number\": 5687,\r\n    \"closed_at\": null,\r\n    \"milestone\": null,\r\n    \"assignees\": [],\r\n    \"assignee\": null,\r\n    \"locked\": false,\r\n    \"labels\": [],\r\n    \"performed_via_github_app\": null,\r\n    \"title\": \"In date range Start Time and End Time is not displaying in end date. Why?\",\r\n    \"state\": \"open\",\r\n    \"body\": \"### Reduced Test Case\\r\\n\\r\\nhttps://jsfiddle.net/Lxwkbq3r/\\r\\n\\r\\n### Bug Description\\r\\n\\r\\nI have multiple dates ranges data that I am displaying in full calendar but start time and end time is displaying in the start date box but not displaying in the end date box.\\r\\n\\r\\nhttps://user-images.githubusercontent.com/38677295/89109529-9b420c00-d45f-11ea-987d-d4dfffd9a849.png\",\r\n    \"repository_url\": \"https://api.github.com/repos/fullcalendar/fullcalendar\"\r\n  }\r\n}",
                                    "5": "1",
                                    "6": "2020-08-01 20:00:00",
                                    "7": "https://adxdemo.blob.core.windows.net/adx-demo/github-events/Github-2020-08-01-20.json.gz"
                                }
                            ]
                        },
                        "text/html": [
                            "<table>",
                            "<tr><th>EventId</th><th>Type</th><th>Login</th><th>Repository</th><th>Payload</th><th>Public</th><th>CreatedAt</th><th>SourceFile</th></tr>",
                            "<tr><td>13084021335</td><td>CreateEvent</td><td>Gabriel-Almeida-99</td><td>{\r\n  &quot;name&quot;: &quot;Gabriel-Almeida-99/github-slideshow&quot;,\r\n  &quot;url&quot;: &quot;https://api.github.com/repos/Gabriel-Almeida-99/github-slideshow&quot;,\r\n  &quot;id&quot;: 284304876\r\n}</td><td>{\r\n  &quot;description&quot;: &quot;A robot powered training repository :robot:&quot;,\r\n  &quot;master_branch&quot;: &quot;master&quot;,\r\n  &quot;pusher_type&quot;: &quot;user&quot;,\r\n  &quot;ref&quot;: &quot;my-slide&quot;,\r\n  &quot;ref_type&quot;: &quot;branch&quot;\r\n}</td><td>1</td><td>2020-08-01 20:00:00</td><td>https://adxdemo.blob.core.windows.net/adx-demo/github-events/Github-2020-08-01-20.json.gz</td></tr>",
                            "<tr><td>13084021337</td><td>CreateEvent</td><td>dependabot[bot]</td><td>{\r\n  &quot;name&quot;: &quot;IlyaGureshidze/test-tree&quot;,\r\n  &quot;url&quot;: &quot;https://api.github.com/repos/IlyaGureshidze/test-tree&quot;,\r\n  &quot;id&quot;: 253728280\r\n}</td><td>{\r\n  &quot;description&quot;: &quot;test task&quot;,\r\n  &quot;master_branch&quot;: &quot;master&quot;,\r\n  &quot;pusher_type&quot;: &quot;user&quot;,\r\n  &quot;ref&quot;: &quot;dependabot/npm_and_yarn/elliptic-6.5.3&quot;,\r\n  &quot;ref_type&quot;: &quot;branch&quot;\r\n}</td><td>1</td><td>2020-08-01 20:00:00</td><td>https://adxdemo.blob.core.windows.net/adx-demo/github-events/Github-2020-08-01-20.json.gz</td></tr>",
                            "<tr><td>13084021339</td><td>CreateEvent</td><td>dependabot[bot]</td><td>{\r\n  &quot;name&quot;: &quot;HiEricHere/planner-vue&quot;,\r\n  &quot;url&quot;: &quot;https://api.github.com/repos/HiEricHere/planner-vue&quot;,\r\n  &quot;id&quot;: 244358513\r\n}</td><td>{\r\n  &quot;description&quot;: null,\r\n  &quot;master_branch&quot;: &quot;master&quot;,\r\n  &quot;pusher_type&quot;: &quot;user&quot;,\r\n  &quot;ref&quot;: &quot;dependabot/npm_and_yarn/elliptic-6.5.3&quot;,\r\n  &quot;ref_type&quot;: &quot;branch&quot;\r\n}</td><td>1</td><td>2020-08-01 20:00:00</td><td>https://adxdemo.blob.core.windows.net/adx-demo/github-events/Github-2020-08-01-20.json.gz</td></tr>",
                            "<tr><td>13084021340</td><td>WatchEvent</td><td>MikeOwino</td><td>{\r\n  &quot;name&quot;: &quot;MikeOwino/TransCoder&quot;,\r\n  &quot;url&quot;: &quot;https://api.github.com/repos/MikeOwino/TransCoder&quot;,\r\n  &quot;id&quot;: 283982516\r\n}</td><td>{\r\n  &quot;action&quot;: &quot;started&quot;\r\n}</td><td>1</td><td>2020-08-01 20:00:00</td><td>https://adxdemo.blob.core.windows.net/adx-demo/github-events/Github-2020-08-01-20.json.gz</td></tr>",
                            "<tr><td>13084021341</td><td>IssuesEvent</td><td>dbhautik</td><td>{\r\n  &quot;name&quot;: &quot;fullcalendar/fullcalendar&quot;,\r\n  &quot;url&quot;: &quot;https://api.github.com/repos/fullcalendar/fullcalendar&quot;,\r\n  &quot;id&quot;: 381979\r\n}</td><td>{\r\n  &quot;action&quot;: &quot;opened&quot;,\r\n  &quot;issue&quot;: {\r\n    &quot;events_url&quot;: &quot;https://api.github.com/repos/fullcalendar/fullcalendar/issues/5687/events&quot;,\r\n    &quot;html_url&quot;: &quot;https://github.com/fullcalendar/fullcalendar/issues/5687&quot;,\r\n    &quot;node_id&quot;: &quot;MDU6SXNzdWU2NzExNTI4NTU=&quot;,\r\n    &quot;comments_url&quot;: &quot;https://api.github.com/repos/fullcalendar/fullcalendar/issues/5687/comments&quot;,\r\n    &quot;created_at&quot;: &quot;2020-08-01T19:59:59.0000000Z&quot;,\r\n    &quot;updated_at&quot;: &quot;2020-08-01T19:59:59.0000000Z&quot;,\r\n    &quot;url&quot;: &quot;https://api.github.com/repos/fullcalendar/fullcalendar/issues/5687&quot;,\r\n    &quot;author_association&quot;: &quot;NONE&quot;,\r\n    &quot;labels_url&quot;: &quot;https://api.github.com/repos/fullcalendar/fullcalendar/issues/5687/labels{/name}&quot;,\r\n    &quot;active_lock_reason&quot;: null,\r\n    &quot;id&quot;: 671152855,\r\n    &quot;comments&quot;: 0,\r\n    &quot;user&quot;: {\r\n      &quot;received_events_url&quot;: &quot;https://api.github.com/users/dbhautik/received_events&quot;,\r\n      &quot;organizations_url&quot;: &quot;https://api.github.com/users/dbhautik/orgs&quot;,\r\n      &quot;subscriptions_url&quot;: &quot;https://api.github.com/users/dbhautik/subscriptions&quot;,\r\n      &quot;events_url&quot;: &quot;https://api.github.com/users/dbhautik/events{/privacy}&quot;,\r\n      &quot;followers_url&quot;: &quot;https://api.github.com/users/dbhautik/followers&quot;,\r\n      &quot;following_url&quot;: &quot;https://api.github.com/users/dbhautik/following{/other_user}&quot;,\r\n      &quot;html_url&quot;: &quot;https://github.com/dbhautik&quot;,\r\n      &quot;node_id&quot;: &quot;MDQ6VXNlcjM4Njc3Mjk1&quot;,\r\n      &quot;starred_url&quot;: &quot;https://api.github.com/users/dbhautik/starred{/owner}{/repo}&quot;,\r\n      &quot;gravatar_id&quot;: &quot;&quot;,\r\n      &quot;site_admin&quot;: false,\r\n      &quot;avatar_url&quot;: &quot;https://avatars3.githubusercontent.com/u/38677295?v=4&quot;,\r\n      &quot;repos_url&quot;: &quot;https://api.github.com/users/dbhautik/repos&quot;,\r\n      &quot;gists_url&quot;: &quot;https://api.github.com/users/dbhautik/gists{/gist_id}&quot;,\r\n      &quot;url&quot;: &quot;https://api.github.com/users/dbhautik&quot;,\r\n      &quot;login&quot;: &quot;dbhautik&quot;,\r\n      &quot;type&quot;: &quot;User&quot;,\r\n      &quot;id&quot;: 38677295\r\n    },\r\n    &quot;number&quot;: 5687,\r\n    &quot;closed_at&quot;: null,\r\n    &quot;milestone&quot;: null,\r\n    &quot;assignees&quot;: [],\r\n    &quot;assignee&quot;: null,\r\n    &quot;locked&quot;: false,\r\n    &quot;labels&quot;: [],\r\n    &quot;performed_via_github_app&quot;: null,\r\n    &quot;title&quot;: &quot;In date range Start Time and End Time is not displaying in end date. Why?&quot;,\r\n    &quot;state&quot;: &quot;open&quot;,\r\n    &quot;body&quot;: &quot;### Reduced Test Case\\r\\n\\r\\nhttps://jsfiddle.net/Lxwkbq3r/\\r\\n\\r\\n### Bug Description\\r\\n\\r\\nI have multiple dates ranges data that I am displaying in full calendar but start time and end time is displaying in the start date box but not displaying in the end date box.\\r\\n\\r\\nhttps://user-images.githubusercontent.com/38677295/89109529-9b420c00-d45f-11ea-987d-d4dfffd9a849.png&quot;,\r\n    &quot;repository_url&quot;: &quot;https://api.github.com/repos/fullcalendar/fullcalendar&quot;\r\n  }\r\n}</td><td>1</td><td>2020-08-01 20:00:00</td><td>https://adxdemo.blob.core.windows.net/adx-demo/github-events/Github-2020-08-01-20.json.gz</td></tr>",
                            "</table>"
                        ]
                    }
                }
            ],
            "execution_count": 47
        },
        {
            "cell_type": "code",
            "source": [
                "Events\r\n",
                "| project-rename Info1 = Actor, Info2 = Repository, Info3 = Payload\r\n",
                "| project-reorder CreatedAt, Info*\r\n",
                "| project-away EventId\r\n",
                "| limit 5"
            ],
            "metadata": {
                "azdata_cell_guid": "3865bf53-5001-459a-af86-b6b214d0166c"
            },
            "outputs": [
                {
                    "output_type": "display_data",
                    "data": {
                        "text/html": "Commands completed successfully."
                    },
                    "metadata": {}
                },
                {
                    "output_type": "display_data",
                    "data": {
                        "text/html": "Total execution time: 00:00:00.055"
                    },
                    "metadata": {}
                },
                {
                    "output_type": "execute_result",
                    "metadata": {},
                    "execution_count": 51,
                    "data": {
                        "application/vnd.dataresource+json": {
                            "schema": {
                                "fields": [
                                    {
                                        "name": "CreatedAt"
                                    },
                                    {
                                        "name": "Info1"
                                    },
                                    {
                                        "name": "Info2"
                                    },
                                    {
                                        "name": "Info3"
                                    },
                                    {
                                        "name": "Type"
                                    },
                                    {
                                        "name": "Public"
                                    },
                                    {
                                        "name": "SourceFile"
                                    }
                                ]
                            },
                            "data": [
                                {
                                    "0": "2020-08-01 20:00:00",
                                    "1": "Gabriel-Almeida-99",
                                    "2": "{\r\n  \"name\": \"Gabriel-Almeida-99/github-slideshow\",\r\n  \"url\": \"https://api.github.com/repos/Gabriel-Almeida-99/github-slideshow\",\r\n  \"id\": 284304876\r\n}",
                                    "3": "{\r\n  \"description\": \"A robot powered training repository :robot:\",\r\n  \"master_branch\": \"master\",\r\n  \"pusher_type\": \"user\",\r\n  \"ref\": \"my-slide\",\r\n  \"ref_type\": \"branch\"\r\n}",
                                    "4": "CreateEvent",
                                    "5": "1",
                                    "6": "https://adxdemo.blob.core.windows.net/adx-demo/github-events/Github-2020-08-01-20.json.gz"
                                },
                                {
                                    "0": "2020-08-01 20:00:00",
                                    "1": "dependabot[bot]",
                                    "2": "{\r\n  \"name\": \"IlyaGureshidze/test-tree\",\r\n  \"url\": \"https://api.github.com/repos/IlyaGureshidze/test-tree\",\r\n  \"id\": 253728280\r\n}",
                                    "3": "{\r\n  \"description\": \"test task\",\r\n  \"master_branch\": \"master\",\r\n  \"pusher_type\": \"user\",\r\n  \"ref\": \"dependabot/npm_and_yarn/elliptic-6.5.3\",\r\n  \"ref_type\": \"branch\"\r\n}",
                                    "4": "CreateEvent",
                                    "5": "1",
                                    "6": "https://adxdemo.blob.core.windows.net/adx-demo/github-events/Github-2020-08-01-20.json.gz"
                                },
                                {
                                    "0": "2020-08-01 20:00:00",
                                    "1": "dependabot[bot]",
                                    "2": "{\r\n  \"name\": \"HiEricHere/planner-vue\",\r\n  \"url\": \"https://api.github.com/repos/HiEricHere/planner-vue\",\r\n  \"id\": 244358513\r\n}",
                                    "3": "{\r\n  \"description\": null,\r\n  \"master_branch\": \"master\",\r\n  \"pusher_type\": \"user\",\r\n  \"ref\": \"dependabot/npm_and_yarn/elliptic-6.5.3\",\r\n  \"ref_type\": \"branch\"\r\n}",
                                    "4": "CreateEvent",
                                    "5": "1",
                                    "6": "https://adxdemo.blob.core.windows.net/adx-demo/github-events/Github-2020-08-01-20.json.gz"
                                },
                                {
                                    "0": "2020-08-01 20:00:00",
                                    "1": "MikeOwino",
                                    "2": "{\r\n  \"name\": \"MikeOwino/TransCoder\",\r\n  \"url\": \"https://api.github.com/repos/MikeOwino/TransCoder\",\r\n  \"id\": 283982516\r\n}",
                                    "3": "{\r\n  \"action\": \"started\"\r\n}",
                                    "4": "WatchEvent",
                                    "5": "1",
                                    "6": "https://adxdemo.blob.core.windows.net/adx-demo/github-events/Github-2020-08-01-20.json.gz"
                                },
                                {
                                    "0": "2020-08-01 20:00:00",
                                    "1": "dbhautik",
                                    "2": "{\r\n  \"name\": \"fullcalendar/fullcalendar\",\r\n  \"url\": \"https://api.github.com/repos/fullcalendar/fullcalendar\",\r\n  \"id\": 381979\r\n}",
                                    "3": "{\r\n  \"action\": \"opened\",\r\n  \"issue\": {\r\n    \"events_url\": \"https://api.github.com/repos/fullcalendar/fullcalendar/issues/5687/events\",\r\n    \"html_url\": \"https://github.com/fullcalendar/fullcalendar/issues/5687\",\r\n    \"node_id\": \"MDU6SXNzdWU2NzExNTI4NTU=\",\r\n    \"comments_url\": \"https://api.github.com/repos/fullcalendar/fullcalendar/issues/5687/comments\",\r\n    \"created_at\": \"2020-08-01T19:59:59.0000000Z\",\r\n    \"updated_at\": \"2020-08-01T19:59:59.0000000Z\",\r\n    \"url\": \"https://api.github.com/repos/fullcalendar/fullcalendar/issues/5687\",\r\n    \"author_association\": \"NONE\",\r\n    \"labels_url\": \"https://api.github.com/repos/fullcalendar/fullcalendar/issues/5687/labels{/name}\",\r\n    \"active_lock_reason\": null,\r\n    \"id\": 671152855,\r\n    \"comments\": 0,\r\n    \"user\": {\r\n      \"received_events_url\": \"https://api.github.com/users/dbhautik/received_events\",\r\n      \"organizations_url\": \"https://api.github.com/users/dbhautik/orgs\",\r\n      \"subscriptions_url\": \"https://api.github.com/users/dbhautik/subscriptions\",\r\n      \"events_url\": \"https://api.github.com/users/dbhautik/events{/privacy}\",\r\n      \"followers_url\": \"https://api.github.com/users/dbhautik/followers\",\r\n      \"following_url\": \"https://api.github.com/users/dbhautik/following{/other_user}\",\r\n      \"html_url\": \"https://github.com/dbhautik\",\r\n      \"node_id\": \"MDQ6VXNlcjM4Njc3Mjk1\",\r\n      \"starred_url\": \"https://api.github.com/users/dbhautik/starred{/owner}{/repo}\",\r\n      \"gravatar_id\": \"\",\r\n      \"site_admin\": false,\r\n      \"avatar_url\": \"https://avatars3.githubusercontent.com/u/38677295?v=4\",\r\n      \"repos_url\": \"https://api.github.com/users/dbhautik/repos\",\r\n      \"gists_url\": \"https://api.github.com/users/dbhautik/gists{/gist_id}\",\r\n      \"url\": \"https://api.github.com/users/dbhautik\",\r\n      \"login\": \"dbhautik\",\r\n      \"type\": \"User\",\r\n      \"id\": 38677295\r\n    },\r\n    \"number\": 5687,\r\n    \"closed_at\": null,\r\n    \"milestone\": null,\r\n    \"assignees\": [],\r\n    \"assignee\": null,\r\n    \"locked\": false,\r\n    \"labels\": [],\r\n    \"performed_via_github_app\": null,\r\n    \"title\": \"In date range Start Time and End Time is not displaying in end date. Why?\",\r\n    \"state\": \"open\",\r\n    \"body\": \"### Reduced Test Case\\r\\n\\r\\nhttps://jsfiddle.net/Lxwkbq3r/\\r\\n\\r\\n### Bug Description\\r\\n\\r\\nI have multiple dates ranges data that I am displaying in full calendar but start time and end time is displaying in the start date box but not displaying in the end date box.\\r\\n\\r\\nhttps://user-images.githubusercontent.com/38677295/89109529-9b420c00-d45f-11ea-987d-d4dfffd9a849.png\",\r\n    \"repository_url\": \"https://api.github.com/repos/fullcalendar/fullcalendar\"\r\n  }\r\n}",
                                    "4": "IssuesEvent",
                                    "5": "1",
                                    "6": "https://adxdemo.blob.core.windows.net/adx-demo/github-events/Github-2020-08-01-20.json.gz"
                                }
                            ]
                        },
                        "text/html": [
                            "<table>",
                            "<tr><th>CreatedAt</th><th>Info1</th><th>Info2</th><th>Info3</th><th>Type</th><th>Public</th><th>SourceFile</th></tr>",
                            "<tr><td>2020-08-01 20:00:00</td><td>Gabriel-Almeida-99</td><td>{\r\n  &quot;name&quot;: &quot;Gabriel-Almeida-99/github-slideshow&quot;,\r\n  &quot;url&quot;: &quot;https://api.github.com/repos/Gabriel-Almeida-99/github-slideshow&quot;,\r\n  &quot;id&quot;: 284304876\r\n}</td><td>{\r\n  &quot;description&quot;: &quot;A robot powered training repository :robot:&quot;,\r\n  &quot;master_branch&quot;: &quot;master&quot;,\r\n  &quot;pusher_type&quot;: &quot;user&quot;,\r\n  &quot;ref&quot;: &quot;my-slide&quot;,\r\n  &quot;ref_type&quot;: &quot;branch&quot;\r\n}</td><td>CreateEvent</td><td>1</td><td>https://adxdemo.blob.core.windows.net/adx-demo/github-events/Github-2020-08-01-20.json.gz</td></tr>",
                            "<tr><td>2020-08-01 20:00:00</td><td>dependabot[bot]</td><td>{\r\n  &quot;name&quot;: &quot;IlyaGureshidze/test-tree&quot;,\r\n  &quot;url&quot;: &quot;https://api.github.com/repos/IlyaGureshidze/test-tree&quot;,\r\n  &quot;id&quot;: 253728280\r\n}</td><td>{\r\n  &quot;description&quot;: &quot;test task&quot;,\r\n  &quot;master_branch&quot;: &quot;master&quot;,\r\n  &quot;pusher_type&quot;: &quot;user&quot;,\r\n  &quot;ref&quot;: &quot;dependabot/npm_and_yarn/elliptic-6.5.3&quot;,\r\n  &quot;ref_type&quot;: &quot;branch&quot;\r\n}</td><td>CreateEvent</td><td>1</td><td>https://adxdemo.blob.core.windows.net/adx-demo/github-events/Github-2020-08-01-20.json.gz</td></tr>",
                            "<tr><td>2020-08-01 20:00:00</td><td>dependabot[bot]</td><td>{\r\n  &quot;name&quot;: &quot;HiEricHere/planner-vue&quot;,\r\n  &quot;url&quot;: &quot;https://api.github.com/repos/HiEricHere/planner-vue&quot;,\r\n  &quot;id&quot;: 244358513\r\n}</td><td>{\r\n  &quot;description&quot;: null,\r\n  &quot;master_branch&quot;: &quot;master&quot;,\r\n  &quot;pusher_type&quot;: &quot;user&quot;,\r\n  &quot;ref&quot;: &quot;dependabot/npm_and_yarn/elliptic-6.5.3&quot;,\r\n  &quot;ref_type&quot;: &quot;branch&quot;\r\n}</td><td>CreateEvent</td><td>1</td><td>https://adxdemo.blob.core.windows.net/adx-demo/github-events/Github-2020-08-01-20.json.gz</td></tr>",
                            "<tr><td>2020-08-01 20:00:00</td><td>MikeOwino</td><td>{\r\n  &quot;name&quot;: &quot;MikeOwino/TransCoder&quot;,\r\n  &quot;url&quot;: &quot;https://api.github.com/repos/MikeOwino/TransCoder&quot;,\r\n  &quot;id&quot;: 283982516\r\n}</td><td>{\r\n  &quot;action&quot;: &quot;started&quot;\r\n}</td><td>WatchEvent</td><td>1</td><td>https://adxdemo.blob.core.windows.net/adx-demo/github-events/Github-2020-08-01-20.json.gz</td></tr>",
                            "<tr><td>2020-08-01 20:00:00</td><td>dbhautik</td><td>{\r\n  &quot;name&quot;: &quot;fullcalendar/fullcalendar&quot;,\r\n  &quot;url&quot;: &quot;https://api.github.com/repos/fullcalendar/fullcalendar&quot;,\r\n  &quot;id&quot;: 381979\r\n}</td><td>{\r\n  &quot;action&quot;: &quot;opened&quot;,\r\n  &quot;issue&quot;: {\r\n    &quot;events_url&quot;: &quot;https://api.github.com/repos/fullcalendar/fullcalendar/issues/5687/events&quot;,\r\n    &quot;html_url&quot;: &quot;https://github.com/fullcalendar/fullcalendar/issues/5687&quot;,\r\n    &quot;node_id&quot;: &quot;MDU6SXNzdWU2NzExNTI4NTU=&quot;,\r\n    &quot;comments_url&quot;: &quot;https://api.github.com/repos/fullcalendar/fullcalendar/issues/5687/comments&quot;,\r\n    &quot;created_at&quot;: &quot;2020-08-01T19:59:59.0000000Z&quot;,\r\n    &quot;updated_at&quot;: &quot;2020-08-01T19:59:59.0000000Z&quot;,\r\n    &quot;url&quot;: &quot;https://api.github.com/repos/fullcalendar/fullcalendar/issues/5687&quot;,\r\n    &quot;author_association&quot;: &quot;NONE&quot;,\r\n    &quot;labels_url&quot;: &quot;https://api.github.com/repos/fullcalendar/fullcalendar/issues/5687/labels{/name}&quot;,\r\n    &quot;active_lock_reason&quot;: null,\r\n    &quot;id&quot;: 671152855,\r\n    &quot;comments&quot;: 0,\r\n    &quot;user&quot;: {\r\n      &quot;received_events_url&quot;: &quot;https://api.github.com/users/dbhautik/received_events&quot;,\r\n      &quot;organizations_url&quot;: &quot;https://api.github.com/users/dbhautik/orgs&quot;,\r\n      &quot;subscriptions_url&quot;: &quot;https://api.github.com/users/dbhautik/subscriptions&quot;,\r\n      &quot;events_url&quot;: &quot;https://api.github.com/users/dbhautik/events{/privacy}&quot;,\r\n      &quot;followers_url&quot;: &quot;https://api.github.com/users/dbhautik/followers&quot;,\r\n      &quot;following_url&quot;: &quot;https://api.github.com/users/dbhautik/following{/other_user}&quot;,\r\n      &quot;html_url&quot;: &quot;https://github.com/dbhautik&quot;,\r\n      &quot;node_id&quot;: &quot;MDQ6VXNlcjM4Njc3Mjk1&quot;,\r\n      &quot;starred_url&quot;: &quot;https://api.github.com/users/dbhautik/starred{/owner}{/repo}&quot;,\r\n      &quot;gravatar_id&quot;: &quot;&quot;,\r\n      &quot;site_admin&quot;: false,\r\n      &quot;avatar_url&quot;: &quot;https://avatars3.githubusercontent.com/u/38677295?v=4&quot;,\r\n      &quot;repos_url&quot;: &quot;https://api.github.com/users/dbhautik/repos&quot;,\r\n      &quot;gists_url&quot;: &quot;https://api.github.com/users/dbhautik/gists{/gist_id}&quot;,\r\n      &quot;url&quot;: &quot;https://api.github.com/users/dbhautik&quot;,\r\n      &quot;login&quot;: &quot;dbhautik&quot;,\r\n      &quot;type&quot;: &quot;User&quot;,\r\n      &quot;id&quot;: 38677295\r\n    },\r\n    &quot;number&quot;: 5687,\r\n    &quot;closed_at&quot;: null,\r\n    &quot;milestone&quot;: null,\r\n    &quot;assignees&quot;: [],\r\n    &quot;assignee&quot;: null,\r\n    &quot;locked&quot;: false,\r\n    &quot;labels&quot;: [],\r\n    &quot;performed_via_github_app&quot;: null,\r\n    &quot;title&quot;: &quot;In date range Start Time and End Time is not displaying in end date. Why?&quot;,\r\n    &quot;state&quot;: &quot;open&quot;,\r\n    &quot;body&quot;: &quot;### Reduced Test Case\\r\\n\\r\\nhttps://jsfiddle.net/Lxwkbq3r/\\r\\n\\r\\n### Bug Description\\r\\n\\r\\nI have multiple dates ranges data that I am displaying in full calendar but start time and end time is displaying in the start date box but not displaying in the end date box.\\r\\n\\r\\nhttps://user-images.githubusercontent.com/38677295/89109529-9b420c00-d45f-11ea-987d-d4dfffd9a849.png&quot;,\r\n    &quot;repository_url&quot;: &quot;https://api.github.com/repos/fullcalendar/fullcalendar&quot;\r\n  }\r\n}</td><td>IssuesEvent</td><td>1</td><td>https://adxdemo.blob.core.windows.net/adx-demo/github-events/Github-2020-08-01-20.json.gz</td></tr>",
                            "</table>"
                        ]
                    }
                }
            ],
            "execution_count": 51
        },
        {
            "cell_type": "code",
            "source": [
                "Events\r\n",
                "| extend RepositoryOwner = split(Repository.name, \"/\", 0)[0]\r\n",
                "        , RepositoryName = split(Repository.name, \"/\", 1)[0]\r\n",
                "| limit 5"
            ],
            "metadata": {
                "azdata_cell_guid": "468906c1-3e85-4673-81f4-c46570d96212"
            },
            "outputs": [
                {
                    "output_type": "display_data",
                    "data": {
                        "text/html": "Commands completed successfully."
                    },
                    "metadata": {}
                },
                {
                    "output_type": "display_data",
                    "data": {
                        "text/html": "Total execution time: 00:00:00.471"
                    },
                    "metadata": {}
                },
                {
                    "output_type": "execute_result",
                    "metadata": {},
                    "execution_count": 68,
                    "data": {
                        "application/vnd.dataresource+json": {
                            "schema": {
                                "fields": [
                                    {
                                        "name": "EventId"
                                    },
                                    {
                                        "name": "Type"
                                    },
                                    {
                                        "name": "Actor"
                                    },
                                    {
                                        "name": "Repository"
                                    },
                                    {
                                        "name": "Payload"
                                    },
                                    {
                                        "name": "Public"
                                    },
                                    {
                                        "name": "CreatedAt"
                                    },
                                    {
                                        "name": "SourceFile"
                                    },
                                    {
                                        "name": "RepositoryOwner"
                                    },
                                    {
                                        "name": "RepositoryName"
                                    }
                                ]
                            },
                            "data": [
                                {
                                    "0": "13084021335",
                                    "1": "CreateEvent",
                                    "2": "Gabriel-Almeida-99",
                                    "3": "{\r\n  \"name\": \"Gabriel-Almeida-99/github-slideshow\",\r\n  \"url\": \"https://api.github.com/repos/Gabriel-Almeida-99/github-slideshow\",\r\n  \"id\": 284304876\r\n}",
                                    "4": "{\r\n  \"description\": \"A robot powered training repository :robot:\",\r\n  \"master_branch\": \"master\",\r\n  \"pusher_type\": \"user\",\r\n  \"ref\": \"my-slide\",\r\n  \"ref_type\": \"branch\"\r\n}",
                                    "5": "1",
                                    "6": "2020-08-01 20:00:00",
                                    "7": "https://adxdemo.blob.core.windows.net/adx-demo/github-events/Github-2020-08-01-20.json.gz",
                                    "8": "Gabriel-Almeida-99",
                                    "9": "github-slideshow"
                                },
                                {
                                    "0": "13084021337",
                                    "1": "CreateEvent",
                                    "2": "dependabot[bot]",
                                    "3": "{\r\n  \"name\": \"IlyaGureshidze/test-tree\",\r\n  \"url\": \"https://api.github.com/repos/IlyaGureshidze/test-tree\",\r\n  \"id\": 253728280\r\n}",
                                    "4": "{\r\n  \"description\": \"test task\",\r\n  \"master_branch\": \"master\",\r\n  \"pusher_type\": \"user\",\r\n  \"ref\": \"dependabot/npm_and_yarn/elliptic-6.5.3\",\r\n  \"ref_type\": \"branch\"\r\n}",
                                    "5": "1",
                                    "6": "2020-08-01 20:00:00",
                                    "7": "https://adxdemo.blob.core.windows.net/adx-demo/github-events/Github-2020-08-01-20.json.gz",
                                    "8": "IlyaGureshidze",
                                    "9": "test-tree"
                                },
                                {
                                    "0": "13084021339",
                                    "1": "CreateEvent",
                                    "2": "dependabot[bot]",
                                    "3": "{\r\n  \"name\": \"HiEricHere/planner-vue\",\r\n  \"url\": \"https://api.github.com/repos/HiEricHere/planner-vue\",\r\n  \"id\": 244358513\r\n}",
                                    "4": "{\r\n  \"description\": null,\r\n  \"master_branch\": \"master\",\r\n  \"pusher_type\": \"user\",\r\n  \"ref\": \"dependabot/npm_and_yarn/elliptic-6.5.3\",\r\n  \"ref_type\": \"branch\"\r\n}",
                                    "5": "1",
                                    "6": "2020-08-01 20:00:00",
                                    "7": "https://adxdemo.blob.core.windows.net/adx-demo/github-events/Github-2020-08-01-20.json.gz",
                                    "8": "HiEricHere",
                                    "9": "planner-vue"
                                },
                                {
                                    "0": "13084021340",
                                    "1": "WatchEvent",
                                    "2": "MikeOwino",
                                    "3": "{\r\n  \"name\": \"MikeOwino/TransCoder\",\r\n  \"url\": \"https://api.github.com/repos/MikeOwino/TransCoder\",\r\n  \"id\": 283982516\r\n}",
                                    "4": "{\r\n  \"action\": \"started\"\r\n}",
                                    "5": "1",
                                    "6": "2020-08-01 20:00:00",
                                    "7": "https://adxdemo.blob.core.windows.net/adx-demo/github-events/Github-2020-08-01-20.json.gz",
                                    "8": "MikeOwino",
                                    "9": "TransCoder"
                                },
                                {
                                    "0": "13084021341",
                                    "1": "IssuesEvent",
                                    "2": "dbhautik",
                                    "3": "{\r\n  \"name\": \"fullcalendar/fullcalendar\",\r\n  \"url\": \"https://api.github.com/repos/fullcalendar/fullcalendar\",\r\n  \"id\": 381979\r\n}",
                                    "4": "{\r\n  \"action\": \"opened\",\r\n  \"issue\": {\r\n    \"events_url\": \"https://api.github.com/repos/fullcalendar/fullcalendar/issues/5687/events\",\r\n    \"html_url\": \"https://github.com/fullcalendar/fullcalendar/issues/5687\",\r\n    \"node_id\": \"MDU6SXNzdWU2NzExNTI4NTU=\",\r\n    \"comments_url\": \"https://api.github.com/repos/fullcalendar/fullcalendar/issues/5687/comments\",\r\n    \"created_at\": \"2020-08-01T19:59:59.0000000Z\",\r\n    \"updated_at\": \"2020-08-01T19:59:59.0000000Z\",\r\n    \"url\": \"https://api.github.com/repos/fullcalendar/fullcalendar/issues/5687\",\r\n    \"author_association\": \"NONE\",\r\n    \"labels_url\": \"https://api.github.com/repos/fullcalendar/fullcalendar/issues/5687/labels{/name}\",\r\n    \"active_lock_reason\": null,\r\n    \"id\": 671152855,\r\n    \"comments\": 0,\r\n    \"user\": {\r\n      \"received_events_url\": \"https://api.github.com/users/dbhautik/received_events\",\r\n      \"organizations_url\": \"https://api.github.com/users/dbhautik/orgs\",\r\n      \"subscriptions_url\": \"https://api.github.com/users/dbhautik/subscriptions\",\r\n      \"events_url\": \"https://api.github.com/users/dbhautik/events{/privacy}\",\r\n      \"followers_url\": \"https://api.github.com/users/dbhautik/followers\",\r\n      \"following_url\": \"https://api.github.com/users/dbhautik/following{/other_user}\",\r\n      \"html_url\": \"https://github.com/dbhautik\",\r\n      \"node_id\": \"MDQ6VXNlcjM4Njc3Mjk1\",\r\n      \"starred_url\": \"https://api.github.com/users/dbhautik/starred{/owner}{/repo}\",\r\n      \"gravatar_id\": \"\",\r\n      \"site_admin\": false,\r\n      \"avatar_url\": \"https://avatars3.githubusercontent.com/u/38677295?v=4\",\r\n      \"repos_url\": \"https://api.github.com/users/dbhautik/repos\",\r\n      \"gists_url\": \"https://api.github.com/users/dbhautik/gists{/gist_id}\",\r\n      \"url\": \"https://api.github.com/users/dbhautik\",\r\n      \"login\": \"dbhautik\",\r\n      \"type\": \"User\",\r\n      \"id\": 38677295\r\n    },\r\n    \"number\": 5687,\r\n    \"closed_at\": null,\r\n    \"milestone\": null,\r\n    \"assignees\": [],\r\n    \"assignee\": null,\r\n    \"locked\": false,\r\n    \"labels\": [],\r\n    \"performed_via_github_app\": null,\r\n    \"title\": \"In date range Start Time and End Time is not displaying in end date. Why?\",\r\n    \"state\": \"open\",\r\n    \"body\": \"### Reduced Test Case\\r\\n\\r\\nhttps://jsfiddle.net/Lxwkbq3r/\\r\\n\\r\\n### Bug Description\\r\\n\\r\\nI have multiple dates ranges data that I am displaying in full calendar but start time and end time is displaying in the start date box but not displaying in the end date box.\\r\\n\\r\\nhttps://user-images.githubusercontent.com/38677295/89109529-9b420c00-d45f-11ea-987d-d4dfffd9a849.png\",\r\n    \"repository_url\": \"https://api.github.com/repos/fullcalendar/fullcalendar\"\r\n  }\r\n}",
                                    "5": "1",
                                    "6": "2020-08-01 20:00:00",
                                    "7": "https://adxdemo.blob.core.windows.net/adx-demo/github-events/Github-2020-08-01-20.json.gz",
                                    "8": "fullcalendar",
                                    "9": "fullcalendar"
                                }
                            ]
                        },
                        "text/html": [
                            "<table>",
                            "<tr><th>EventId</th><th>Type</th><th>Actor</th><th>Repository</th><th>Payload</th><th>Public</th><th>CreatedAt</th><th>SourceFile</th><th>RepositoryOwner</th><th>RepositoryName</th></tr>",
                            "<tr><td>13084021335</td><td>CreateEvent</td><td>Gabriel-Almeida-99</td><td>{\r\n  &quot;name&quot;: &quot;Gabriel-Almeida-99/github-slideshow&quot;,\r\n  &quot;url&quot;: &quot;https://api.github.com/repos/Gabriel-Almeida-99/github-slideshow&quot;,\r\n  &quot;id&quot;: 284304876\r\n}</td><td>{\r\n  &quot;description&quot;: &quot;A robot powered training repository :robot:&quot;,\r\n  &quot;master_branch&quot;: &quot;master&quot;,\r\n  &quot;pusher_type&quot;: &quot;user&quot;,\r\n  &quot;ref&quot;: &quot;my-slide&quot;,\r\n  &quot;ref_type&quot;: &quot;branch&quot;\r\n}</td><td>1</td><td>2020-08-01 20:00:00</td><td>https://adxdemo.blob.core.windows.net/adx-demo/github-events/Github-2020-08-01-20.json.gz</td><td>Gabriel-Almeida-99</td><td>github-slideshow</td></tr>",
                            "<tr><td>13084021337</td><td>CreateEvent</td><td>dependabot[bot]</td><td>{\r\n  &quot;name&quot;: &quot;IlyaGureshidze/test-tree&quot;,\r\n  &quot;url&quot;: &quot;https://api.github.com/repos/IlyaGureshidze/test-tree&quot;,\r\n  &quot;id&quot;: 253728280\r\n}</td><td>{\r\n  &quot;description&quot;: &quot;test task&quot;,\r\n  &quot;master_branch&quot;: &quot;master&quot;,\r\n  &quot;pusher_type&quot;: &quot;user&quot;,\r\n  &quot;ref&quot;: &quot;dependabot/npm_and_yarn/elliptic-6.5.3&quot;,\r\n  &quot;ref_type&quot;: &quot;branch&quot;\r\n}</td><td>1</td><td>2020-08-01 20:00:00</td><td>https://adxdemo.blob.core.windows.net/adx-demo/github-events/Github-2020-08-01-20.json.gz</td><td>IlyaGureshidze</td><td>test-tree</td></tr>",
                            "<tr><td>13084021339</td><td>CreateEvent</td><td>dependabot[bot]</td><td>{\r\n  &quot;name&quot;: &quot;HiEricHere/planner-vue&quot;,\r\n  &quot;url&quot;: &quot;https://api.github.com/repos/HiEricHere/planner-vue&quot;,\r\n  &quot;id&quot;: 244358513\r\n}</td><td>{\r\n  &quot;description&quot;: null,\r\n  &quot;master_branch&quot;: &quot;master&quot;,\r\n  &quot;pusher_type&quot;: &quot;user&quot;,\r\n  &quot;ref&quot;: &quot;dependabot/npm_and_yarn/elliptic-6.5.3&quot;,\r\n  &quot;ref_type&quot;: &quot;branch&quot;\r\n}</td><td>1</td><td>2020-08-01 20:00:00</td><td>https://adxdemo.blob.core.windows.net/adx-demo/github-events/Github-2020-08-01-20.json.gz</td><td>HiEricHere</td><td>planner-vue</td></tr>",
                            "<tr><td>13084021340</td><td>WatchEvent</td><td>MikeOwino</td><td>{\r\n  &quot;name&quot;: &quot;MikeOwino/TransCoder&quot;,\r\n  &quot;url&quot;: &quot;https://api.github.com/repos/MikeOwino/TransCoder&quot;,\r\n  &quot;id&quot;: 283982516\r\n}</td><td>{\r\n  &quot;action&quot;: &quot;started&quot;\r\n}</td><td>1</td><td>2020-08-01 20:00:00</td><td>https://adxdemo.blob.core.windows.net/adx-demo/github-events/Github-2020-08-01-20.json.gz</td><td>MikeOwino</td><td>TransCoder</td></tr>",
                            "<tr><td>13084021341</td><td>IssuesEvent</td><td>dbhautik</td><td>{\r\n  &quot;name&quot;: &quot;fullcalendar/fullcalendar&quot;,\r\n  &quot;url&quot;: &quot;https://api.github.com/repos/fullcalendar/fullcalendar&quot;,\r\n  &quot;id&quot;: 381979\r\n}</td><td>{\r\n  &quot;action&quot;: &quot;opened&quot;,\r\n  &quot;issue&quot;: {\r\n    &quot;events_url&quot;: &quot;https://api.github.com/repos/fullcalendar/fullcalendar/issues/5687/events&quot;,\r\n    &quot;html_url&quot;: &quot;https://github.com/fullcalendar/fullcalendar/issues/5687&quot;,\r\n    &quot;node_id&quot;: &quot;MDU6SXNzdWU2NzExNTI4NTU=&quot;,\r\n    &quot;comments_url&quot;: &quot;https://api.github.com/repos/fullcalendar/fullcalendar/issues/5687/comments&quot;,\r\n    &quot;created_at&quot;: &quot;2020-08-01T19:59:59.0000000Z&quot;,\r\n    &quot;updated_at&quot;: &quot;2020-08-01T19:59:59.0000000Z&quot;,\r\n    &quot;url&quot;: &quot;https://api.github.com/repos/fullcalendar/fullcalendar/issues/5687&quot;,\r\n    &quot;author_association&quot;: &quot;NONE&quot;,\r\n    &quot;labels_url&quot;: &quot;https://api.github.com/repos/fullcalendar/fullcalendar/issues/5687/labels{/name}&quot;,\r\n    &quot;active_lock_reason&quot;: null,\r\n    &quot;id&quot;: 671152855,\r\n    &quot;comments&quot;: 0,\r\n    &quot;user&quot;: {\r\n      &quot;received_events_url&quot;: &quot;https://api.github.com/users/dbhautik/received_events&quot;,\r\n      &quot;organizations_url&quot;: &quot;https://api.github.com/users/dbhautik/orgs&quot;,\r\n      &quot;subscriptions_url&quot;: &quot;https://api.github.com/users/dbhautik/subscriptions&quot;,\r\n      &quot;events_url&quot;: &quot;https://api.github.com/users/dbhautik/events{/privacy}&quot;,\r\n      &quot;followers_url&quot;: &quot;https://api.github.com/users/dbhautik/followers&quot;,\r\n      &quot;following_url&quot;: &quot;https://api.github.com/users/dbhautik/following{/other_user}&quot;,\r\n      &quot;html_url&quot;: &quot;https://github.com/dbhautik&quot;,\r\n      &quot;node_id&quot;: &quot;MDQ6VXNlcjM4Njc3Mjk1&quot;,\r\n      &quot;starred_url&quot;: &quot;https://api.github.com/users/dbhautik/starred{/owner}{/repo}&quot;,\r\n      &quot;gravatar_id&quot;: &quot;&quot;,\r\n      &quot;site_admin&quot;: false,\r\n      &quot;avatar_url&quot;: &quot;https://avatars3.githubusercontent.com/u/38677295?v=4&quot;,\r\n      &quot;repos_url&quot;: &quot;https://api.github.com/users/dbhautik/repos&quot;,\r\n      &quot;gists_url&quot;: &quot;https://api.github.com/users/dbhautik/gists{/gist_id}&quot;,\r\n      &quot;url&quot;: &quot;https://api.github.com/users/dbhautik&quot;,\r\n      &quot;login&quot;: &quot;dbhautik&quot;,\r\n      &quot;type&quot;: &quot;User&quot;,\r\n      &quot;id&quot;: 38677295\r\n    },\r\n    &quot;number&quot;: 5687,\r\n    &quot;closed_at&quot;: null,\r\n    &quot;milestone&quot;: null,\r\n    &quot;assignees&quot;: [],\r\n    &quot;assignee&quot;: null,\r\n    &quot;locked&quot;: false,\r\n    &quot;labels&quot;: [],\r\n    &quot;performed_via_github_app&quot;: null,\r\n    &quot;title&quot;: &quot;In date range Start Time and End Time is not displaying in end date. Why?&quot;,\r\n    &quot;state&quot;: &quot;open&quot;,\r\n    &quot;body&quot;: &quot;### Reduced Test Case\\r\\n\\r\\nhttps://jsfiddle.net/Lxwkbq3r/\\r\\n\\r\\n### Bug Description\\r\\n\\r\\nI have multiple dates ranges data that I am displaying in full calendar but start time and end time is displaying in the start date box but not displaying in the end date box.\\r\\n\\r\\nhttps://user-images.githubusercontent.com/38677295/89109529-9b420c00-d45f-11ea-987d-d4dfffd9a849.png&quot;,\r\n    &quot;repository_url&quot;: &quot;https://api.github.com/repos/fullcalendar/fullcalendar&quot;\r\n  }\r\n}</td><td>1</td><td>2020-08-01 20:00:00</td><td>https://adxdemo.blob.core.windows.net/adx-demo/github-events/Github-2020-08-01-20.json.gz</td><td>fullcalendar</td><td>fullcalendar</td></tr>",
                            "</table>"
                        ]
                    }
                }
            ],
            "execution_count": 68
        },
        {
            "cell_type": "code",
            "source": [
                "Events\r\n",
                "| extend RepositoryOwner = toupper(split(Repository.name, \"/\", 0)[0])\r\n",
                "        , RepositoryName = tolower(split(Repository.name, \"/\", 1)[0])\r\n",
                "| project Actor, RepositoryOwner, RepositoryName\r\n",
                "| limit 5"
            ],
            "metadata": {
                "azdata_cell_guid": "dbb0591a-e796-4981-b6f2-ba75b9c090ad",
                "tags": []
            },
            "outputs": [
                {
                    "output_type": "display_data",
                    "data": {
                        "text/html": "Commands completed successfully."
                    },
                    "metadata": {}
                },
                {
                    "output_type": "display_data",
                    "data": {
                        "text/html": "Total execution time: 00:00:00.058"
                    },
                    "metadata": {}
                },
                {
                    "output_type": "execute_result",
                    "metadata": {},
                    "execution_count": 80,
                    "data": {
                        "application/vnd.dataresource+json": {
                            "schema": {
                                "fields": [
                                    {
                                        "name": "Actor"
                                    },
                                    {
                                        "name": "RepositoryOwner"
                                    },
                                    {
                                        "name": "RepositoryName"
                                    }
                                ]
                            },
                            "data": [
                                {
                                    "0": "Gabriel-Almeida-99",
                                    "1": "GABRIEL-ALMEIDA-99",
                                    "2": "github-slideshow"
                                },
                                {
                                    "0": "dependabot[bot]",
                                    "1": "ILYAGURESHIDZE",
                                    "2": "test-tree"
                                },
                                {
                                    "0": "dependabot[bot]",
                                    "1": "HIERICHERE",
                                    "2": "planner-vue"
                                },
                                {
                                    "0": "MikeOwino",
                                    "1": "MIKEOWINO",
                                    "2": "transcoder"
                                },
                                {
                                    "0": "dbhautik",
                                    "1": "FULLCALENDAR",
                                    "2": "fullcalendar"
                                }
                            ]
                        },
                        "text/html": [
                            "<table>",
                            "<tr><th>Actor</th><th>RepositoryOwner</th><th>RepositoryName</th></tr>",
                            "<tr><td>Gabriel-Almeida-99</td><td>GABRIEL-ALMEIDA-99</td><td>github-slideshow</td></tr>",
                            "<tr><td>dependabot[bot]</td><td>ILYAGURESHIDZE</td><td>test-tree</td></tr>",
                            "<tr><td>dependabot[bot]</td><td>HIERICHERE</td><td>planner-vue</td></tr>",
                            "<tr><td>MikeOwino</td><td>MIKEOWINO</td><td>transcoder</td></tr>",
                            "<tr><td>dbhautik</td><td>FULLCALENDAR</td><td>fullcalendar</td></tr>",
                            "</table>"
                        ]
                    }
                }
            ],
            "execution_count": 80
        },
        {
            "cell_type": "code",
            "source": [
                "Events\r\n",
                "| where Type==\"CreateEvent\"  \r\n",
                "| extend RepositoryOwner = split(Repository.name, \"/\", 0)[0]\r\n",
                "        , RepositoryName = split(Repository.name, \"/\", 1)[0]\r\n",
                "| where RepositoryName hasprefix \"azure\"\r\n",
                "| limit 5\r\n",
                "| project Actor, RepositoryOwner, RepositoryName"
            ],
            "metadata": {
                "azdata_cell_guid": "ef79903a-972a-4b2f-af4e-6713b4d502fd"
            },
            "outputs": [
                {
                    "output_type": "display_data",
                    "data": {
                        "text/html": "Commands completed successfully."
                    },
                    "metadata": {}
                },
                {
                    "output_type": "display_data",
                    "data": {
                        "text/html": "Total execution time: 00:00:00.203"
                    },
                    "metadata": {}
                },
                {
                    "output_type": "execute_result",
                    "metadata": {},
                    "execution_count": 74,
                    "data": {
                        "application/vnd.dataresource+json": {
                            "schema": {
                                "fields": [
                                    {
                                        "name": "Actor"
                                    },
                                    {
                                        "name": "RepositoryOwner"
                                    },
                                    {
                                        "name": "RepositoryName"
                                    }
                                ]
                            },
                            "data": [
                                {
                                    "0": "dependabot[bot]",
                                    "1": "jdubois",
                                    "2": "jhipster-hazelcast-azure"
                                },
                                {
                                    "0": "dependabot[bot]",
                                    "1": "navi-dev",
                                    "2": "azure-ad-authentication-aspnetcore-angular8"
                                },
                                {
                                    "0": "goya",
                                    "1": "goya",
                                    "2": "azure-metrics-exporter"
                                },
                                {
                                    "0": "MoyTW",
                                    "1": "lazerwalker",
                                    "2": "azure-mud"
                                },
                                {
                                    "0": "dependabot[bot]",
                                    "1": "anaszakaria",
                                    "2": "vue-azure"
                                }
                            ]
                        },
                        "text/html": [
                            "<table>",
                            "<tr><th>Actor</th><th>RepositoryOwner</th><th>RepositoryName</th></tr>",
                            "<tr><td>dependabot[bot]</td><td>jdubois</td><td>jhipster-hazelcast-azure</td></tr>",
                            "<tr><td>dependabot[bot]</td><td>navi-dev</td><td>azure-ad-authentication-aspnetcore-angular8</td></tr>",
                            "<tr><td>goya</td><td>goya</td><td>azure-metrics-exporter</td></tr>",
                            "<tr><td>MoyTW</td><td>lazerwalker</td><td>azure-mud</td></tr>",
                            "<tr><td>dependabot[bot]</td><td>anaszakaria</td><td>vue-azure</td></tr>",
                            "</table>"
                        ]
                    }
                }
            ],
            "execution_count": 74
        },
        {
            "cell_type": "code",
            "source": [
                "Events\r\n",
                "| where Type==\"CreateEvent\"  \r\n",
                "| extend RepositoryOwner = split(Repository.name, \"/\", 0)[0]\r\n",
                "        , RepositoryName = split(Repository.name, \"/\", 1)[0]\r\n",
                "| where RepositoryName =~ \"azure\" \r\n",
                "| limit 5\r\n",
                "| project Actor, RepositoryOwner, RepositoryName"
            ],
            "metadata": {
                "azdata_cell_guid": "f6387a3b-a118-49d4-91b9-ef6bc4be2086",
                "tags": []
            },
            "outputs": [
                {
                    "output_type": "display_data",
                    "data": {
                        "text/html": "Commands completed successfully."
                    },
                    "metadata": {}
                },
                {
                    "output_type": "display_data",
                    "data": {
                        "text/html": "Total execution time: 00:00:00.510"
                    },
                    "metadata": {}
                },
                {
                    "output_type": "execute_result",
                    "metadata": {},
                    "execution_count": 76,
                    "data": {
                        "application/vnd.dataresource+json": {
                            "schema": {
                                "fields": [
                                    {
                                        "name": "Actor"
                                    },
                                    {
                                        "name": "RepositoryOwner"
                                    },
                                    {
                                        "name": "RepositoryName"
                                    }
                                ]
                            },
                            "data": [
                                {
                                    "0": "dependabot[bot]",
                                    "1": "bjpark4002",
                                    "2": "Azure"
                                },
                                {
                                    "0": "arshadmohammedgit",
                                    "1": "arshadmohammedgit",
                                    "2": "Azure"
                                },
                                {
                                    "0": "arshadmohammedgit",
                                    "1": "arshadmohammedgit",
                                    "2": "Azure"
                                },
                                {
                                    "0": "dependabot[bot]",
                                    "1": "bjpark4002",
                                    "2": "Azure"
                                },
                                {
                                    "0": "chrisbay",
                                    "1": "LaunchCodeEducation",
                                    "2": "azure"
                                }
                            ]
                        },
                        "text/html": [
                            "<table>",
                            "<tr><th>Actor</th><th>RepositoryOwner</th><th>RepositoryName</th></tr>",
                            "<tr><td>dependabot[bot]</td><td>bjpark4002</td><td>Azure</td></tr>",
                            "<tr><td>arshadmohammedgit</td><td>arshadmohammedgit</td><td>Azure</td></tr>",
                            "<tr><td>arshadmohammedgit</td><td>arshadmohammedgit</td><td>Azure</td></tr>",
                            "<tr><td>dependabot[bot]</td><td>bjpark4002</td><td>Azure</td></tr>",
                            "<tr><td>chrisbay</td><td>LaunchCodeEducation</td><td>azure</td></tr>",
                            "</table>"
                        ]
                    }
                }
            ],
            "execution_count": 76
        },
        {
            "cell_type": "code",
            "source": [
                "Events\r\n",
                "| limit 10\r\n",
                "| distinct Actor"
            ],
            "metadata": {
                "azdata_cell_guid": "3e1955a9-856d-4aad-a593-6dadccade80e"
            },
            "outputs": [
                {
                    "output_type": "display_data",
                    "data": {
                        "text/html": "Commands completed successfully."
                    },
                    "metadata": {}
                },
                {
                    "output_type": "display_data",
                    "data": {
                        "text/html": "Total execution time: 00:00:00.031"
                    },
                    "metadata": {}
                },
                {
                    "output_type": "execute_result",
                    "metadata": {},
                    "execution_count": 66,
                    "data": {
                        "application/vnd.dataresource+json": {
                            "schema": {
                                "fields": [
                                    {
                                        "name": "Actor"
                                    }
                                ]
                            },
                            "data": [
                                {
                                    "0": "Gabriel-Almeida-99"
                                },
                                {
                                    "0": "dependabot[bot]"
                                },
                                {
                                    "0": "MikeOwino"
                                },
                                {
                                    "0": "dbhautik"
                                },
                                {
                                    "0": "irosen419"
                                },
                                {
                                    "0": "lread"
                                }
                            ]
                        },
                        "text/html": [
                            "<table>",
                            "<tr><th>Actor</th></tr>",
                            "<tr><td>Gabriel-Almeida-99</td></tr>",
                            "<tr><td>dependabot[bot]</td></tr>",
                            "<tr><td>MikeOwino</td></tr>",
                            "<tr><td>dbhautik</td></tr>",
                            "<tr><td>irosen419</td></tr>",
                            "<tr><td>lread</td></tr>",
                            "</table>"
                        ]
                    }
                }
            ],
            "execution_count": 66
        },
        {
            "cell_type": "code",
            "source": [
                "Events\r\n",
                "| limit 10\r\n",
                "| facet by Actor, Type"
            ],
            "metadata": {
                "azdata_cell_guid": "20b13ddc-d0e1-49cf-8e98-0f1272077a2e",
                "tags": []
            },
            "outputs": [
                {
                    "output_type": "display_data",
                    "data": {
                        "text/html": "Commands completed successfully."
                    },
                    "metadata": {}
                },
                {
                    "output_type": "display_data",
                    "data": {
                        "text/html": "Total execution time: 00:00:00.128"
                    },
                    "metadata": {}
                },
                {
                    "output_type": "execute_result",
                    "metadata": {},
                    "execution_count": 65,
                    "data": {
                        "application/vnd.dataresource+json": {
                            "schema": {
                                "fields": [
                                    {
                                        "name": "Actor"
                                    },
                                    {
                                        "name": "count_Actor"
                                    }
                                ]
                            },
                            "data": [
                                {
                                    "0": "Gabriel-Almeida-99",
                                    "1": "1"
                                },
                                {
                                    "0": "dependabot[bot]",
                                    "1": "5"
                                },
                                {
                                    "0": "MikeOwino",
                                    "1": "1"
                                },
                                {
                                    "0": "dbhautik",
                                    "1": "1"
                                },
                                {
                                    "0": "irosen419",
                                    "1": "1"
                                },
                                {
                                    "0": "lread",
                                    "1": "1"
                                }
                            ]
                        },
                        "text/html": [
                            "<table>",
                            "<tr><th>Actor</th><th>count_Actor</th></tr>",
                            "<tr><td>Gabriel-Almeida-99</td><td>1</td></tr>",
                            "<tr><td>dependabot[bot]</td><td>5</td></tr>",
                            "<tr><td>MikeOwino</td><td>1</td></tr>",
                            "<tr><td>dbhautik</td><td>1</td></tr>",
                            "<tr><td>irosen419</td><td>1</td></tr>",
                            "<tr><td>lread</td><td>1</td></tr>",
                            "</table>"
                        ]
                    }
                },
                {
                    "output_type": "execute_result",
                    "metadata": {},
                    "execution_count": 65,
                    "data": {
                        "application/vnd.dataresource+json": {
                            "schema": {
                                "fields": [
                                    {
                                        "name": "Type"
                                    },
                                    {
                                        "name": "count_Type"
                                    }
                                ]
                            },
                            "data": [
                                {
                                    "0": "CreateEvent",
                                    "1": "4"
                                },
                                {
                                    "0": "WatchEvent",
                                    "1": "1"
                                },
                                {
                                    "0": "IssuesEvent",
                                    "1": "1"
                                },
                                {
                                    "0": "PullRequestEvent",
                                    "1": "2"
                                },
                                {
                                    "0": "PushEvent",
                                    "1": "2"
                                }
                            ]
                        },
                        "text/html": [
                            "<table>",
                            "<tr><th>Type</th><th>count_Type</th></tr>",
                            "<tr><td>CreateEvent</td><td>4</td></tr>",
                            "<tr><td>WatchEvent</td><td>1</td></tr>",
                            "<tr><td>IssuesEvent</td><td>1</td></tr>",
                            "<tr><td>PullRequestEvent</td><td>2</td></tr>",
                            "<tr><td>PushEvent</td><td>2</td></tr>",
                            "</table>"
                        ]
                    }
                }
            ],
            "execution_count": 65
        },
        {
            "cell_type": "code",
            "source": [
                "Events \r\n",
                "| summarize count()"
            ],
            "metadata": {
                "azdata_cell_guid": "19a366c9-07c7-45fc-8a75-f5d3919b3d50",
                "tags": []
            },
            "outputs": [
                {
                    "output_type": "display_data",
                    "data": {
                        "text/html": "Commands completed successfully."
                    },
                    "metadata": {}
                },
                {
                    "output_type": "display_data",
                    "data": {
                        "text/html": "Total execution time: 00:00:00.044"
                    },
                    "metadata": {}
                },
                {
                    "output_type": "execute_result",
                    "metadata": {},
                    "execution_count": 8,
                    "data": {
                        "application/vnd.dataresource+json": {
                            "schema": {
                                "fields": [
                                    {
                                        "name": "count_"
                                    }
                                ]
                            },
                            "data": [
                                {
                                    "0": "2906898"
                                }
                            ]
                        },
                        "text/html": [
                            "<table>",
                            "<tr><th>count_</th></tr>",
                            "<tr><td>2906898</td></tr>",
                            "</table>"
                        ]
                    }
                }
            ],
            "execution_count": 8
        },
        {
            "cell_type": "code",
            "source": [
                "Events  \r\n",
                "| summarize Count = count() by Type\r\n",
                "| order by Count"
            ],
            "metadata": {
                "azdata_cell_guid": "e680d94b-0c83-4222-ad4e-1b3e3b2fab18"
            },
            "outputs": [
                {
                    "output_type": "display_data",
                    "data": {
                        "text/html": "Commands completed successfully."
                    },
                    "metadata": {}
                },
                {
                    "output_type": "display_data",
                    "data": {
                        "text/html": "Total execution time: 00:00:00.080"
                    },
                    "metadata": {}
                },
                {
                    "output_type": "execute_result",
                    "metadata": {},
                    "execution_count": 9,
                    "data": {
                        "application/vnd.dataresource+json": {
                            "schema": {
                                "fields": [
                                    {
                                        "name": "Type"
                                    },
                                    {
                                        "name": "Count"
                                    }
                                ]
                            },
                            "data": [
                                {
                                    "0": "CreateEvent",
                                    "1": "901400"
                                },
                                {
                                    "0": "PushEvent",
                                    "1": "850125"
                                },
                                {
                                    "0": "PullRequestEvent",
                                    "1": "787972"
                                },
                                {
                                    "0": "WatchEvent",
                                    "1": "95458"
                                },
                                {
                                    "0": "IssueCommentEvent",
                                    "1": "91757"
                                },
                                {
                                    "0": "DeleteEvent",
                                    "1": "62943"
                                },
                                {
                                    "0": "IssuesEvent",
                                    "1": "39635"
                                },
                                {
                                    "0": "ForkEvent",
                                    "1": "33782"
                                },
                                {
                                    "0": "PullRequestReviewCommentEvent",
                                    "1": "16642"
                                },
                                {
                                    "0": "CommitCommentEvent",
                                    "1": "7322"
                                },
                                {
                                    "0": "ReleaseEvent",
                                    "1": "6531"
                                },
                                {
                                    "0": "PublicEvent",
                                    "1": "5022"
                                },
                                {
                                    "0": "GollumEvent",
                                    "1": "4176"
                                },
                                {
                                    "0": "MemberEvent",
                                    "1": "4133"
                                }
                            ]
                        },
                        "text/html": [
                            "<table>",
                            "<tr><th>Type</th><th>Count</th></tr>",
                            "<tr><td>CreateEvent</td><td>901400</td></tr>",
                            "<tr><td>PushEvent</td><td>850125</td></tr>",
                            "<tr><td>PullRequestEvent</td><td>787972</td></tr>",
                            "<tr><td>WatchEvent</td><td>95458</td></tr>",
                            "<tr><td>IssueCommentEvent</td><td>91757</td></tr>",
                            "<tr><td>DeleteEvent</td><td>62943</td></tr>",
                            "<tr><td>IssuesEvent</td><td>39635</td></tr>",
                            "<tr><td>ForkEvent</td><td>33782</td></tr>",
                            "<tr><td>PullRequestReviewCommentEvent</td><td>16642</td></tr>",
                            "<tr><td>CommitCommentEvent</td><td>7322</td></tr>",
                            "<tr><td>ReleaseEvent</td><td>6531</td></tr>",
                            "<tr><td>PublicEvent</td><td>5022</td></tr>",
                            "<tr><td>GollumEvent</td><td>4176</td></tr>",
                            "<tr><td>MemberEvent</td><td>4133</td></tr>",
                            "</table>"
                        ]
                    }
                }
            ],
            "execution_count": 9
        },
        {
            "cell_type": "code",
            "source": [
                "Events  \r\n",
                "| extend File = tostring(split(SourceFile, \"/\")[5]), IngestionTime = ingestion_time()\r\n",
                "| summarize Count = count() by File, IngestionTime\r\n",
                "| order by File"
            ],
            "metadata": {
                "azdata_cell_guid": "f62d0462-2f85-418b-8e1d-5be8ec1080ed",
                "tags": []
            },
            "outputs": [
                {
                    "output_type": "display_data",
                    "data": {
                        "text/html": "Commands completed successfully."
                    },
                    "metadata": {}
                },
                {
                    "output_type": "display_data",
                    "data": {
                        "text/html": "Total execution time: 00:00:01.638"
                    },
                    "metadata": {}
                },
                {
                    "output_type": "execute_result",
                    "metadata": {},
                    "execution_count": 10,
                    "data": {
                        "application/vnd.dataresource+json": {
                            "schema": {
                                "fields": [
                                    {
                                        "name": "File"
                                    },
                                    {
                                        "name": "IngestionTime"
                                    },
                                    {
                                        "name": "Count"
                                    }
                                ]
                            },
                            "data": [
                                {
                                    "0": "Github-2020-08-01-9.json.gz",
                                    "1": "2020-10-10 21:00:20",
                                    "2": "135775"
                                },
                                {
                                    "0": "Github-2020-08-01-8.json.gz",
                                    "1": "2020-10-10 21:00:20",
                                    "2": "135757"
                                },
                                {
                                    "0": "Github-2020-08-01-7.json.gz",
                                    "1": "2020-10-10 20:57:30",
                                    "2": "126158"
                                },
                                {
                                    "0": "Github-2020-08-01-6.json.gz",
                                    "1": "2020-10-10 20:57:30",
                                    "2": "114808"
                                },
                                {
                                    "0": "Github-2020-08-01-5.json.gz",
                                    "1": "2020-10-10 20:49:56",
                                    "2": "113149"
                                },
                                {
                                    "0": "Github-2020-08-01-4.json.gz",
                                    "1": "2020-10-10 20:49:56",
                                    "2": "112689"
                                },
                                {
                                    "0": "Github-2020-08-01-3.json.gz",
                                    "1": "2020-10-10 20:35:43",
                                    "2": "112092"
                                },
                                {
                                    "0": "Github-2020-08-01-21.json.gz",
                                    "1": "2020-10-10 21:52:45",
                                    "2": "131852"
                                },
                                {
                                    "0": "Github-2020-08-01-20.json.gz",
                                    "1": "2020-10-10 21:52:45",
                                    "2": "135696"
                                },
                                {
                                    "0": "Github-2020-08-01-2.json.gz",
                                    "1": "2020-10-10 20:35:43",
                                    "2": "111616"
                                },
                                {
                                    "0": "Github-2020-08-01-19.json.gz",
                                    "1": "2020-10-10 21:47:08",
                                    "2": "138544"
                                },
                                {
                                    "0": "Github-2020-08-01-18.json.gz",
                                    "1": "2020-10-10 21:47:08",
                                    "2": "142372"
                                },
                                {
                                    "0": "Github-2020-08-01-17.json.gz",
                                    "1": "2020-10-10 21:32:49",
                                    "2": "145488"
                                },
                                {
                                    "0": "Github-2020-08-01-16.json.gz",
                                    "1": "2020-10-10 21:32:49",
                                    "2": "148228"
                                },
                                {
                                    "0": "Github-2020-08-01-15.json.gz",
                                    "1": "2020-10-10 21:26:32",
                                    "2": "152612"
                                },
                                {
                                    "0": "Github-2020-08-01-14.json.gz",
                                    "1": "2020-10-10 21:26:32",
                                    "2": "151498"
                                },
                                {
                                    "0": "Github-2020-08-01-13.json.gz",
                                    "1": "2020-10-10 21:23:39",
                                    "2": "147035"
                                },
                                {
                                    "0": "Github-2020-08-01-12.json.gz",
                                    "1": "2020-10-10 21:28:35",
                                    "2": "146275"
                                },
                                {
                                    "0": "Github-2020-08-01-11.json.gz",
                                    "1": "2020-10-10 21:06:26",
                                    "2": "138475"
                                },
                                {
                                    "0": "Github-2020-08-01-10.json.gz",
                                    "1": "2020-10-10 21:06:26",
                                    "2": "136596"
                                },
                                {
                                    "0": "Github-2020-08-01-1.json.gz",
                                    "1": "2020-10-10 20:33:22",
                                    "2": "115440"
                                },
                                {
                                    "0": "Github-2020-08-01-0.json.gz",
                                    "1": "2020-10-10 20:31:44",
                                    "2": "114743"
                                }
                            ]
                        },
                        "text/html": [
                            "<table>",
                            "<tr><th>File</th><th>IngestionTime</th><th>Count</th></tr>",
                            "<tr><td>Github-2020-08-01-9.json.gz</td><td>2020-10-10 21:00:20</td><td>135775</td></tr>",
                            "<tr><td>Github-2020-08-01-8.json.gz</td><td>2020-10-10 21:00:20</td><td>135757</td></tr>",
                            "<tr><td>Github-2020-08-01-7.json.gz</td><td>2020-10-10 20:57:30</td><td>126158</td></tr>",
                            "<tr><td>Github-2020-08-01-6.json.gz</td><td>2020-10-10 20:57:30</td><td>114808</td></tr>",
                            "<tr><td>Github-2020-08-01-5.json.gz</td><td>2020-10-10 20:49:56</td><td>113149</td></tr>",
                            "<tr><td>Github-2020-08-01-4.json.gz</td><td>2020-10-10 20:49:56</td><td>112689</td></tr>",
                            "<tr><td>Github-2020-08-01-3.json.gz</td><td>2020-10-10 20:35:43</td><td>112092</td></tr>",
                            "<tr><td>Github-2020-08-01-21.json.gz</td><td>2020-10-10 21:52:45</td><td>131852</td></tr>",
                            "<tr><td>Github-2020-08-01-20.json.gz</td><td>2020-10-10 21:52:45</td><td>135696</td></tr>",
                            "<tr><td>Github-2020-08-01-2.json.gz</td><td>2020-10-10 20:35:43</td><td>111616</td></tr>",
                            "<tr><td>Github-2020-08-01-19.json.gz</td><td>2020-10-10 21:47:08</td><td>138544</td></tr>",
                            "<tr><td>Github-2020-08-01-18.json.gz</td><td>2020-10-10 21:47:08</td><td>142372</td></tr>",
                            "<tr><td>Github-2020-08-01-17.json.gz</td><td>2020-10-10 21:32:49</td><td>145488</td></tr>",
                            "<tr><td>Github-2020-08-01-16.json.gz</td><td>2020-10-10 21:32:49</td><td>148228</td></tr>",
                            "<tr><td>Github-2020-08-01-15.json.gz</td><td>2020-10-10 21:26:32</td><td>152612</td></tr>",
                            "<tr><td>Github-2020-08-01-14.json.gz</td><td>2020-10-10 21:26:32</td><td>151498</td></tr>",
                            "<tr><td>Github-2020-08-01-13.json.gz</td><td>2020-10-10 21:23:39</td><td>147035</td></tr>",
                            "<tr><td>Github-2020-08-01-12.json.gz</td><td>2020-10-10 21:28:35</td><td>146275</td></tr>",
                            "<tr><td>Github-2020-08-01-11.json.gz</td><td>2020-10-10 21:06:26</td><td>138475</td></tr>",
                            "<tr><td>Github-2020-08-01-10.json.gz</td><td>2020-10-10 21:06:26</td><td>136596</td></tr>",
                            "<tr><td>Github-2020-08-01-1.json.gz</td><td>2020-10-10 20:33:22</td><td>115440</td></tr>",
                            "<tr><td>Github-2020-08-01-0.json.gz</td><td>2020-10-10 20:31:44</td><td>114743</td></tr>",
                            "</table>"
                        ]
                    }
                }
            ],
            "execution_count": 10
        },
        {
            "cell_type": "code",
            "source": [
                "Events\r\n",
                "| where Type==\"IssuesEvent\" and Payload.action==\"opened\"\r\n",
                "| extend IssueId = strcat(Repository.name, \"/\", tostring(split(Payload.issue.events_url, \"/\")[7]))\r\n",
                "| limit 5\r\n",
                "| project IssueId, CreatedAt"
            ],
            "metadata": {
                "azdata_cell_guid": "b4213aa0-7da2-4821-8164-a6fadf2e577a"
            },
            "outputs": [
                {
                    "output_type": "display_data",
                    "data": {
                        "text/html": "Commands completed successfully."
                    },
                    "metadata": {}
                },
                {
                    "output_type": "display_data",
                    "data": {
                        "text/html": "Total execution time: 00:00:00.056"
                    },
                    "metadata": {}
                },
                {
                    "output_type": "execute_result",
                    "metadata": {},
                    "execution_count": 11,
                    "data": {
                        "application/vnd.dataresource+json": {
                            "schema": {
                                "fields": [
                                    {
                                        "name": "IssueId"
                                    },
                                    {
                                        "name": "CreatedAt"
                                    }
                                ]
                            },
                            "data": [
                                {
                                    "0": "fullcalendar/fullcalendar/5687",
                                    "1": "2020-08-01 20:00:00"
                                },
                                {
                                    "0": "esphome/issues/1392",
                                    "1": "2020-08-01 20:00:04"
                                },
                                {
                                    "0": "OneBigOwnage/greener-grass/125",
                                    "1": "2020-08-01 20:00:05"
                                },
                                {
                                    "0": "jea-ia/github-slideshow/2",
                                    "1": "2020-08-01 20:00:09"
                                },
                                {
                                    "0": "JonathanTurnock/cfs-rts/13",
                                    "1": "2020-08-01 20:00:14"
                                }
                            ]
                        },
                        "text/html": [
                            "<table>",
                            "<tr><th>IssueId</th><th>CreatedAt</th></tr>",
                            "<tr><td>fullcalendar/fullcalendar/5687</td><td>2020-08-01 20:00:00</td></tr>",
                            "<tr><td>esphome/issues/1392</td><td>2020-08-01 20:00:04</td></tr>",
                            "<tr><td>OneBigOwnage/greener-grass/125</td><td>2020-08-01 20:00:05</td></tr>",
                            "<tr><td>jea-ia/github-slideshow/2</td><td>2020-08-01 20:00:09</td></tr>",
                            "<tr><td>JonathanTurnock/cfs-rts/13</td><td>2020-08-01 20:00:14</td></tr>",
                            "</table>"
                        ]
                    }
                }
            ],
            "execution_count": 11
        },
        {
            "cell_type": "code",
            "source": [
                "Events\r\n",
                "| where Type==\"IssueCommentEvent\" and Payload.action==\"created\"\r\n",
                "| extend IssueId = strcat(Repository.name, \"/\", tostring(split(Payload.issue.events_url, \"/\")[7]))\r\n",
                "| limit 5\r\n",
                "| project IssueId, CreatedAt"
            ],
            "metadata": {
                "azdata_cell_guid": "786068d6-2f89-424a-8ba9-015ebba99746"
            },
            "outputs": [
                {
                    "output_type": "display_data",
                    "data": {
                        "text/html": "Commands completed successfully."
                    },
                    "metadata": {}
                },
                {
                    "output_type": "display_data",
                    "data": {
                        "text/html": "Total execution time: 00:00:00.040"
                    },
                    "metadata": {}
                },
                {
                    "output_type": "execute_result",
                    "metadata": {},
                    "execution_count": 12,
                    "data": {
                        "application/vnd.dataresource+json": {
                            "schema": {
                                "fields": [
                                    {
                                        "name": "IssueId"
                                    },
                                    {
                                        "name": "CreatedAt"
                                    }
                                ]
                            },
                            "data": [
                                {
                                    "0": "angular/angular/12842",
                                    "1": "2020-08-01 20:00:00"
                                },
                                {
                                    "0": "microsoft/TypeScript/39741",
                                    "1": "2020-08-01 20:00:01"
                                },
                                {
                                    "0": "Gabriel-Almeida-99/github-slideshow/2",
                                    "1": "2020-08-01 20:00:02"
                                },
                                {
                                    "0": "q2a/question2answer/769",
                                    "1": "2020-08-01 20:00:03"
                                },
                                {
                                    "0": "microsoft/TypeScript/39739",
                                    "1": "2020-08-01 20:00:04"
                                }
                            ]
                        },
                        "text/html": [
                            "<table>",
                            "<tr><th>IssueId</th><th>CreatedAt</th></tr>",
                            "<tr><td>angular/angular/12842</td><td>2020-08-01 20:00:00</td></tr>",
                            "<tr><td>microsoft/TypeScript/39741</td><td>2020-08-01 20:00:01</td></tr>",
                            "<tr><td>Gabriel-Almeida-99/github-slideshow/2</td><td>2020-08-01 20:00:02</td></tr>",
                            "<tr><td>q2a/question2answer/769</td><td>2020-08-01 20:00:03</td></tr>",
                            "<tr><td>microsoft/TypeScript/39739</td><td>2020-08-01 20:00:04</td></tr>",
                            "</table>"
                        ]
                    }
                }
            ],
            "execution_count": 12
        },
        {
            "cell_type": "code",
            "source": [
                "let Open = Events\r\n",
                "| where Type==\"IssuesEvent\" and Payload.action==\"opened\"\r\n",
                "| extend IssueId = strcat(Repository.name, \"/\", tostring(split(Payload.issue.events_url, \"/\")[7]))\r\n",
                "| project IssueId, CreatedAt;\r\n",
                "\r\n",
                "let Comment = Events\r\n",
                "| where Type==\"IssueCommentEvent\" and Payload.action==\"created\"\r\n",
                "| extend IssueId = strcat(Repository.name, \"/\", tostring(split(Payload.issue.events_url, \"/\")[7]))\r\n",
                "| project IssueId, CreatedAt;\r\n",
                "\r\n",
                "Open\r\n",
                "| join (Comment) on IssueId\r\n",
                "| extend ElapsedTime = datetime_diff(\"minute\", CreatedAt1, CreatedAt)\r\n",
                "| project IssueId, CreatedAt, ElapsedTime\r\n",
                "| limit 5"
            ],
            "metadata": {
                "azdata_cell_guid": "18a132b0-3dd7-4768-b937-435cd4d07faa"
            },
            "outputs": [
                {
                    "output_type": "display_data",
                    "data": {
                        "text/html": "Commands completed successfully."
                    },
                    "metadata": {}
                },
                {
                    "output_type": "display_data",
                    "data": {
                        "text/html": "Total execution time: 00:00:37.425"
                    },
                    "metadata": {}
                },
                {
                    "output_type": "execute_result",
                    "metadata": {},
                    "execution_count": 13,
                    "data": {
                        "application/vnd.dataresource+json": {
                            "schema": {
                                "fields": [
                                    {
                                        "name": "IssueId"
                                    },
                                    {
                                        "name": "CreatedAt"
                                    },
                                    {
                                        "name": "ElapsedTime"
                                    }
                                ]
                            },
                            "data": [
                                {
                                    "0": "andris155/TheOld-Crafters/3745",
                                    "1": "2020-08-01 09:35:43",
                                    "2": "505"
                                },
                                {
                                    "0": "colorpulp/github-slideshow/2",
                                    "1": "2020-08-01 18:00:03",
                                    "2": "0"
                                },
                                {
                                    "0": "colorpulp/github-slideshow/1",
                                    "1": "2020-08-01 17:34:31",
                                    "2": "26"
                                },
                                {
                                    "0": "OpenMined/TenSEAL/125",
                                    "1": "2020-08-01 17:42:54",
                                    "2": "18"
                                },
                                {
                                    "0": "dhowe/AdNauseam/1704",
                                    "1": "2020-08-01 00:14:17",
                                    "2": "1066"
                                }
                            ]
                        },
                        "text/html": [
                            "<table>",
                            "<tr><th>IssueId</th><th>CreatedAt</th><th>ElapsedTime</th></tr>",
                            "<tr><td>andris155/TheOld-Crafters/3745</td><td>2020-08-01 09:35:43</td><td>505</td></tr>",
                            "<tr><td>colorpulp/github-slideshow/2</td><td>2020-08-01 18:00:03</td><td>0</td></tr>",
                            "<tr><td>colorpulp/github-slideshow/1</td><td>2020-08-01 17:34:31</td><td>26</td></tr>",
                            "<tr><td>OpenMined/TenSEAL/125</td><td>2020-08-01 17:42:54</td><td>18</td></tr>",
                            "<tr><td>dhowe/AdNauseam/1704</td><td>2020-08-01 00:14:17</td><td>1066</td></tr>",
                            "</table>"
                        ]
                    }
                }
            ],
            "execution_count": 13
        },
        {
            "cell_type": "code",
            "source": [
                "Events\r\n",
                "| where Type==\"IssueCommentEvent\" and Payload.action==\"created\"\r\n",
                "| extend IssueId = strcat(Repository.name, \"/\", tostring(split(Payload.issue.events_url, \"/\")[7]))\r\n",
                "| project IssueId, Timestamp = CreatedAt\r\n",
                "| make-series Count = count() on Timestamp from datetime(2020-08-01 00:00:00) to datetime(2020-08-02 00:00:00) step 1h by IssueId\r\n",
                "| limit 5\r\n",
                ""
            ],
            "metadata": {
                "azdata_cell_guid": "29e2d61b-3b75-49c8-ade0-8fc393b29bd4",
                "tags": []
            },
            "outputs": [
                {
                    "output_type": "display_data",
                    "data": {
                        "text/html": "Commands completed successfully."
                    },
                    "metadata": {}
                },
                {
                    "output_type": "display_data",
                    "data": {
                        "text/html": "Total execution time: 00:00:01.269"
                    },
                    "metadata": {}
                },
                {
                    "output_type": "execute_result",
                    "metadata": {},
                    "execution_count": 14,
                    "data": {
                        "application/vnd.dataresource+json": {
                            "schema": {
                                "fields": [
                                    {
                                        "name": "IssueId"
                                    },
                                    {
                                        "name": "Count"
                                    },
                                    {
                                        "name": "Timestamp"
                                    }
                                ]
                            },
                            "data": [
                                {
                                    "0": "aws/sagemaker-python-sdk/1781",
                                    "1": "[\r\n  0,\r\n  1,\r\n  3,\r\n  2,\r\n  2,\r\n  0,\r\n  0,\r\n  0,\r\n  0,\r\n  0,\r\n  0,\r\n  0,\r\n  0,\r\n  0,\r\n  0,\r\n  0,\r\n  0,\r\n  0,\r\n  0,\r\n  0,\r\n  0,\r\n  0,\r\n  0,\r\n  0\r\n]",
                                    "2": "[\r\n  \"2020-08-01T00:00:00.0000000Z\",\r\n  \"2020-08-01T01:00:00.0000000Z\",\r\n  \"2020-08-01T02:00:00.0000000Z\",\r\n  \"2020-08-01T03:00:00.0000000Z\",\r\n  \"2020-08-01T04:00:00.0000000Z\",\r\n  \"2020-08-01T05:00:00.0000000Z\",\r\n  \"2020-08-01T06:00:00.0000000Z\",\r\n  \"2020-08-01T07:00:00.0000000Z\",\r\n  \"2020-08-01T08:00:00.0000000Z\",\r\n  \"2020-08-01T09:00:00.0000000Z\",\r\n  \"2020-08-01T10:00:00.0000000Z\",\r\n  \"2020-08-01T11:00:00.0000000Z\",\r\n  \"2020-08-01T12:00:00.0000000Z\",\r\n  \"2020-08-01T13:00:00.0000000Z\",\r\n  \"2020-08-01T14:00:00.0000000Z\",\r\n  \"2020-08-01T15:00:00.0000000Z\",\r\n  \"2020-08-01T16:00:00.0000000Z\",\r\n  \"2020-08-01T17:00:00.0000000Z\",\r\n  \"2020-08-01T18:00:00.0000000Z\",\r\n  \"2020-08-01T19:00:00.0000000Z\",\r\n  \"2020-08-01T20:00:00.0000000Z\",\r\n  \"2020-08-01T21:00:00.0000000Z\",\r\n  \"2020-08-01T22:00:00.0000000Z\",\r\n  \"2020-08-01T23:00:00.0000000Z\"\r\n]"
                                },
                                {
                                    "0": "rcore-os/zCore/120",
                                    "1": "[\r\n  0,\r\n  0,\r\n  1,\r\n  0,\r\n  0,\r\n  0,\r\n  0,\r\n  0,\r\n  0,\r\n  0,\r\n  0,\r\n  0,\r\n  0,\r\n  0,\r\n  0,\r\n  0,\r\n  1,\r\n  0,\r\n  0,\r\n  0,\r\n  0,\r\n  0,\r\n  0,\r\n  0\r\n]",
                                    "2": "[\r\n  \"2020-08-01T00:00:00.0000000Z\",\r\n  \"2020-08-01T01:00:00.0000000Z\",\r\n  \"2020-08-01T02:00:00.0000000Z\",\r\n  \"2020-08-01T03:00:00.0000000Z\",\r\n  \"2020-08-01T04:00:00.0000000Z\",\r\n  \"2020-08-01T05:00:00.0000000Z\",\r\n  \"2020-08-01T06:00:00.0000000Z\",\r\n  \"2020-08-01T07:00:00.0000000Z\",\r\n  \"2020-08-01T08:00:00.0000000Z\",\r\n  \"2020-08-01T09:00:00.0000000Z\",\r\n  \"2020-08-01T10:00:00.0000000Z\",\r\n  \"2020-08-01T11:00:00.0000000Z\",\r\n  \"2020-08-01T12:00:00.0000000Z\",\r\n  \"2020-08-01T13:00:00.0000000Z\",\r\n  \"2020-08-01T14:00:00.0000000Z\",\r\n  \"2020-08-01T15:00:00.0000000Z\",\r\n  \"2020-08-01T16:00:00.0000000Z\",\r\n  \"2020-08-01T17:00:00.0000000Z\",\r\n  \"2020-08-01T18:00:00.0000000Z\",\r\n  \"2020-08-01T19:00:00.0000000Z\",\r\n  \"2020-08-01T20:00:00.0000000Z\",\r\n  \"2020-08-01T21:00:00.0000000Z\",\r\n  \"2020-08-01T22:00:00.0000000Z\",\r\n  \"2020-08-01T23:00:00.0000000Z\"\r\n]"
                                },
                                {
                                    "0": "JSMonk/hegel/287",
                                    "1": "[\r\n  0,\r\n  0,\r\n  1,\r\n  0,\r\n  0,\r\n  0,\r\n  0,\r\n  0,\r\n  0,\r\n  0,\r\n  0,\r\n  0,\r\n  0,\r\n  0,\r\n  0,\r\n  0,\r\n  0,\r\n  0,\r\n  0,\r\n  0,\r\n  0,\r\n  0,\r\n  0,\r\n  0\r\n]",
                                    "2": "[\r\n  \"2020-08-01T00:00:00.0000000Z\",\r\n  \"2020-08-01T01:00:00.0000000Z\",\r\n  \"2020-08-01T02:00:00.0000000Z\",\r\n  \"2020-08-01T03:00:00.0000000Z\",\r\n  \"2020-08-01T04:00:00.0000000Z\",\r\n  \"2020-08-01T05:00:00.0000000Z\",\r\n  \"2020-08-01T06:00:00.0000000Z\",\r\n  \"2020-08-01T07:00:00.0000000Z\",\r\n  \"2020-08-01T08:00:00.0000000Z\",\r\n  \"2020-08-01T09:00:00.0000000Z\",\r\n  \"2020-08-01T10:00:00.0000000Z\",\r\n  \"2020-08-01T11:00:00.0000000Z\",\r\n  \"2020-08-01T12:00:00.0000000Z\",\r\n  \"2020-08-01T13:00:00.0000000Z\",\r\n  \"2020-08-01T14:00:00.0000000Z\",\r\n  \"2020-08-01T15:00:00.0000000Z\",\r\n  \"2020-08-01T16:00:00.0000000Z\",\r\n  \"2020-08-01T17:00:00.0000000Z\",\r\n  \"2020-08-01T18:00:00.0000000Z\",\r\n  \"2020-08-01T19:00:00.0000000Z\",\r\n  \"2020-08-01T20:00:00.0000000Z\",\r\n  \"2020-08-01T21:00:00.0000000Z\",\r\n  \"2020-08-01T22:00:00.0000000Z\",\r\n  \"2020-08-01T23:00:00.0000000Z\"\r\n]"
                                },
                                {
                                    "0": "youzan/vant-weapp/3347",
                                    "1": "[\r\n  0,\r\n  0,\r\n  1,\r\n  0,\r\n  0,\r\n  0,\r\n  0,\r\n  0,\r\n  0,\r\n  0,\r\n  0,\r\n  0,\r\n  0,\r\n  0,\r\n  0,\r\n  0,\r\n  0,\r\n  0,\r\n  0,\r\n  0,\r\n  0,\r\n  0,\r\n  0,\r\n  0\r\n]",
                                    "2": "[\r\n  \"2020-08-01T00:00:00.0000000Z\",\r\n  \"2020-08-01T01:00:00.0000000Z\",\r\n  \"2020-08-01T02:00:00.0000000Z\",\r\n  \"2020-08-01T03:00:00.0000000Z\",\r\n  \"2020-08-01T04:00:00.0000000Z\",\r\n  \"2020-08-01T05:00:00.0000000Z\",\r\n  \"2020-08-01T06:00:00.0000000Z\",\r\n  \"2020-08-01T07:00:00.0000000Z\",\r\n  \"2020-08-01T08:00:00.0000000Z\",\r\n  \"2020-08-01T09:00:00.0000000Z\",\r\n  \"2020-08-01T10:00:00.0000000Z\",\r\n  \"2020-08-01T11:00:00.0000000Z\",\r\n  \"2020-08-01T12:00:00.0000000Z\",\r\n  \"2020-08-01T13:00:00.0000000Z\",\r\n  \"2020-08-01T14:00:00.0000000Z\",\r\n  \"2020-08-01T15:00:00.0000000Z\",\r\n  \"2020-08-01T16:00:00.0000000Z\",\r\n  \"2020-08-01T17:00:00.0000000Z\",\r\n  \"2020-08-01T18:00:00.0000000Z\",\r\n  \"2020-08-01T19:00:00.0000000Z\",\r\n  \"2020-08-01T20:00:00.0000000Z\",\r\n  \"2020-08-01T21:00:00.0000000Z\",\r\n  \"2020-08-01T22:00:00.0000000Z\",\r\n  \"2020-08-01T23:00:00.0000000Z\"\r\n]"
                                },
                                {
                                    "0": "josh-berry/tab-stash/88",
                                    "1": "[\r\n  0,\r\n  0,\r\n  1,\r\n  0,\r\n  0,\r\n  0,\r\n  0,\r\n  0,\r\n  0,\r\n  0,\r\n  0,\r\n  0,\r\n  0,\r\n  0,\r\n  0,\r\n  0,\r\n  0,\r\n  0,\r\n  0,\r\n  0,\r\n  0,\r\n  0,\r\n  0,\r\n  0\r\n]",
                                    "2": "[\r\n  \"2020-08-01T00:00:00.0000000Z\",\r\n  \"2020-08-01T01:00:00.0000000Z\",\r\n  \"2020-08-01T02:00:00.0000000Z\",\r\n  \"2020-08-01T03:00:00.0000000Z\",\r\n  \"2020-08-01T04:00:00.0000000Z\",\r\n  \"2020-08-01T05:00:00.0000000Z\",\r\n  \"2020-08-01T06:00:00.0000000Z\",\r\n  \"2020-08-01T07:00:00.0000000Z\",\r\n  \"2020-08-01T08:00:00.0000000Z\",\r\n  \"2020-08-01T09:00:00.0000000Z\",\r\n  \"2020-08-01T10:00:00.0000000Z\",\r\n  \"2020-08-01T11:00:00.0000000Z\",\r\n  \"2020-08-01T12:00:00.0000000Z\",\r\n  \"2020-08-01T13:00:00.0000000Z\",\r\n  \"2020-08-01T14:00:00.0000000Z\",\r\n  \"2020-08-01T15:00:00.0000000Z\",\r\n  \"2020-08-01T16:00:00.0000000Z\",\r\n  \"2020-08-01T17:00:00.0000000Z\",\r\n  \"2020-08-01T18:00:00.0000000Z\",\r\n  \"2020-08-01T19:00:00.0000000Z\",\r\n  \"2020-08-01T20:00:00.0000000Z\",\r\n  \"2020-08-01T21:00:00.0000000Z\",\r\n  \"2020-08-01T22:00:00.0000000Z\",\r\n  \"2020-08-01T23:00:00.0000000Z\"\r\n]"
                                }
                            ]
                        },
                        "text/html": [
                            "<table>",
                            "<tr><th>IssueId</th><th>Count</th><th>Timestamp</th></tr>",
                            "<tr><td>aws/sagemaker-python-sdk/1781</td><td>[\r\n  0,\r\n  1,\r\n  3,\r\n  2,\r\n  2,\r\n  0,\r\n  0,\r\n  0,\r\n  0,\r\n  0,\r\n  0,\r\n  0,\r\n  0,\r\n  0,\r\n  0,\r\n  0,\r\n  0,\r\n  0,\r\n  0,\r\n  0,\r\n  0,\r\n  0,\r\n  0,\r\n  0\r\n]</td><td>[\r\n  &quot;2020-08-01T00:00:00.0000000Z&quot;,\r\n  &quot;2020-08-01T01:00:00.0000000Z&quot;,\r\n  &quot;2020-08-01T02:00:00.0000000Z&quot;,\r\n  &quot;2020-08-01T03:00:00.0000000Z&quot;,\r\n  &quot;2020-08-01T04:00:00.0000000Z&quot;,\r\n  &quot;2020-08-01T05:00:00.0000000Z&quot;,\r\n  &quot;2020-08-01T06:00:00.0000000Z&quot;,\r\n  &quot;2020-08-01T07:00:00.0000000Z&quot;,\r\n  &quot;2020-08-01T08:00:00.0000000Z&quot;,\r\n  &quot;2020-08-01T09:00:00.0000000Z&quot;,\r\n  &quot;2020-08-01T10:00:00.0000000Z&quot;,\r\n  &quot;2020-08-01T11:00:00.0000000Z&quot;,\r\n  &quot;2020-08-01T12:00:00.0000000Z&quot;,\r\n  &quot;2020-08-01T13:00:00.0000000Z&quot;,\r\n  &quot;2020-08-01T14:00:00.0000000Z&quot;,\r\n  &quot;2020-08-01T15:00:00.0000000Z&quot;,\r\n  &quot;2020-08-01T16:00:00.0000000Z&quot;,\r\n  &quot;2020-08-01T17:00:00.0000000Z&quot;,\r\n  &quot;2020-08-01T18:00:00.0000000Z&quot;,\r\n  &quot;2020-08-01T19:00:00.0000000Z&quot;,\r\n  &quot;2020-08-01T20:00:00.0000000Z&quot;,\r\n  &quot;2020-08-01T21:00:00.0000000Z&quot;,\r\n  &quot;2020-08-01T22:00:00.0000000Z&quot;,\r\n  &quot;2020-08-01T23:00:00.0000000Z&quot;\r\n]</td></tr>",
                            "<tr><td>rcore-os/zCore/120</td><td>[\r\n  0,\r\n  0,\r\n  1,\r\n  0,\r\n  0,\r\n  0,\r\n  0,\r\n  0,\r\n  0,\r\n  0,\r\n  0,\r\n  0,\r\n  0,\r\n  0,\r\n  0,\r\n  0,\r\n  1,\r\n  0,\r\n  0,\r\n  0,\r\n  0,\r\n  0,\r\n  0,\r\n  0\r\n]</td><td>[\r\n  &quot;2020-08-01T00:00:00.0000000Z&quot;,\r\n  &quot;2020-08-01T01:00:00.0000000Z&quot;,\r\n  &quot;2020-08-01T02:00:00.0000000Z&quot;,\r\n  &quot;2020-08-01T03:00:00.0000000Z&quot;,\r\n  &quot;2020-08-01T04:00:00.0000000Z&quot;,\r\n  &quot;2020-08-01T05:00:00.0000000Z&quot;,\r\n  &quot;2020-08-01T06:00:00.0000000Z&quot;,\r\n  &quot;2020-08-01T07:00:00.0000000Z&quot;,\r\n  &quot;2020-08-01T08:00:00.0000000Z&quot;,\r\n  &quot;2020-08-01T09:00:00.0000000Z&quot;,\r\n  &quot;2020-08-01T10:00:00.0000000Z&quot;,\r\n  &quot;2020-08-01T11:00:00.0000000Z&quot;,\r\n  &quot;2020-08-01T12:00:00.0000000Z&quot;,\r\n  &quot;2020-08-01T13:00:00.0000000Z&quot;,\r\n  &quot;2020-08-01T14:00:00.0000000Z&quot;,\r\n  &quot;2020-08-01T15:00:00.0000000Z&quot;,\r\n  &quot;2020-08-01T16:00:00.0000000Z&quot;,\r\n  &quot;2020-08-01T17:00:00.0000000Z&quot;,\r\n  &quot;2020-08-01T18:00:00.0000000Z&quot;,\r\n  &quot;2020-08-01T19:00:00.0000000Z&quot;,\r\n  &quot;2020-08-01T20:00:00.0000000Z&quot;,\r\n  &quot;2020-08-01T21:00:00.0000000Z&quot;,\r\n  &quot;2020-08-01T22:00:00.0000000Z&quot;,\r\n  &quot;2020-08-01T23:00:00.0000000Z&quot;\r\n]</td></tr>",
                            "<tr><td>JSMonk/hegel/287</td><td>[\r\n  0,\r\n  0,\r\n  1,\r\n  0,\r\n  0,\r\n  0,\r\n  0,\r\n  0,\r\n  0,\r\n  0,\r\n  0,\r\n  0,\r\n  0,\r\n  0,\r\n  0,\r\n  0,\r\n  0,\r\n  0,\r\n  0,\r\n  0,\r\n  0,\r\n  0,\r\n  0,\r\n  0\r\n]</td><td>[\r\n  &quot;2020-08-01T00:00:00.0000000Z&quot;,\r\n  &quot;2020-08-01T01:00:00.0000000Z&quot;,\r\n  &quot;2020-08-01T02:00:00.0000000Z&quot;,\r\n  &quot;2020-08-01T03:00:00.0000000Z&quot;,\r\n  &quot;2020-08-01T04:00:00.0000000Z&quot;,\r\n  &quot;2020-08-01T05:00:00.0000000Z&quot;,\r\n  &quot;2020-08-01T06:00:00.0000000Z&quot;,\r\n  &quot;2020-08-01T07:00:00.0000000Z&quot;,\r\n  &quot;2020-08-01T08:00:00.0000000Z&quot;,\r\n  &quot;2020-08-01T09:00:00.0000000Z&quot;,\r\n  &quot;2020-08-01T10:00:00.0000000Z&quot;,\r\n  &quot;2020-08-01T11:00:00.0000000Z&quot;,\r\n  &quot;2020-08-01T12:00:00.0000000Z&quot;,\r\n  &quot;2020-08-01T13:00:00.0000000Z&quot;,\r\n  &quot;2020-08-01T14:00:00.0000000Z&quot;,\r\n  &quot;2020-08-01T15:00:00.0000000Z&quot;,\r\n  &quot;2020-08-01T16:00:00.0000000Z&quot;,\r\n  &quot;2020-08-01T17:00:00.0000000Z&quot;,\r\n  &quot;2020-08-01T18:00:00.0000000Z&quot;,\r\n  &quot;2020-08-01T19:00:00.0000000Z&quot;,\r\n  &quot;2020-08-01T20:00:00.0000000Z&quot;,\r\n  &quot;2020-08-01T21:00:00.0000000Z&quot;,\r\n  &quot;2020-08-01T22:00:00.0000000Z&quot;,\r\n  &quot;2020-08-01T23:00:00.0000000Z&quot;\r\n]</td></tr>",
                            "<tr><td>youzan/vant-weapp/3347</td><td>[\r\n  0,\r\n  0,\r\n  1,\r\n  0,\r\n  0,\r\n  0,\r\n  0,\r\n  0,\r\n  0,\r\n  0,\r\n  0,\r\n  0,\r\n  0,\r\n  0,\r\n  0,\r\n  0,\r\n  0,\r\n  0,\r\n  0,\r\n  0,\r\n  0,\r\n  0,\r\n  0,\r\n  0\r\n]</td><td>[\r\n  &quot;2020-08-01T00:00:00.0000000Z&quot;,\r\n  &quot;2020-08-01T01:00:00.0000000Z&quot;,\r\n  &quot;2020-08-01T02:00:00.0000000Z&quot;,\r\n  &quot;2020-08-01T03:00:00.0000000Z&quot;,\r\n  &quot;2020-08-01T04:00:00.0000000Z&quot;,\r\n  &quot;2020-08-01T05:00:00.0000000Z&quot;,\r\n  &quot;2020-08-01T06:00:00.0000000Z&quot;,\r\n  &quot;2020-08-01T07:00:00.0000000Z&quot;,\r\n  &quot;2020-08-01T08:00:00.0000000Z&quot;,\r\n  &quot;2020-08-01T09:00:00.0000000Z&quot;,\r\n  &quot;2020-08-01T10:00:00.0000000Z&quot;,\r\n  &quot;2020-08-01T11:00:00.0000000Z&quot;,\r\n  &quot;2020-08-01T12:00:00.0000000Z&quot;,\r\n  &quot;2020-08-01T13:00:00.0000000Z&quot;,\r\n  &quot;2020-08-01T14:00:00.0000000Z&quot;,\r\n  &quot;2020-08-01T15:00:00.0000000Z&quot;,\r\n  &quot;2020-08-01T16:00:00.0000000Z&quot;,\r\n  &quot;2020-08-01T17:00:00.0000000Z&quot;,\r\n  &quot;2020-08-01T18:00:00.0000000Z&quot;,\r\n  &quot;2020-08-01T19:00:00.0000000Z&quot;,\r\n  &quot;2020-08-01T20:00:00.0000000Z&quot;,\r\n  &quot;2020-08-01T21:00:00.0000000Z&quot;,\r\n  &quot;2020-08-01T22:00:00.0000000Z&quot;,\r\n  &quot;2020-08-01T23:00:00.0000000Z&quot;\r\n]</td></tr>",
                            "<tr><td>josh-berry/tab-stash/88</td><td>[\r\n  0,\r\n  0,\r\n  1,\r\n  0,\r\n  0,\r\n  0,\r\n  0,\r\n  0,\r\n  0,\r\n  0,\r\n  0,\r\n  0,\r\n  0,\r\n  0,\r\n  0,\r\n  0,\r\n  0,\r\n  0,\r\n  0,\r\n  0,\r\n  0,\r\n  0,\r\n  0,\r\n  0\r\n]</td><td>[\r\n  &quot;2020-08-01T00:00:00.0000000Z&quot;,\r\n  &quot;2020-08-01T01:00:00.0000000Z&quot;,\r\n  &quot;2020-08-01T02:00:00.0000000Z&quot;,\r\n  &quot;2020-08-01T03:00:00.0000000Z&quot;,\r\n  &quot;2020-08-01T04:00:00.0000000Z&quot;,\r\n  &quot;2020-08-01T05:00:00.0000000Z&quot;,\r\n  &quot;2020-08-01T06:00:00.0000000Z&quot;,\r\n  &quot;2020-08-01T07:00:00.0000000Z&quot;,\r\n  &quot;2020-08-01T08:00:00.0000000Z&quot;,\r\n  &quot;2020-08-01T09:00:00.0000000Z&quot;,\r\n  &quot;2020-08-01T10:00:00.0000000Z&quot;,\r\n  &quot;2020-08-01T11:00:00.0000000Z&quot;,\r\n  &quot;2020-08-01T12:00:00.0000000Z&quot;,\r\n  &quot;2020-08-01T13:00:00.0000000Z&quot;,\r\n  &quot;2020-08-01T14:00:00.0000000Z&quot;,\r\n  &quot;2020-08-01T15:00:00.0000000Z&quot;,\r\n  &quot;2020-08-01T16:00:00.0000000Z&quot;,\r\n  &quot;2020-08-01T17:00:00.0000000Z&quot;,\r\n  &quot;2020-08-01T18:00:00.0000000Z&quot;,\r\n  &quot;2020-08-01T19:00:00.0000000Z&quot;,\r\n  &quot;2020-08-01T20:00:00.0000000Z&quot;,\r\n  &quot;2020-08-01T21:00:00.0000000Z&quot;,\r\n  &quot;2020-08-01T22:00:00.0000000Z&quot;,\r\n  &quot;2020-08-01T23:00:00.0000000Z&quot;\r\n]</td></tr>",
                            "</table>"
                        ]
                    }
                }
            ],
            "execution_count": 14
        },
        {
            "cell_type": "code",
            "source": [
                "Events\r\n",
                "| where Type==\"IssueCommentEvent\" and Payload.action==\"created\"\r\n",
                "| extend IssueId = strcat(Repository.name, \"/\", tostring(split(Payload.issue.events_url, \"/\")[7]))\r\n",
                "| project IssueId, Timestamp = CreatedAt\r\n",
                "| make-series Count = count() on Timestamp from datetime(2020-08-01 00:00:00) to datetime(2020-08-02 00:00:00) step 1h by IssueId\r\n",
                "| limit 5\r\n",
                "| mv-expand Count, Timestamp\r\n",
                "| project IssueId, Timestamp, Count"
            ],
            "metadata": {
                "azdata_cell_guid": "3dc0066c-7d6f-4a68-951c-3fccb0cb2f06"
            },
            "outputs": [
                {
                    "output_type": "display_data",
                    "data": {
                        "text/html": "Commands completed successfully."
                    },
                    "metadata": {}
                },
                {
                    "output_type": "display_data",
                    "data": {
                        "text/html": "Total execution time: 00:00:01.299"
                    },
                    "metadata": {}
                },
                {
                    "output_type": "execute_result",
                    "metadata": {},
                    "execution_count": 15,
                    "data": {
                        "application/vnd.dataresource+json": {
                            "schema": {
                                "fields": [
                                    {
                                        "name": "IssueId"
                                    },
                                    {
                                        "name": "Timestamp"
                                    },
                                    {
                                        "name": "Count"
                                    }
                                ]
                            },
                            "data": [
                                {
                                    "0": "aws/sagemaker-python-sdk/1781",
                                    "1": "2020-08-01T00:00:00.0000000Z",
                                    "2": "0"
                                },
                                {
                                    "0": "aws/sagemaker-python-sdk/1781",
                                    "1": "2020-08-01T01:00:00.0000000Z",
                                    "2": "1"
                                },
                                {
                                    "0": "aws/sagemaker-python-sdk/1781",
                                    "1": "2020-08-01T02:00:00.0000000Z",
                                    "2": "3"
                                },
                                {
                                    "0": "aws/sagemaker-python-sdk/1781",
                                    "1": "2020-08-01T03:00:00.0000000Z",
                                    "2": "2"
                                },
                                {
                                    "0": "aws/sagemaker-python-sdk/1781",
                                    "1": "2020-08-01T04:00:00.0000000Z",
                                    "2": "2"
                                },
                                {
                                    "0": "aws/sagemaker-python-sdk/1781",
                                    "1": "2020-08-01T05:00:00.0000000Z",
                                    "2": "0"
                                },
                                {
                                    "0": "aws/sagemaker-python-sdk/1781",
                                    "1": "2020-08-01T06:00:00.0000000Z",
                                    "2": "0"
                                },
                                {
                                    "0": "aws/sagemaker-python-sdk/1781",
                                    "1": "2020-08-01T07:00:00.0000000Z",
                                    "2": "0"
                                },
                                {
                                    "0": "aws/sagemaker-python-sdk/1781",
                                    "1": "2020-08-01T08:00:00.0000000Z",
                                    "2": "0"
                                },
                                {
                                    "0": "aws/sagemaker-python-sdk/1781",
                                    "1": "2020-08-01T09:00:00.0000000Z",
                                    "2": "0"
                                },
                                {
                                    "0": "aws/sagemaker-python-sdk/1781",
                                    "1": "2020-08-01T10:00:00.0000000Z",
                                    "2": "0"
                                },
                                {
                                    "0": "aws/sagemaker-python-sdk/1781",
                                    "1": "2020-08-01T11:00:00.0000000Z",
                                    "2": "0"
                                },
                                {
                                    "0": "aws/sagemaker-python-sdk/1781",
                                    "1": "2020-08-01T12:00:00.0000000Z",
                                    "2": "0"
                                },
                                {
                                    "0": "aws/sagemaker-python-sdk/1781",
                                    "1": "2020-08-01T13:00:00.0000000Z",
                                    "2": "0"
                                },
                                {
                                    "0": "aws/sagemaker-python-sdk/1781",
                                    "1": "2020-08-01T14:00:00.0000000Z",
                                    "2": "0"
                                },
                                {
                                    "0": "aws/sagemaker-python-sdk/1781",
                                    "1": "2020-08-01T15:00:00.0000000Z",
                                    "2": "0"
                                },
                                {
                                    "0": "aws/sagemaker-python-sdk/1781",
                                    "1": "2020-08-01T16:00:00.0000000Z",
                                    "2": "0"
                                },
                                {
                                    "0": "aws/sagemaker-python-sdk/1781",
                                    "1": "2020-08-01T17:00:00.0000000Z",
                                    "2": "0"
                                },
                                {
                                    "0": "aws/sagemaker-python-sdk/1781",
                                    "1": "2020-08-01T18:00:00.0000000Z",
                                    "2": "0"
                                },
                                {
                                    "0": "aws/sagemaker-python-sdk/1781",
                                    "1": "2020-08-01T19:00:00.0000000Z",
                                    "2": "0"
                                },
                                {
                                    "0": "aws/sagemaker-python-sdk/1781",
                                    "1": "2020-08-01T20:00:00.0000000Z",
                                    "2": "0"
                                },
                                {
                                    "0": "aws/sagemaker-python-sdk/1781",
                                    "1": "2020-08-01T21:00:00.0000000Z",
                                    "2": "0"
                                },
                                {
                                    "0": "aws/sagemaker-python-sdk/1781",
                                    "1": "2020-08-01T22:00:00.0000000Z",
                                    "2": "0"
                                },
                                {
                                    "0": "aws/sagemaker-python-sdk/1781",
                                    "1": "2020-08-01T23:00:00.0000000Z",
                                    "2": "0"
                                },
                                {
                                    "0": "rcore-os/zCore/120",
                                    "1": "2020-08-01T00:00:00.0000000Z",
                                    "2": "0"
                                },
                                {
                                    "0": "rcore-os/zCore/120",
                                    "1": "2020-08-01T01:00:00.0000000Z",
                                    "2": "0"
                                },
                                {
                                    "0": "rcore-os/zCore/120",
                                    "1": "2020-08-01T02:00:00.0000000Z",
                                    "2": "1"
                                },
                                {
                                    "0": "rcore-os/zCore/120",
                                    "1": "2020-08-01T03:00:00.0000000Z",
                                    "2": "0"
                                },
                                {
                                    "0": "rcore-os/zCore/120",
                                    "1": "2020-08-01T04:00:00.0000000Z",
                                    "2": "0"
                                },
                                {
                                    "0": "rcore-os/zCore/120",
                                    "1": "2020-08-01T05:00:00.0000000Z",
                                    "2": "0"
                                },
                                {
                                    "0": "rcore-os/zCore/120",
                                    "1": "2020-08-01T06:00:00.0000000Z",
                                    "2": "0"
                                },
                                {
                                    "0": "rcore-os/zCore/120",
                                    "1": "2020-08-01T07:00:00.0000000Z",
                                    "2": "0"
                                },
                                {
                                    "0": "rcore-os/zCore/120",
                                    "1": "2020-08-01T08:00:00.0000000Z",
                                    "2": "0"
                                },
                                {
                                    "0": "rcore-os/zCore/120",
                                    "1": "2020-08-01T09:00:00.0000000Z",
                                    "2": "0"
                                },
                                {
                                    "0": "rcore-os/zCore/120",
                                    "1": "2020-08-01T10:00:00.0000000Z",
                                    "2": "0"
                                },
                                {
                                    "0": "rcore-os/zCore/120",
                                    "1": "2020-08-01T11:00:00.0000000Z",
                                    "2": "0"
                                },
                                {
                                    "0": "rcore-os/zCore/120",
                                    "1": "2020-08-01T12:00:00.0000000Z",
                                    "2": "0"
                                },
                                {
                                    "0": "rcore-os/zCore/120",
                                    "1": "2020-08-01T13:00:00.0000000Z",
                                    "2": "0"
                                },
                                {
                                    "0": "rcore-os/zCore/120",
                                    "1": "2020-08-01T14:00:00.0000000Z",
                                    "2": "0"
                                },
                                {
                                    "0": "rcore-os/zCore/120",
                                    "1": "2020-08-01T15:00:00.0000000Z",
                                    "2": "0"
                                },
                                {
                                    "0": "rcore-os/zCore/120",
                                    "1": "2020-08-01T16:00:00.0000000Z",
                                    "2": "1"
                                },
                                {
                                    "0": "rcore-os/zCore/120",
                                    "1": "2020-08-01T17:00:00.0000000Z",
                                    "2": "0"
                                },
                                {
                                    "0": "rcore-os/zCore/120",
                                    "1": "2020-08-01T18:00:00.0000000Z",
                                    "2": "0"
                                },
                                {
                                    "0": "rcore-os/zCore/120",
                                    "1": "2020-08-01T19:00:00.0000000Z",
                                    "2": "0"
                                },
                                {
                                    "0": "rcore-os/zCore/120",
                                    "1": "2020-08-01T20:00:00.0000000Z",
                                    "2": "0"
                                },
                                {
                                    "0": "rcore-os/zCore/120",
                                    "1": "2020-08-01T21:00:00.0000000Z",
                                    "2": "0"
                                },
                                {
                                    "0": "rcore-os/zCore/120",
                                    "1": "2020-08-01T22:00:00.0000000Z",
                                    "2": "0"
                                },
                                {
                                    "0": "rcore-os/zCore/120",
                                    "1": "2020-08-01T23:00:00.0000000Z",
                                    "2": "0"
                                },
                                {
                                    "0": "JSMonk/hegel/287",
                                    "1": "2020-08-01T00:00:00.0000000Z",
                                    "2": "0"
                                },
                                {
                                    "0": "JSMonk/hegel/287",
                                    "1": "2020-08-01T01:00:00.0000000Z",
                                    "2": "0"
                                },
                                {
                                    "0": "JSMonk/hegel/287",
                                    "1": "2020-08-01T02:00:00.0000000Z",
                                    "2": "1"
                                },
                                {
                                    "0": "JSMonk/hegel/287",
                                    "1": "2020-08-01T03:00:00.0000000Z",
                                    "2": "0"
                                },
                                {
                                    "0": "JSMonk/hegel/287",
                                    "1": "2020-08-01T04:00:00.0000000Z",
                                    "2": "0"
                                },
                                {
                                    "0": "JSMonk/hegel/287",
                                    "1": "2020-08-01T05:00:00.0000000Z",
                                    "2": "0"
                                },
                                {
                                    "0": "JSMonk/hegel/287",
                                    "1": "2020-08-01T06:00:00.0000000Z",
                                    "2": "0"
                                },
                                {
                                    "0": "JSMonk/hegel/287",
                                    "1": "2020-08-01T07:00:00.0000000Z",
                                    "2": "0"
                                },
                                {
                                    "0": "JSMonk/hegel/287",
                                    "1": "2020-08-01T08:00:00.0000000Z",
                                    "2": "0"
                                },
                                {
                                    "0": "JSMonk/hegel/287",
                                    "1": "2020-08-01T09:00:00.0000000Z",
                                    "2": "0"
                                },
                                {
                                    "0": "JSMonk/hegel/287",
                                    "1": "2020-08-01T10:00:00.0000000Z",
                                    "2": "0"
                                },
                                {
                                    "0": "JSMonk/hegel/287",
                                    "1": "2020-08-01T11:00:00.0000000Z",
                                    "2": "0"
                                },
                                {
                                    "0": "JSMonk/hegel/287",
                                    "1": "2020-08-01T12:00:00.0000000Z",
                                    "2": "0"
                                },
                                {
                                    "0": "JSMonk/hegel/287",
                                    "1": "2020-08-01T13:00:00.0000000Z",
                                    "2": "0"
                                },
                                {
                                    "0": "JSMonk/hegel/287",
                                    "1": "2020-08-01T14:00:00.0000000Z",
                                    "2": "0"
                                },
                                {
                                    "0": "JSMonk/hegel/287",
                                    "1": "2020-08-01T15:00:00.0000000Z",
                                    "2": "0"
                                },
                                {
                                    "0": "JSMonk/hegel/287",
                                    "1": "2020-08-01T16:00:00.0000000Z",
                                    "2": "0"
                                },
                                {
                                    "0": "JSMonk/hegel/287",
                                    "1": "2020-08-01T17:00:00.0000000Z",
                                    "2": "0"
                                },
                                {
                                    "0": "JSMonk/hegel/287",
                                    "1": "2020-08-01T18:00:00.0000000Z",
                                    "2": "0"
                                },
                                {
                                    "0": "JSMonk/hegel/287",
                                    "1": "2020-08-01T19:00:00.0000000Z",
                                    "2": "0"
                                },
                                {
                                    "0": "JSMonk/hegel/287",
                                    "1": "2020-08-01T20:00:00.0000000Z",
                                    "2": "0"
                                },
                                {
                                    "0": "JSMonk/hegel/287",
                                    "1": "2020-08-01T21:00:00.0000000Z",
                                    "2": "0"
                                },
                                {
                                    "0": "JSMonk/hegel/287",
                                    "1": "2020-08-01T22:00:00.0000000Z",
                                    "2": "0"
                                },
                                {
                                    "0": "JSMonk/hegel/287",
                                    "1": "2020-08-01T23:00:00.0000000Z",
                                    "2": "0"
                                },
                                {
                                    "0": "youzan/vant-weapp/3347",
                                    "1": "2020-08-01T00:00:00.0000000Z",
                                    "2": "0"
                                },
                                {
                                    "0": "youzan/vant-weapp/3347",
                                    "1": "2020-08-01T01:00:00.0000000Z",
                                    "2": "0"
                                },
                                {
                                    "0": "youzan/vant-weapp/3347",
                                    "1": "2020-08-01T02:00:00.0000000Z",
                                    "2": "1"
                                },
                                {
                                    "0": "youzan/vant-weapp/3347",
                                    "1": "2020-08-01T03:00:00.0000000Z",
                                    "2": "0"
                                },
                                {
                                    "0": "youzan/vant-weapp/3347",
                                    "1": "2020-08-01T04:00:00.0000000Z",
                                    "2": "0"
                                },
                                {
                                    "0": "youzan/vant-weapp/3347",
                                    "1": "2020-08-01T05:00:00.0000000Z",
                                    "2": "0"
                                },
                                {
                                    "0": "youzan/vant-weapp/3347",
                                    "1": "2020-08-01T06:00:00.0000000Z",
                                    "2": "0"
                                },
                                {
                                    "0": "youzan/vant-weapp/3347",
                                    "1": "2020-08-01T07:00:00.0000000Z",
                                    "2": "0"
                                },
                                {
                                    "0": "youzan/vant-weapp/3347",
                                    "1": "2020-08-01T08:00:00.0000000Z",
                                    "2": "0"
                                },
                                {
                                    "0": "youzan/vant-weapp/3347",
                                    "1": "2020-08-01T09:00:00.0000000Z",
                                    "2": "0"
                                },
                                {
                                    "0": "youzan/vant-weapp/3347",
                                    "1": "2020-08-01T10:00:00.0000000Z",
                                    "2": "0"
                                },
                                {
                                    "0": "youzan/vant-weapp/3347",
                                    "1": "2020-08-01T11:00:00.0000000Z",
                                    "2": "0"
                                },
                                {
                                    "0": "youzan/vant-weapp/3347",
                                    "1": "2020-08-01T12:00:00.0000000Z",
                                    "2": "0"
                                },
                                {
                                    "0": "youzan/vant-weapp/3347",
                                    "1": "2020-08-01T13:00:00.0000000Z",
                                    "2": "0"
                                },
                                {
                                    "0": "youzan/vant-weapp/3347",
                                    "1": "2020-08-01T14:00:00.0000000Z",
                                    "2": "0"
                                },
                                {
                                    "0": "youzan/vant-weapp/3347",
                                    "1": "2020-08-01T15:00:00.0000000Z",
                                    "2": "0"
                                },
                                {
                                    "0": "youzan/vant-weapp/3347",
                                    "1": "2020-08-01T16:00:00.0000000Z",
                                    "2": "0"
                                },
                                {
                                    "0": "youzan/vant-weapp/3347",
                                    "1": "2020-08-01T17:00:00.0000000Z",
                                    "2": "0"
                                },
                                {
                                    "0": "youzan/vant-weapp/3347",
                                    "1": "2020-08-01T18:00:00.0000000Z",
                                    "2": "0"
                                },
                                {
                                    "0": "youzan/vant-weapp/3347",
                                    "1": "2020-08-01T19:00:00.0000000Z",
                                    "2": "0"
                                },
                                {
                                    "0": "youzan/vant-weapp/3347",
                                    "1": "2020-08-01T20:00:00.0000000Z",
                                    "2": "0"
                                },
                                {
                                    "0": "youzan/vant-weapp/3347",
                                    "1": "2020-08-01T21:00:00.0000000Z",
                                    "2": "0"
                                },
                                {
                                    "0": "youzan/vant-weapp/3347",
                                    "1": "2020-08-01T22:00:00.0000000Z",
                                    "2": "0"
                                },
                                {
                                    "0": "youzan/vant-weapp/3347",
                                    "1": "2020-08-01T23:00:00.0000000Z",
                                    "2": "0"
                                },
                                {
                                    "0": "josh-berry/tab-stash/88",
                                    "1": "2020-08-01T00:00:00.0000000Z",
                                    "2": "0"
                                },
                                {
                                    "0": "josh-berry/tab-stash/88",
                                    "1": "2020-08-01T01:00:00.0000000Z",
                                    "2": "0"
                                },
                                {
                                    "0": "josh-berry/tab-stash/88",
                                    "1": "2020-08-01T02:00:00.0000000Z",
                                    "2": "1"
                                },
                                {
                                    "0": "josh-berry/tab-stash/88",
                                    "1": "2020-08-01T03:00:00.0000000Z",
                                    "2": "0"
                                },
                                {
                                    "0": "josh-berry/tab-stash/88",
                                    "1": "2020-08-01T04:00:00.0000000Z",
                                    "2": "0"
                                },
                                {
                                    "0": "josh-berry/tab-stash/88",
                                    "1": "2020-08-01T05:00:00.0000000Z",
                                    "2": "0"
                                },
                                {
                                    "0": "josh-berry/tab-stash/88",
                                    "1": "2020-08-01T06:00:00.0000000Z",
                                    "2": "0"
                                },
                                {
                                    "0": "josh-berry/tab-stash/88",
                                    "1": "2020-08-01T07:00:00.0000000Z",
                                    "2": "0"
                                },
                                {
                                    "0": "josh-berry/tab-stash/88",
                                    "1": "2020-08-01T08:00:00.0000000Z",
                                    "2": "0"
                                },
                                {
                                    "0": "josh-berry/tab-stash/88",
                                    "1": "2020-08-01T09:00:00.0000000Z",
                                    "2": "0"
                                },
                                {
                                    "0": "josh-berry/tab-stash/88",
                                    "1": "2020-08-01T10:00:00.0000000Z",
                                    "2": "0"
                                },
                                {
                                    "0": "josh-berry/tab-stash/88",
                                    "1": "2020-08-01T11:00:00.0000000Z",
                                    "2": "0"
                                },
                                {
                                    "0": "josh-berry/tab-stash/88",
                                    "1": "2020-08-01T12:00:00.0000000Z",
                                    "2": "0"
                                },
                                {
                                    "0": "josh-berry/tab-stash/88",
                                    "1": "2020-08-01T13:00:00.0000000Z",
                                    "2": "0"
                                },
                                {
                                    "0": "josh-berry/tab-stash/88",
                                    "1": "2020-08-01T14:00:00.0000000Z",
                                    "2": "0"
                                },
                                {
                                    "0": "josh-berry/tab-stash/88",
                                    "1": "2020-08-01T15:00:00.0000000Z",
                                    "2": "0"
                                },
                                {
                                    "0": "josh-berry/tab-stash/88",
                                    "1": "2020-08-01T16:00:00.0000000Z",
                                    "2": "0"
                                },
                                {
                                    "0": "josh-berry/tab-stash/88",
                                    "1": "2020-08-01T17:00:00.0000000Z",
                                    "2": "0"
                                },
                                {
                                    "0": "josh-berry/tab-stash/88",
                                    "1": "2020-08-01T18:00:00.0000000Z",
                                    "2": "0"
                                },
                                {
                                    "0": "josh-berry/tab-stash/88",
                                    "1": "2020-08-01T19:00:00.0000000Z",
                                    "2": "0"
                                },
                                {
                                    "0": "josh-berry/tab-stash/88",
                                    "1": "2020-08-01T20:00:00.0000000Z",
                                    "2": "0"
                                },
                                {
                                    "0": "josh-berry/tab-stash/88",
                                    "1": "2020-08-01T21:00:00.0000000Z",
                                    "2": "0"
                                },
                                {
                                    "0": "josh-berry/tab-stash/88",
                                    "1": "2020-08-01T22:00:00.0000000Z",
                                    "2": "0"
                                },
                                {
                                    "0": "josh-berry/tab-stash/88",
                                    "1": "2020-08-01T23:00:00.0000000Z",
                                    "2": "0"
                                }
                            ]
                        },
                        "text/html": [
                            "<table>",
                            "<tr><th>IssueId</th><th>Timestamp</th><th>Count</th></tr>",
                            "<tr><td>aws/sagemaker-python-sdk/1781</td><td>2020-08-01T00:00:00.0000000Z</td><td>0</td></tr>",
                            "<tr><td>aws/sagemaker-python-sdk/1781</td><td>2020-08-01T01:00:00.0000000Z</td><td>1</td></tr>",
                            "<tr><td>aws/sagemaker-python-sdk/1781</td><td>2020-08-01T02:00:00.0000000Z</td><td>3</td></tr>",
                            "<tr><td>aws/sagemaker-python-sdk/1781</td><td>2020-08-01T03:00:00.0000000Z</td><td>2</td></tr>",
                            "<tr><td>aws/sagemaker-python-sdk/1781</td><td>2020-08-01T04:00:00.0000000Z</td><td>2</td></tr>",
                            "<tr><td>aws/sagemaker-python-sdk/1781</td><td>2020-08-01T05:00:00.0000000Z</td><td>0</td></tr>",
                            "<tr><td>aws/sagemaker-python-sdk/1781</td><td>2020-08-01T06:00:00.0000000Z</td><td>0</td></tr>",
                            "<tr><td>aws/sagemaker-python-sdk/1781</td><td>2020-08-01T07:00:00.0000000Z</td><td>0</td></tr>",
                            "<tr><td>aws/sagemaker-python-sdk/1781</td><td>2020-08-01T08:00:00.0000000Z</td><td>0</td></tr>",
                            "<tr><td>aws/sagemaker-python-sdk/1781</td><td>2020-08-01T09:00:00.0000000Z</td><td>0</td></tr>",
                            "<tr><td>aws/sagemaker-python-sdk/1781</td><td>2020-08-01T10:00:00.0000000Z</td><td>0</td></tr>",
                            "<tr><td>aws/sagemaker-python-sdk/1781</td><td>2020-08-01T11:00:00.0000000Z</td><td>0</td></tr>",
                            "<tr><td>aws/sagemaker-python-sdk/1781</td><td>2020-08-01T12:00:00.0000000Z</td><td>0</td></tr>",
                            "<tr><td>aws/sagemaker-python-sdk/1781</td><td>2020-08-01T13:00:00.0000000Z</td><td>0</td></tr>",
                            "<tr><td>aws/sagemaker-python-sdk/1781</td><td>2020-08-01T14:00:00.0000000Z</td><td>0</td></tr>",
                            "<tr><td>aws/sagemaker-python-sdk/1781</td><td>2020-08-01T15:00:00.0000000Z</td><td>0</td></tr>",
                            "<tr><td>aws/sagemaker-python-sdk/1781</td><td>2020-08-01T16:00:00.0000000Z</td><td>0</td></tr>",
                            "<tr><td>aws/sagemaker-python-sdk/1781</td><td>2020-08-01T17:00:00.0000000Z</td><td>0</td></tr>",
                            "<tr><td>aws/sagemaker-python-sdk/1781</td><td>2020-08-01T18:00:00.0000000Z</td><td>0</td></tr>",
                            "<tr><td>aws/sagemaker-python-sdk/1781</td><td>2020-08-01T19:00:00.0000000Z</td><td>0</td></tr>",
                            "<tr><td>aws/sagemaker-python-sdk/1781</td><td>2020-08-01T20:00:00.0000000Z</td><td>0</td></tr>",
                            "<tr><td>aws/sagemaker-python-sdk/1781</td><td>2020-08-01T21:00:00.0000000Z</td><td>0</td></tr>",
                            "<tr><td>aws/sagemaker-python-sdk/1781</td><td>2020-08-01T22:00:00.0000000Z</td><td>0</td></tr>",
                            "<tr><td>aws/sagemaker-python-sdk/1781</td><td>2020-08-01T23:00:00.0000000Z</td><td>0</td></tr>",
                            "<tr><td>rcore-os/zCore/120</td><td>2020-08-01T00:00:00.0000000Z</td><td>0</td></tr>",
                            "<tr><td>rcore-os/zCore/120</td><td>2020-08-01T01:00:00.0000000Z</td><td>0</td></tr>",
                            "<tr><td>rcore-os/zCore/120</td><td>2020-08-01T02:00:00.0000000Z</td><td>1</td></tr>",
                            "<tr><td>rcore-os/zCore/120</td><td>2020-08-01T03:00:00.0000000Z</td><td>0</td></tr>",
                            "<tr><td>rcore-os/zCore/120</td><td>2020-08-01T04:00:00.0000000Z</td><td>0</td></tr>",
                            "<tr><td>rcore-os/zCore/120</td><td>2020-08-01T05:00:00.0000000Z</td><td>0</td></tr>",
                            "<tr><td>rcore-os/zCore/120</td><td>2020-08-01T06:00:00.0000000Z</td><td>0</td></tr>",
                            "<tr><td>rcore-os/zCore/120</td><td>2020-08-01T07:00:00.0000000Z</td><td>0</td></tr>",
                            "<tr><td>rcore-os/zCore/120</td><td>2020-08-01T08:00:00.0000000Z</td><td>0</td></tr>",
                            "<tr><td>rcore-os/zCore/120</td><td>2020-08-01T09:00:00.0000000Z</td><td>0</td></tr>",
                            "<tr><td>rcore-os/zCore/120</td><td>2020-08-01T10:00:00.0000000Z</td><td>0</td></tr>",
                            "<tr><td>rcore-os/zCore/120</td><td>2020-08-01T11:00:00.0000000Z</td><td>0</td></tr>",
                            "<tr><td>rcore-os/zCore/120</td><td>2020-08-01T12:00:00.0000000Z</td><td>0</td></tr>",
                            "<tr><td>rcore-os/zCore/120</td><td>2020-08-01T13:00:00.0000000Z</td><td>0</td></tr>",
                            "<tr><td>rcore-os/zCore/120</td><td>2020-08-01T14:00:00.0000000Z</td><td>0</td></tr>",
                            "<tr><td>rcore-os/zCore/120</td><td>2020-08-01T15:00:00.0000000Z</td><td>0</td></tr>",
                            "<tr><td>rcore-os/zCore/120</td><td>2020-08-01T16:00:00.0000000Z</td><td>1</td></tr>",
                            "<tr><td>rcore-os/zCore/120</td><td>2020-08-01T17:00:00.0000000Z</td><td>0</td></tr>",
                            "<tr><td>rcore-os/zCore/120</td><td>2020-08-01T18:00:00.0000000Z</td><td>0</td></tr>",
                            "<tr><td>rcore-os/zCore/120</td><td>2020-08-01T19:00:00.0000000Z</td><td>0</td></tr>",
                            "<tr><td>rcore-os/zCore/120</td><td>2020-08-01T20:00:00.0000000Z</td><td>0</td></tr>",
                            "<tr><td>rcore-os/zCore/120</td><td>2020-08-01T21:00:00.0000000Z</td><td>0</td></tr>",
                            "<tr><td>rcore-os/zCore/120</td><td>2020-08-01T22:00:00.0000000Z</td><td>0</td></tr>",
                            "<tr><td>rcore-os/zCore/120</td><td>2020-08-01T23:00:00.0000000Z</td><td>0</td></tr>",
                            "<tr><td>JSMonk/hegel/287</td><td>2020-08-01T00:00:00.0000000Z</td><td>0</td></tr>",
                            "<tr><td>JSMonk/hegel/287</td><td>2020-08-01T01:00:00.0000000Z</td><td>0</td></tr>",
                            "<tr><td>JSMonk/hegel/287</td><td>2020-08-01T02:00:00.0000000Z</td><td>1</td></tr>",
                            "<tr><td>JSMonk/hegel/287</td><td>2020-08-01T03:00:00.0000000Z</td><td>0</td></tr>",
                            "<tr><td>JSMonk/hegel/287</td><td>2020-08-01T04:00:00.0000000Z</td><td>0</td></tr>",
                            "<tr><td>JSMonk/hegel/287</td><td>2020-08-01T05:00:00.0000000Z</td><td>0</td></tr>",
                            "<tr><td>JSMonk/hegel/287</td><td>2020-08-01T06:00:00.0000000Z</td><td>0</td></tr>",
                            "<tr><td>JSMonk/hegel/287</td><td>2020-08-01T07:00:00.0000000Z</td><td>0</td></tr>",
                            "<tr><td>JSMonk/hegel/287</td><td>2020-08-01T08:00:00.0000000Z</td><td>0</td></tr>",
                            "<tr><td>JSMonk/hegel/287</td><td>2020-08-01T09:00:00.0000000Z</td><td>0</td></tr>",
                            "<tr><td>JSMonk/hegel/287</td><td>2020-08-01T10:00:00.0000000Z</td><td>0</td></tr>",
                            "<tr><td>JSMonk/hegel/287</td><td>2020-08-01T11:00:00.0000000Z</td><td>0</td></tr>",
                            "<tr><td>JSMonk/hegel/287</td><td>2020-08-01T12:00:00.0000000Z</td><td>0</td></tr>",
                            "<tr><td>JSMonk/hegel/287</td><td>2020-08-01T13:00:00.0000000Z</td><td>0</td></tr>",
                            "<tr><td>JSMonk/hegel/287</td><td>2020-08-01T14:00:00.0000000Z</td><td>0</td></tr>",
                            "<tr><td>JSMonk/hegel/287</td><td>2020-08-01T15:00:00.0000000Z</td><td>0</td></tr>",
                            "<tr><td>JSMonk/hegel/287</td><td>2020-08-01T16:00:00.0000000Z</td><td>0</td></tr>",
                            "<tr><td>JSMonk/hegel/287</td><td>2020-08-01T17:00:00.0000000Z</td><td>0</td></tr>",
                            "<tr><td>JSMonk/hegel/287</td><td>2020-08-01T18:00:00.0000000Z</td><td>0</td></tr>",
                            "<tr><td>JSMonk/hegel/287</td><td>2020-08-01T19:00:00.0000000Z</td><td>0</td></tr>",
                            "<tr><td>JSMonk/hegel/287</td><td>2020-08-01T20:00:00.0000000Z</td><td>0</td></tr>",
                            "<tr><td>JSMonk/hegel/287</td><td>2020-08-01T21:00:00.0000000Z</td><td>0</td></tr>",
                            "<tr><td>JSMonk/hegel/287</td><td>2020-08-01T22:00:00.0000000Z</td><td>0</td></tr>",
                            "<tr><td>JSMonk/hegel/287</td><td>2020-08-01T23:00:00.0000000Z</td><td>0</td></tr>",
                            "<tr><td>youzan/vant-weapp/3347</td><td>2020-08-01T00:00:00.0000000Z</td><td>0</td></tr>",
                            "<tr><td>youzan/vant-weapp/3347</td><td>2020-08-01T01:00:00.0000000Z</td><td>0</td></tr>",
                            "<tr><td>youzan/vant-weapp/3347</td><td>2020-08-01T02:00:00.0000000Z</td><td>1</td></tr>",
                            "<tr><td>youzan/vant-weapp/3347</td><td>2020-08-01T03:00:00.0000000Z</td><td>0</td></tr>",
                            "<tr><td>youzan/vant-weapp/3347</td><td>2020-08-01T04:00:00.0000000Z</td><td>0</td></tr>",
                            "<tr><td>youzan/vant-weapp/3347</td><td>2020-08-01T05:00:00.0000000Z</td><td>0</td></tr>",
                            "<tr><td>youzan/vant-weapp/3347</td><td>2020-08-01T06:00:00.0000000Z</td><td>0</td></tr>",
                            "<tr><td>youzan/vant-weapp/3347</td><td>2020-08-01T07:00:00.0000000Z</td><td>0</td></tr>",
                            "<tr><td>youzan/vant-weapp/3347</td><td>2020-08-01T08:00:00.0000000Z</td><td>0</td></tr>",
                            "<tr><td>youzan/vant-weapp/3347</td><td>2020-08-01T09:00:00.0000000Z</td><td>0</td></tr>",
                            "<tr><td>youzan/vant-weapp/3347</td><td>2020-08-01T10:00:00.0000000Z</td><td>0</td></tr>",
                            "<tr><td>youzan/vant-weapp/3347</td><td>2020-08-01T11:00:00.0000000Z</td><td>0</td></tr>",
                            "<tr><td>youzan/vant-weapp/3347</td><td>2020-08-01T12:00:00.0000000Z</td><td>0</td></tr>",
                            "<tr><td>youzan/vant-weapp/3347</td><td>2020-08-01T13:00:00.0000000Z</td><td>0</td></tr>",
                            "<tr><td>youzan/vant-weapp/3347</td><td>2020-08-01T14:00:00.0000000Z</td><td>0</td></tr>",
                            "<tr><td>youzan/vant-weapp/3347</td><td>2020-08-01T15:00:00.0000000Z</td><td>0</td></tr>",
                            "<tr><td>youzan/vant-weapp/3347</td><td>2020-08-01T16:00:00.0000000Z</td><td>0</td></tr>",
                            "<tr><td>youzan/vant-weapp/3347</td><td>2020-08-01T17:00:00.0000000Z</td><td>0</td></tr>",
                            "<tr><td>youzan/vant-weapp/3347</td><td>2020-08-01T18:00:00.0000000Z</td><td>0</td></tr>",
                            "<tr><td>youzan/vant-weapp/3347</td><td>2020-08-01T19:00:00.0000000Z</td><td>0</td></tr>",
                            "<tr><td>youzan/vant-weapp/3347</td><td>2020-08-01T20:00:00.0000000Z</td><td>0</td></tr>",
                            "<tr><td>youzan/vant-weapp/3347</td><td>2020-08-01T21:00:00.0000000Z</td><td>0</td></tr>",
                            "<tr><td>youzan/vant-weapp/3347</td><td>2020-08-01T22:00:00.0000000Z</td><td>0</td></tr>",
                            "<tr><td>youzan/vant-weapp/3347</td><td>2020-08-01T23:00:00.0000000Z</td><td>0</td></tr>",
                            "<tr><td>josh-berry/tab-stash/88</td><td>2020-08-01T00:00:00.0000000Z</td><td>0</td></tr>",
                            "<tr><td>josh-berry/tab-stash/88</td><td>2020-08-01T01:00:00.0000000Z</td><td>0</td></tr>",
                            "<tr><td>josh-berry/tab-stash/88</td><td>2020-08-01T02:00:00.0000000Z</td><td>1</td></tr>",
                            "<tr><td>josh-berry/tab-stash/88</td><td>2020-08-01T03:00:00.0000000Z</td><td>0</td></tr>",
                            "<tr><td>josh-berry/tab-stash/88</td><td>2020-08-01T04:00:00.0000000Z</td><td>0</td></tr>",
                            "<tr><td>josh-berry/tab-stash/88</td><td>2020-08-01T05:00:00.0000000Z</td><td>0</td></tr>",
                            "<tr><td>josh-berry/tab-stash/88</td><td>2020-08-01T06:00:00.0000000Z</td><td>0</td></tr>",
                            "<tr><td>josh-berry/tab-stash/88</td><td>2020-08-01T07:00:00.0000000Z</td><td>0</td></tr>",
                            "<tr><td>josh-berry/tab-stash/88</td><td>2020-08-01T08:00:00.0000000Z</td><td>0</td></tr>",
                            "<tr><td>josh-berry/tab-stash/88</td><td>2020-08-01T09:00:00.0000000Z</td><td>0</td></tr>",
                            "<tr><td>josh-berry/tab-stash/88</td><td>2020-08-01T10:00:00.0000000Z</td><td>0</td></tr>",
                            "<tr><td>josh-berry/tab-stash/88</td><td>2020-08-01T11:00:00.0000000Z</td><td>0</td></tr>",
                            "<tr><td>josh-berry/tab-stash/88</td><td>2020-08-01T12:00:00.0000000Z</td><td>0</td></tr>",
                            "<tr><td>josh-berry/tab-stash/88</td><td>2020-08-01T13:00:00.0000000Z</td><td>0</td></tr>",
                            "<tr><td>josh-berry/tab-stash/88</td><td>2020-08-01T14:00:00.0000000Z</td><td>0</td></tr>",
                            "<tr><td>josh-berry/tab-stash/88</td><td>2020-08-01T15:00:00.0000000Z</td><td>0</td></tr>",
                            "<tr><td>josh-berry/tab-stash/88</td><td>2020-08-01T16:00:00.0000000Z</td><td>0</td></tr>",
                            "<tr><td>josh-berry/tab-stash/88</td><td>2020-08-01T17:00:00.0000000Z</td><td>0</td></tr>",
                            "<tr><td>josh-berry/tab-stash/88</td><td>2020-08-01T18:00:00.0000000Z</td><td>0</td></tr>",
                            "<tr><td>josh-berry/tab-stash/88</td><td>2020-08-01T19:00:00.0000000Z</td><td>0</td></tr>",
                            "<tr><td>josh-berry/tab-stash/88</td><td>2020-08-01T20:00:00.0000000Z</td><td>0</td></tr>",
                            "<tr><td>josh-berry/tab-stash/88</td><td>2020-08-01T21:00:00.0000000Z</td><td>0</td></tr>",
                            "<tr><td>josh-berry/tab-stash/88</td><td>2020-08-01T22:00:00.0000000Z</td><td>0</td></tr>",
                            "<tr><td>josh-berry/tab-stash/88</td><td>2020-08-01T23:00:00.0000000Z</td><td>0</td></tr>",
                            "</table>"
                        ]
                    }
                }
            ],
            "execution_count": 15
        },
        {
            "cell_type": "code",
            "source": [
                "Events\r\n",
                "| where Type==\"IssueCommentEvent\" and Payload.action==\"created\"\r\n",
                "| extend IssueId = strcat(Repository.name, \"/\", tostring(split(Payload.issue.events_url, \"/\")[7]))\r\n",
                "| project IssueId, Timestamp = CreatedAt\r\n",
                "| make-series Count = count() on Timestamp from datetime(2020-08-01 00:00:00) to datetime(2020-08-02 00:00:00) step 1h by IssueId\r\n",
                "| limit 5\r\n",
                "| mv-apply Count to typeof(int) on (top 2 by Count desc)"
            ],
            "metadata": {
                "azdata_cell_guid": "b9edff7c-787c-4a93-bec3-b93a87b816c3"
            },
            "outputs": [
                {
                    "output_type": "display_data",
                    "data": {
                        "text/html": "Commands completed successfully."
                    },
                    "metadata": {}
                },
                {
                    "output_type": "display_data",
                    "data": {
                        "text/html": "Total execution time: 00:00:01.258"
                    },
                    "metadata": {}
                },
                {
                    "output_type": "execute_result",
                    "metadata": {},
                    "execution_count": 16,
                    "data": {
                        "application/vnd.dataresource+json": {
                            "schema": {
                                "fields": [
                                    {
                                        "name": "IssueId"
                                    },
                                    {
                                        "name": "Count"
                                    },
                                    {
                                        "name": "Timestamp"
                                    }
                                ]
                            },
                            "data": [
                                {
                                    "0": "aws/sagemaker-python-sdk/1781",
                                    "1": "3",
                                    "2": "[\r\n  \"2020-08-01T00:00:00.0000000Z\",\r\n  \"2020-08-01T01:00:00.0000000Z\",\r\n  \"2020-08-01T02:00:00.0000000Z\",\r\n  \"2020-08-01T03:00:00.0000000Z\",\r\n  \"2020-08-01T04:00:00.0000000Z\",\r\n  \"2020-08-01T05:00:00.0000000Z\",\r\n  \"2020-08-01T06:00:00.0000000Z\",\r\n  \"2020-08-01T07:00:00.0000000Z\",\r\n  \"2020-08-01T08:00:00.0000000Z\",\r\n  \"2020-08-01T09:00:00.0000000Z\",\r\n  \"2020-08-01T10:00:00.0000000Z\",\r\n  \"2020-08-01T11:00:00.0000000Z\",\r\n  \"2020-08-01T12:00:00.0000000Z\",\r\n  \"2020-08-01T13:00:00.0000000Z\",\r\n  \"2020-08-01T14:00:00.0000000Z\",\r\n  \"2020-08-01T15:00:00.0000000Z\",\r\n  \"2020-08-01T16:00:00.0000000Z\",\r\n  \"2020-08-01T17:00:00.0000000Z\",\r\n  \"2020-08-01T18:00:00.0000000Z\",\r\n  \"2020-08-01T19:00:00.0000000Z\",\r\n  \"2020-08-01T20:00:00.0000000Z\",\r\n  \"2020-08-01T21:00:00.0000000Z\",\r\n  \"2020-08-01T22:00:00.0000000Z\",\r\n  \"2020-08-01T23:00:00.0000000Z\"\r\n]"
                                },
                                {
                                    "0": "aws/sagemaker-python-sdk/1781",
                                    "1": "2",
                                    "2": "[\r\n  \"2020-08-01T00:00:00.0000000Z\",\r\n  \"2020-08-01T01:00:00.0000000Z\",\r\n  \"2020-08-01T02:00:00.0000000Z\",\r\n  \"2020-08-01T03:00:00.0000000Z\",\r\n  \"2020-08-01T04:00:00.0000000Z\",\r\n  \"2020-08-01T05:00:00.0000000Z\",\r\n  \"2020-08-01T06:00:00.0000000Z\",\r\n  \"2020-08-01T07:00:00.0000000Z\",\r\n  \"2020-08-01T08:00:00.0000000Z\",\r\n  \"2020-08-01T09:00:00.0000000Z\",\r\n  \"2020-08-01T10:00:00.0000000Z\",\r\n  \"2020-08-01T11:00:00.0000000Z\",\r\n  \"2020-08-01T12:00:00.0000000Z\",\r\n  \"2020-08-01T13:00:00.0000000Z\",\r\n  \"2020-08-01T14:00:00.0000000Z\",\r\n  \"2020-08-01T15:00:00.0000000Z\",\r\n  \"2020-08-01T16:00:00.0000000Z\",\r\n  \"2020-08-01T17:00:00.0000000Z\",\r\n  \"2020-08-01T18:00:00.0000000Z\",\r\n  \"2020-08-01T19:00:00.0000000Z\",\r\n  \"2020-08-01T20:00:00.0000000Z\",\r\n  \"2020-08-01T21:00:00.0000000Z\",\r\n  \"2020-08-01T22:00:00.0000000Z\",\r\n  \"2020-08-01T23:00:00.0000000Z\"\r\n]"
                                },
                                {
                                    "0": "rcore-os/zCore/120",
                                    "1": "1",
                                    "2": "[\r\n  \"2020-08-01T00:00:00.0000000Z\",\r\n  \"2020-08-01T01:00:00.0000000Z\",\r\n  \"2020-08-01T02:00:00.0000000Z\",\r\n  \"2020-08-01T03:00:00.0000000Z\",\r\n  \"2020-08-01T04:00:00.0000000Z\",\r\n  \"2020-08-01T05:00:00.0000000Z\",\r\n  \"2020-08-01T06:00:00.0000000Z\",\r\n  \"2020-08-01T07:00:00.0000000Z\",\r\n  \"2020-08-01T08:00:00.0000000Z\",\r\n  \"2020-08-01T09:00:00.0000000Z\",\r\n  \"2020-08-01T10:00:00.0000000Z\",\r\n  \"2020-08-01T11:00:00.0000000Z\",\r\n  \"2020-08-01T12:00:00.0000000Z\",\r\n  \"2020-08-01T13:00:00.0000000Z\",\r\n  \"2020-08-01T14:00:00.0000000Z\",\r\n  \"2020-08-01T15:00:00.0000000Z\",\r\n  \"2020-08-01T16:00:00.0000000Z\",\r\n  \"2020-08-01T17:00:00.0000000Z\",\r\n  \"2020-08-01T18:00:00.0000000Z\",\r\n  \"2020-08-01T19:00:00.0000000Z\",\r\n  \"2020-08-01T20:00:00.0000000Z\",\r\n  \"2020-08-01T21:00:00.0000000Z\",\r\n  \"2020-08-01T22:00:00.0000000Z\",\r\n  \"2020-08-01T23:00:00.0000000Z\"\r\n]"
                                },
                                {
                                    "0": "rcore-os/zCore/120",
                                    "1": "1",
                                    "2": "[\r\n  \"2020-08-01T00:00:00.0000000Z\",\r\n  \"2020-08-01T01:00:00.0000000Z\",\r\n  \"2020-08-01T02:00:00.0000000Z\",\r\n  \"2020-08-01T03:00:00.0000000Z\",\r\n  \"2020-08-01T04:00:00.0000000Z\",\r\n  \"2020-08-01T05:00:00.0000000Z\",\r\n  \"2020-08-01T06:00:00.0000000Z\",\r\n  \"2020-08-01T07:00:00.0000000Z\",\r\n  \"2020-08-01T08:00:00.0000000Z\",\r\n  \"2020-08-01T09:00:00.0000000Z\",\r\n  \"2020-08-01T10:00:00.0000000Z\",\r\n  \"2020-08-01T11:00:00.0000000Z\",\r\n  \"2020-08-01T12:00:00.0000000Z\",\r\n  \"2020-08-01T13:00:00.0000000Z\",\r\n  \"2020-08-01T14:00:00.0000000Z\",\r\n  \"2020-08-01T15:00:00.0000000Z\",\r\n  \"2020-08-01T16:00:00.0000000Z\",\r\n  \"2020-08-01T17:00:00.0000000Z\",\r\n  \"2020-08-01T18:00:00.0000000Z\",\r\n  \"2020-08-01T19:00:00.0000000Z\",\r\n  \"2020-08-01T20:00:00.0000000Z\",\r\n  \"2020-08-01T21:00:00.0000000Z\",\r\n  \"2020-08-01T22:00:00.0000000Z\",\r\n  \"2020-08-01T23:00:00.0000000Z\"\r\n]"
                                },
                                {
                                    "0": "JSMonk/hegel/287",
                                    "1": "1",
                                    "2": "[\r\n  \"2020-08-01T00:00:00.0000000Z\",\r\n  \"2020-08-01T01:00:00.0000000Z\",\r\n  \"2020-08-01T02:00:00.0000000Z\",\r\n  \"2020-08-01T03:00:00.0000000Z\",\r\n  \"2020-08-01T04:00:00.0000000Z\",\r\n  \"2020-08-01T05:00:00.0000000Z\",\r\n  \"2020-08-01T06:00:00.0000000Z\",\r\n  \"2020-08-01T07:00:00.0000000Z\",\r\n  \"2020-08-01T08:00:00.0000000Z\",\r\n  \"2020-08-01T09:00:00.0000000Z\",\r\n  \"2020-08-01T10:00:00.0000000Z\",\r\n  \"2020-08-01T11:00:00.0000000Z\",\r\n  \"2020-08-01T12:00:00.0000000Z\",\r\n  \"2020-08-01T13:00:00.0000000Z\",\r\n  \"2020-08-01T14:00:00.0000000Z\",\r\n  \"2020-08-01T15:00:00.0000000Z\",\r\n  \"2020-08-01T16:00:00.0000000Z\",\r\n  \"2020-08-01T17:00:00.0000000Z\",\r\n  \"2020-08-01T18:00:00.0000000Z\",\r\n  \"2020-08-01T19:00:00.0000000Z\",\r\n  \"2020-08-01T20:00:00.0000000Z\",\r\n  \"2020-08-01T21:00:00.0000000Z\",\r\n  \"2020-08-01T22:00:00.0000000Z\",\r\n  \"2020-08-01T23:00:00.0000000Z\"\r\n]"
                                },
                                {
                                    "0": "JSMonk/hegel/287",
                                    "1": "0",
                                    "2": "[\r\n  \"2020-08-01T00:00:00.0000000Z\",\r\n  \"2020-08-01T01:00:00.0000000Z\",\r\n  \"2020-08-01T02:00:00.0000000Z\",\r\n  \"2020-08-01T03:00:00.0000000Z\",\r\n  \"2020-08-01T04:00:00.0000000Z\",\r\n  \"2020-08-01T05:00:00.0000000Z\",\r\n  \"2020-08-01T06:00:00.0000000Z\",\r\n  \"2020-08-01T07:00:00.0000000Z\",\r\n  \"2020-08-01T08:00:00.0000000Z\",\r\n  \"2020-08-01T09:00:00.0000000Z\",\r\n  \"2020-08-01T10:00:00.0000000Z\",\r\n  \"2020-08-01T11:00:00.0000000Z\",\r\n  \"2020-08-01T12:00:00.0000000Z\",\r\n  \"2020-08-01T13:00:00.0000000Z\",\r\n  \"2020-08-01T14:00:00.0000000Z\",\r\n  \"2020-08-01T15:00:00.0000000Z\",\r\n  \"2020-08-01T16:00:00.0000000Z\",\r\n  \"2020-08-01T17:00:00.0000000Z\",\r\n  \"2020-08-01T18:00:00.0000000Z\",\r\n  \"2020-08-01T19:00:00.0000000Z\",\r\n  \"2020-08-01T20:00:00.0000000Z\",\r\n  \"2020-08-01T21:00:00.0000000Z\",\r\n  \"2020-08-01T22:00:00.0000000Z\",\r\n  \"2020-08-01T23:00:00.0000000Z\"\r\n]"
                                },
                                {
                                    "0": "youzan/vant-weapp/3347",
                                    "1": "1",
                                    "2": "[\r\n  \"2020-08-01T00:00:00.0000000Z\",\r\n  \"2020-08-01T01:00:00.0000000Z\",\r\n  \"2020-08-01T02:00:00.0000000Z\",\r\n  \"2020-08-01T03:00:00.0000000Z\",\r\n  \"2020-08-01T04:00:00.0000000Z\",\r\n  \"2020-08-01T05:00:00.0000000Z\",\r\n  \"2020-08-01T06:00:00.0000000Z\",\r\n  \"2020-08-01T07:00:00.0000000Z\",\r\n  \"2020-08-01T08:00:00.0000000Z\",\r\n  \"2020-08-01T09:00:00.0000000Z\",\r\n  \"2020-08-01T10:00:00.0000000Z\",\r\n  \"2020-08-01T11:00:00.0000000Z\",\r\n  \"2020-08-01T12:00:00.0000000Z\",\r\n  \"2020-08-01T13:00:00.0000000Z\",\r\n  \"2020-08-01T14:00:00.0000000Z\",\r\n  \"2020-08-01T15:00:00.0000000Z\",\r\n  \"2020-08-01T16:00:00.0000000Z\",\r\n  \"2020-08-01T17:00:00.0000000Z\",\r\n  \"2020-08-01T18:00:00.0000000Z\",\r\n  \"2020-08-01T19:00:00.0000000Z\",\r\n  \"2020-08-01T20:00:00.0000000Z\",\r\n  \"2020-08-01T21:00:00.0000000Z\",\r\n  \"2020-08-01T22:00:00.0000000Z\",\r\n  \"2020-08-01T23:00:00.0000000Z\"\r\n]"
                                },
                                {
                                    "0": "youzan/vant-weapp/3347",
                                    "1": "0",
                                    "2": "[\r\n  \"2020-08-01T00:00:00.0000000Z\",\r\n  \"2020-08-01T01:00:00.0000000Z\",\r\n  \"2020-08-01T02:00:00.0000000Z\",\r\n  \"2020-08-01T03:00:00.0000000Z\",\r\n  \"2020-08-01T04:00:00.0000000Z\",\r\n  \"2020-08-01T05:00:00.0000000Z\",\r\n  \"2020-08-01T06:00:00.0000000Z\",\r\n  \"2020-08-01T07:00:00.0000000Z\",\r\n  \"2020-08-01T08:00:00.0000000Z\",\r\n  \"2020-08-01T09:00:00.0000000Z\",\r\n  \"2020-08-01T10:00:00.0000000Z\",\r\n  \"2020-08-01T11:00:00.0000000Z\",\r\n  \"2020-08-01T12:00:00.0000000Z\",\r\n  \"2020-08-01T13:00:00.0000000Z\",\r\n  \"2020-08-01T14:00:00.0000000Z\",\r\n  \"2020-08-01T15:00:00.0000000Z\",\r\n  \"2020-08-01T16:00:00.0000000Z\",\r\n  \"2020-08-01T17:00:00.0000000Z\",\r\n  \"2020-08-01T18:00:00.0000000Z\",\r\n  \"2020-08-01T19:00:00.0000000Z\",\r\n  \"2020-08-01T20:00:00.0000000Z\",\r\n  \"2020-08-01T21:00:00.0000000Z\",\r\n  \"2020-08-01T22:00:00.0000000Z\",\r\n  \"2020-08-01T23:00:00.0000000Z\"\r\n]"
                                },
                                {
                                    "0": "josh-berry/tab-stash/88",
                                    "1": "1",
                                    "2": "[\r\n  \"2020-08-01T00:00:00.0000000Z\",\r\n  \"2020-08-01T01:00:00.0000000Z\",\r\n  \"2020-08-01T02:00:00.0000000Z\",\r\n  \"2020-08-01T03:00:00.0000000Z\",\r\n  \"2020-08-01T04:00:00.0000000Z\",\r\n  \"2020-08-01T05:00:00.0000000Z\",\r\n  \"2020-08-01T06:00:00.0000000Z\",\r\n  \"2020-08-01T07:00:00.0000000Z\",\r\n  \"2020-08-01T08:00:00.0000000Z\",\r\n  \"2020-08-01T09:00:00.0000000Z\",\r\n  \"2020-08-01T10:00:00.0000000Z\",\r\n  \"2020-08-01T11:00:00.0000000Z\",\r\n  \"2020-08-01T12:00:00.0000000Z\",\r\n  \"2020-08-01T13:00:00.0000000Z\",\r\n  \"2020-08-01T14:00:00.0000000Z\",\r\n  \"2020-08-01T15:00:00.0000000Z\",\r\n  \"2020-08-01T16:00:00.0000000Z\",\r\n  \"2020-08-01T17:00:00.0000000Z\",\r\n  \"2020-08-01T18:00:00.0000000Z\",\r\n  \"2020-08-01T19:00:00.0000000Z\",\r\n  \"2020-08-01T20:00:00.0000000Z\",\r\n  \"2020-08-01T21:00:00.0000000Z\",\r\n  \"2020-08-01T22:00:00.0000000Z\",\r\n  \"2020-08-01T23:00:00.0000000Z\"\r\n]"
                                },
                                {
                                    "0": "josh-berry/tab-stash/88",
                                    "1": "0",
                                    "2": "[\r\n  \"2020-08-01T00:00:00.0000000Z\",\r\n  \"2020-08-01T01:00:00.0000000Z\",\r\n  \"2020-08-01T02:00:00.0000000Z\",\r\n  \"2020-08-01T03:00:00.0000000Z\",\r\n  \"2020-08-01T04:00:00.0000000Z\",\r\n  \"2020-08-01T05:00:00.0000000Z\",\r\n  \"2020-08-01T06:00:00.0000000Z\",\r\n  \"2020-08-01T07:00:00.0000000Z\",\r\n  \"2020-08-01T08:00:00.0000000Z\",\r\n  \"2020-08-01T09:00:00.0000000Z\",\r\n  \"2020-08-01T10:00:00.0000000Z\",\r\n  \"2020-08-01T11:00:00.0000000Z\",\r\n  \"2020-08-01T12:00:00.0000000Z\",\r\n  \"2020-08-01T13:00:00.0000000Z\",\r\n  \"2020-08-01T14:00:00.0000000Z\",\r\n  \"2020-08-01T15:00:00.0000000Z\",\r\n  \"2020-08-01T16:00:00.0000000Z\",\r\n  \"2020-08-01T17:00:00.0000000Z\",\r\n  \"2020-08-01T18:00:00.0000000Z\",\r\n  \"2020-08-01T19:00:00.0000000Z\",\r\n  \"2020-08-01T20:00:00.0000000Z\",\r\n  \"2020-08-01T21:00:00.0000000Z\",\r\n  \"2020-08-01T22:00:00.0000000Z\",\r\n  \"2020-08-01T23:00:00.0000000Z\"\r\n]"
                                }
                            ]
                        },
                        "text/html": [
                            "<table>",
                            "<tr><th>IssueId</th><th>Count</th><th>Timestamp</th></tr>",
                            "<tr><td>aws/sagemaker-python-sdk/1781</td><td>3</td><td>[\r\n  &quot;2020-08-01T00:00:00.0000000Z&quot;,\r\n  &quot;2020-08-01T01:00:00.0000000Z&quot;,\r\n  &quot;2020-08-01T02:00:00.0000000Z&quot;,\r\n  &quot;2020-08-01T03:00:00.0000000Z&quot;,\r\n  &quot;2020-08-01T04:00:00.0000000Z&quot;,\r\n  &quot;2020-08-01T05:00:00.0000000Z&quot;,\r\n  &quot;2020-08-01T06:00:00.0000000Z&quot;,\r\n  &quot;2020-08-01T07:00:00.0000000Z&quot;,\r\n  &quot;2020-08-01T08:00:00.0000000Z&quot;,\r\n  &quot;2020-08-01T09:00:00.0000000Z&quot;,\r\n  &quot;2020-08-01T10:00:00.0000000Z&quot;,\r\n  &quot;2020-08-01T11:00:00.0000000Z&quot;,\r\n  &quot;2020-08-01T12:00:00.0000000Z&quot;,\r\n  &quot;2020-08-01T13:00:00.0000000Z&quot;,\r\n  &quot;2020-08-01T14:00:00.0000000Z&quot;,\r\n  &quot;2020-08-01T15:00:00.0000000Z&quot;,\r\n  &quot;2020-08-01T16:00:00.0000000Z&quot;,\r\n  &quot;2020-08-01T17:00:00.0000000Z&quot;,\r\n  &quot;2020-08-01T18:00:00.0000000Z&quot;,\r\n  &quot;2020-08-01T19:00:00.0000000Z&quot;,\r\n  &quot;2020-08-01T20:00:00.0000000Z&quot;,\r\n  &quot;2020-08-01T21:00:00.0000000Z&quot;,\r\n  &quot;2020-08-01T22:00:00.0000000Z&quot;,\r\n  &quot;2020-08-01T23:00:00.0000000Z&quot;\r\n]</td></tr>",
                            "<tr><td>aws/sagemaker-python-sdk/1781</td><td>2</td><td>[\r\n  &quot;2020-08-01T00:00:00.0000000Z&quot;,\r\n  &quot;2020-08-01T01:00:00.0000000Z&quot;,\r\n  &quot;2020-08-01T02:00:00.0000000Z&quot;,\r\n  &quot;2020-08-01T03:00:00.0000000Z&quot;,\r\n  &quot;2020-08-01T04:00:00.0000000Z&quot;,\r\n  &quot;2020-08-01T05:00:00.0000000Z&quot;,\r\n  &quot;2020-08-01T06:00:00.0000000Z&quot;,\r\n  &quot;2020-08-01T07:00:00.0000000Z&quot;,\r\n  &quot;2020-08-01T08:00:00.0000000Z&quot;,\r\n  &quot;2020-08-01T09:00:00.0000000Z&quot;,\r\n  &quot;2020-08-01T10:00:00.0000000Z&quot;,\r\n  &quot;2020-08-01T11:00:00.0000000Z&quot;,\r\n  &quot;2020-08-01T12:00:00.0000000Z&quot;,\r\n  &quot;2020-08-01T13:00:00.0000000Z&quot;,\r\n  &quot;2020-08-01T14:00:00.0000000Z&quot;,\r\n  &quot;2020-08-01T15:00:00.0000000Z&quot;,\r\n  &quot;2020-08-01T16:00:00.0000000Z&quot;,\r\n  &quot;2020-08-01T17:00:00.0000000Z&quot;,\r\n  &quot;2020-08-01T18:00:00.0000000Z&quot;,\r\n  &quot;2020-08-01T19:00:00.0000000Z&quot;,\r\n  &quot;2020-08-01T20:00:00.0000000Z&quot;,\r\n  &quot;2020-08-01T21:00:00.0000000Z&quot;,\r\n  &quot;2020-08-01T22:00:00.0000000Z&quot;,\r\n  &quot;2020-08-01T23:00:00.0000000Z&quot;\r\n]</td></tr>",
                            "<tr><td>rcore-os/zCore/120</td><td>1</td><td>[\r\n  &quot;2020-08-01T00:00:00.0000000Z&quot;,\r\n  &quot;2020-08-01T01:00:00.0000000Z&quot;,\r\n  &quot;2020-08-01T02:00:00.0000000Z&quot;,\r\n  &quot;2020-08-01T03:00:00.0000000Z&quot;,\r\n  &quot;2020-08-01T04:00:00.0000000Z&quot;,\r\n  &quot;2020-08-01T05:00:00.0000000Z&quot;,\r\n  &quot;2020-08-01T06:00:00.0000000Z&quot;,\r\n  &quot;2020-08-01T07:00:00.0000000Z&quot;,\r\n  &quot;2020-08-01T08:00:00.0000000Z&quot;,\r\n  &quot;2020-08-01T09:00:00.0000000Z&quot;,\r\n  &quot;2020-08-01T10:00:00.0000000Z&quot;,\r\n  &quot;2020-08-01T11:00:00.0000000Z&quot;,\r\n  &quot;2020-08-01T12:00:00.0000000Z&quot;,\r\n  &quot;2020-08-01T13:00:00.0000000Z&quot;,\r\n  &quot;2020-08-01T14:00:00.0000000Z&quot;,\r\n  &quot;2020-08-01T15:00:00.0000000Z&quot;,\r\n  &quot;2020-08-01T16:00:00.0000000Z&quot;,\r\n  &quot;2020-08-01T17:00:00.0000000Z&quot;,\r\n  &quot;2020-08-01T18:00:00.0000000Z&quot;,\r\n  &quot;2020-08-01T19:00:00.0000000Z&quot;,\r\n  &quot;2020-08-01T20:00:00.0000000Z&quot;,\r\n  &quot;2020-08-01T21:00:00.0000000Z&quot;,\r\n  &quot;2020-08-01T22:00:00.0000000Z&quot;,\r\n  &quot;2020-08-01T23:00:00.0000000Z&quot;\r\n]</td></tr>",
                            "<tr><td>rcore-os/zCore/120</td><td>1</td><td>[\r\n  &quot;2020-08-01T00:00:00.0000000Z&quot;,\r\n  &quot;2020-08-01T01:00:00.0000000Z&quot;,\r\n  &quot;2020-08-01T02:00:00.0000000Z&quot;,\r\n  &quot;2020-08-01T03:00:00.0000000Z&quot;,\r\n  &quot;2020-08-01T04:00:00.0000000Z&quot;,\r\n  &quot;2020-08-01T05:00:00.0000000Z&quot;,\r\n  &quot;2020-08-01T06:00:00.0000000Z&quot;,\r\n  &quot;2020-08-01T07:00:00.0000000Z&quot;,\r\n  &quot;2020-08-01T08:00:00.0000000Z&quot;,\r\n  &quot;2020-08-01T09:00:00.0000000Z&quot;,\r\n  &quot;2020-08-01T10:00:00.0000000Z&quot;,\r\n  &quot;2020-08-01T11:00:00.0000000Z&quot;,\r\n  &quot;2020-08-01T12:00:00.0000000Z&quot;,\r\n  &quot;2020-08-01T13:00:00.0000000Z&quot;,\r\n  &quot;2020-08-01T14:00:00.0000000Z&quot;,\r\n  &quot;2020-08-01T15:00:00.0000000Z&quot;,\r\n  &quot;2020-08-01T16:00:00.0000000Z&quot;,\r\n  &quot;2020-08-01T17:00:00.0000000Z&quot;,\r\n  &quot;2020-08-01T18:00:00.0000000Z&quot;,\r\n  &quot;2020-08-01T19:00:00.0000000Z&quot;,\r\n  &quot;2020-08-01T20:00:00.0000000Z&quot;,\r\n  &quot;2020-08-01T21:00:00.0000000Z&quot;,\r\n  &quot;2020-08-01T22:00:00.0000000Z&quot;,\r\n  &quot;2020-08-01T23:00:00.0000000Z&quot;\r\n]</td></tr>",
                            "<tr><td>JSMonk/hegel/287</td><td>1</td><td>[\r\n  &quot;2020-08-01T00:00:00.0000000Z&quot;,\r\n  &quot;2020-08-01T01:00:00.0000000Z&quot;,\r\n  &quot;2020-08-01T02:00:00.0000000Z&quot;,\r\n  &quot;2020-08-01T03:00:00.0000000Z&quot;,\r\n  &quot;2020-08-01T04:00:00.0000000Z&quot;,\r\n  &quot;2020-08-01T05:00:00.0000000Z&quot;,\r\n  &quot;2020-08-01T06:00:00.0000000Z&quot;,\r\n  &quot;2020-08-01T07:00:00.0000000Z&quot;,\r\n  &quot;2020-08-01T08:00:00.0000000Z&quot;,\r\n  &quot;2020-08-01T09:00:00.0000000Z&quot;,\r\n  &quot;2020-08-01T10:00:00.0000000Z&quot;,\r\n  &quot;2020-08-01T11:00:00.0000000Z&quot;,\r\n  &quot;2020-08-01T12:00:00.0000000Z&quot;,\r\n  &quot;2020-08-01T13:00:00.0000000Z&quot;,\r\n  &quot;2020-08-01T14:00:00.0000000Z&quot;,\r\n  &quot;2020-08-01T15:00:00.0000000Z&quot;,\r\n  &quot;2020-08-01T16:00:00.0000000Z&quot;,\r\n  &quot;2020-08-01T17:00:00.0000000Z&quot;,\r\n  &quot;2020-08-01T18:00:00.0000000Z&quot;,\r\n  &quot;2020-08-01T19:00:00.0000000Z&quot;,\r\n  &quot;2020-08-01T20:00:00.0000000Z&quot;,\r\n  &quot;2020-08-01T21:00:00.0000000Z&quot;,\r\n  &quot;2020-08-01T22:00:00.0000000Z&quot;,\r\n  &quot;2020-08-01T23:00:00.0000000Z&quot;\r\n]</td></tr>",
                            "<tr><td>JSMonk/hegel/287</td><td>0</td><td>[\r\n  &quot;2020-08-01T00:00:00.0000000Z&quot;,\r\n  &quot;2020-08-01T01:00:00.0000000Z&quot;,\r\n  &quot;2020-08-01T02:00:00.0000000Z&quot;,\r\n  &quot;2020-08-01T03:00:00.0000000Z&quot;,\r\n  &quot;2020-08-01T04:00:00.0000000Z&quot;,\r\n  &quot;2020-08-01T05:00:00.0000000Z&quot;,\r\n  &quot;2020-08-01T06:00:00.0000000Z&quot;,\r\n  &quot;2020-08-01T07:00:00.0000000Z&quot;,\r\n  &quot;2020-08-01T08:00:00.0000000Z&quot;,\r\n  &quot;2020-08-01T09:00:00.0000000Z&quot;,\r\n  &quot;2020-08-01T10:00:00.0000000Z&quot;,\r\n  &quot;2020-08-01T11:00:00.0000000Z&quot;,\r\n  &quot;2020-08-01T12:00:00.0000000Z&quot;,\r\n  &quot;2020-08-01T13:00:00.0000000Z&quot;,\r\n  &quot;2020-08-01T14:00:00.0000000Z&quot;,\r\n  &quot;2020-08-01T15:00:00.0000000Z&quot;,\r\n  &quot;2020-08-01T16:00:00.0000000Z&quot;,\r\n  &quot;2020-08-01T17:00:00.0000000Z&quot;,\r\n  &quot;2020-08-01T18:00:00.0000000Z&quot;,\r\n  &quot;2020-08-01T19:00:00.0000000Z&quot;,\r\n  &quot;2020-08-01T20:00:00.0000000Z&quot;,\r\n  &quot;2020-08-01T21:00:00.0000000Z&quot;,\r\n  &quot;2020-08-01T22:00:00.0000000Z&quot;,\r\n  &quot;2020-08-01T23:00:00.0000000Z&quot;\r\n]</td></tr>",
                            "<tr><td>youzan/vant-weapp/3347</td><td>1</td><td>[\r\n  &quot;2020-08-01T00:00:00.0000000Z&quot;,\r\n  &quot;2020-08-01T01:00:00.0000000Z&quot;,\r\n  &quot;2020-08-01T02:00:00.0000000Z&quot;,\r\n  &quot;2020-08-01T03:00:00.0000000Z&quot;,\r\n  &quot;2020-08-01T04:00:00.0000000Z&quot;,\r\n  &quot;2020-08-01T05:00:00.0000000Z&quot;,\r\n  &quot;2020-08-01T06:00:00.0000000Z&quot;,\r\n  &quot;2020-08-01T07:00:00.0000000Z&quot;,\r\n  &quot;2020-08-01T08:00:00.0000000Z&quot;,\r\n  &quot;2020-08-01T09:00:00.0000000Z&quot;,\r\n  &quot;2020-08-01T10:00:00.0000000Z&quot;,\r\n  &quot;2020-08-01T11:00:00.0000000Z&quot;,\r\n  &quot;2020-08-01T12:00:00.0000000Z&quot;,\r\n  &quot;2020-08-01T13:00:00.0000000Z&quot;,\r\n  &quot;2020-08-01T14:00:00.0000000Z&quot;,\r\n  &quot;2020-08-01T15:00:00.0000000Z&quot;,\r\n  &quot;2020-08-01T16:00:00.0000000Z&quot;,\r\n  &quot;2020-08-01T17:00:00.0000000Z&quot;,\r\n  &quot;2020-08-01T18:00:00.0000000Z&quot;,\r\n  &quot;2020-08-01T19:00:00.0000000Z&quot;,\r\n  &quot;2020-08-01T20:00:00.0000000Z&quot;,\r\n  &quot;2020-08-01T21:00:00.0000000Z&quot;,\r\n  &quot;2020-08-01T22:00:00.0000000Z&quot;,\r\n  &quot;2020-08-01T23:00:00.0000000Z&quot;\r\n]</td></tr>",
                            "<tr><td>youzan/vant-weapp/3347</td><td>0</td><td>[\r\n  &quot;2020-08-01T00:00:00.0000000Z&quot;,\r\n  &quot;2020-08-01T01:00:00.0000000Z&quot;,\r\n  &quot;2020-08-01T02:00:00.0000000Z&quot;,\r\n  &quot;2020-08-01T03:00:00.0000000Z&quot;,\r\n  &quot;2020-08-01T04:00:00.0000000Z&quot;,\r\n  &quot;2020-08-01T05:00:00.0000000Z&quot;,\r\n  &quot;2020-08-01T06:00:00.0000000Z&quot;,\r\n  &quot;2020-08-01T07:00:00.0000000Z&quot;,\r\n  &quot;2020-08-01T08:00:00.0000000Z&quot;,\r\n  &quot;2020-08-01T09:00:00.0000000Z&quot;,\r\n  &quot;2020-08-01T10:00:00.0000000Z&quot;,\r\n  &quot;2020-08-01T11:00:00.0000000Z&quot;,\r\n  &quot;2020-08-01T12:00:00.0000000Z&quot;,\r\n  &quot;2020-08-01T13:00:00.0000000Z&quot;,\r\n  &quot;2020-08-01T14:00:00.0000000Z&quot;,\r\n  &quot;2020-08-01T15:00:00.0000000Z&quot;,\r\n  &quot;2020-08-01T16:00:00.0000000Z&quot;,\r\n  &quot;2020-08-01T17:00:00.0000000Z&quot;,\r\n  &quot;2020-08-01T18:00:00.0000000Z&quot;,\r\n  &quot;2020-08-01T19:00:00.0000000Z&quot;,\r\n  &quot;2020-08-01T20:00:00.0000000Z&quot;,\r\n  &quot;2020-08-01T21:00:00.0000000Z&quot;,\r\n  &quot;2020-08-01T22:00:00.0000000Z&quot;,\r\n  &quot;2020-08-01T23:00:00.0000000Z&quot;\r\n]</td></tr>",
                            "<tr><td>josh-berry/tab-stash/88</td><td>1</td><td>[\r\n  &quot;2020-08-01T00:00:00.0000000Z&quot;,\r\n  &quot;2020-08-01T01:00:00.0000000Z&quot;,\r\n  &quot;2020-08-01T02:00:00.0000000Z&quot;,\r\n  &quot;2020-08-01T03:00:00.0000000Z&quot;,\r\n  &quot;2020-08-01T04:00:00.0000000Z&quot;,\r\n  &quot;2020-08-01T05:00:00.0000000Z&quot;,\r\n  &quot;2020-08-01T06:00:00.0000000Z&quot;,\r\n  &quot;2020-08-01T07:00:00.0000000Z&quot;,\r\n  &quot;2020-08-01T08:00:00.0000000Z&quot;,\r\n  &quot;2020-08-01T09:00:00.0000000Z&quot;,\r\n  &quot;2020-08-01T10:00:00.0000000Z&quot;,\r\n  &quot;2020-08-01T11:00:00.0000000Z&quot;,\r\n  &quot;2020-08-01T12:00:00.0000000Z&quot;,\r\n  &quot;2020-08-01T13:00:00.0000000Z&quot;,\r\n  &quot;2020-08-01T14:00:00.0000000Z&quot;,\r\n  &quot;2020-08-01T15:00:00.0000000Z&quot;,\r\n  &quot;2020-08-01T16:00:00.0000000Z&quot;,\r\n  &quot;2020-08-01T17:00:00.0000000Z&quot;,\r\n  &quot;2020-08-01T18:00:00.0000000Z&quot;,\r\n  &quot;2020-08-01T19:00:00.0000000Z&quot;,\r\n  &quot;2020-08-01T20:00:00.0000000Z&quot;,\r\n  &quot;2020-08-01T21:00:00.0000000Z&quot;,\r\n  &quot;2020-08-01T22:00:00.0000000Z&quot;,\r\n  &quot;2020-08-01T23:00:00.0000000Z&quot;\r\n]</td></tr>",
                            "<tr><td>josh-berry/tab-stash/88</td><td>0</td><td>[\r\n  &quot;2020-08-01T00:00:00.0000000Z&quot;,\r\n  &quot;2020-08-01T01:00:00.0000000Z&quot;,\r\n  &quot;2020-08-01T02:00:00.0000000Z&quot;,\r\n  &quot;2020-08-01T03:00:00.0000000Z&quot;,\r\n  &quot;2020-08-01T04:00:00.0000000Z&quot;,\r\n  &quot;2020-08-01T05:00:00.0000000Z&quot;,\r\n  &quot;2020-08-01T06:00:00.0000000Z&quot;,\r\n  &quot;2020-08-01T07:00:00.0000000Z&quot;,\r\n  &quot;2020-08-01T08:00:00.0000000Z&quot;,\r\n  &quot;2020-08-01T09:00:00.0000000Z&quot;,\r\n  &quot;2020-08-01T10:00:00.0000000Z&quot;,\r\n  &quot;2020-08-01T11:00:00.0000000Z&quot;,\r\n  &quot;2020-08-01T12:00:00.0000000Z&quot;,\r\n  &quot;2020-08-01T13:00:00.0000000Z&quot;,\r\n  &quot;2020-08-01T14:00:00.0000000Z&quot;,\r\n  &quot;2020-08-01T15:00:00.0000000Z&quot;,\r\n  &quot;2020-08-01T16:00:00.0000000Z&quot;,\r\n  &quot;2020-08-01T17:00:00.0000000Z&quot;,\r\n  &quot;2020-08-01T18:00:00.0000000Z&quot;,\r\n  &quot;2020-08-01T19:00:00.0000000Z&quot;,\r\n  &quot;2020-08-01T20:00:00.0000000Z&quot;,\r\n  &quot;2020-08-01T21:00:00.0000000Z&quot;,\r\n  &quot;2020-08-01T22:00:00.0000000Z&quot;,\r\n  &quot;2020-08-01T23:00:00.0000000Z&quot;\r\n]</td></tr>",
                            "</table>"
                        ]
                    }
                }
            ],
            "execution_count": 16
        },
        {
            "cell_type": "code",
            "source": [
                "Events\r\n",
                "| where Type==\"IssueCommentEvent\" and Payload.action==\"created\"\r\n",
                "| extend IssueId = strcat(Repository.name, \"/\", tostring(split(Payload.issue.events_url, \"/\")[7]))\r\n",
                "| project IssueId, Timestamp = CreatedAt\r\n",
                "| make-series Count = count() on Timestamp from datetime(2020-08-01 00:00:00) to datetime(2020-08-02 00:00:00) step 1h by IssueId\r\n",
                "| limit 5\r\n",
                "| mv-apply Count to typeof(int) on (top 2 by Count desc | summarize TwoMainHours=sum(Count))\r\n",
                "| project IssueId, TwoMainHours\r\n",
                "| order by TwoMainHours"
            ],
            "metadata": {
                "azdata_cell_guid": "1e9284dc-c476-492e-b83a-19d1b69b89d9"
            },
            "outputs": [
                {
                    "output_type": "display_data",
                    "data": {
                        "text/html": "Commands completed successfully."
                    },
                    "metadata": {}
                },
                {
                    "output_type": "display_data",
                    "data": {
                        "text/html": "Total execution time: 00:00:01.158"
                    },
                    "metadata": {}
                },
                {
                    "output_type": "execute_result",
                    "metadata": {},
                    "execution_count": 17,
                    "data": {
                        "application/vnd.dataresource+json": {
                            "schema": {
                                "fields": [
                                    {
                                        "name": "IssueId"
                                    },
                                    {
                                        "name": "TwoMainHours"
                                    }
                                ]
                            },
                            "data": [
                                {
                                    "0": "aws/sagemaker-python-sdk/1781",
                                    "1": "5"
                                },
                                {
                                    "0": "rcore-os/zCore/120",
                                    "1": "2"
                                },
                                {
                                    "0": "JSMonk/hegel/287",
                                    "1": "1"
                                },
                                {
                                    "0": "youzan/vant-weapp/3347",
                                    "1": "1"
                                },
                                {
                                    "0": "josh-berry/tab-stash/88",
                                    "1": "1"
                                }
                            ]
                        },
                        "text/html": [
                            "<table>",
                            "<tr><th>IssueId</th><th>TwoMainHours</th></tr>",
                            "<tr><td>aws/sagemaker-python-sdk/1781</td><td>5</td></tr>",
                            "<tr><td>rcore-os/zCore/120</td><td>2</td></tr>",
                            "<tr><td>JSMonk/hegel/287</td><td>1</td></tr>",
                            "<tr><td>youzan/vant-weapp/3347</td><td>1</td></tr>",
                            "<tr><td>josh-berry/tab-stash/88</td><td>1</td></tr>",
                            "</table>"
                        ]
                    }
                }
            ],
            "execution_count": 17
        },
        {
            "cell_type": "code",
            "source": [
                "Events\r\n",
                "| where Type==\"IssueCommentEvent\" and Payload.action==\"created\"\r\n",
                "| extend IssueId = strcat(Repository.name, \"/\", tostring(split(Payload.issue.events_url, \"/\")[7]))\r\n",
                "| project IssueId, Timestamp = CreatedAt\r\n",
                "| make-series Count = count() on Timestamp from datetime(2020-08-01 00:00:00) to datetime(2020-08-02 00:00:00) step 1h by IssueId\r\n",
                "| limit 5\r\n",
                "| extend series_stats(Count), Outliers = series_outliers(Count)\r\n",
                "| mv-expand Timestamp to typeof(datetime), Count to typeof(int), Outliers to typeof(double)\r\n",
                "| project Timestamp, Count , outliers_removed=(Outliers > 1.5 or Outliers < -1.5), outliers_replaced = iif(Outliers > 1.5 or Outliers < -1.5, series_stats_Count_avg, toreal(Count))"
            ],
            "metadata": {
                "azdata_cell_guid": "02f3657c-fd53-4095-be12-3c13d691787e"
            },
            "outputs": [
                {
                    "output_type": "display_data",
                    "data": {
                        "text/html": "Commands completed successfully."
                    },
                    "metadata": {}
                },
                {
                    "output_type": "display_data",
                    "data": {
                        "text/html": "Total execution time: 00:00:01.164"
                    },
                    "metadata": {}
                },
                {
                    "output_type": "execute_result",
                    "metadata": {},
                    "execution_count": 18,
                    "data": {
                        "application/vnd.dataresource+json": {
                            "schema": {
                                "fields": [
                                    {
                                        "name": "Timestamp"
                                    },
                                    {
                                        "name": "Count"
                                    },
                                    {
                                        "name": "outliers_removed"
                                    },
                                    {
                                        "name": "outliers_replaced"
                                    }
                                ]
                            },
                            "data": [
                                {
                                    "0": "2020-08-01 00:00:00",
                                    "1": "0",
                                    "2": "0",
                                    "3": "0"
                                },
                                {
                                    "0": "2020-08-01 01:00:00",
                                    "1": "1",
                                    "2": "0",
                                    "3": "1"
                                },
                                {
                                    "0": "2020-08-01 02:00:00",
                                    "1": "3",
                                    "2": "1",
                                    "3": "0,3333333333333333"
                                },
                                {
                                    "0": "2020-08-01 03:00:00",
                                    "1": "2",
                                    "2": "0",
                                    "3": "2"
                                },
                                {
                                    "0": "2020-08-01 04:00:00",
                                    "1": "2",
                                    "2": "0",
                                    "3": "2"
                                },
                                {
                                    "0": "2020-08-01 05:00:00",
                                    "1": "0",
                                    "2": "0",
                                    "3": "0"
                                },
                                {
                                    "0": "2020-08-01 06:00:00",
                                    "1": "0",
                                    "2": "0",
                                    "3": "0"
                                },
                                {
                                    "0": "2020-08-01 07:00:00",
                                    "1": "0",
                                    "2": "0",
                                    "3": "0"
                                },
                                {
                                    "0": "2020-08-01 08:00:00",
                                    "1": "0",
                                    "2": "0",
                                    "3": "0"
                                },
                                {
                                    "0": "2020-08-01 09:00:00",
                                    "1": "0",
                                    "2": "0",
                                    "3": "0"
                                },
                                {
                                    "0": "2020-08-01 10:00:00",
                                    "1": "0",
                                    "2": "0",
                                    "3": "0"
                                },
                                {
                                    "0": "2020-08-01 11:00:00",
                                    "1": "0",
                                    "2": "0",
                                    "3": "0"
                                },
                                {
                                    "0": "2020-08-01 12:00:00",
                                    "1": "0",
                                    "2": "0",
                                    "3": "0"
                                },
                                {
                                    "0": "2020-08-01 13:00:00",
                                    "1": "0",
                                    "2": "0",
                                    "3": "0"
                                },
                                {
                                    "0": "2020-08-01 14:00:00",
                                    "1": "0",
                                    "2": "0",
                                    "3": "0"
                                },
                                {
                                    "0": "2020-08-01 15:00:00",
                                    "1": "0",
                                    "2": "0",
                                    "3": "0"
                                },
                                {
                                    "0": "2020-08-01 16:00:00",
                                    "1": "0",
                                    "2": "0",
                                    "3": "0"
                                },
                                {
                                    "0": "2020-08-01 17:00:00",
                                    "1": "0",
                                    "2": "0",
                                    "3": "0"
                                },
                                {
                                    "0": "2020-08-01 18:00:00",
                                    "1": "0",
                                    "2": "0",
                                    "3": "0"
                                },
                                {
                                    "0": "2020-08-01 19:00:00",
                                    "1": "0",
                                    "2": "0",
                                    "3": "0"
                                },
                                {
                                    "0": "2020-08-01 20:00:00",
                                    "1": "0",
                                    "2": "0",
                                    "3": "0"
                                },
                                {
                                    "0": "2020-08-01 21:00:00",
                                    "1": "0",
                                    "2": "0",
                                    "3": "0"
                                },
                                {
                                    "0": "2020-08-01 22:00:00",
                                    "1": "0",
                                    "2": "0",
                                    "3": "0"
                                },
                                {
                                    "0": "2020-08-01 23:00:00",
                                    "1": "0",
                                    "2": "0",
                                    "3": "0"
                                },
                                {
                                    "0": "2020-08-01 00:00:00",
                                    "1": "0",
                                    "2": "0",
                                    "3": "0"
                                },
                                {
                                    "0": "2020-08-01 01:00:00",
                                    "1": "0",
                                    "2": "0",
                                    "3": "0"
                                },
                                {
                                    "0": "2020-08-01 02:00:00",
                                    "1": "1",
                                    "2": "1",
                                    "3": "0,08333333333333333"
                                },
                                {
                                    "0": "2020-08-01 03:00:00",
                                    "1": "0",
                                    "2": "0",
                                    "3": "0"
                                },
                                {
                                    "0": "2020-08-01 04:00:00",
                                    "1": "0",
                                    "2": "0",
                                    "3": "0"
                                },
                                {
                                    "0": "2020-08-01 05:00:00",
                                    "1": "0",
                                    "2": "0",
                                    "3": "0"
                                },
                                {
                                    "0": "2020-08-01 06:00:00",
                                    "1": "0",
                                    "2": "0",
                                    "3": "0"
                                },
                                {
                                    "0": "2020-08-01 07:00:00",
                                    "1": "0",
                                    "2": "0",
                                    "3": "0"
                                },
                                {
                                    "0": "2020-08-01 08:00:00",
                                    "1": "0",
                                    "2": "0",
                                    "3": "0"
                                },
                                {
                                    "0": "2020-08-01 09:00:00",
                                    "1": "0",
                                    "2": "0",
                                    "3": "0"
                                },
                                {
                                    "0": "2020-08-01 10:00:00",
                                    "1": "0",
                                    "2": "0",
                                    "3": "0"
                                },
                                {
                                    "0": "2020-08-01 11:00:00",
                                    "1": "0",
                                    "2": "0",
                                    "3": "0"
                                },
                                {
                                    "0": "2020-08-01 12:00:00",
                                    "1": "0",
                                    "2": "0",
                                    "3": "0"
                                },
                                {
                                    "0": "2020-08-01 13:00:00",
                                    "1": "0",
                                    "2": "0",
                                    "3": "0"
                                },
                                {
                                    "0": "2020-08-01 14:00:00",
                                    "1": "0",
                                    "2": "0",
                                    "3": "0"
                                },
                                {
                                    "0": "2020-08-01 15:00:00",
                                    "1": "0",
                                    "2": "0",
                                    "3": "0"
                                },
                                {
                                    "0": "2020-08-01 16:00:00",
                                    "1": "1",
                                    "2": "1",
                                    "3": "0,08333333333333333"
                                },
                                {
                                    "0": "2020-08-01 17:00:00",
                                    "1": "0",
                                    "2": "0",
                                    "3": "0"
                                },
                                {
                                    "0": "2020-08-01 18:00:00",
                                    "1": "0",
                                    "2": "0",
                                    "3": "0"
                                },
                                {
                                    "0": "2020-08-01 19:00:00",
                                    "1": "0",
                                    "2": "0",
                                    "3": "0"
                                },
                                {
                                    "0": "2020-08-01 20:00:00",
                                    "1": "0",
                                    "2": "0",
                                    "3": "0"
                                },
                                {
                                    "0": "2020-08-01 21:00:00",
                                    "1": "0",
                                    "2": "0",
                                    "3": "0"
                                },
                                {
                                    "0": "2020-08-01 22:00:00",
                                    "1": "0",
                                    "2": "0",
                                    "3": "0"
                                },
                                {
                                    "0": "2020-08-01 23:00:00",
                                    "1": "0",
                                    "2": "0",
                                    "3": "0"
                                },
                                {
                                    "0": "2020-08-01 00:00:00",
                                    "1": "0",
                                    "2": "0",
                                    "3": "0"
                                },
                                {
                                    "0": "2020-08-01 01:00:00",
                                    "1": "0",
                                    "2": "0",
                                    "3": "0"
                                },
                                {
                                    "0": "2020-08-01 02:00:00",
                                    "1": "1",
                                    "2": "1",
                                    "3": "0,041666666666666664"
                                },
                                {
                                    "0": "2020-08-01 03:00:00",
                                    "1": "0",
                                    "2": "0",
                                    "3": "0"
                                },
                                {
                                    "0": "2020-08-01 04:00:00",
                                    "1": "0",
                                    "2": "0",
                                    "3": "0"
                                },
                                {
                                    "0": "2020-08-01 05:00:00",
                                    "1": "0",
                                    "2": "0",
                                    "3": "0"
                                },
                                {
                                    "0": "2020-08-01 06:00:00",
                                    "1": "0",
                                    "2": "0",
                                    "3": "0"
                                },
                                {
                                    "0": "2020-08-01 07:00:00",
                                    "1": "0",
                                    "2": "0",
                                    "3": "0"
                                },
                                {
                                    "0": "2020-08-01 08:00:00",
                                    "1": "0",
                                    "2": "0",
                                    "3": "0"
                                },
                                {
                                    "0": "2020-08-01 09:00:00",
                                    "1": "0",
                                    "2": "0",
                                    "3": "0"
                                },
                                {
                                    "0": "2020-08-01 10:00:00",
                                    "1": "0",
                                    "2": "0",
                                    "3": "0"
                                },
                                {
                                    "0": "2020-08-01 11:00:00",
                                    "1": "0",
                                    "2": "0",
                                    "3": "0"
                                },
                                {
                                    "0": "2020-08-01 12:00:00",
                                    "1": "0",
                                    "2": "0",
                                    "3": "0"
                                },
                                {
                                    "0": "2020-08-01 13:00:00",
                                    "1": "0",
                                    "2": "0",
                                    "3": "0"
                                },
                                {
                                    "0": "2020-08-01 14:00:00",
                                    "1": "0",
                                    "2": "0",
                                    "3": "0"
                                },
                                {
                                    "0": "2020-08-01 15:00:00",
                                    "1": "0",
                                    "2": "0",
                                    "3": "0"
                                },
                                {
                                    "0": "2020-08-01 16:00:00",
                                    "1": "0",
                                    "2": "0",
                                    "3": "0"
                                },
                                {
                                    "0": "2020-08-01 17:00:00",
                                    "1": "0",
                                    "2": "0",
                                    "3": "0"
                                },
                                {
                                    "0": "2020-08-01 18:00:00",
                                    "1": "0",
                                    "2": "0",
                                    "3": "0"
                                },
                                {
                                    "0": "2020-08-01 19:00:00",
                                    "1": "0",
                                    "2": "0",
                                    "3": "0"
                                },
                                {
                                    "0": "2020-08-01 20:00:00",
                                    "1": "0",
                                    "2": "0",
                                    "3": "0"
                                },
                                {
                                    "0": "2020-08-01 21:00:00",
                                    "1": "0",
                                    "2": "0",
                                    "3": "0"
                                },
                                {
                                    "0": "2020-08-01 22:00:00",
                                    "1": "0",
                                    "2": "0",
                                    "3": "0"
                                },
                                {
                                    "0": "2020-08-01 23:00:00",
                                    "1": "0",
                                    "2": "0",
                                    "3": "0"
                                },
                                {
                                    "0": "2020-08-01 00:00:00",
                                    "1": "0",
                                    "2": "0",
                                    "3": "0"
                                },
                                {
                                    "0": "2020-08-01 01:00:00",
                                    "1": "0",
                                    "2": "0",
                                    "3": "0"
                                },
                                {
                                    "0": "2020-08-01 02:00:00",
                                    "1": "1",
                                    "2": "1",
                                    "3": "0,041666666666666664"
                                },
                                {
                                    "0": "2020-08-01 03:00:00",
                                    "1": "0",
                                    "2": "0",
                                    "3": "0"
                                },
                                {
                                    "0": "2020-08-01 04:00:00",
                                    "1": "0",
                                    "2": "0",
                                    "3": "0"
                                },
                                {
                                    "0": "2020-08-01 05:00:00",
                                    "1": "0",
                                    "2": "0",
                                    "3": "0"
                                },
                                {
                                    "0": "2020-08-01 06:00:00",
                                    "1": "0",
                                    "2": "0",
                                    "3": "0"
                                },
                                {
                                    "0": "2020-08-01 07:00:00",
                                    "1": "0",
                                    "2": "0",
                                    "3": "0"
                                },
                                {
                                    "0": "2020-08-01 08:00:00",
                                    "1": "0",
                                    "2": "0",
                                    "3": "0"
                                },
                                {
                                    "0": "2020-08-01 09:00:00",
                                    "1": "0",
                                    "2": "0",
                                    "3": "0"
                                },
                                {
                                    "0": "2020-08-01 10:00:00",
                                    "1": "0",
                                    "2": "0",
                                    "3": "0"
                                },
                                {
                                    "0": "2020-08-01 11:00:00",
                                    "1": "0",
                                    "2": "0",
                                    "3": "0"
                                },
                                {
                                    "0": "2020-08-01 12:00:00",
                                    "1": "0",
                                    "2": "0",
                                    "3": "0"
                                },
                                {
                                    "0": "2020-08-01 13:00:00",
                                    "1": "0",
                                    "2": "0",
                                    "3": "0"
                                },
                                {
                                    "0": "2020-08-01 14:00:00",
                                    "1": "0",
                                    "2": "0",
                                    "3": "0"
                                },
                                {
                                    "0": "2020-08-01 15:00:00",
                                    "1": "0",
                                    "2": "0",
                                    "3": "0"
                                },
                                {
                                    "0": "2020-08-01 16:00:00",
                                    "1": "0",
                                    "2": "0",
                                    "3": "0"
                                },
                                {
                                    "0": "2020-08-01 17:00:00",
                                    "1": "0",
                                    "2": "0",
                                    "3": "0"
                                },
                                {
                                    "0": "2020-08-01 18:00:00",
                                    "1": "0",
                                    "2": "0",
                                    "3": "0"
                                },
                                {
                                    "0": "2020-08-01 19:00:00",
                                    "1": "0",
                                    "2": "0",
                                    "3": "0"
                                },
                                {
                                    "0": "2020-08-01 20:00:00",
                                    "1": "0",
                                    "2": "0",
                                    "3": "0"
                                },
                                {
                                    "0": "2020-08-01 21:00:00",
                                    "1": "0",
                                    "2": "0",
                                    "3": "0"
                                },
                                {
                                    "0": "2020-08-01 22:00:00",
                                    "1": "0",
                                    "2": "0",
                                    "3": "0"
                                },
                                {
                                    "0": "2020-08-01 23:00:00",
                                    "1": "0",
                                    "2": "0",
                                    "3": "0"
                                },
                                {
                                    "0": "2020-08-01 00:00:00",
                                    "1": "0",
                                    "2": "0",
                                    "3": "0"
                                },
                                {
                                    "0": "2020-08-01 01:00:00",
                                    "1": "0",
                                    "2": "0",
                                    "3": "0"
                                },
                                {
                                    "0": "2020-08-01 02:00:00",
                                    "1": "1",
                                    "2": "1",
                                    "3": "0,041666666666666664"
                                },
                                {
                                    "0": "2020-08-01 03:00:00",
                                    "1": "0",
                                    "2": "0",
                                    "3": "0"
                                },
                                {
                                    "0": "2020-08-01 04:00:00",
                                    "1": "0",
                                    "2": "0",
                                    "3": "0"
                                },
                                {
                                    "0": "2020-08-01 05:00:00",
                                    "1": "0",
                                    "2": "0",
                                    "3": "0"
                                },
                                {
                                    "0": "2020-08-01 06:00:00",
                                    "1": "0",
                                    "2": "0",
                                    "3": "0"
                                },
                                {
                                    "0": "2020-08-01 07:00:00",
                                    "1": "0",
                                    "2": "0",
                                    "3": "0"
                                },
                                {
                                    "0": "2020-08-01 08:00:00",
                                    "1": "0",
                                    "2": "0",
                                    "3": "0"
                                },
                                {
                                    "0": "2020-08-01 09:00:00",
                                    "1": "0",
                                    "2": "0",
                                    "3": "0"
                                },
                                {
                                    "0": "2020-08-01 10:00:00",
                                    "1": "0",
                                    "2": "0",
                                    "3": "0"
                                },
                                {
                                    "0": "2020-08-01 11:00:00",
                                    "1": "0",
                                    "2": "0",
                                    "3": "0"
                                },
                                {
                                    "0": "2020-08-01 12:00:00",
                                    "1": "0",
                                    "2": "0",
                                    "3": "0"
                                },
                                {
                                    "0": "2020-08-01 13:00:00",
                                    "1": "0",
                                    "2": "0",
                                    "3": "0"
                                },
                                {
                                    "0": "2020-08-01 14:00:00",
                                    "1": "0",
                                    "2": "0",
                                    "3": "0"
                                },
                                {
                                    "0": "2020-08-01 15:00:00",
                                    "1": "0",
                                    "2": "0",
                                    "3": "0"
                                },
                                {
                                    "0": "2020-08-01 16:00:00",
                                    "1": "0",
                                    "2": "0",
                                    "3": "0"
                                },
                                {
                                    "0": "2020-08-01 17:00:00",
                                    "1": "0",
                                    "2": "0",
                                    "3": "0"
                                },
                                {
                                    "0": "2020-08-01 18:00:00",
                                    "1": "0",
                                    "2": "0",
                                    "3": "0"
                                },
                                {
                                    "0": "2020-08-01 19:00:00",
                                    "1": "0",
                                    "2": "0",
                                    "3": "0"
                                },
                                {
                                    "0": "2020-08-01 20:00:00",
                                    "1": "0",
                                    "2": "0",
                                    "3": "0"
                                },
                                {
                                    "0": "2020-08-01 21:00:00",
                                    "1": "0",
                                    "2": "0",
                                    "3": "0"
                                },
                                {
                                    "0": "2020-08-01 22:00:00",
                                    "1": "0",
                                    "2": "0",
                                    "3": "0"
                                },
                                {
                                    "0": "2020-08-01 23:00:00",
                                    "1": "0",
                                    "2": "0",
                                    "3": "0"
                                }
                            ]
                        },
                        "text/html": [
                            "<table>",
                            "<tr><th>Timestamp</th><th>Count</th><th>outliers_removed</th><th>outliers_replaced</th></tr>",
                            "<tr><td>2020-08-01 00:00:00</td><td>0</td><td>0</td><td>0</td></tr>",
                            "<tr><td>2020-08-01 01:00:00</td><td>1</td><td>0</td><td>1</td></tr>",
                            "<tr><td>2020-08-01 02:00:00</td><td>3</td><td>1</td><td>0,3333333333333333</td></tr>",
                            "<tr><td>2020-08-01 03:00:00</td><td>2</td><td>0</td><td>2</td></tr>",
                            "<tr><td>2020-08-01 04:00:00</td><td>2</td><td>0</td><td>2</td></tr>",
                            "<tr><td>2020-08-01 05:00:00</td><td>0</td><td>0</td><td>0</td></tr>",
                            "<tr><td>2020-08-01 06:00:00</td><td>0</td><td>0</td><td>0</td></tr>",
                            "<tr><td>2020-08-01 07:00:00</td><td>0</td><td>0</td><td>0</td></tr>",
                            "<tr><td>2020-08-01 08:00:00</td><td>0</td><td>0</td><td>0</td></tr>",
                            "<tr><td>2020-08-01 09:00:00</td><td>0</td><td>0</td><td>0</td></tr>",
                            "<tr><td>2020-08-01 10:00:00</td><td>0</td><td>0</td><td>0</td></tr>",
                            "<tr><td>2020-08-01 11:00:00</td><td>0</td><td>0</td><td>0</td></tr>",
                            "<tr><td>2020-08-01 12:00:00</td><td>0</td><td>0</td><td>0</td></tr>",
                            "<tr><td>2020-08-01 13:00:00</td><td>0</td><td>0</td><td>0</td></tr>",
                            "<tr><td>2020-08-01 14:00:00</td><td>0</td><td>0</td><td>0</td></tr>",
                            "<tr><td>2020-08-01 15:00:00</td><td>0</td><td>0</td><td>0</td></tr>",
                            "<tr><td>2020-08-01 16:00:00</td><td>0</td><td>0</td><td>0</td></tr>",
                            "<tr><td>2020-08-01 17:00:00</td><td>0</td><td>0</td><td>0</td></tr>",
                            "<tr><td>2020-08-01 18:00:00</td><td>0</td><td>0</td><td>0</td></tr>",
                            "<tr><td>2020-08-01 19:00:00</td><td>0</td><td>0</td><td>0</td></tr>",
                            "<tr><td>2020-08-01 20:00:00</td><td>0</td><td>0</td><td>0</td></tr>",
                            "<tr><td>2020-08-01 21:00:00</td><td>0</td><td>0</td><td>0</td></tr>",
                            "<tr><td>2020-08-01 22:00:00</td><td>0</td><td>0</td><td>0</td></tr>",
                            "<tr><td>2020-08-01 23:00:00</td><td>0</td><td>0</td><td>0</td></tr>",
                            "<tr><td>2020-08-01 00:00:00</td><td>0</td><td>0</td><td>0</td></tr>",
                            "<tr><td>2020-08-01 01:00:00</td><td>0</td><td>0</td><td>0</td></tr>",
                            "<tr><td>2020-08-01 02:00:00</td><td>1</td><td>1</td><td>0,08333333333333333</td></tr>",
                            "<tr><td>2020-08-01 03:00:00</td><td>0</td><td>0</td><td>0</td></tr>",
                            "<tr><td>2020-08-01 04:00:00</td><td>0</td><td>0</td><td>0</td></tr>",
                            "<tr><td>2020-08-01 05:00:00</td><td>0</td><td>0</td><td>0</td></tr>",
                            "<tr><td>2020-08-01 06:00:00</td><td>0</td><td>0</td><td>0</td></tr>",
                            "<tr><td>2020-08-01 07:00:00</td><td>0</td><td>0</td><td>0</td></tr>",
                            "<tr><td>2020-08-01 08:00:00</td><td>0</td><td>0</td><td>0</td></tr>",
                            "<tr><td>2020-08-01 09:00:00</td><td>0</td><td>0</td><td>0</td></tr>",
                            "<tr><td>2020-08-01 10:00:00</td><td>0</td><td>0</td><td>0</td></tr>",
                            "<tr><td>2020-08-01 11:00:00</td><td>0</td><td>0</td><td>0</td></tr>",
                            "<tr><td>2020-08-01 12:00:00</td><td>0</td><td>0</td><td>0</td></tr>",
                            "<tr><td>2020-08-01 13:00:00</td><td>0</td><td>0</td><td>0</td></tr>",
                            "<tr><td>2020-08-01 14:00:00</td><td>0</td><td>0</td><td>0</td></tr>",
                            "<tr><td>2020-08-01 15:00:00</td><td>0</td><td>0</td><td>0</td></tr>",
                            "<tr><td>2020-08-01 16:00:00</td><td>1</td><td>1</td><td>0,08333333333333333</td></tr>",
                            "<tr><td>2020-08-01 17:00:00</td><td>0</td><td>0</td><td>0</td></tr>",
                            "<tr><td>2020-08-01 18:00:00</td><td>0</td><td>0</td><td>0</td></tr>",
                            "<tr><td>2020-08-01 19:00:00</td><td>0</td><td>0</td><td>0</td></tr>",
                            "<tr><td>2020-08-01 20:00:00</td><td>0</td><td>0</td><td>0</td></tr>",
                            "<tr><td>2020-08-01 21:00:00</td><td>0</td><td>0</td><td>0</td></tr>",
                            "<tr><td>2020-08-01 22:00:00</td><td>0</td><td>0</td><td>0</td></tr>",
                            "<tr><td>2020-08-01 23:00:00</td><td>0</td><td>0</td><td>0</td></tr>",
                            "<tr><td>2020-08-01 00:00:00</td><td>0</td><td>0</td><td>0</td></tr>",
                            "<tr><td>2020-08-01 01:00:00</td><td>0</td><td>0</td><td>0</td></tr>",
                            "<tr><td>2020-08-01 02:00:00</td><td>1</td><td>1</td><td>0,041666666666666664</td></tr>",
                            "<tr><td>2020-08-01 03:00:00</td><td>0</td><td>0</td><td>0</td></tr>",
                            "<tr><td>2020-08-01 04:00:00</td><td>0</td><td>0</td><td>0</td></tr>",
                            "<tr><td>2020-08-01 05:00:00</td><td>0</td><td>0</td><td>0</td></tr>",
                            "<tr><td>2020-08-01 06:00:00</td><td>0</td><td>0</td><td>0</td></tr>",
                            "<tr><td>2020-08-01 07:00:00</td><td>0</td><td>0</td><td>0</td></tr>",
                            "<tr><td>2020-08-01 08:00:00</td><td>0</td><td>0</td><td>0</td></tr>",
                            "<tr><td>2020-08-01 09:00:00</td><td>0</td><td>0</td><td>0</td></tr>",
                            "<tr><td>2020-08-01 10:00:00</td><td>0</td><td>0</td><td>0</td></tr>",
                            "<tr><td>2020-08-01 11:00:00</td><td>0</td><td>0</td><td>0</td></tr>",
                            "<tr><td>2020-08-01 12:00:00</td><td>0</td><td>0</td><td>0</td></tr>",
                            "<tr><td>2020-08-01 13:00:00</td><td>0</td><td>0</td><td>0</td></tr>",
                            "<tr><td>2020-08-01 14:00:00</td><td>0</td><td>0</td><td>0</td></tr>",
                            "<tr><td>2020-08-01 15:00:00</td><td>0</td><td>0</td><td>0</td></tr>",
                            "<tr><td>2020-08-01 16:00:00</td><td>0</td><td>0</td><td>0</td></tr>",
                            "<tr><td>2020-08-01 17:00:00</td><td>0</td><td>0</td><td>0</td></tr>",
                            "<tr><td>2020-08-01 18:00:00</td><td>0</td><td>0</td><td>0</td></tr>",
                            "<tr><td>2020-08-01 19:00:00</td><td>0</td><td>0</td><td>0</td></tr>",
                            "<tr><td>2020-08-01 20:00:00</td><td>0</td><td>0</td><td>0</td></tr>",
                            "<tr><td>2020-08-01 21:00:00</td><td>0</td><td>0</td><td>0</td></tr>",
                            "<tr><td>2020-08-01 22:00:00</td><td>0</td><td>0</td><td>0</td></tr>",
                            "<tr><td>2020-08-01 23:00:00</td><td>0</td><td>0</td><td>0</td></tr>",
                            "<tr><td>2020-08-01 00:00:00</td><td>0</td><td>0</td><td>0</td></tr>",
                            "<tr><td>2020-08-01 01:00:00</td><td>0</td><td>0</td><td>0</td></tr>",
                            "<tr><td>2020-08-01 02:00:00</td><td>1</td><td>1</td><td>0,041666666666666664</td></tr>",
                            "<tr><td>2020-08-01 03:00:00</td><td>0</td><td>0</td><td>0</td></tr>",
                            "<tr><td>2020-08-01 04:00:00</td><td>0</td><td>0</td><td>0</td></tr>",
                            "<tr><td>2020-08-01 05:00:00</td><td>0</td><td>0</td><td>0</td></tr>",
                            "<tr><td>2020-08-01 06:00:00</td><td>0</td><td>0</td><td>0</td></tr>",
                            "<tr><td>2020-08-01 07:00:00</td><td>0</td><td>0</td><td>0</td></tr>",
                            "<tr><td>2020-08-01 08:00:00</td><td>0</td><td>0</td><td>0</td></tr>",
                            "<tr><td>2020-08-01 09:00:00</td><td>0</td><td>0</td><td>0</td></tr>",
                            "<tr><td>2020-08-01 10:00:00</td><td>0</td><td>0</td><td>0</td></tr>",
                            "<tr><td>2020-08-01 11:00:00</td><td>0</td><td>0</td><td>0</td></tr>",
                            "<tr><td>2020-08-01 12:00:00</td><td>0</td><td>0</td><td>0</td></tr>",
                            "<tr><td>2020-08-01 13:00:00</td><td>0</td><td>0</td><td>0</td></tr>",
                            "<tr><td>2020-08-01 14:00:00</td><td>0</td><td>0</td><td>0</td></tr>",
                            "<tr><td>2020-08-01 15:00:00</td><td>0</td><td>0</td><td>0</td></tr>",
                            "<tr><td>2020-08-01 16:00:00</td><td>0</td><td>0</td><td>0</td></tr>",
                            "<tr><td>2020-08-01 17:00:00</td><td>0</td><td>0</td><td>0</td></tr>",
                            "<tr><td>2020-08-01 18:00:00</td><td>0</td><td>0</td><td>0</td></tr>",
                            "<tr><td>2020-08-01 19:00:00</td><td>0</td><td>0</td><td>0</td></tr>",
                            "<tr><td>2020-08-01 20:00:00</td><td>0</td><td>0</td><td>0</td></tr>",
                            "<tr><td>2020-08-01 21:00:00</td><td>0</td><td>0</td><td>0</td></tr>",
                            "<tr><td>2020-08-01 22:00:00</td><td>0</td><td>0</td><td>0</td></tr>",
                            "<tr><td>2020-08-01 23:00:00</td><td>0</td><td>0</td><td>0</td></tr>",
                            "<tr><td>2020-08-01 00:00:00</td><td>0</td><td>0</td><td>0</td></tr>",
                            "<tr><td>2020-08-01 01:00:00</td><td>0</td><td>0</td><td>0</td></tr>",
                            "<tr><td>2020-08-01 02:00:00</td><td>1</td><td>1</td><td>0,041666666666666664</td></tr>",
                            "<tr><td>2020-08-01 03:00:00</td><td>0</td><td>0</td><td>0</td></tr>",
                            "<tr><td>2020-08-01 04:00:00</td><td>0</td><td>0</td><td>0</td></tr>",
                            "<tr><td>2020-08-01 05:00:00</td><td>0</td><td>0</td><td>0</td></tr>",
                            "<tr><td>2020-08-01 06:00:00</td><td>0</td><td>0</td><td>0</td></tr>",
                            "<tr><td>2020-08-01 07:00:00</td><td>0</td><td>0</td><td>0</td></tr>",
                            "<tr><td>2020-08-01 08:00:00</td><td>0</td><td>0</td><td>0</td></tr>",
                            "<tr><td>2020-08-01 09:00:00</td><td>0</td><td>0</td><td>0</td></tr>",
                            "<tr><td>2020-08-01 10:00:00</td><td>0</td><td>0</td><td>0</td></tr>",
                            "<tr><td>2020-08-01 11:00:00</td><td>0</td><td>0</td><td>0</td></tr>",
                            "<tr><td>2020-08-01 12:00:00</td><td>0</td><td>0</td><td>0</td></tr>",
                            "<tr><td>2020-08-01 13:00:00</td><td>0</td><td>0</td><td>0</td></tr>",
                            "<tr><td>2020-08-01 14:00:00</td><td>0</td><td>0</td><td>0</td></tr>",
                            "<tr><td>2020-08-01 15:00:00</td><td>0</td><td>0</td><td>0</td></tr>",
                            "<tr><td>2020-08-01 16:00:00</td><td>0</td><td>0</td><td>0</td></tr>",
                            "<tr><td>2020-08-01 17:00:00</td><td>0</td><td>0</td><td>0</td></tr>",
                            "<tr><td>2020-08-01 18:00:00</td><td>0</td><td>0</td><td>0</td></tr>",
                            "<tr><td>2020-08-01 19:00:00</td><td>0</td><td>0</td><td>0</td></tr>",
                            "<tr><td>2020-08-01 20:00:00</td><td>0</td><td>0</td><td>0</td></tr>",
                            "<tr><td>2020-08-01 21:00:00</td><td>0</td><td>0</td><td>0</td></tr>",
                            "<tr><td>2020-08-01 22:00:00</td><td>0</td><td>0</td><td>0</td></tr>",
                            "<tr><td>2020-08-01 23:00:00</td><td>0</td><td>0</td><td>0</td></tr>",
                            "</table>"
                        ]
                    }
                }
            ],
            "execution_count": 18
        }
    ]
}